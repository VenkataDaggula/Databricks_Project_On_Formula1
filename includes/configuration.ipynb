{
 "cells": [
  {
   "cell_type": "code",
   "execution_count": 0,
   "metadata": {
    "application/vnd.databricks.v1+cell": {
     "cellMetadata": {
      "byteLimit": 2048000,
      "rowLimit": 10000
     },
     "inputWidgets": {},
     "nuid": "d1fd44c7-15b9-4b35-a05f-7f743ea3d5a2",
     "showTitle": false,
     "tableResultSettingsMap": {},
     "title": ""
    }
   },
   "outputs": [],
   "source": [
    "raw_folder_path = \"/mnt/centrallake/raw\"\n",
    "processed_folder_path = \"/mnt/centrallake/processed\"\n",
    "presentation_folder_path = \"/mnt/centrallake/presentation\"\n",
    "incraw_folder_path = \"/mnt/centrallake/incraw\"\n",
    "incprocessed_folder_path = \"/mnt/centrallake/incprocessed\"\n",
    "incpresentation_folder_path = \"/mnt/centrallake/incpresentation\"\n",
    "deltalake_folder_path = \"/mnt/centrallake/deltalakedemo\""
   ]
  },
  {
   "cell_type": "code",
   "execution_count": 0,
   "metadata": {
    "application/vnd.databricks.v1+cell": {
     "cellMetadata": {},
     "inputWidgets": {},
     "nuid": "746676e0-9a00-44f1-8a1a-a9f8cb243d42",
     "showTitle": false,
     "tableResultSettingsMap": {},
     "title": ""
    }
   },
   "outputs": [],
   "source": [
    "\n",
    "#raw_folder_path = 'abfss://raw@formula1dl.dfs.core.windows.net'\n",
    "#processed_folder_path = 'abfss://processed@formula1dl.dfs.core.windows.net'\n",
    "#presentation_folder_path = 'abfss://presentation@formula1dl.dfs.core.windows.net'"
   ]
  }
 ],
 "metadata": {
  "application/vnd.databricks.v1+notebook": {
   "computePreferences": null,
   "dashboards": [],
   "environmentMetadata": {
    "base_environment": "",
    "client": "1"
   },
   "language": "python",
   "notebookMetadata": {
    "pythonIndentUnit": 4
   },
   "notebookName": "configuration",
   "widgets": {}
  },
  "language_info": {
   "name": "python"
  }
 },
 "nbformat": 4,
 "nbformat_minor": 0
}