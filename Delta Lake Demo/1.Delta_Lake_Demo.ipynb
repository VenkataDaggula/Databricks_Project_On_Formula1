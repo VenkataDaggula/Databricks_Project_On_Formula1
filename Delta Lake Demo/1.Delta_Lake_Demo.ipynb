{
 "cells": [
  {
   "cell_type": "code",
   "execution_count": 0,
   "metadata": {
    "application/vnd.databricks.v1+cell": {
     "cellMetadata": {
      "byteLimit": 2048000,
      "rowLimit": 10000
     },
     "inputWidgets": {},
     "nuid": "7a0c0cfd-b631-4d35-b4e5-92937ce5cf45",
     "showTitle": false,
     "tableResultSettingsMap": {},
     "title": ""
    }
   },
   "outputs": [],
   "source": [
    "%run \"../includes/configuration\"\n"
   ]
  },
  {
   "cell_type": "code",
   "execution_count": 0,
   "metadata": {
    "application/vnd.databricks.v1+cell": {
     "cellMetadata": {
      "byteLimit": 2048000,
      "implicitDf": true,
      "rowLimit": 10000
     },
     "inputWidgets": {},
     "nuid": "d12f5784-b3b6-47bc-8cd5-f7f373268d97",
     "showTitle": false,
     "tableResultSettingsMap": {},
     "title": ""
    }
   },
   "outputs": [
    {
     "output_type": "display_data",
     "data": {
      "text/html": [
       "<style scoped>\n",
       "  .table-result-container {\n",
       "    max-height: 300px;\n",
       "    overflow: auto;\n",
       "  }\n",
       "  table, th, td {\n",
       "    border: 1px solid black;\n",
       "    border-collapse: collapse;\n",
       "  }\n",
       "  th, td {\n",
       "    padding: 5px;\n",
       "  }\n",
       "  th {\n",
       "    text-align: left;\n",
       "  }\n",
       "</style><div class='table-result-container'><table class='table-result'><thead style='background-color: white'><tr></tr></thead><tbody></tbody></table></div>"
      ]
     },
     "metadata": {
      "application/vnd.databricks.v1+output": {
       "addedWidgets": {},
       "aggData": [],
       "aggError": "",
       "aggOverflow": false,
       "aggSchema": [],
       "aggSeriesLimitReached": false,
       "aggType": "",
       "arguments": {},
       "columnCustomDisplayInfos": {},
       "data": [],
       "datasetInfos": [],
       "dbfsResultPath": null,
       "isJsonSchema": true,
       "metadata": {
        "dataframeName": null
       },
       "overflow": false,
       "plotOptions": {
        "customPlotOptions": {},
        "displayType": "table",
        "pivotAggregation": null,
        "pivotColumns": null,
        "xColumns": null,
        "yColumns": null
       },
       "removedWidgets": [],
       "schema": [],
       "type": "table"
      }
     },
     "output_type": "display_data"
    }
   ],
   "source": [
    "%sql\n",
    "drop database if exists f1_delta_lake_demo cascade"
   ]
  },
  {
   "cell_type": "code",
   "execution_count": 0,
   "metadata": {
    "application/vnd.databricks.v1+cell": {
     "cellMetadata": {
      "byteLimit": 2048000,
      "implicitDf": true,
      "rowLimit": 10000
     },
     "inputWidgets": {},
     "nuid": "21bd8ceb-b365-4107-8c83-4fb66cf05609",
     "showTitle": false,
     "tableResultSettingsMap": {},
     "title": ""
    }
   },
   "outputs": [
    {
     "output_type": "display_data",
     "data": {
      "text/html": [
       "<style scoped>\n",
       "  .table-result-container {\n",
       "    max-height: 300px;\n",
       "    overflow: auto;\n",
       "  }\n",
       "  table, th, td {\n",
       "    border: 1px solid black;\n",
       "    border-collapse: collapse;\n",
       "  }\n",
       "  th, td {\n",
       "    padding: 5px;\n",
       "  }\n",
       "  th {\n",
       "    text-align: left;\n",
       "  }\n",
       "</style><div class='table-result-container'><table class='table-result'><thead style='background-color: white'><tr></tr></thead><tbody></tbody></table></div>"
      ]
     },
     "metadata": {
      "application/vnd.databricks.v1+output": {
       "addedWidgets": {},
       "aggData": [],
       "aggError": "",
       "aggOverflow": false,
       "aggSchema": [],
       "aggSeriesLimitReached": false,
       "aggType": "",
       "arguments": {},
       "columnCustomDisplayInfos": {},
       "data": [],
       "datasetInfos": [],
       "dbfsResultPath": null,
       "isJsonSchema": true,
       "metadata": {
        "dataframeName": null
       },
       "overflow": false,
       "plotOptions": {
        "customPlotOptions": {},
        "displayType": "table",
        "pivotAggregation": null,
        "pivotColumns": null,
        "xColumns": null,
        "yColumns": null
       },
       "removedWidgets": [],
       "schema": [],
       "type": "table"
      }
     },
     "output_type": "display_data"
    }
   ],
   "source": [
    "%sql\n",
    "create database if not exists f1_delta_lake_demo\n",
    "location '/mnt/centrallake/deltalakedemo'"
   ]
  },
  {
   "cell_type": "code",
   "execution_count": 0,
   "metadata": {
    "application/vnd.databricks.v1+cell": {
     "cellMetadata": {
      "byteLimit": 2048000,
      "implicitDf": true,
      "rowLimit": 10000
     },
     "inputWidgets": {},
     "nuid": "3c651f17-f838-4cef-8acd-0809e2d7c0fc",
     "showTitle": false,
     "tableResultSettingsMap": {},
     "title": ""
    }
   },
   "outputs": [
    {
     "output_type": "display_data",
     "data": {
      "text/html": [
       "<style scoped>\n",
       "  .table-result-container {\n",
       "    max-height: 300px;\n",
       "    overflow: auto;\n",
       "  }\n",
       "  table, th, td {\n",
       "    border: 1px solid black;\n",
       "    border-collapse: collapse;\n",
       "  }\n",
       "  th, td {\n",
       "    padding: 5px;\n",
       "  }\n",
       "  th {\n",
       "    text-align: left;\n",
       "  }\n",
       "</style><div class='table-result-container'><table class='table-result'><thead style='background-color: white'><tr><th>database_description_item</th><th>database_description_value</th></tr></thead><tbody><tr><td>Catalog Name</td><td>spark_catalog</td></tr><tr><td>Namespace Name</td><td>f1_delta_lake_demo</td></tr><tr><td>Comment</td><td></td></tr><tr><td>Location</td><td>dbfs:/mnt/centrallake/deltalakedemo</td></tr><tr><td>Owner</td><td>root</td></tr></tbody></table></div>"
      ]
     },
     "metadata": {
      "application/vnd.databricks.v1+output": {
       "addedWidgets": {},
       "aggData": [],
       "aggError": "",
       "aggOverflow": false,
       "aggSchema": [],
       "aggSeriesLimitReached": false,
       "aggType": "",
       "arguments": {},
       "columnCustomDisplayInfos": {},
       "data": [
        [
         "Catalog Name",
         "spark_catalog"
        ],
        [
         "Namespace Name",
         "f1_delta_lake_demo"
        ],
        [
         "Comment",
         ""
        ],
        [
         "Location",
         "dbfs:/mnt/centrallake/deltalakedemo"
        ],
        [
         "Owner",
         "root"
        ]
       ],
       "datasetInfos": [],
       "dbfsResultPath": null,
       "isJsonSchema": true,
       "metadata": {
        "createTempViewForImplicitDf": true,
        "dataframeName": "_sqldf",
        "executionCount": 3
       },
       "overflow": false,
       "plotOptions": {
        "customPlotOptions": {},
        "displayType": "table",
        "pivotAggregation": null,
        "pivotColumns": null,
        "xColumns": null,
        "yColumns": null
       },
       "removedWidgets": [],
       "schema": [
        {
         "metadata": "{\"comment\":\"name of the namespace info\"}",
         "name": "database_description_item",
         "type": "\"string\""
        },
        {
         "metadata": "{\"comment\":\"value of the namespace info\"}",
         "name": "database_description_value",
         "type": "\"string\""
        }
       ],
       "type": "table"
      }
     },
     "output_type": "display_data"
    }
   ],
   "source": [
    "%sql\n",
    "desc database f1_delta_lake_demo"
   ]
  },
  {
   "cell_type": "code",
   "execution_count": 0,
   "metadata": {
    "application/vnd.databricks.v1+cell": {
     "cellMetadata": {
      "byteLimit": 2048000,
      "rowLimit": 10000
     },
     "inputWidgets": {},
     "nuid": "6c7b016b-dfa7-4965-b082-6bafa96a6f40",
     "showTitle": false,
     "tableResultSettingsMap": {},
     "title": ""
    }
   },
   "outputs": [],
   "source": [
    "results_df=spark.read\\\n",
    "    .option(\"inferschema\", \"true\")\\\n",
    "        .json(f\"{incraw_folder_path}/2021-03-28/results.json\")"
   ]
  },
  {
   "cell_type": "code",
   "execution_count": 0,
   "metadata": {
    "application/vnd.databricks.v1+cell": {
     "cellMetadata": {
      "byteLimit": 2048000,
      "rowLimit": 10000
     },
     "inputWidgets": {},
     "nuid": "a5158970-1bc3-4362-8543-2c0428a6abf1",
     "showTitle": false,
     "tableResultSettingsMap": {},
     "title": ""
    }
   },
   "outputs": [],
   "source": [
    "from pyspark.sql import SparkSession\n",
    "results_df.write.format(\"delta\").mode(\"overwrite\").saveAsTable(\"f1_delta_lake_demo.results_mng\")"
   ]
  },
  {
   "cell_type": "code",
   "execution_count": 0,
   "metadata": {
    "application/vnd.databricks.v1+cell": {
     "cellMetadata": {
      "byteLimit": 2048000,
      "implicitDf": true,
      "rowLimit": 10000
     },
     "inputWidgets": {},
     "nuid": "6b06d774-405d-4475-86e0-baadd13b2b91",
     "showTitle": false,
     "tableResultSettingsMap": {},
     "title": ""
    }
   },
   "outputs": [
    {
     "output_type": "display_data",
     "data": {
      "text/html": [
       "<style scoped>\n",
       "  .table-result-container {\n",
       "    max-height: 300px;\n",
       "    overflow: auto;\n",
       "  }\n",
       "  table, th, td {\n",
       "    border: 1px solid black;\n",
       "    border-collapse: collapse;\n",
       "  }\n",
       "  th, td {\n",
       "    padding: 5px;\n",
       "  }\n",
       "  th {\n",
       "    text-align: left;\n",
       "  }\n",
       "</style><div class='table-result-container'><table class='table-result'><thead style='background-color: white'><tr><th>col_name</th><th>data_type</th><th>comment</th></tr></thead><tbody><tr><td>constructorId</td><td>bigint</td><td>null</td></tr><tr><td>driverId</td><td>bigint</td><td>null</td></tr><tr><td>fastestLap</td><td>string</td><td>null</td></tr><tr><td>fastestLapSpeed</td><td>string</td><td>null</td></tr><tr><td>fastestLapTime</td><td>string</td><td>null</td></tr><tr><td>grid</td><td>bigint</td><td>null</td></tr><tr><td>laps</td><td>bigint</td><td>null</td></tr><tr><td>milliseconds</td><td>string</td><td>null</td></tr><tr><td>number</td><td>bigint</td><td>null</td></tr><tr><td>points</td><td>bigint</td><td>null</td></tr><tr><td>position</td><td>string</td><td>null</td></tr><tr><td>positionOrder</td><td>bigint</td><td>null</td></tr><tr><td>positionText</td><td>string</td><td>null</td></tr><tr><td>raceId</td><td>bigint</td><td>null</td></tr><tr><td>rank</td><td>bigint</td><td>null</td></tr><tr><td>resultId</td><td>bigint</td><td>null</td></tr><tr><td>statusId</td><td>bigint</td><td>null</td></tr><tr><td>time</td><td>string</td><td>null</td></tr></tbody></table></div>"
      ]
     },
     "metadata": {
      "application/vnd.databricks.v1+output": {
       "addedWidgets": {},
       "aggData": [],
       "aggError": "",
       "aggOverflow": false,
       "aggSchema": [],
       "aggSeriesLimitReached": false,
       "aggType": "",
       "arguments": {},
       "columnCustomDisplayInfos": {},
       "data": [
        [
         "constructorId",
         "bigint",
         null
        ],
        [
         "driverId",
         "bigint",
         null
        ],
        [
         "fastestLap",
         "string",
         null
        ],
        [
         "fastestLapSpeed",
         "string",
         null
        ],
        [
         "fastestLapTime",
         "string",
         null
        ],
        [
         "grid",
         "bigint",
         null
        ],
        [
         "laps",
         "bigint",
         null
        ],
        [
         "milliseconds",
         "string",
         null
        ],
        [
         "number",
         "bigint",
         null
        ],
        [
         "points",
         "bigint",
         null
        ],
        [
         "position",
         "string",
         null
        ],
        [
         "positionOrder",
         "bigint",
         null
        ],
        [
         "positionText",
         "string",
         null
        ],
        [
         "raceId",
         "bigint",
         null
        ],
        [
         "rank",
         "bigint",
         null
        ],
        [
         "resultId",
         "bigint",
         null
        ],
        [
         "statusId",
         "bigint",
         null
        ],
        [
         "time",
         "string",
         null
        ]
       ],
       "datasetInfos": [],
       "dbfsResultPath": null,
       "isJsonSchema": true,
       "metadata": {
        "createTempViewForImplicitDf": true,
        "dataframeName": "_sqldf",
        "executionCount": 6
       },
       "overflow": false,
       "plotOptions": {
        "customPlotOptions": {},
        "displayType": "table",
        "pivotAggregation": null,
        "pivotColumns": null,
        "xColumns": null,
        "yColumns": null
       },
       "removedWidgets": [],
       "schema": [
        {
         "metadata": "{\"comment\":\"name of the column\"}",
         "name": "col_name",
         "type": "\"string\""
        },
        {
         "metadata": "{\"comment\":\"data type of the column\"}",
         "name": "data_type",
         "type": "\"string\""
        },
        {
         "metadata": "{\"comment\":\"comment of the column\"}",
         "name": "comment",
         "type": "\"string\""
        }
       ],
       "type": "table"
      }
     },
     "output_type": "display_data"
    }
   ],
   "source": [
    "%sql\n",
    "desc table f1_delta_lake_demo.results_mng"
   ]
  },
  {
   "cell_type": "code",
   "execution_count": 0,
   "metadata": {
    "application/vnd.databricks.v1+cell": {
     "cellMetadata": {
      "byteLimit": 2048000,
      "implicitDf": true,
      "rowLimit": 10000
     },
     "inputWidgets": {},
     "nuid": "57d15259-b0b0-48aa-9395-6c9dbc5602d1",
     "showTitle": false,
     "tableResultSettingsMap": {},
     "title": ""
    }
   },
   "outputs": [
    {
     "output_type": "display_data",
     "data": {
      "text/html": [
       "<style scoped>\n",
       "  .table-result-container {\n",
       "    max-height: 300px;\n",
       "    overflow: auto;\n",
       "  }\n",
       "  table, th, td {\n",
       "    border: 1px solid black;\n",
       "    border-collapse: collapse;\n",
       "  }\n",
       "  th, td {\n",
       "    padding: 5px;\n",
       "  }\n",
       "  th {\n",
       "    text-align: left;\n",
       "  }\n",
       "</style><div class='table-result-container'><table class='table-result'><thead style='background-color: white'><tr><th>constructorId</th><th>driverId</th><th>fastestLap</th><th>fastestLapSpeed</th><th>fastestLapTime</th><th>grid</th><th>laps</th><th>milliseconds</th><th>number</th><th>points</th><th>position</th><th>positionOrder</th><th>positionText</th><th>raceId</th><th>rank</th><th>resultId</th><th>statusId</th><th>time</th></tr></thead><tbody><tr><td>131</td><td>1</td><td>44</td><td>207.235</td><td>1:34.015</td><td>2</td><td>56</td><td>5523897</td><td>44</td><td>25</td><td>1</td><td>1</td><td>1</td><td>1052</td><td>4</td><td>24966</td><td>1</td><td>1:32:03.897</td></tr><tr><td>9</td><td>830</td><td>41</td><td>208.984</td><td>1:33.228</td><td>1</td><td>56</td><td>5524642</td><td>33</td><td>18</td><td>2</td><td>2</td><td>2</td><td>1052</td><td>2</td><td>24967</td><td>1</td><td>+0.745</td></tr><tr><td>131</td><td>822</td><td>56</td><td>211.566</td><td>1:32.090</td><td>3</td><td>56</td><td>5561280</td><td>77</td><td>16</td><td>3</td><td>3</td><td>3</td><td>1052</td><td>1</td><td>24968</td><td>1</td><td>+37.383</td></tr><tr><td>1</td><td>846</td><td>38</td><td>206.398</td><td>1:34.396</td><td>7</td><td>56</td><td>5570363</td><td>4</td><td>12</td><td>4</td><td>4</td><td>4</td><td>1052</td><td>6</td><td>24969</td><td>1</td><td>+46.466</td></tr><tr><td>9</td><td>815</td><td>44</td><td>207.334</td><td>1:33.970</td><td>0</td><td>56</td><td>5575944</td><td>11</td><td>10</td><td>5</td><td>5</td><td>5</td><td>1052</td><td>3</td><td>24970</td><td>1</td><td>+52.047</td></tr><tr><td>6</td><td>844</td><td>39</td><td>205.112</td><td>1:34.988</td><td>4</td><td>56</td><td>5582987</td><td>16</td><td>8</td><td>6</td><td>6</td><td>6</td><td>1052</td><td>11</td><td>24971</td><td>1</td><td>+59.090</td></tr><tr><td>1</td><td>817</td><td>36</td><td>205.233</td><td>1:34.932</td><td>6</td><td>56</td><td>5589901</td><td>3</td><td>6</td><td>7</td><td>7</td><td>7</td><td>1052</td><td>10</td><td>24972</td><td>1</td><td>+66.004</td></tr><tr><td>6</td><td>832</td><td>48</td><td>206.151</td><td>1:34.509</td><td>8</td><td>56</td><td>5590997</td><td>55</td><td>4</td><td>8</td><td>8</td><td>8</td><td>1052</td><td>7</td><td>24973</td><td>1</td><td>+67.100</td></tr><tr><td>213</td><td>852</td><td>38</td><td>205.603</td><td>1:34.761</td><td>13</td><td>56</td><td>5609589</td><td>22</td><td>2</td><td>9</td><td>9</td><td>9</td><td>1052</td><td>8</td><td>24974</td><td>1</td><td>+85.692</td></tr><tr><td>117</td><td>840</td><td>31</td><td>205.378</td><td>1:34.865</td><td>10</td><td>56</td><td>5610610</td><td>18</td><td>1</td><td>10</td><td>10</td><td>10</td><td>1052</td><td>9</td><td>24975</td><td>1</td><td>+86.713</td></tr><tr><td>51</td><td>8</td><td>45</td><td>204.672</td><td>1:35.192</td><td>14</td><td>56</td><td>5612761</td><td>7</td><td>0</td><td>11</td><td>11</td><td>11</td><td>1052</td><td>14</td><td>24976</td><td>1</td><td>+88.864</td></tr><tr><td>51</td><td>841</td><td>32</td><td>204.823</td><td>1:35.122</td><td>12</td><td>55</td><td>\\N</td><td>99</td><td>0</td><td>12</td><td>12</td><td>12</td><td>1052</td><td>13</td><td>24977</td><td>11</td><td>\\N</td></tr><tr><td>214</td><td>839</td><td>33</td><td>204.548</td><td>1:35.250</td><td>16</td><td>55</td><td>\\N</td><td>31</td><td>0</td><td>13</td><td>13</td><td>13</td><td>1052</td><td>15</td><td>24978</td><td>11</td><td>\\N</td></tr><tr><td>3</td><td>847</td><td>40</td><td>205.008</td><td>1:35.036</td><td>15</td><td>55</td><td>\\N</td><td>63</td><td>0</td><td>14</td><td>14</td><td>14</td><td>1052</td><td>12</td><td>24979</td><td>11</td><td>\\N</td></tr><tr><td>117</td><td>20</td><td>26</td><td>203.871</td><td>1:35.566</td><td>20</td><td>55</td><td>\\N</td><td>5</td><td>0</td><td>15</td><td>15</td><td>15</td><td>1052</td><td>16</td><td>24980</td><td>11</td><td>\\N</td></tr><tr><td>210</td><td>854</td><td>38</td><td>202.667</td><td>1:36.134</td><td>18</td><td>55</td><td>\\N</td><td>47</td><td>0</td><td>16</td><td>16</td><td>16</td><td>1052</td><td>18</td><td>24981</td><td>11</td><td>\\N</td></tr><tr><td>213</td><td>842</td><td>48</td><td>207.069</td><td>1:34.090</td><td>5</td><td>52</td><td>\\N</td><td>10</td><td>0</td><td>17</td><td>17</td><td>17</td><td>1052</td><td>5</td><td>24982</td><td>31</td><td>\\N</td></tr><tr><td>3</td><td>849</td><td>16</td><td>201.685</td><td>1:36.602</td><td>17</td><td>51</td><td>\\N</td><td>6</td><td>0</td><td>18</td><td>18</td><td>18</td><td>1052</td><td>19</td><td>24983</td><td>31</td><td>\\N</td></tr><tr><td>214</td><td>4</td><td>31</td><td>202.816</td><td>1:36.063</td><td>9</td><td>32</td><td>\\N</td><td>14</td><td>0</td><td>\\N</td><td>19</td><td>R</td><td>1052</td><td>17</td><td>24984</td><td>23</td><td>\\N</td></tr><tr><td>210</td><td>853</td><td>\\N</td><td>\\N</td><td>\\N</td><td>19</td><td>0</td><td>\\N</td><td>9</td><td>0</td><td>\\N</td><td>20</td><td>R</td><td>1052</td><td>0</td><td>24985</td><td>3</td><td>\\N</td></tr></tbody></table></div>"
      ]
     },
     "metadata": {
      "application/vnd.databricks.v1+output": {
       "addedWidgets": {},
       "aggData": [],
       "aggError": "",
       "aggOverflow": false,
       "aggSchema": [],
       "aggSeriesLimitReached": false,
       "aggType": "",
       "arguments": {},
       "columnCustomDisplayInfos": {},
       "data": [
        [
         131,
         1,
         "44",
         "207.235",
         "1:34.015",
         2,
         56,
         "5523897",
         44,
         25,
         "1",
         1,
         "1",
         1052,
         4,
         24966,
         1,
         "1:32:03.897"
        ],
        [
         9,
         830,
         "41",
         "208.984",
         "1:33.228",
         1,
         56,
         "5524642",
         33,
         18,
         "2",
         2,
         "2",
         1052,
         2,
         24967,
         1,
         "+0.745"
        ],
        [
         131,
         822,
         "56",
         "211.566",
         "1:32.090",
         3,
         56,
         "5561280",
         77,
         16,
         "3",
         3,
         "3",
         1052,
         1,
         24968,
         1,
         "+37.383"
        ],
        [
         1,
         846,
         "38",
         "206.398",
         "1:34.396",
         7,
         56,
         "5570363",
         4,
         12,
         "4",
         4,
         "4",
         1052,
         6,
         24969,
         1,
         "+46.466"
        ],
        [
         9,
         815,
         "44",
         "207.334",
         "1:33.970",
         0,
         56,
         "5575944",
         11,
         10,
         "5",
         5,
         "5",
         1052,
         3,
         24970,
         1,
         "+52.047"
        ],
        [
         6,
         844,
         "39",
         "205.112",
         "1:34.988",
         4,
         56,
         "5582987",
         16,
         8,
         "6",
         6,
         "6",
         1052,
         11,
         24971,
         1,
         "+59.090"
        ],
        [
         1,
         817,
         "36",
         "205.233",
         "1:34.932",
         6,
         56,
         "5589901",
         3,
         6,
         "7",
         7,
         "7",
         1052,
         10,
         24972,
         1,
         "+66.004"
        ],
        [
         6,
         832,
         "48",
         "206.151",
         "1:34.509",
         8,
         56,
         "5590997",
         55,
         4,
         "8",
         8,
         "8",
         1052,
         7,
         24973,
         1,
         "+67.100"
        ],
        [
         213,
         852,
         "38",
         "205.603",
         "1:34.761",
         13,
         56,
         "5609589",
         22,
         2,
         "9",
         9,
         "9",
         1052,
         8,
         24974,
         1,
         "+85.692"
        ],
        [
         117,
         840,
         "31",
         "205.378",
         "1:34.865",
         10,
         56,
         "5610610",
         18,
         1,
         "10",
         10,
         "10",
         1052,
         9,
         24975,
         1,
         "+86.713"
        ],
        [
         51,
         8,
         "45",
         "204.672",
         "1:35.192",
         14,
         56,
         "5612761",
         7,
         0,
         "11",
         11,
         "11",
         1052,
         14,
         24976,
         1,
         "+88.864"
        ],
        [
         51,
         841,
         "32",
         "204.823",
         "1:35.122",
         12,
         55,
         "\\N",
         99,
         0,
         "12",
         12,
         "12",
         1052,
         13,
         24977,
         11,
         "\\N"
        ],
        [
         214,
         839,
         "33",
         "204.548",
         "1:35.250",
         16,
         55,
         "\\N",
         31,
         0,
         "13",
         13,
         "13",
         1052,
         15,
         24978,
         11,
         "\\N"
        ],
        [
         3,
         847,
         "40",
         "205.008",
         "1:35.036",
         15,
         55,
         "\\N",
         63,
         0,
         "14",
         14,
         "14",
         1052,
         12,
         24979,
         11,
         "\\N"
        ],
        [
         117,
         20,
         "26",
         "203.871",
         "1:35.566",
         20,
         55,
         "\\N",
         5,
         0,
         "15",
         15,
         "15",
         1052,
         16,
         24980,
         11,
         "\\N"
        ],
        [
         210,
         854,
         "38",
         "202.667",
         "1:36.134",
         18,
         55,
         "\\N",
         47,
         0,
         "16",
         16,
         "16",
         1052,
         18,
         24981,
         11,
         "\\N"
        ],
        [
         213,
         842,
         "48",
         "207.069",
         "1:34.090",
         5,
         52,
         "\\N",
         10,
         0,
         "17",
         17,
         "17",
         1052,
         5,
         24982,
         31,
         "\\N"
        ],
        [
         3,
         849,
         "16",
         "201.685",
         "1:36.602",
         17,
         51,
         "\\N",
         6,
         0,
         "18",
         18,
         "18",
         1052,
         19,
         24983,
         31,
         "\\N"
        ],
        [
         214,
         4,
         "31",
         "202.816",
         "1:36.063",
         9,
         32,
         "\\N",
         14,
         0,
         "\\N",
         19,
         "R",
         1052,
         17,
         24984,
         23,
         "\\N"
        ],
        [
         210,
         853,
         "\\N",
         "\\N",
         "\\N",
         19,
         0,
         "\\N",
         9,
         0,
         "\\N",
         20,
         "R",
         1052,
         0,
         24985,
         3,
         "\\N"
        ]
       ],
       "datasetInfos": [],
       "dbfsResultPath": null,
       "isJsonSchema": true,
       "metadata": {
        "createTempViewForImplicitDf": true,
        "dataframeName": "_sqldf",
        "executionCount": 7
       },
       "overflow": false,
       "plotOptions": {
        "customPlotOptions": {},
        "displayType": "table",
        "pivotAggregation": null,
        "pivotColumns": null,
        "xColumns": null,
        "yColumns": null
       },
       "removedWidgets": [],
       "schema": [
        {
         "metadata": "{}",
         "name": "constructorId",
         "type": "\"long\""
        },
        {
         "metadata": "{}",
         "name": "driverId",
         "type": "\"long\""
        },
        {
         "metadata": "{}",
         "name": "fastestLap",
         "type": "\"string\""
        },
        {
         "metadata": "{}",
         "name": "fastestLapSpeed",
         "type": "\"string\""
        },
        {
         "metadata": "{}",
         "name": "fastestLapTime",
         "type": "\"string\""
        },
        {
         "metadata": "{}",
         "name": "grid",
         "type": "\"long\""
        },
        {
         "metadata": "{}",
         "name": "laps",
         "type": "\"long\""
        },
        {
         "metadata": "{}",
         "name": "milliseconds",
         "type": "\"string\""
        },
        {
         "metadata": "{}",
         "name": "number",
         "type": "\"long\""
        },
        {
         "metadata": "{}",
         "name": "points",
         "type": "\"long\""
        },
        {
         "metadata": "{}",
         "name": "position",
         "type": "\"string\""
        },
        {
         "metadata": "{}",
         "name": "positionOrder",
         "type": "\"long\""
        },
        {
         "metadata": "{}",
         "name": "positionText",
         "type": "\"string\""
        },
        {
         "metadata": "{}",
         "name": "raceId",
         "type": "\"long\""
        },
        {
         "metadata": "{}",
         "name": "rank",
         "type": "\"long\""
        },
        {
         "metadata": "{}",
         "name": "resultId",
         "type": "\"long\""
        },
        {
         "metadata": "{}",
         "name": "statusId",
         "type": "\"long\""
        },
        {
         "metadata": "{}",
         "name": "time",
         "type": "\"string\""
        }
       ],
       "type": "table"
      }
     },
     "output_type": "display_data"
    }
   ],
   "source": [
    "%sql\n",
    "select * from f1_delta_lake_demo.results_mng"
   ]
  },
  {
   "cell_type": "code",
   "execution_count": 0,
   "metadata": {
    "application/vnd.databricks.v1+cell": {
     "cellMetadata": {
      "byteLimit": 2048000,
      "rowLimit": 10000
     },
     "inputWidgets": {},
     "nuid": "6c24f41b-e255-4ce8-a695-5f68a72bb2e6",
     "showTitle": false,
     "tableResultSettingsMap": {},
     "title": ""
    }
   },
   "outputs": [],
   "source": [
    "results_df.write.format(\"delta\").mode(\"overwrite\").save(f\"{deltalake_folder_path}/results_ext\")"
   ]
  },
  {
   "cell_type": "code",
   "execution_count": 0,
   "metadata": {
    "application/vnd.databricks.v1+cell": {
     "cellMetadata": {
      "byteLimit": 2048000,
      "rowLimit": 10000
     },
     "inputWidgets": {},
     "nuid": "179ae24d-820c-4d99-b1b7-5fded45ebbc8",
     "showTitle": false,
     "tableResultSettingsMap": {},
     "title": ""
    }
   },
   "outputs": [
    {
     "output_type": "display_data",
     "data": {
      "text/html": [
       "<style scoped>\n",
       "  .table-result-container {\n",
       "    max-height: 300px;\n",
       "    overflow: auto;\n",
       "  }\n",
       "  table, th, td {\n",
       "    border: 1px solid black;\n",
       "    border-collapse: collapse;\n",
       "  }\n",
       "  th, td {\n",
       "    padding: 5px;\n",
       "  }\n",
       "  th {\n",
       "    text-align: left;\n",
       "  }\n",
       "</style><div class='table-result-container'><table class='table-result'><thead style='background-color: white'><tr><th>constructorId</th><th>driverId</th><th>fastestLap</th><th>fastestLapSpeed</th><th>fastestLapTime</th><th>grid</th><th>laps</th><th>milliseconds</th><th>number</th><th>points</th><th>position</th><th>positionOrder</th><th>positionText</th><th>raceId</th><th>rank</th><th>resultId</th><th>statusId</th><th>time</th></tr></thead><tbody><tr><td>131</td><td>1</td><td>44</td><td>207.235</td><td>1:34.015</td><td>2</td><td>56</td><td>5523897</td><td>44</td><td>25</td><td>1</td><td>1</td><td>1</td><td>1052</td><td>4</td><td>24966</td><td>1</td><td>1:32:03.897</td></tr><tr><td>9</td><td>830</td><td>41</td><td>208.984</td><td>1:33.228</td><td>1</td><td>56</td><td>5524642</td><td>33</td><td>18</td><td>2</td><td>2</td><td>2</td><td>1052</td><td>2</td><td>24967</td><td>1</td><td>+0.745</td></tr><tr><td>131</td><td>822</td><td>56</td><td>211.566</td><td>1:32.090</td><td>3</td><td>56</td><td>5561280</td><td>77</td><td>16</td><td>3</td><td>3</td><td>3</td><td>1052</td><td>1</td><td>24968</td><td>1</td><td>+37.383</td></tr><tr><td>1</td><td>846</td><td>38</td><td>206.398</td><td>1:34.396</td><td>7</td><td>56</td><td>5570363</td><td>4</td><td>12</td><td>4</td><td>4</td><td>4</td><td>1052</td><td>6</td><td>24969</td><td>1</td><td>+46.466</td></tr><tr><td>9</td><td>815</td><td>44</td><td>207.334</td><td>1:33.970</td><td>0</td><td>56</td><td>5575944</td><td>11</td><td>10</td><td>5</td><td>5</td><td>5</td><td>1052</td><td>3</td><td>24970</td><td>1</td><td>+52.047</td></tr><tr><td>6</td><td>844</td><td>39</td><td>205.112</td><td>1:34.988</td><td>4</td><td>56</td><td>5582987</td><td>16</td><td>8</td><td>6</td><td>6</td><td>6</td><td>1052</td><td>11</td><td>24971</td><td>1</td><td>+59.090</td></tr><tr><td>1</td><td>817</td><td>36</td><td>205.233</td><td>1:34.932</td><td>6</td><td>56</td><td>5589901</td><td>3</td><td>6</td><td>7</td><td>7</td><td>7</td><td>1052</td><td>10</td><td>24972</td><td>1</td><td>+66.004</td></tr><tr><td>6</td><td>832</td><td>48</td><td>206.151</td><td>1:34.509</td><td>8</td><td>56</td><td>5590997</td><td>55</td><td>4</td><td>8</td><td>8</td><td>8</td><td>1052</td><td>7</td><td>24973</td><td>1</td><td>+67.100</td></tr><tr><td>213</td><td>852</td><td>38</td><td>205.603</td><td>1:34.761</td><td>13</td><td>56</td><td>5609589</td><td>22</td><td>2</td><td>9</td><td>9</td><td>9</td><td>1052</td><td>8</td><td>24974</td><td>1</td><td>+85.692</td></tr><tr><td>117</td><td>840</td><td>31</td><td>205.378</td><td>1:34.865</td><td>10</td><td>56</td><td>5610610</td><td>18</td><td>1</td><td>10</td><td>10</td><td>10</td><td>1052</td><td>9</td><td>24975</td><td>1</td><td>+86.713</td></tr><tr><td>51</td><td>8</td><td>45</td><td>204.672</td><td>1:35.192</td><td>14</td><td>56</td><td>5612761</td><td>7</td><td>0</td><td>11</td><td>11</td><td>11</td><td>1052</td><td>14</td><td>24976</td><td>1</td><td>+88.864</td></tr><tr><td>51</td><td>841</td><td>32</td><td>204.823</td><td>1:35.122</td><td>12</td><td>55</td><td>\\N</td><td>99</td><td>0</td><td>12</td><td>12</td><td>12</td><td>1052</td><td>13</td><td>24977</td><td>11</td><td>\\N</td></tr><tr><td>214</td><td>839</td><td>33</td><td>204.548</td><td>1:35.250</td><td>16</td><td>55</td><td>\\N</td><td>31</td><td>0</td><td>13</td><td>13</td><td>13</td><td>1052</td><td>15</td><td>24978</td><td>11</td><td>\\N</td></tr><tr><td>3</td><td>847</td><td>40</td><td>205.008</td><td>1:35.036</td><td>15</td><td>55</td><td>\\N</td><td>63</td><td>0</td><td>14</td><td>14</td><td>14</td><td>1052</td><td>12</td><td>24979</td><td>11</td><td>\\N</td></tr><tr><td>117</td><td>20</td><td>26</td><td>203.871</td><td>1:35.566</td><td>20</td><td>55</td><td>\\N</td><td>5</td><td>0</td><td>15</td><td>15</td><td>15</td><td>1052</td><td>16</td><td>24980</td><td>11</td><td>\\N</td></tr><tr><td>210</td><td>854</td><td>38</td><td>202.667</td><td>1:36.134</td><td>18</td><td>55</td><td>\\N</td><td>47</td><td>0</td><td>16</td><td>16</td><td>16</td><td>1052</td><td>18</td><td>24981</td><td>11</td><td>\\N</td></tr><tr><td>213</td><td>842</td><td>48</td><td>207.069</td><td>1:34.090</td><td>5</td><td>52</td><td>\\N</td><td>10</td><td>0</td><td>17</td><td>17</td><td>17</td><td>1052</td><td>5</td><td>24982</td><td>31</td><td>\\N</td></tr><tr><td>3</td><td>849</td><td>16</td><td>201.685</td><td>1:36.602</td><td>17</td><td>51</td><td>\\N</td><td>6</td><td>0</td><td>18</td><td>18</td><td>18</td><td>1052</td><td>19</td><td>24983</td><td>31</td><td>\\N</td></tr><tr><td>214</td><td>4</td><td>31</td><td>202.816</td><td>1:36.063</td><td>9</td><td>32</td><td>\\N</td><td>14</td><td>0</td><td>\\N</td><td>19</td><td>R</td><td>1052</td><td>17</td><td>24984</td><td>23</td><td>\\N</td></tr><tr><td>210</td><td>853</td><td>\\N</td><td>\\N</td><td>\\N</td><td>19</td><td>0</td><td>\\N</td><td>9</td><td>0</td><td>\\N</td><td>20</td><td>R</td><td>1052</td><td>0</td><td>24985</td><td>3</td><td>\\N</td></tr></tbody></table></div>"
      ]
     },
     "metadata": {
      "application/vnd.databricks.v1+output": {
       "addedWidgets": {},
       "aggData": [],
       "aggError": "",
       "aggOverflow": false,
       "aggSchema": [],
       "aggSeriesLimitReached": false,
       "aggType": "",
       "arguments": {},
       "columnCustomDisplayInfos": {},
       "data": [
        [
         131,
         1,
         "44",
         "207.235",
         "1:34.015",
         2,
         56,
         "5523897",
         44,
         25,
         "1",
         1,
         "1",
         1052,
         4,
         24966,
         1,
         "1:32:03.897"
        ],
        [
         9,
         830,
         "41",
         "208.984",
         "1:33.228",
         1,
         56,
         "5524642",
         33,
         18,
         "2",
         2,
         "2",
         1052,
         2,
         24967,
         1,
         "+0.745"
        ],
        [
         131,
         822,
         "56",
         "211.566",
         "1:32.090",
         3,
         56,
         "5561280",
         77,
         16,
         "3",
         3,
         "3",
         1052,
         1,
         24968,
         1,
         "+37.383"
        ],
        [
         1,
         846,
         "38",
         "206.398",
         "1:34.396",
         7,
         56,
         "5570363",
         4,
         12,
         "4",
         4,
         "4",
         1052,
         6,
         24969,
         1,
         "+46.466"
        ],
        [
         9,
         815,
         "44",
         "207.334",
         "1:33.970",
         0,
         56,
         "5575944",
         11,
         10,
         "5",
         5,
         "5",
         1052,
         3,
         24970,
         1,
         "+52.047"
        ],
        [
         6,
         844,
         "39",
         "205.112",
         "1:34.988",
         4,
         56,
         "5582987",
         16,
         8,
         "6",
         6,
         "6",
         1052,
         11,
         24971,
         1,
         "+59.090"
        ],
        [
         1,
         817,
         "36",
         "205.233",
         "1:34.932",
         6,
         56,
         "5589901",
         3,
         6,
         "7",
         7,
         "7",
         1052,
         10,
         24972,
         1,
         "+66.004"
        ],
        [
         6,
         832,
         "48",
         "206.151",
         "1:34.509",
         8,
         56,
         "5590997",
         55,
         4,
         "8",
         8,
         "8",
         1052,
         7,
         24973,
         1,
         "+67.100"
        ],
        [
         213,
         852,
         "38",
         "205.603",
         "1:34.761",
         13,
         56,
         "5609589",
         22,
         2,
         "9",
         9,
         "9",
         1052,
         8,
         24974,
         1,
         "+85.692"
        ],
        [
         117,
         840,
         "31",
         "205.378",
         "1:34.865",
         10,
         56,
         "5610610",
         18,
         1,
         "10",
         10,
         "10",
         1052,
         9,
         24975,
         1,
         "+86.713"
        ],
        [
         51,
         8,
         "45",
         "204.672",
         "1:35.192",
         14,
         56,
         "5612761",
         7,
         0,
         "11",
         11,
         "11",
         1052,
         14,
         24976,
         1,
         "+88.864"
        ],
        [
         51,
         841,
         "32",
         "204.823",
         "1:35.122",
         12,
         55,
         "\\N",
         99,
         0,
         "12",
         12,
         "12",
         1052,
         13,
         24977,
         11,
         "\\N"
        ],
        [
         214,
         839,
         "33",
         "204.548",
         "1:35.250",
         16,
         55,
         "\\N",
         31,
         0,
         "13",
         13,
         "13",
         1052,
         15,
         24978,
         11,
         "\\N"
        ],
        [
         3,
         847,
         "40",
         "205.008",
         "1:35.036",
         15,
         55,
         "\\N",
         63,
         0,
         "14",
         14,
         "14",
         1052,
         12,
         24979,
         11,
         "\\N"
        ],
        [
         117,
         20,
         "26",
         "203.871",
         "1:35.566",
         20,
         55,
         "\\N",
         5,
         0,
         "15",
         15,
         "15",
         1052,
         16,
         24980,
         11,
         "\\N"
        ],
        [
         210,
         854,
         "38",
         "202.667",
         "1:36.134",
         18,
         55,
         "\\N",
         47,
         0,
         "16",
         16,
         "16",
         1052,
         18,
         24981,
         11,
         "\\N"
        ],
        [
         213,
         842,
         "48",
         "207.069",
         "1:34.090",
         5,
         52,
         "\\N",
         10,
         0,
         "17",
         17,
         "17",
         1052,
         5,
         24982,
         31,
         "\\N"
        ],
        [
         3,
         849,
         "16",
         "201.685",
         "1:36.602",
         17,
         51,
         "\\N",
         6,
         0,
         "18",
         18,
         "18",
         1052,
         19,
         24983,
         31,
         "\\N"
        ],
        [
         214,
         4,
         "31",
         "202.816",
         "1:36.063",
         9,
         32,
         "\\N",
         14,
         0,
         "\\N",
         19,
         "R",
         1052,
         17,
         24984,
         23,
         "\\N"
        ],
        [
         210,
         853,
         "\\N",
         "\\N",
         "\\N",
         19,
         0,
         "\\N",
         9,
         0,
         "\\N",
         20,
         "R",
         1052,
         0,
         24985,
         3,
         "\\N"
        ]
       ],
       "datasetInfos": [],
       "dbfsResultPath": null,
       "isJsonSchema": true,
       "metadata": {},
       "overflow": false,
       "plotOptions": {
        "customPlotOptions": {},
        "displayType": "table",
        "pivotAggregation": null,
        "pivotColumns": null,
        "xColumns": null,
        "yColumns": null
       },
       "removedWidgets": [],
       "schema": [
        {
         "metadata": "{}",
         "name": "constructorId",
         "type": "\"long\""
        },
        {
         "metadata": "{}",
         "name": "driverId",
         "type": "\"long\""
        },
        {
         "metadata": "{}",
         "name": "fastestLap",
         "type": "\"string\""
        },
        {
         "metadata": "{}",
         "name": "fastestLapSpeed",
         "type": "\"string\""
        },
        {
         "metadata": "{}",
         "name": "fastestLapTime",
         "type": "\"string\""
        },
        {
         "metadata": "{}",
         "name": "grid",
         "type": "\"long\""
        },
        {
         "metadata": "{}",
         "name": "laps",
         "type": "\"long\""
        },
        {
         "metadata": "{}",
         "name": "milliseconds",
         "type": "\"string\""
        },
        {
         "metadata": "{}",
         "name": "number",
         "type": "\"long\""
        },
        {
         "metadata": "{}",
         "name": "points",
         "type": "\"long\""
        },
        {
         "metadata": "{}",
         "name": "position",
         "type": "\"string\""
        },
        {
         "metadata": "{}",
         "name": "positionOrder",
         "type": "\"long\""
        },
        {
         "metadata": "{}",
         "name": "positionText",
         "type": "\"string\""
        },
        {
         "metadata": "{}",
         "name": "raceId",
         "type": "\"long\""
        },
        {
         "metadata": "{}",
         "name": "rank",
         "type": "\"long\""
        },
        {
         "metadata": "{}",
         "name": "resultId",
         "type": "\"long\""
        },
        {
         "metadata": "{}",
         "name": "statusId",
         "type": "\"long\""
        },
        {
         "metadata": "{}",
         "name": "time",
         "type": "\"string\""
        }
       ],
       "type": "table"
      }
     },
     "output_type": "display_data"
    }
   ],
   "source": [
    "display(spark.read.format(\"delta\").load(f\"{deltalake_folder_path}/results_ext\"))"
   ]
  },
  {
   "cell_type": "code",
   "execution_count": 0,
   "metadata": {
    "application/vnd.databricks.v1+cell": {
     "cellMetadata": {
      "byteLimit": 2048000,
      "implicitDf": true,
      "rowLimit": 10000
     },
     "inputWidgets": {},
     "nuid": "b64afead-e9af-4f88-80c5-dedc917ec9d8",
     "showTitle": false,
     "tableResultSettingsMap": {},
     "title": ""
    }
   },
   "outputs": [
    {
     "output_type": "display_data",
     "data": {
      "text/html": [
       "<style scoped>\n",
       "  .table-result-container {\n",
       "    max-height: 300px;\n",
       "    overflow: auto;\n",
       "  }\n",
       "  table, th, td {\n",
       "    border: 1px solid black;\n",
       "    border-collapse: collapse;\n",
       "  }\n",
       "  th, td {\n",
       "    padding: 5px;\n",
       "  }\n",
       "  th {\n",
       "    text-align: left;\n",
       "  }\n",
       "</style><div class='table-result-container'><table class='table-result'><thead style='background-color: white'><tr></tr></thead><tbody></tbody></table></div>"
      ]
     },
     "metadata": {
      "application/vnd.databricks.v1+output": {
       "addedWidgets": {},
       "aggData": [],
       "aggError": "",
       "aggOverflow": false,
       "aggSchema": [],
       "aggSeriesLimitReached": false,
       "aggType": "",
       "arguments": {},
       "columnCustomDisplayInfos": {},
       "data": [],
       "datasetInfos": [],
       "dbfsResultPath": null,
       "isJsonSchema": true,
       "metadata": {
        "dataframeName": null
       },
       "overflow": false,
       "plotOptions": {
        "customPlotOptions": {},
        "displayType": "table",
        "pivotAggregation": null,
        "pivotColumns": null,
        "xColumns": null,
        "yColumns": null
       },
       "removedWidgets": [],
       "schema": [],
       "type": "table"
      }
     },
     "output_type": "display_data"
    }
   ],
   "source": [
    "%sql\n",
    "create table results_ext_table\n",
    "using DELTA\n",
    "location '/mnt/centrallake/deltalakedemo/results_ext'"
   ]
  },
  {
   "cell_type": "code",
   "execution_count": 0,
   "metadata": {
    "application/vnd.databricks.v1+cell": {
     "cellMetadata": {
      "byteLimit": 2048000,
      "implicitDf": true,
      "rowLimit": 10000
     },
     "inputWidgets": {},
     "nuid": "21a5f5b6-6cb0-4543-80b6-231679d26aad",
     "showTitle": true,
     "tableResultSettingsMap": {},
     "title": "*"
    }
   },
   "outputs": [
    {
     "output_type": "display_data",
     "data": {
      "text/html": [
       "<style scoped>\n",
       "  .table-result-container {\n",
       "    max-height: 300px;\n",
       "    overflow: auto;\n",
       "  }\n",
       "  table, th, td {\n",
       "    border: 1px solid black;\n",
       "    border-collapse: collapse;\n",
       "  }\n",
       "  th, td {\n",
       "    padding: 5px;\n",
       "  }\n",
       "  th {\n",
       "    text-align: left;\n",
       "  }\n",
       "</style><div class='table-result-container'><table class='table-result'><thead style='background-color: white'><tr><th>constructorId</th><th>driverId</th><th>fastestLap</th><th>fastestLapSpeed</th><th>fastestLapTime</th><th>grid</th><th>laps</th><th>milliseconds</th><th>number</th><th>points</th><th>position</th><th>positionOrder</th><th>positionText</th><th>raceId</th><th>rank</th><th>resultId</th><th>statusId</th><th>time</th></tr></thead><tbody><tr><td>131</td><td>1</td><td>44</td><td>207.235</td><td>1:34.015</td><td>2</td><td>56</td><td>5523897</td><td>44</td><td>25</td><td>1</td><td>1</td><td>1</td><td>1052</td><td>4</td><td>24966</td><td>1</td><td>1:32:03.897</td></tr><tr><td>9</td><td>830</td><td>41</td><td>208.984</td><td>1:33.228</td><td>1</td><td>56</td><td>5524642</td><td>33</td><td>18</td><td>2</td><td>2</td><td>2</td><td>1052</td><td>2</td><td>24967</td><td>1</td><td>+0.745</td></tr><tr><td>131</td><td>822</td><td>56</td><td>211.566</td><td>1:32.090</td><td>3</td><td>56</td><td>5561280</td><td>77</td><td>16</td><td>3</td><td>3</td><td>3</td><td>1052</td><td>1</td><td>24968</td><td>1</td><td>+37.383</td></tr><tr><td>1</td><td>846</td><td>38</td><td>206.398</td><td>1:34.396</td><td>7</td><td>56</td><td>5570363</td><td>4</td><td>12</td><td>4</td><td>4</td><td>4</td><td>1052</td><td>6</td><td>24969</td><td>1</td><td>+46.466</td></tr><tr><td>9</td><td>815</td><td>44</td><td>207.334</td><td>1:33.970</td><td>0</td><td>56</td><td>5575944</td><td>11</td><td>10</td><td>5</td><td>5</td><td>5</td><td>1052</td><td>3</td><td>24970</td><td>1</td><td>+52.047</td></tr><tr><td>6</td><td>844</td><td>39</td><td>205.112</td><td>1:34.988</td><td>4</td><td>56</td><td>5582987</td><td>16</td><td>8</td><td>6</td><td>6</td><td>6</td><td>1052</td><td>11</td><td>24971</td><td>1</td><td>+59.090</td></tr><tr><td>1</td><td>817</td><td>36</td><td>205.233</td><td>1:34.932</td><td>6</td><td>56</td><td>5589901</td><td>3</td><td>6</td><td>7</td><td>7</td><td>7</td><td>1052</td><td>10</td><td>24972</td><td>1</td><td>+66.004</td></tr><tr><td>6</td><td>832</td><td>48</td><td>206.151</td><td>1:34.509</td><td>8</td><td>56</td><td>5590997</td><td>55</td><td>4</td><td>8</td><td>8</td><td>8</td><td>1052</td><td>7</td><td>24973</td><td>1</td><td>+67.100</td></tr><tr><td>213</td><td>852</td><td>38</td><td>205.603</td><td>1:34.761</td><td>13</td><td>56</td><td>5609589</td><td>22</td><td>2</td><td>9</td><td>9</td><td>9</td><td>1052</td><td>8</td><td>24974</td><td>1</td><td>+85.692</td></tr><tr><td>117</td><td>840</td><td>31</td><td>205.378</td><td>1:34.865</td><td>10</td><td>56</td><td>5610610</td><td>18</td><td>1</td><td>10</td><td>10</td><td>10</td><td>1052</td><td>9</td><td>24975</td><td>1</td><td>+86.713</td></tr><tr><td>51</td><td>8</td><td>45</td><td>204.672</td><td>1:35.192</td><td>14</td><td>56</td><td>5612761</td><td>7</td><td>0</td><td>11</td><td>11</td><td>11</td><td>1052</td><td>14</td><td>24976</td><td>1</td><td>+88.864</td></tr><tr><td>51</td><td>841</td><td>32</td><td>204.823</td><td>1:35.122</td><td>12</td><td>55</td><td>\\N</td><td>99</td><td>0</td><td>12</td><td>12</td><td>12</td><td>1052</td><td>13</td><td>24977</td><td>11</td><td>\\N</td></tr><tr><td>214</td><td>839</td><td>33</td><td>204.548</td><td>1:35.250</td><td>16</td><td>55</td><td>\\N</td><td>31</td><td>0</td><td>13</td><td>13</td><td>13</td><td>1052</td><td>15</td><td>24978</td><td>11</td><td>\\N</td></tr><tr><td>3</td><td>847</td><td>40</td><td>205.008</td><td>1:35.036</td><td>15</td><td>55</td><td>\\N</td><td>63</td><td>0</td><td>14</td><td>14</td><td>14</td><td>1052</td><td>12</td><td>24979</td><td>11</td><td>\\N</td></tr><tr><td>117</td><td>20</td><td>26</td><td>203.871</td><td>1:35.566</td><td>20</td><td>55</td><td>\\N</td><td>5</td><td>0</td><td>15</td><td>15</td><td>15</td><td>1052</td><td>16</td><td>24980</td><td>11</td><td>\\N</td></tr><tr><td>210</td><td>854</td><td>38</td><td>202.667</td><td>1:36.134</td><td>18</td><td>55</td><td>\\N</td><td>47</td><td>0</td><td>16</td><td>16</td><td>16</td><td>1052</td><td>18</td><td>24981</td><td>11</td><td>\\N</td></tr><tr><td>213</td><td>842</td><td>48</td><td>207.069</td><td>1:34.090</td><td>5</td><td>52</td><td>\\N</td><td>10</td><td>0</td><td>17</td><td>17</td><td>17</td><td>1052</td><td>5</td><td>24982</td><td>31</td><td>\\N</td></tr><tr><td>3</td><td>849</td><td>16</td><td>201.685</td><td>1:36.602</td><td>17</td><td>51</td><td>\\N</td><td>6</td><td>0</td><td>18</td><td>18</td><td>18</td><td>1052</td><td>19</td><td>24983</td><td>31</td><td>\\N</td></tr><tr><td>214</td><td>4</td><td>31</td><td>202.816</td><td>1:36.063</td><td>9</td><td>32</td><td>\\N</td><td>14</td><td>0</td><td>\\N</td><td>19</td><td>R</td><td>1052</td><td>17</td><td>24984</td><td>23</td><td>\\N</td></tr><tr><td>210</td><td>853</td><td>\\N</td><td>\\N</td><td>\\N</td><td>19</td><td>0</td><td>\\N</td><td>9</td><td>0</td><td>\\N</td><td>20</td><td>R</td><td>1052</td><td>0</td><td>24985</td><td>3</td><td>\\N</td></tr></tbody></table></div>"
      ]
     },
     "metadata": {
      "application/vnd.databricks.v1+output": {
       "addedWidgets": {},
       "aggData": [],
       "aggError": "",
       "aggOverflow": false,
       "aggSchema": [],
       "aggSeriesLimitReached": false,
       "aggType": "",
       "arguments": {},
       "columnCustomDisplayInfos": {},
       "data": [
        [
         131,
         1,
         "44",
         "207.235",
         "1:34.015",
         2,
         56,
         "5523897",
         44,
         25,
         "1",
         1,
         "1",
         1052,
         4,
         24966,
         1,
         "1:32:03.897"
        ],
        [
         9,
         830,
         "41",
         "208.984",
         "1:33.228",
         1,
         56,
         "5524642",
         33,
         18,
         "2",
         2,
         "2",
         1052,
         2,
         24967,
         1,
         "+0.745"
        ],
        [
         131,
         822,
         "56",
         "211.566",
         "1:32.090",
         3,
         56,
         "5561280",
         77,
         16,
         "3",
         3,
         "3",
         1052,
         1,
         24968,
         1,
         "+37.383"
        ],
        [
         1,
         846,
         "38",
         "206.398",
         "1:34.396",
         7,
         56,
         "5570363",
         4,
         12,
         "4",
         4,
         "4",
         1052,
         6,
         24969,
         1,
         "+46.466"
        ],
        [
         9,
         815,
         "44",
         "207.334",
         "1:33.970",
         0,
         56,
         "5575944",
         11,
         10,
         "5",
         5,
         "5",
         1052,
         3,
         24970,
         1,
         "+52.047"
        ],
        [
         6,
         844,
         "39",
         "205.112",
         "1:34.988",
         4,
         56,
         "5582987",
         16,
         8,
         "6",
         6,
         "6",
         1052,
         11,
         24971,
         1,
         "+59.090"
        ],
        [
         1,
         817,
         "36",
         "205.233",
         "1:34.932",
         6,
         56,
         "5589901",
         3,
         6,
         "7",
         7,
         "7",
         1052,
         10,
         24972,
         1,
         "+66.004"
        ],
        [
         6,
         832,
         "48",
         "206.151",
         "1:34.509",
         8,
         56,
         "5590997",
         55,
         4,
         "8",
         8,
         "8",
         1052,
         7,
         24973,
         1,
         "+67.100"
        ],
        [
         213,
         852,
         "38",
         "205.603",
         "1:34.761",
         13,
         56,
         "5609589",
         22,
         2,
         "9",
         9,
         "9",
         1052,
         8,
         24974,
         1,
         "+85.692"
        ],
        [
         117,
         840,
         "31",
         "205.378",
         "1:34.865",
         10,
         56,
         "5610610",
         18,
         1,
         "10",
         10,
         "10",
         1052,
         9,
         24975,
         1,
         "+86.713"
        ],
        [
         51,
         8,
         "45",
         "204.672",
         "1:35.192",
         14,
         56,
         "5612761",
         7,
         0,
         "11",
         11,
         "11",
         1052,
         14,
         24976,
         1,
         "+88.864"
        ],
        [
         51,
         841,
         "32",
         "204.823",
         "1:35.122",
         12,
         55,
         "\\N",
         99,
         0,
         "12",
         12,
         "12",
         1052,
         13,
         24977,
         11,
         "\\N"
        ],
        [
         214,
         839,
         "33",
         "204.548",
         "1:35.250",
         16,
         55,
         "\\N",
         31,
         0,
         "13",
         13,
         "13",
         1052,
         15,
         24978,
         11,
         "\\N"
        ],
        [
         3,
         847,
         "40",
         "205.008",
         "1:35.036",
         15,
         55,
         "\\N",
         63,
         0,
         "14",
         14,
         "14",
         1052,
         12,
         24979,
         11,
         "\\N"
        ],
        [
         117,
         20,
         "26",
         "203.871",
         "1:35.566",
         20,
         55,
         "\\N",
         5,
         0,
         "15",
         15,
         "15",
         1052,
         16,
         24980,
         11,
         "\\N"
        ],
        [
         210,
         854,
         "38",
         "202.667",
         "1:36.134",
         18,
         55,
         "\\N",
         47,
         0,
         "16",
         16,
         "16",
         1052,
         18,
         24981,
         11,
         "\\N"
        ],
        [
         213,
         842,
         "48",
         "207.069",
         "1:34.090",
         5,
         52,
         "\\N",
         10,
         0,
         "17",
         17,
         "17",
         1052,
         5,
         24982,
         31,
         "\\N"
        ],
        [
         3,
         849,
         "16",
         "201.685",
         "1:36.602",
         17,
         51,
         "\\N",
         6,
         0,
         "18",
         18,
         "18",
         1052,
         19,
         24983,
         31,
         "\\N"
        ],
        [
         214,
         4,
         "31",
         "202.816",
         "1:36.063",
         9,
         32,
         "\\N",
         14,
         0,
         "\\N",
         19,
         "R",
         1052,
         17,
         24984,
         23,
         "\\N"
        ],
        [
         210,
         853,
         "\\N",
         "\\N",
         "\\N",
         19,
         0,
         "\\N",
         9,
         0,
         "\\N",
         20,
         "R",
         1052,
         0,
         24985,
         3,
         "\\N"
        ]
       ],
       "datasetInfos": [],
       "dbfsResultPath": null,
       "isJsonSchema": true,
       "metadata": {
        "createTempViewForImplicitDf": true,
        "dataframeName": "_sqldf",
        "executionCount": 10
       },
       "overflow": false,
       "plotOptions": {
        "customPlotOptions": {},
        "displayType": "table",
        "pivotAggregation": null,
        "pivotColumns": null,
        "xColumns": null,
        "yColumns": null
       },
       "removedWidgets": [],
       "schema": [
        {
         "metadata": "{}",
         "name": "constructorId",
         "type": "\"long\""
        },
        {
         "metadata": "{}",
         "name": "driverId",
         "type": "\"long\""
        },
        {
         "metadata": "{}",
         "name": "fastestLap",
         "type": "\"string\""
        },
        {
         "metadata": "{}",
         "name": "fastestLapSpeed",
         "type": "\"string\""
        },
        {
         "metadata": "{}",
         "name": "fastestLapTime",
         "type": "\"string\""
        },
        {
         "metadata": "{}",
         "name": "grid",
         "type": "\"long\""
        },
        {
         "metadata": "{}",
         "name": "laps",
         "type": "\"long\""
        },
        {
         "metadata": "{}",
         "name": "milliseconds",
         "type": "\"string\""
        },
        {
         "metadata": "{}",
         "name": "number",
         "type": "\"long\""
        },
        {
         "metadata": "{}",
         "name": "points",
         "type": "\"long\""
        },
        {
         "metadata": "{}",
         "name": "position",
         "type": "\"string\""
        },
        {
         "metadata": "{}",
         "name": "positionOrder",
         "type": "\"long\""
        },
        {
         "metadata": "{}",
         "name": "positionText",
         "type": "\"string\""
        },
        {
         "metadata": "{}",
         "name": "raceId",
         "type": "\"long\""
        },
        {
         "metadata": "{}",
         "name": "rank",
         "type": "\"long\""
        },
        {
         "metadata": "{}",
         "name": "resultId",
         "type": "\"long\""
        },
        {
         "metadata": "{}",
         "name": "statusId",
         "type": "\"long\""
        },
        {
         "metadata": "{}",
         "name": "time",
         "type": "\"string\""
        }
       ],
       "type": "table"
      }
     },
     "output_type": "display_data"
    }
   ],
   "source": [
    "%sql\n",
    "select * from results_ext_table"
   ]
  },
  {
   "cell_type": "code",
   "execution_count": 0,
   "metadata": {
    "application/vnd.databricks.v1+cell": {
     "cellMetadata": {
      "byteLimit": 2048000,
      "implicitDf": true,
      "rowLimit": 10000
     },
     "inputWidgets": {},
     "nuid": "5d358c8a-8048-44a2-b45f-50be1a52c4cf",
     "showTitle": false,
     "tableResultSettingsMap": {},
     "title": ""
    }
   },
   "outputs": [
    {
     "output_type": "display_data",
     "data": {
      "text/html": [
       "<style scoped>\n",
       "  .table-result-container {\n",
       "    max-height: 300px;\n",
       "    overflow: auto;\n",
       "  }\n",
       "  table, th, td {\n",
       "    border: 1px solid black;\n",
       "    border-collapse: collapse;\n",
       "  }\n",
       "  th, td {\n",
       "    padding: 5px;\n",
       "  }\n",
       "  th {\n",
       "    text-align: left;\n",
       "  }\n",
       "</style><div class='table-result-container'><table class='table-result'><thead style='background-color: white'><tr><th>constructorId</th><th>driverId</th><th>fastestLap</th><th>fastestLapSpeed</th><th>fastestLapTime</th><th>grid</th><th>laps</th><th>milliseconds</th><th>number</th><th>points</th><th>position</th><th>positionOrder</th><th>positionText</th><th>raceId</th><th>rank</th><th>resultId</th><th>statusId</th><th>time</th></tr></thead><tbody><tr><td>131</td><td>1</td><td>44</td><td>207.235</td><td>1:34.015</td><td>2</td><td>56</td><td>5523897</td><td>44</td><td>25</td><td>1</td><td>1</td><td>1</td><td>1052</td><td>4</td><td>24966</td><td>1</td><td>1:32:03.897</td></tr><tr><td>9</td><td>830</td><td>41</td><td>208.984</td><td>1:33.228</td><td>1</td><td>56</td><td>5524642</td><td>33</td><td>18</td><td>2</td><td>2</td><td>2</td><td>1052</td><td>2</td><td>24967</td><td>1</td><td>+0.745</td></tr><tr><td>131</td><td>822</td><td>56</td><td>211.566</td><td>1:32.090</td><td>3</td><td>56</td><td>5561280</td><td>77</td><td>16</td><td>3</td><td>3</td><td>3</td><td>1052</td><td>1</td><td>24968</td><td>1</td><td>+37.383</td></tr><tr><td>1</td><td>846</td><td>38</td><td>206.398</td><td>1:34.396</td><td>7</td><td>56</td><td>5570363</td><td>4</td><td>12</td><td>4</td><td>4</td><td>4</td><td>1052</td><td>6</td><td>24969</td><td>1</td><td>+46.466</td></tr><tr><td>9</td><td>815</td><td>44</td><td>207.334</td><td>1:33.970</td><td>0</td><td>56</td><td>5575944</td><td>11</td><td>10</td><td>5</td><td>5</td><td>5</td><td>1052</td><td>3</td><td>24970</td><td>1</td><td>+52.047</td></tr><tr><td>6</td><td>844</td><td>39</td><td>205.112</td><td>1:34.988</td><td>4</td><td>56</td><td>5582987</td><td>16</td><td>8</td><td>6</td><td>6</td><td>6</td><td>1052</td><td>11</td><td>24971</td><td>1</td><td>+59.090</td></tr><tr><td>1</td><td>817</td><td>36</td><td>205.233</td><td>1:34.932</td><td>6</td><td>56</td><td>5589901</td><td>3</td><td>6</td><td>7</td><td>7</td><td>7</td><td>1052</td><td>10</td><td>24972</td><td>1</td><td>+66.004</td></tr><tr><td>6</td><td>832</td><td>48</td><td>206.151</td><td>1:34.509</td><td>8</td><td>56</td><td>5590997</td><td>55</td><td>4</td><td>8</td><td>8</td><td>8</td><td>1052</td><td>7</td><td>24973</td><td>1</td><td>+67.100</td></tr><tr><td>213</td><td>852</td><td>38</td><td>205.603</td><td>1:34.761</td><td>13</td><td>56</td><td>5609589</td><td>22</td><td>2</td><td>9</td><td>9</td><td>9</td><td>1052</td><td>8</td><td>24974</td><td>1</td><td>+85.692</td></tr><tr><td>117</td><td>840</td><td>31</td><td>205.378</td><td>1:34.865</td><td>10</td><td>56</td><td>5610610</td><td>18</td><td>1</td><td>10</td><td>10</td><td>10</td><td>1052</td><td>9</td><td>24975</td><td>1</td><td>+86.713</td></tr><tr><td>51</td><td>8</td><td>45</td><td>204.672</td><td>1:35.192</td><td>14</td><td>56</td><td>5612761</td><td>7</td><td>0</td><td>11</td><td>11</td><td>11</td><td>1052</td><td>14</td><td>24976</td><td>1</td><td>+88.864</td></tr><tr><td>51</td><td>841</td><td>32</td><td>204.823</td><td>1:35.122</td><td>12</td><td>55</td><td>\\N</td><td>99</td><td>0</td><td>12</td><td>12</td><td>12</td><td>1052</td><td>13</td><td>24977</td><td>11</td><td>\\N</td></tr><tr><td>214</td><td>839</td><td>33</td><td>204.548</td><td>1:35.250</td><td>16</td><td>55</td><td>\\N</td><td>31</td><td>0</td><td>13</td><td>13</td><td>13</td><td>1052</td><td>15</td><td>24978</td><td>11</td><td>\\N</td></tr><tr><td>3</td><td>847</td><td>40</td><td>205.008</td><td>1:35.036</td><td>15</td><td>55</td><td>\\N</td><td>63</td><td>0</td><td>14</td><td>14</td><td>14</td><td>1052</td><td>12</td><td>24979</td><td>11</td><td>\\N</td></tr><tr><td>117</td><td>20</td><td>26</td><td>203.871</td><td>1:35.566</td><td>20</td><td>55</td><td>\\N</td><td>5</td><td>0</td><td>15</td><td>15</td><td>15</td><td>1052</td><td>16</td><td>24980</td><td>11</td><td>\\N</td></tr><tr><td>210</td><td>854</td><td>38</td><td>202.667</td><td>1:36.134</td><td>18</td><td>55</td><td>\\N</td><td>47</td><td>0</td><td>16</td><td>16</td><td>16</td><td>1052</td><td>18</td><td>24981</td><td>11</td><td>\\N</td></tr><tr><td>213</td><td>842</td><td>48</td><td>207.069</td><td>1:34.090</td><td>5</td><td>52</td><td>\\N</td><td>10</td><td>0</td><td>17</td><td>17</td><td>17</td><td>1052</td><td>5</td><td>24982</td><td>31</td><td>\\N</td></tr><tr><td>3</td><td>849</td><td>16</td><td>201.685</td><td>1:36.602</td><td>17</td><td>51</td><td>\\N</td><td>6</td><td>0</td><td>18</td><td>18</td><td>18</td><td>1052</td><td>19</td><td>24983</td><td>31</td><td>\\N</td></tr><tr><td>214</td><td>4</td><td>31</td><td>202.816</td><td>1:36.063</td><td>9</td><td>32</td><td>\\N</td><td>14</td><td>0</td><td>\\N</td><td>19</td><td>R</td><td>1052</td><td>17</td><td>24984</td><td>23</td><td>\\N</td></tr><tr><td>210</td><td>853</td><td>\\N</td><td>\\N</td><td>\\N</td><td>19</td><td>0</td><td>\\N</td><td>9</td><td>0</td><td>\\N</td><td>20</td><td>R</td><td>1052</td><td>0</td><td>24985</td><td>3</td><td>\\N</td></tr></tbody></table></div>"
      ]
     },
     "metadata": {
      "application/vnd.databricks.v1+output": {
       "addedWidgets": {},
       "aggData": [],
       "aggError": "",
       "aggOverflow": false,
       "aggSchema": [],
       "aggSeriesLimitReached": false,
       "aggType": "",
       "arguments": {},
       "columnCustomDisplayInfos": {},
       "data": [
        [
         131,
         1,
         "44",
         "207.235",
         "1:34.015",
         2,
         56,
         "5523897",
         44,
         25,
         "1",
         1,
         "1",
         1052,
         4,
         24966,
         1,
         "1:32:03.897"
        ],
        [
         9,
         830,
         "41",
         "208.984",
         "1:33.228",
         1,
         56,
         "5524642",
         33,
         18,
         "2",
         2,
         "2",
         1052,
         2,
         24967,
         1,
         "+0.745"
        ],
        [
         131,
         822,
         "56",
         "211.566",
         "1:32.090",
         3,
         56,
         "5561280",
         77,
         16,
         "3",
         3,
         "3",
         1052,
         1,
         24968,
         1,
         "+37.383"
        ],
        [
         1,
         846,
         "38",
         "206.398",
         "1:34.396",
         7,
         56,
         "5570363",
         4,
         12,
         "4",
         4,
         "4",
         1052,
         6,
         24969,
         1,
         "+46.466"
        ],
        [
         9,
         815,
         "44",
         "207.334",
         "1:33.970",
         0,
         56,
         "5575944",
         11,
         10,
         "5",
         5,
         "5",
         1052,
         3,
         24970,
         1,
         "+52.047"
        ],
        [
         6,
         844,
         "39",
         "205.112",
         "1:34.988",
         4,
         56,
         "5582987",
         16,
         8,
         "6",
         6,
         "6",
         1052,
         11,
         24971,
         1,
         "+59.090"
        ],
        [
         1,
         817,
         "36",
         "205.233",
         "1:34.932",
         6,
         56,
         "5589901",
         3,
         6,
         "7",
         7,
         "7",
         1052,
         10,
         24972,
         1,
         "+66.004"
        ],
        [
         6,
         832,
         "48",
         "206.151",
         "1:34.509",
         8,
         56,
         "5590997",
         55,
         4,
         "8",
         8,
         "8",
         1052,
         7,
         24973,
         1,
         "+67.100"
        ],
        [
         213,
         852,
         "38",
         "205.603",
         "1:34.761",
         13,
         56,
         "5609589",
         22,
         2,
         "9",
         9,
         "9",
         1052,
         8,
         24974,
         1,
         "+85.692"
        ],
        [
         117,
         840,
         "31",
         "205.378",
         "1:34.865",
         10,
         56,
         "5610610",
         18,
         1,
         "10",
         10,
         "10",
         1052,
         9,
         24975,
         1,
         "+86.713"
        ],
        [
         51,
         8,
         "45",
         "204.672",
         "1:35.192",
         14,
         56,
         "5612761",
         7,
         0,
         "11",
         11,
         "11",
         1052,
         14,
         24976,
         1,
         "+88.864"
        ],
        [
         51,
         841,
         "32",
         "204.823",
         "1:35.122",
         12,
         55,
         "\\N",
         99,
         0,
         "12",
         12,
         "12",
         1052,
         13,
         24977,
         11,
         "\\N"
        ],
        [
         214,
         839,
         "33",
         "204.548",
         "1:35.250",
         16,
         55,
         "\\N",
         31,
         0,
         "13",
         13,
         "13",
         1052,
         15,
         24978,
         11,
         "\\N"
        ],
        [
         3,
         847,
         "40",
         "205.008",
         "1:35.036",
         15,
         55,
         "\\N",
         63,
         0,
         "14",
         14,
         "14",
         1052,
         12,
         24979,
         11,
         "\\N"
        ],
        [
         117,
         20,
         "26",
         "203.871",
         "1:35.566",
         20,
         55,
         "\\N",
         5,
         0,
         "15",
         15,
         "15",
         1052,
         16,
         24980,
         11,
         "\\N"
        ],
        [
         210,
         854,
         "38",
         "202.667",
         "1:36.134",
         18,
         55,
         "\\N",
         47,
         0,
         "16",
         16,
         "16",
         1052,
         18,
         24981,
         11,
         "\\N"
        ],
        [
         213,
         842,
         "48",
         "207.069",
         "1:34.090",
         5,
         52,
         "\\N",
         10,
         0,
         "17",
         17,
         "17",
         1052,
         5,
         24982,
         31,
         "\\N"
        ],
        [
         3,
         849,
         "16",
         "201.685",
         "1:36.602",
         17,
         51,
         "\\N",
         6,
         0,
         "18",
         18,
         "18",
         1052,
         19,
         24983,
         31,
         "\\N"
        ],
        [
         214,
         4,
         "31",
         "202.816",
         "1:36.063",
         9,
         32,
         "\\N",
         14,
         0,
         "\\N",
         19,
         "R",
         1052,
         17,
         24984,
         23,
         "\\N"
        ],
        [
         210,
         853,
         "\\N",
         "\\N",
         "\\N",
         19,
         0,
         "\\N",
         9,
         0,
         "\\N",
         20,
         "R",
         1052,
         0,
         24985,
         3,
         "\\N"
        ]
       ],
       "datasetInfos": [],
       "dbfsResultPath": null,
       "isJsonSchema": true,
       "metadata": {
        "createTempViewForImplicitDf": true,
        "dataframeName": "_sqldf",
        "executionCount": 11
       },
       "overflow": false,
       "plotOptions": {
        "customPlotOptions": {},
        "displayType": "table",
        "pivotAggregation": null,
        "pivotColumns": null,
        "xColumns": null,
        "yColumns": null
       },
       "removedWidgets": [],
       "schema": [
        {
         "metadata": "{}",
         "name": "constructorId",
         "type": "\"long\""
        },
        {
         "metadata": "{}",
         "name": "driverId",
         "type": "\"long\""
        },
        {
         "metadata": "{}",
         "name": "fastestLap",
         "type": "\"string\""
        },
        {
         "metadata": "{}",
         "name": "fastestLapSpeed",
         "type": "\"string\""
        },
        {
         "metadata": "{}",
         "name": "fastestLapTime",
         "type": "\"string\""
        },
        {
         "metadata": "{}",
         "name": "grid",
         "type": "\"long\""
        },
        {
         "metadata": "{}",
         "name": "laps",
         "type": "\"long\""
        },
        {
         "metadata": "{}",
         "name": "milliseconds",
         "type": "\"string\""
        },
        {
         "metadata": "{}",
         "name": "number",
         "type": "\"long\""
        },
        {
         "metadata": "{}",
         "name": "points",
         "type": "\"long\""
        },
        {
         "metadata": "{}",
         "name": "position",
         "type": "\"string\""
        },
        {
         "metadata": "{}",
         "name": "positionOrder",
         "type": "\"long\""
        },
        {
         "metadata": "{}",
         "name": "positionText",
         "type": "\"string\""
        },
        {
         "metadata": "{}",
         "name": "raceId",
         "type": "\"long\""
        },
        {
         "metadata": "{}",
         "name": "rank",
         "type": "\"long\""
        },
        {
         "metadata": "{}",
         "name": "resultId",
         "type": "\"long\""
        },
        {
         "metadata": "{}",
         "name": "statusId",
         "type": "\"long\""
        },
        {
         "metadata": "{}",
         "name": "time",
         "type": "\"string\""
        }
       ],
       "type": "table"
      }
     },
     "output_type": "display_data"
    }
   ],
   "source": [
    "%sql\n",
    "select * from f1_delta_lake_demo.results_mng"
   ]
  },
  {
   "cell_type": "code",
   "execution_count": 0,
   "metadata": {
    "application/vnd.databricks.v1+cell": {
     "cellMetadata": {
      "byteLimit": 2048000,
      "implicitDf": true,
      "rowLimit": 10000
     },
     "inputWidgets": {},
     "nuid": "29bce6b7-3225-4416-9358-e61a53df8656",
     "showTitle": false,
     "tableResultSettingsMap": {},
     "title": ""
    }
   },
   "outputs": [
    {
     "output_type": "display_data",
     "data": {
      "text/plain": [
       "org.apache.spark.sql.catalyst.ExtendedAnalysisException: [TABLE_OR_VIEW_NOT_FOUND] The table or view `results_mng` cannot be found. Verify the spelling and correctness of the schema and catalog.\n",
       "If you did not qualify the name with a schema, verify the current_schema() output, or qualify the name with the correct schema and catalog.\n",
       "To tolerate the error on drop use DROP VIEW IF EXISTS or DROP TABLE IF EXISTS. SQLSTATE: 42P01; line 1 pos 11;\n",
       "'DescribeRelation false, [col_name#1872, data_type#1873, comment#1874]\n",
       "+- 'UnresolvedTableOrView [results_mng], DESCRIBE TABLE, true\n",
       "\n",
       "\tat org.apache.spark.sql.catalyst.analysis.package$AnalysisErrorAt.tableNotFound(package.scala:90)\n",
       "\tat org.apache.spark.sql.catalyst.analysis.CheckAnalysis.$anonfun$checkAnalysis0$2(CheckAnalysis.scala:214)\n",
       "\tat org.apache.spark.sql.catalyst.analysis.CheckAnalysis.$anonfun$checkAnalysis0$2$adapted(CheckAnalysis.scala:197)\n",
       "\tat org.apache.spark.sql.catalyst.trees.TreeNode.foreachUp(TreeNode.scala:287)\n",
       "\tat org.apache.spark.sql.catalyst.trees.TreeNode.$anonfun$foreachUp$1(TreeNode.scala:286)\n",
       "\tat org.apache.spark.sql.catalyst.trees.TreeNode.$anonfun$foreachUp$1$adapted(TreeNode.scala:286)\n",
       "\tat scala.collection.Iterator.foreach(Iterator.scala:943)\n",
       "\tat scala.collection.Iterator.foreach$(Iterator.scala:943)\n",
       "\tat scala.collection.AbstractIterator.foreach(Iterator.scala:1431)\n",
       "\tat scala.collection.IterableLike.foreach(IterableLike.scala:74)\n",
       "\tat scala.collection.IterableLike.foreach$(IterableLike.scala:73)\n",
       "\tat scala.collection.AbstractIterable.foreach(Iterable.scala:56)\n",
       "\tat org.apache.spark.sql.catalyst.trees.TreeNode.foreachUp(TreeNode.scala:286)\n",
       "\tat org.apache.spark.sql.catalyst.analysis.CheckAnalysis.checkAnalysis0(CheckAnalysis.scala:197)\n",
       "\tat org.apache.spark.sql.catalyst.analysis.CheckAnalysis.checkAnalysis0$(CheckAnalysis.scala:179)\n",
       "\tat org.apache.spark.sql.catalyst.analysis.Analyzer.checkAnalysis0(Analyzer.scala:369)\n",
       "\tat org.apache.spark.sql.catalyst.analysis.CheckAnalysis.$anonfun$checkAnalysis$1(CheckAnalysis.scala:167)\n",
       "\tat scala.runtime.java8.JFunction0$mcV$sp.apply(JFunction0$mcV$sp.java:23)\n",
       "\tat com.databricks.spark.util.FrameProfiler$.record(FrameProfiler.scala:94)\n",
       "\tat org.apache.spark.sql.catalyst.analysis.CheckAnalysis.checkAnalysis(CheckAnalysis.scala:155)\n",
       "\tat org.apache.spark.sql.catalyst.analysis.CheckAnalysis.checkAnalysis$(CheckAnalysis.scala:155)\n",
       "\tat org.apache.spark.sql.catalyst.analysis.Analyzer.checkAnalysis(Analyzer.scala:369)\n",
       "\tat org.apache.spark.sql.catalyst.analysis.Analyzer.$anonfun$executeAndCheck$2(Analyzer.scala:424)\n",
       "\tat scala.runtime.java8.JFunction0$mcV$sp.apply(JFunction0$mcV$sp.java:23)\n",
       "\tat org.apache.spark.sql.catalyst.QueryPlanningTracker$.withTracker(QueryPlanningTracker.scala:182)\n",
       "\tat org.apache.spark.sql.catalyst.analysis.Analyzer.$anonfun$executeAndCheck$1(Analyzer.scala:424)\n",
       "\tat org.apache.spark.sql.catalyst.plans.logical.AnalysisHelper$.markInAnalyzer(AnalysisHelper.scala:443)\n",
       "\tat org.apache.spark.sql.catalyst.analysis.Analyzer.executeAndCheck(Analyzer.scala:421)\n",
       "\tat org.apache.spark.sql.execution.QueryExecution.$anonfun$analyzed$1(QueryExecution.scala:262)\n",
       "\tat com.databricks.spark.util.FrameProfiler$.record(FrameProfiler.scala:94)\n",
       "\tat org.apache.spark.sql.catalyst.QueryPlanningTracker.measurePhase(QueryPlanningTracker.scala:458)\n",
       "\tat org.apache.spark.sql.execution.QueryExecution.$anonfun$executePhase$5(QueryExecution.scala:613)\n",
       "\tat org.apache.spark.sql.execution.SQLExecution$.withExecutionPhase(SQLExecution.scala:144)\n",
       "\tat org.apache.spark.sql.execution.QueryExecution.$anonfun$executePhase$4(QueryExecution.scala:613)\n",
       "\tat org.apache.spark.sql.execution.QueryExecution$.withInternalError(QueryExecution.scala:1179)\n",
       "\tat org.apache.spark.sql.execution.QueryExecution.$anonfun$executePhase$2(QueryExecution.scala:612)\n",
       "\tat com.databricks.util.LexicalThreadLocal$Handle.runWith(LexicalThreadLocal.scala:63)\n",
       "\tat org.apache.spark.sql.execution.QueryExecution.$anonfun$executePhase$1(QueryExecution.scala:608)\n",
       "\tat org.apache.spark.sql.SparkSession.withActive(SparkSession.scala:1180)\n",
       "\tat org.apache.spark.sql.execution.QueryExecution.executePhase(QueryExecution.scala:608)\n",
       "\tat org.apache.spark.sql.execution.QueryExecution.analyzed$lzycompute(QueryExecution.scala:256)\n",
       "\tat org.apache.spark.sql.execution.QueryExecution.analyzed(QueryExecution.scala:255)\n",
       "\tat org.apache.spark.sql.execution.QueryExecution.assertAnalyzed(QueryExecution.scala:237)\n",
       "\tat org.apache.spark.sql.Dataset$.$anonfun$ofRows$2(Dataset.scala:130)\n",
       "\tat org.apache.spark.sql.SparkSession.withActive(SparkSession.scala:1180)\n",
       "\tat org.apache.spark.sql.SparkSession.$anonfun$withActiveAndFrameProfiler$1(SparkSession.scala:1187)\n",
       "\tat com.databricks.spark.util.FrameProfiler$.record(FrameProfiler.scala:94)\n",
       "\tat org.apache.spark.sql.SparkSession.withActiveAndFrameProfiler(SparkSession.scala:1187)\n",
       "\tat org.apache.spark.sql.Dataset$.ofRows(Dataset.scala:122)\n",
       "\tat org.apache.spark.sql.SparkSession.$anonfun$sql$4(SparkSession.scala:959)\n",
       "\tat org.apache.spark.sql.SparkSession.withActive(SparkSession.scala:1180)\n",
       "\tat org.apache.spark.sql.SparkSession.sql(SparkSession.scala:947)\n",
       "\tat org.apache.spark.sql.SparkSession.sql(SparkSession.scala:982)\n",
       "\tat com.databricks.backend.daemon.driver.DriverLocal$DbClassicStrategy.executeSQLQuery(DriverLocal.scala:301)\n",
       "\tat com.databricks.backend.daemon.driver.DriverLocal.executeSQLSubCommand(DriverLocal.scala:401)\n",
       "\tat com.databricks.backend.daemon.driver.DriverLocal.$anonfun$executeSql$1(DriverLocal.scala:423)\n",
       "\tat scala.collection.immutable.List.map(List.scala:293)\n",
       "\tat com.databricks.backend.daemon.driver.DriverLocal.executeSql(DriverLocal.scala:418)\n",
       "\tat com.databricks.backend.daemon.driver.JupyterDriverLocal.repl(JupyterDriverLocal.scala:1054)\n",
       "\tat com.databricks.backend.daemon.driver.DriverLocal.$anonfun$execute$33(DriverLocal.scala:1172)\n",
       "\tat com.databricks.unity.EmptyHandle$.runWith(UCSHandle.scala:133)\n",
       "\tat com.databricks.backend.daemon.driver.DriverLocal.$anonfun$execute$28(DriverLocal.scala:1163)\n",
       "\tat com.databricks.logging.AttributionContextTracing.$anonfun$withAttributionContext$1(AttributionContextTracing.scala:48)\n",
       "\tat com.databricks.logging.AttributionContext$.$anonfun$withValue$1(AttributionContext.scala:276)\n",
       "\tat scala.util.DynamicVariable.withValue(DynamicVariable.scala:62)\n",
       "\tat com.databricks.logging.AttributionContext$.withValue(AttributionContext.scala:272)\n",
       "\tat com.databricks.logging.AttributionContextTracing.withAttributionContext(AttributionContextTracing.scala:46)\n",
       "\tat com.databricks.logging.AttributionContextTracing.withAttributionContext$(AttributionContextTracing.scala:43)\n",
       "\tat com.databricks.backend.daemon.driver.DriverLocal.withAttributionContext(DriverLocal.scala:96)\n",
       "\tat com.databricks.logging.AttributionContextTracing.withAttributionTags(AttributionContextTracing.scala:95)\n",
       "\tat com.databricks.logging.AttributionContextTracing.withAttributionTags$(AttributionContextTracing.scala:76)\n",
       "\tat com.databricks.backend.daemon.driver.DriverLocal.withAttributionTags(DriverLocal.scala:96)\n",
       "\tat com.databricks.backend.daemon.driver.DriverLocal.$anonfun$execute$1(DriverLocal.scala:1099)\n",
       "\tat com.databricks.backend.daemon.driver.DriverLocal$.$anonfun$maybeSynchronizeExecution$4(DriverLocal.scala:1519)\n",
       "\tat com.databricks.backend.daemon.driver.DriverLocal.execute(DriverLocal.scala:776)\n",
       "\tat com.databricks.backend.daemon.driver.DriverWrapper.$anonfun$tryExecutingCommand$2(DriverWrapper.scala:932)\n",
       "\tat scala.util.Try$.apply(Try.scala:213)\n",
       "\tat com.databricks.backend.daemon.driver.DriverWrapper.$anonfun$tryExecutingCommand$1(DriverWrapper.scala:921)\n",
       "\tat com.databricks.backend.daemon.driver.DriverWrapper.$anonfun$tryExecutingCommand$3(DriverWrapper.scala:967)\n",
       "\tat com.databricks.logging.UsageLogging.executeThunkAndCaptureResultTags$1(UsageLogging.scala:633)\n",
       "\tat com.databricks.logging.UsageLogging.$anonfun$recordOperationWithResultTags$4(UsageLogging.scala:656)\n",
       "\tat com.databricks.logging.AttributionContextTracing.$anonfun$withAttributionContext$1(AttributionContextTracing.scala:48)\n",
       "\tat com.databricks.logging.AttributionContext$.$anonfun$withValue$1(AttributionContext.scala:276)\n",
       "\tat scala.util.DynamicVariable.withValue(DynamicVariable.scala:62)\n",
       "\tat com.databricks.logging.AttributionContext$.withValue(AttributionContext.scala:272)\n",
       "\tat com.databricks.logging.AttributionContextTracing.withAttributionContext(AttributionContextTracing.scala:46)\n",
       "\tat com.databricks.logging.AttributionContextTracing.withAttributionContext$(AttributionContextTracing.scala:43)\n",
       "\tat com.databricks.backend.daemon.driver.DriverWrapper.withAttributionContext(DriverWrapper.scala:73)\n",
       "\tat com.databricks.logging.AttributionContextTracing.withAttributionTags(AttributionContextTracing.scala:95)\n",
       "\tat com.databricks.logging.AttributionContextTracing.withAttributionTags$(AttributionContextTracing.scala:76)\n",
       "\tat com.databricks.backend.daemon.driver.DriverWrapper.withAttributionTags(DriverWrapper.scala:73)\n",
       "\tat com.databricks.logging.UsageLogging.recordOperationWithResultTags(UsageLogging.scala:628)\n",
       "\tat com.databricks.logging.UsageLogging.recordOperationWithResultTags$(UsageLogging.scala:537)\n",
       "\tat com.databricks.backend.daemon.driver.DriverWrapper.recordOperationWithResultTags(DriverWrapper.scala:73)\n",
       "\tat com.databricks.backend.daemon.driver.DriverWrapper.tryExecutingCommand(DriverWrapper.scala:967)\n",
       "\tat com.databricks.backend.daemon.driver.DriverWrapper.executeCommandAndGetError(DriverWrapper.scala:717)\n",
       "\tat com.databricks.backend.daemon.driver.DriverWrapper.executeCommand(DriverWrapper.scala:785)\n",
       "\tat com.databricks.backend.daemon.driver.DriverWrapper.$anonfun$runInnerLoop$1(DriverWrapper.scala:590)\n",
       "\tat scala.runtime.java8.JFunction0$mcV$sp.apply(JFunction0$mcV$sp.java:23)\n",
       "\tat com.databricks.logging.AttributionContextTracing.$anonfun$withAttributionContext$1(AttributionContextTracing.scala:48)\n",
       "\tat com.databricks.logging.AttributionContext$.$anonfun$withValue$1(AttributionContext.scala:276)\n",
       "\tat scala.util.DynamicVariable.withValue(DynamicVariable.scala:62)\n",
       "\tat com.databricks.logging.AttributionContext$.withValue(AttributionContext.scala:272)\n",
       "\tat com.databricks.logging.AttributionContextTracing.withAttributionContext(AttributionContextTracing.scala:46)\n",
       "\tat com.databricks.logging.AttributionContextTracing.withAttributionContext$(AttributionContextTracing.scala:43)\n",
       "\tat com.databricks.backend.daemon.driver.DriverWrapper.withAttributionContext(DriverWrapper.scala:73)\n",
       "\tat com.databricks.backend.daemon.driver.DriverWrapper.runInnerLoop(DriverWrapper.scala:590)\n",
       "\tat com.databricks.backend.daemon.driver.DriverWrapper.runInner(DriverWrapper.scala:512)\n",
       "\tat com.databricks.backend.daemon.driver.DriverWrapper.run(DriverWrapper.scala:306)\n",
       "\tat java.lang.Thread.run(Thread.java:750)\n"
      ]
     },
     "metadata": {
      "application/vnd.databricks.v1+output": {
       "addedWidgets": {},
       "arguments": {},
       "datasetInfos": [],
       "jupyterProps": null,
       "metadata": {
        "errorSummary": "Command skipped"
       },
       "removedWidgets": [],
       "sqlProps": {
        "errorClass": "TABLE_OR_VIEW_NOT_FOUND",
        "pysparkCallSite": null,
        "pysparkFragment": null,
        "sqlState": "42P01",
        "stackTrace": null,
        "startIndex": 11,
        "stopIndex": 21
       },
       "stackFrames": [
        "org.apache.spark.sql.catalyst.ExtendedAnalysisException: [TABLE_OR_VIEW_NOT_FOUND] The table or view `results_mng` cannot be found. Verify the spelling and correctness of the schema and catalog.\nIf you did not qualify the name with a schema, verify the current_schema() output, or qualify the name with the correct schema and catalog.\nTo tolerate the error on drop use DROP VIEW IF EXISTS or DROP TABLE IF EXISTS. SQLSTATE: 42P01; line 1 pos 11;\n'DescribeRelation false, [col_name#1872, data_type#1873, comment#1874]\n+- 'UnresolvedTableOrView [results_mng], DESCRIBE TABLE, true\n\n\tat org.apache.spark.sql.catalyst.analysis.package$AnalysisErrorAt.tableNotFound(package.scala:90)\n\tat org.apache.spark.sql.catalyst.analysis.CheckAnalysis.$anonfun$checkAnalysis0$2(CheckAnalysis.scala:214)\n\tat org.apache.spark.sql.catalyst.analysis.CheckAnalysis.$anonfun$checkAnalysis0$2$adapted(CheckAnalysis.scala:197)\n\tat org.apache.spark.sql.catalyst.trees.TreeNode.foreachUp(TreeNode.scala:287)\n\tat org.apache.spark.sql.catalyst.trees.TreeNode.$anonfun$foreachUp$1(TreeNode.scala:286)\n\tat org.apache.spark.sql.catalyst.trees.TreeNode.$anonfun$foreachUp$1$adapted(TreeNode.scala:286)\n\tat scala.collection.Iterator.foreach(Iterator.scala:943)\n\tat scala.collection.Iterator.foreach$(Iterator.scala:943)\n\tat scala.collection.AbstractIterator.foreach(Iterator.scala:1431)\n\tat scala.collection.IterableLike.foreach(IterableLike.scala:74)\n\tat scala.collection.IterableLike.foreach$(IterableLike.scala:73)\n\tat scala.collection.AbstractIterable.foreach(Iterable.scala:56)\n\tat org.apache.spark.sql.catalyst.trees.TreeNode.foreachUp(TreeNode.scala:286)\n\tat org.apache.spark.sql.catalyst.analysis.CheckAnalysis.checkAnalysis0(CheckAnalysis.scala:197)\n\tat org.apache.spark.sql.catalyst.analysis.CheckAnalysis.checkAnalysis0$(CheckAnalysis.scala:179)\n\tat org.apache.spark.sql.catalyst.analysis.Analyzer.checkAnalysis0(Analyzer.scala:369)\n\tat org.apache.spark.sql.catalyst.analysis.CheckAnalysis.$anonfun$checkAnalysis$1(CheckAnalysis.scala:167)\n\tat scala.runtime.java8.JFunction0$mcV$sp.apply(JFunction0$mcV$sp.java:23)\n\tat com.databricks.spark.util.FrameProfiler$.record(FrameProfiler.scala:94)\n\tat org.apache.spark.sql.catalyst.analysis.CheckAnalysis.checkAnalysis(CheckAnalysis.scala:155)\n\tat org.apache.spark.sql.catalyst.analysis.CheckAnalysis.checkAnalysis$(CheckAnalysis.scala:155)\n\tat org.apache.spark.sql.catalyst.analysis.Analyzer.checkAnalysis(Analyzer.scala:369)\n\tat org.apache.spark.sql.catalyst.analysis.Analyzer.$anonfun$executeAndCheck$2(Analyzer.scala:424)\n\tat scala.runtime.java8.JFunction0$mcV$sp.apply(JFunction0$mcV$sp.java:23)\n\tat org.apache.spark.sql.catalyst.QueryPlanningTracker$.withTracker(QueryPlanningTracker.scala:182)\n\tat org.apache.spark.sql.catalyst.analysis.Analyzer.$anonfun$executeAndCheck$1(Analyzer.scala:424)\n\tat org.apache.spark.sql.catalyst.plans.logical.AnalysisHelper$.markInAnalyzer(AnalysisHelper.scala:443)\n\tat org.apache.spark.sql.catalyst.analysis.Analyzer.executeAndCheck(Analyzer.scala:421)\n\tat org.apache.spark.sql.execution.QueryExecution.$anonfun$analyzed$1(QueryExecution.scala:262)\n\tat com.databricks.spark.util.FrameProfiler$.record(FrameProfiler.scala:94)\n\tat org.apache.spark.sql.catalyst.QueryPlanningTracker.measurePhase(QueryPlanningTracker.scala:458)\n\tat org.apache.spark.sql.execution.QueryExecution.$anonfun$executePhase$5(QueryExecution.scala:613)\n\tat org.apache.spark.sql.execution.SQLExecution$.withExecutionPhase(SQLExecution.scala:144)\n\tat org.apache.spark.sql.execution.QueryExecution.$anonfun$executePhase$4(QueryExecution.scala:613)\n\tat org.apache.spark.sql.execution.QueryExecution$.withInternalError(QueryExecution.scala:1179)\n\tat org.apache.spark.sql.execution.QueryExecution.$anonfun$executePhase$2(QueryExecution.scala:612)\n\tat com.databricks.util.LexicalThreadLocal$Handle.runWith(LexicalThreadLocal.scala:63)\n\tat org.apache.spark.sql.execution.QueryExecution.$anonfun$executePhase$1(QueryExecution.scala:608)\n\tat org.apache.spark.sql.SparkSession.withActive(SparkSession.scala:1180)\n\tat org.apache.spark.sql.execution.QueryExecution.executePhase(QueryExecution.scala:608)\n\tat org.apache.spark.sql.execution.QueryExecution.analyzed$lzycompute(QueryExecution.scala:256)\n\tat org.apache.spark.sql.execution.QueryExecution.analyzed(QueryExecution.scala:255)\n\tat org.apache.spark.sql.execution.QueryExecution.assertAnalyzed(QueryExecution.scala:237)\n\tat org.apache.spark.sql.Dataset$.$anonfun$ofRows$2(Dataset.scala:130)\n\tat org.apache.spark.sql.SparkSession.withActive(SparkSession.scala:1180)\n\tat org.apache.spark.sql.SparkSession.$anonfun$withActiveAndFrameProfiler$1(SparkSession.scala:1187)\n\tat com.databricks.spark.util.FrameProfiler$.record(FrameProfiler.scala:94)\n\tat org.apache.spark.sql.SparkSession.withActiveAndFrameProfiler(SparkSession.scala:1187)\n\tat org.apache.spark.sql.Dataset$.ofRows(Dataset.scala:122)\n\tat org.apache.spark.sql.SparkSession.$anonfun$sql$4(SparkSession.scala:959)\n\tat org.apache.spark.sql.SparkSession.withActive(SparkSession.scala:1180)\n\tat org.apache.spark.sql.SparkSession.sql(SparkSession.scala:947)\n\tat org.apache.spark.sql.SparkSession.sql(SparkSession.scala:982)\n\tat com.databricks.backend.daemon.driver.DriverLocal$DbClassicStrategy.executeSQLQuery(DriverLocal.scala:301)\n\tat com.databricks.backend.daemon.driver.DriverLocal.executeSQLSubCommand(DriverLocal.scala:401)\n\tat com.databricks.backend.daemon.driver.DriverLocal.$anonfun$executeSql$1(DriverLocal.scala:423)\n\tat scala.collection.immutable.List.map(List.scala:293)\n\tat com.databricks.backend.daemon.driver.DriverLocal.executeSql(DriverLocal.scala:418)\n\tat com.databricks.backend.daemon.driver.JupyterDriverLocal.repl(JupyterDriverLocal.scala:1054)\n\tat com.databricks.backend.daemon.driver.DriverLocal.$anonfun$execute$33(DriverLocal.scala:1172)\n\tat com.databricks.unity.EmptyHandle$.runWith(UCSHandle.scala:133)\n\tat com.databricks.backend.daemon.driver.DriverLocal.$anonfun$execute$28(DriverLocal.scala:1163)\n\tat com.databricks.logging.AttributionContextTracing.$anonfun$withAttributionContext$1(AttributionContextTracing.scala:48)\n\tat com.databricks.logging.AttributionContext$.$anonfun$withValue$1(AttributionContext.scala:276)\n\tat scala.util.DynamicVariable.withValue(DynamicVariable.scala:62)\n\tat com.databricks.logging.AttributionContext$.withValue(AttributionContext.scala:272)\n\tat com.databricks.logging.AttributionContextTracing.withAttributionContext(AttributionContextTracing.scala:46)\n\tat com.databricks.logging.AttributionContextTracing.withAttributionContext$(AttributionContextTracing.scala:43)\n\tat com.databricks.backend.daemon.driver.DriverLocal.withAttributionContext(DriverLocal.scala:96)\n\tat com.databricks.logging.AttributionContextTracing.withAttributionTags(AttributionContextTracing.scala:95)\n\tat com.databricks.logging.AttributionContextTracing.withAttributionTags$(AttributionContextTracing.scala:76)\n\tat com.databricks.backend.daemon.driver.DriverLocal.withAttributionTags(DriverLocal.scala:96)\n\tat com.databricks.backend.daemon.driver.DriverLocal.$anonfun$execute$1(DriverLocal.scala:1099)\n\tat com.databricks.backend.daemon.driver.DriverLocal$.$anonfun$maybeSynchronizeExecution$4(DriverLocal.scala:1519)\n\tat com.databricks.backend.daemon.driver.DriverLocal.execute(DriverLocal.scala:776)\n\tat com.databricks.backend.daemon.driver.DriverWrapper.$anonfun$tryExecutingCommand$2(DriverWrapper.scala:932)\n\tat scala.util.Try$.apply(Try.scala:213)\n\tat com.databricks.backend.daemon.driver.DriverWrapper.$anonfun$tryExecutingCommand$1(DriverWrapper.scala:921)\n\tat com.databricks.backend.daemon.driver.DriverWrapper.$anonfun$tryExecutingCommand$3(DriverWrapper.scala:967)\n\tat com.databricks.logging.UsageLogging.executeThunkAndCaptureResultTags$1(UsageLogging.scala:633)\n\tat com.databricks.logging.UsageLogging.$anonfun$recordOperationWithResultTags$4(UsageLogging.scala:656)\n\tat com.databricks.logging.AttributionContextTracing.$anonfun$withAttributionContext$1(AttributionContextTracing.scala:48)\n\tat com.databricks.logging.AttributionContext$.$anonfun$withValue$1(AttributionContext.scala:276)\n\tat scala.util.DynamicVariable.withValue(DynamicVariable.scala:62)\n\tat com.databricks.logging.AttributionContext$.withValue(AttributionContext.scala:272)\n\tat com.databricks.logging.AttributionContextTracing.withAttributionContext(AttributionContextTracing.scala:46)\n\tat com.databricks.logging.AttributionContextTracing.withAttributionContext$(AttributionContextTracing.scala:43)\n\tat com.databricks.backend.daemon.driver.DriverWrapper.withAttributionContext(DriverWrapper.scala:73)\n\tat com.databricks.logging.AttributionContextTracing.withAttributionTags(AttributionContextTracing.scala:95)\n\tat com.databricks.logging.AttributionContextTracing.withAttributionTags$(AttributionContextTracing.scala:76)\n\tat com.databricks.backend.daemon.driver.DriverWrapper.withAttributionTags(DriverWrapper.scala:73)\n\tat com.databricks.logging.UsageLogging.recordOperationWithResultTags(UsageLogging.scala:628)\n\tat com.databricks.logging.UsageLogging.recordOperationWithResultTags$(UsageLogging.scala:537)\n\tat com.databricks.backend.daemon.driver.DriverWrapper.recordOperationWithResultTags(DriverWrapper.scala:73)\n\tat com.databricks.backend.daemon.driver.DriverWrapper.tryExecutingCommand(DriverWrapper.scala:967)\n\tat com.databricks.backend.daemon.driver.DriverWrapper.executeCommandAndGetError(DriverWrapper.scala:717)\n\tat com.databricks.backend.daemon.driver.DriverWrapper.executeCommand(DriverWrapper.scala:785)\n\tat com.databricks.backend.daemon.driver.DriverWrapper.$anonfun$runInnerLoop$1(DriverWrapper.scala:590)\n\tat scala.runtime.java8.JFunction0$mcV$sp.apply(JFunction0$mcV$sp.java:23)\n\tat com.databricks.logging.AttributionContextTracing.$anonfun$withAttributionContext$1(AttributionContextTracing.scala:48)\n\tat com.databricks.logging.AttributionContext$.$anonfun$withValue$1(AttributionContext.scala:276)\n\tat scala.util.DynamicVariable.withValue(DynamicVariable.scala:62)\n\tat com.databricks.logging.AttributionContext$.withValue(AttributionContext.scala:272)\n\tat com.databricks.logging.AttributionContextTracing.withAttributionContext(AttributionContextTracing.scala:46)\n\tat com.databricks.logging.AttributionContextTracing.withAttributionContext$(AttributionContextTracing.scala:43)\n\tat com.databricks.backend.daemon.driver.DriverWrapper.withAttributionContext(DriverWrapper.scala:73)\n\tat com.databricks.backend.daemon.driver.DriverWrapper.runInnerLoop(DriverWrapper.scala:590)\n\tat com.databricks.backend.daemon.driver.DriverWrapper.runInner(DriverWrapper.scala:512)\n\tat com.databricks.backend.daemon.driver.DriverWrapper.run(DriverWrapper.scala:306)\n\tat java.lang.Thread.run(Thread.java:750)\n"
       ],
       "type": "baseError"
      }
     },
     "output_type": "display_data"
    }
   ],
   "source": [
    "%sql\n",
    "update f1_delta_lake_demo.results_mng\n",
    " set points=11-position\n",
    " where position<=10"
   ]
  },
  {
   "cell_type": "code",
   "execution_count": 0,
   "metadata": {
    "application/vnd.databricks.v1+cell": {
     "cellMetadata": {
      "byteLimit": 2048000,
      "implicitDf": true,
      "rowLimit": 10000
     },
     "inputWidgets": {},
     "nuid": "2635ed89-6e97-404e-9c01-7338a20e3c25",
     "showTitle": false,
     "tableResultSettingsMap": {},
     "title": ""
    }
   },
   "outputs": [
    {
     "output_type": "display_data",
     "data": {
      "text/html": [
       "<style scoped>\n",
       "  .table-result-container {\n",
       "    max-height: 300px;\n",
       "    overflow: auto;\n",
       "  }\n",
       "  table, th, td {\n",
       "    border: 1px solid black;\n",
       "    border-collapse: collapse;\n",
       "  }\n",
       "  th, td {\n",
       "    padding: 5px;\n",
       "  }\n",
       "  th {\n",
       "    text-align: left;\n",
       "  }\n",
       "</style><div class='table-result-container'><table class='table-result'><thead style='background-color: white'><tr><th>format</th><th>id</th><th>name</th><th>description</th><th>location</th><th>createdAt</th><th>lastModified</th><th>partitionColumns</th><th>clusteringColumns</th><th>numFiles</th><th>sizeInBytes</th><th>properties</th><th>minReaderVersion</th><th>minWriterVersion</th><th>tableFeatures</th><th>statistics</th></tr></thead><tbody><tr><td>delta</td><td>c14435c1-2872-4840-975c-4b61f1e8be51</td><td>spark_catalog.f1_delta_lake_demo.results_mng</td><td>null</td><td>dbfs:/mnt/centrallake/deltalakedemo/results_mng</td><td>2024-12-20T22:42:59.737Z</td><td>2024-12-20T22:43:06Z</td><td>List()</td><td>List()</td><td>1</td><td>6605</td><td>Map(delta.enableDeletionVectors -> true)</td><td>3</td><td>7</td><td>List(deletionVectors)</td><td>Map(numRowsDeletedByDeletionVectors -> 0, numDeletionVectors -> 0)</td></tr></tbody></table></div>"
      ]
     },
     "metadata": {
      "application/vnd.databricks.v1+output": {
       "addedWidgets": {},
       "aggData": [],
       "aggError": "",
       "aggOverflow": false,
       "aggSchema": [],
       "aggSeriesLimitReached": false,
       "aggType": "",
       "arguments": {},
       "columnCustomDisplayInfos": {},
       "data": [
        [
         "delta",
         "c14435c1-2872-4840-975c-4b61f1e8be51",
         "spark_catalog.f1_delta_lake_demo.results_mng",
         null,
         "dbfs:/mnt/centrallake/deltalakedemo/results_mng",
         "2024-12-20T22:42:59.737Z",
         "2024-12-20T22:43:06Z",
         [],
         [],
         1,
         6605,
         {
          "delta.enableDeletionVectors": "true"
         },
         3,
         7,
         [
          "deletionVectors"
         ],
         {
          "numDeletionVectors": 0,
          "numRowsDeletedByDeletionVectors": 0
         }
        ]
       ],
       "datasetInfos": [],
       "dbfsResultPath": null,
       "isJsonSchema": true,
       "metadata": {
        "createTempViewForImplicitDf": true,
        "dataframeName": "_sqldf",
        "executionCount": 12
       },
       "overflow": false,
       "plotOptions": {
        "customPlotOptions": {},
        "displayType": "table",
        "pivotAggregation": null,
        "pivotColumns": null,
        "xColumns": null,
        "yColumns": null
       },
       "removedWidgets": [],
       "schema": [
        {
         "metadata": "{}",
         "name": "format",
         "type": "\"string\""
        },
        {
         "metadata": "{}",
         "name": "id",
         "type": "\"string\""
        },
        {
         "metadata": "{}",
         "name": "name",
         "type": "\"string\""
        },
        {
         "metadata": "{}",
         "name": "description",
         "type": "\"string\""
        },
        {
         "metadata": "{}",
         "name": "location",
         "type": "\"string\""
        },
        {
         "metadata": "{}",
         "name": "createdAt",
         "type": "\"timestamp\""
        },
        {
         "metadata": "{}",
         "name": "lastModified",
         "type": "\"timestamp\""
        },
        {
         "metadata": "{}",
         "name": "partitionColumns",
         "type": "{\"type\":\"array\",\"elementType\":\"string\",\"containsNull\":true}"
        },
        {
         "metadata": "{}",
         "name": "clusteringColumns",
         "type": "{\"type\":\"array\",\"elementType\":\"string\",\"containsNull\":true}"
        },
        {
         "metadata": "{}",
         "name": "numFiles",
         "type": "\"long\""
        },
        {
         "metadata": "{}",
         "name": "sizeInBytes",
         "type": "\"long\""
        },
        {
         "metadata": "{}",
         "name": "properties",
         "type": "{\"type\":\"map\",\"keyType\":\"string\",\"valueType\":\"string\",\"valueContainsNull\":true}"
        },
        {
         "metadata": "{}",
         "name": "minReaderVersion",
         "type": "\"integer\""
        },
        {
         "metadata": "{}",
         "name": "minWriterVersion",
         "type": "\"integer\""
        },
        {
         "metadata": "{}",
         "name": "tableFeatures",
         "type": "{\"type\":\"array\",\"elementType\":\"string\",\"containsNull\":true}"
        },
        {
         "metadata": "{}",
         "name": "statistics",
         "type": "{\"type\":\"map\",\"keyType\":\"string\",\"valueType\":\"long\",\"valueContainsNull\":true}"
        }
       ],
       "type": "table"
      }
     },
     "output_type": "display_data"
    }
   ],
   "source": [
    "%sql\n",
    "DESCRIBE DETAIL f1_delta_lake_demo.results_mng;\n"
   ]
  },
  {
   "cell_type": "code",
   "execution_count": 0,
   "metadata": {
    "application/vnd.databricks.v1+cell": {
     "cellMetadata": {
      "byteLimit": 2048000,
      "rowLimit": 10000
     },
     "inputWidgets": {},
     "nuid": "d4a24272-28f7-4cb4-99fa-a1e023833173",
     "showTitle": false,
     "tableResultSettingsMap": {},
     "title": ""
    }
   },
   "outputs": [
    {
     "output_type": "stream",
     "name": "stdout",
     "output_type": "stream",
     "text": [
      "The table is a Delta table.\n"
     ]
    }
   ],
   "source": [
    "from delta.tables import DeltaTable\n",
    "from pyspark.sql.functions import *\n",
    "\n",
    "# Assuming 'spark' is your SparkSession\n",
    "table_path = \"dbfs:/mnt/centrallake/deltalakedemo/results_mng\"\n",
    "\n",
    "if DeltaTable.isDeltaTable(spark, table_path):\n",
    "    print(\"The table is a Delta table.\")\n",
    "else:\n",
    "    print(\"The table is not a Delta table.\")"
   ]
  },
  {
   "cell_type": "code",
   "execution_count": 0,
   "metadata": {
    "application/vnd.databricks.v1+cell": {
     "cellMetadata": {
      "byteLimit": 2048000,
      "rowLimit": 10000
     },
     "inputWidgets": {},
     "nuid": "29eaf3c3-581e-4117-8f16-d8a9ef955689",
     "showTitle": false,
     "tableResultSettingsMap": {},
     "title": ""
    }
   },
   "outputs": [],
   "source": [
    "from delta.tables import DeltaTable\n",
    "from pyspark.sql import SparkSession\n",
    "deltaTable = DeltaTable.forPath(spark, '/mnt/centrallake/deltalakedemo/results_mng')\n",
    "deltaTable.update(\"position <=10\", {\"points\":\"21-position\"})"
   ]
  }
 ],
 "metadata": {
  "application/vnd.databricks.v1+notebook": {
   "computePreferences": null,
   "dashboards": [],
   "environmentMetadata": {
    "base_environment": "",
    "client": "1"
   },
   "language": "python",
   "notebookMetadata": {
    "mostRecentlyExecutedCommandWithImplicitDF": {
     "commandId": 2450523778881117,
     "dataframes": [
      "_sqldf"
     ]
    },
    "pythonIndentUnit": 4
   },
   "notebookName": "1.Delta_Lake_Demo",
   "widgets": {}
  },
  "language_info": {
   "name": "python"
  }
 },
 "nbformat": 4,
 "nbformat_minor": 0
}