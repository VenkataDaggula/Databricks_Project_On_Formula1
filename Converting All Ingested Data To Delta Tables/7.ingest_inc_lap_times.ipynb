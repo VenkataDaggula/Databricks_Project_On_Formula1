{
 "cells": [
  {
   "cell_type": "code",
   "execution_count": 0,
   "metadata": {
    "application/vnd.databricks.v1+cell": {
     "cellMetadata": {
      "byteLimit": 2048000,
      "rowLimit": 10000
     },
     "inputWidgets": {},
     "nuid": "43c9c132-66de-471c-9ec5-e7883d72f2a2",
     "showTitle": false,
     "tableResultSettingsMap": {},
     "title": ""
    }
   },
   "outputs": [],
   "source": [
    "%run \"../includes/configuration\""
   ]
  },
  {
   "cell_type": "code",
   "execution_count": 0,
   "metadata": {
    "application/vnd.databricks.v1+cell": {
     "cellMetadata": {
      "byteLimit": 2048000,
      "rowLimit": 10000
     },
     "inputWidgets": {},
     "nuid": "274e20a1-1709-4aa3-8dce-4634cae22f1d",
     "showTitle": false,
     "tableResultSettingsMap": {},
     "title": ""
    }
   },
   "outputs": [],
   "source": [
    "%run \"../includes/common_functions\""
   ]
  },
  {
   "cell_type": "code",
   "execution_count": 0,
   "metadata": {
    "application/vnd.databricks.v1+cell": {
     "cellMetadata": {
      "byteLimit": 2048000,
      "rowLimit": 10000
     },
     "inputWidgets": {},
     "nuid": "830f6787-4349-448e-b63f-4ccb1a81bf4c",
     "showTitle": false,
     "tableResultSettingsMap": {},
     "title": ""
    }
   },
   "outputs": [],
   "source": [
    "dbutils.widgets.text(\"p_data_source\", \"\")\n",
    "v_data_source = dbutils.widgets.get(\"p_data_source\")"
   ]
  },
  {
   "cell_type": "code",
   "execution_count": 0,
   "metadata": {
    "application/vnd.databricks.v1+cell": {
     "cellMetadata": {
      "byteLimit": 2048000,
      "rowLimit": 10000
     },
     "inputWidgets": {},
     "nuid": "d5d09da3-2c45-4c85-951b-dea535f3beca",
     "showTitle": false,
     "tableResultSettingsMap": {},
     "title": ""
    }
   },
   "outputs": [],
   "source": [
    "dbutils.widgets.text(\"p_file_date\", \"2021-03-21\")\n",
    "v_file_date = dbutils.widgets.get(\"p_file_date\")"
   ]
  },
  {
   "cell_type": "code",
   "execution_count": 0,
   "metadata": {
    "application/vnd.databricks.v1+cell": {
     "cellMetadata": {
      "byteLimit": 2048000,
      "rowLimit": 10000
     },
     "inputWidgets": {},
     "nuid": "4e38a7b8-f3e0-4e83-adde-2e9e771fad63",
     "showTitle": false,
     "tableResultSettingsMap": {},
     "title": ""
    }
   },
   "outputs": [],
   "source": [
    "from pyspark.sql.types import StructType, StructField, IntegerType, StringType"
   ]
  },
  {
   "cell_type": "code",
   "execution_count": 0,
   "metadata": {
    "application/vnd.databricks.v1+cell": {
     "cellMetadata": {
      "byteLimit": 2048000,
      "rowLimit": 10000
     },
     "inputWidgets": {},
     "nuid": "8d4de769-dd68-4d03-acbe-b67ccf8887c1",
     "showTitle": false,
     "tableResultSettingsMap": {},
     "title": ""
    }
   },
   "outputs": [],
   "source": [
    "lap_times_schema = StructType(fields=[StructField(\"raceId\", IntegerType(), False),\n",
    "                                      StructField(\"driverId\", IntegerType(), True),\n",
    "                                      StructField(\"lap\", IntegerType(), True),\n",
    "                                      StructField(\"position\", IntegerType(), True),\n",
    "                                      StructField(\"time\", StringType(), True),\n",
    "                                      StructField(\"milliseconds\", IntegerType(), True)\n",
    "                                     ])\n"
   ]
  },
  {
   "cell_type": "code",
   "execution_count": 0,
   "metadata": {
    "application/vnd.databricks.v1+cell": {
     "cellMetadata": {
      "byteLimit": 2048000,
      "rowLimit": 10000
     },
     "inputWidgets": {},
     "nuid": "bd167240-c9b9-4c74-9e97-6d9d07199d9d",
     "showTitle": false,
     "tableResultSettingsMap": {},
     "title": ""
    }
   },
   "outputs": [],
   "source": [
    "lap_times_df = spark.read \\\n",
    ".schema(lap_times_schema) \\\n",
    ".csv(f\"{incraw_folder_path}/{v_file_date}/lap_times\")"
   ]
  },
  {
   "cell_type": "code",
   "execution_count": 0,
   "metadata": {
    "application/vnd.databricks.v1+cell": {
     "cellMetadata": {
      "byteLimit": 2048000,
      "rowLimit": 10000
     },
     "inputWidgets": {},
     "nuid": "24b3b6a0-13c7-41eb-8db1-7c48d126410c",
     "showTitle": false,
     "tableResultSettingsMap": {},
     "title": ""
    }
   },
   "outputs": [],
   "source": [
    "lap_times_with_ingestion_date_df = add_ingestion_date(lap_times_df)"
   ]
  },
  {
   "cell_type": "code",
   "execution_count": 0,
   "metadata": {
    "application/vnd.databricks.v1+cell": {
     "cellMetadata": {
      "byteLimit": 2048000,
      "rowLimit": 10000
     },
     "inputWidgets": {},
     "nuid": "9214aed9-70cd-48c8-8b88-e6f81802940c",
     "showTitle": false,
     "tableResultSettingsMap": {},
     "title": ""
    }
   },
   "outputs": [],
   "source": [
    "from pyspark.sql.functions import lit"
   ]
  },
  {
   "cell_type": "code",
   "execution_count": 0,
   "metadata": {
    "application/vnd.databricks.v1+cell": {
     "cellMetadata": {
      "byteLimit": 2048000,
      "rowLimit": 10000
     },
     "inputWidgets": {},
     "nuid": "88f8c3d0-3a96-4e5e-a522-8d7f934d4061",
     "showTitle": false,
     "tableResultSettingsMap": {},
     "title": ""
    }
   },
   "outputs": [],
   "source": [
    "final_df = lap_times_with_ingestion_date_df.withColumnRenamed(\"driverId\", \"driver_id\") \\\n",
    ".withColumnRenamed(\"raceId\", \"race_id\") \\\n",
    ".withColumn(\"ingestion_date\", current_timestamp()) \\\n",
    ".withColumn(\"data_source\", lit(v_data_source)) \\\n",
    ".withColumn(\"file_date\", lit(v_file_date))\n"
   ]
  },
  {
   "cell_type": "code",
   "execution_count": 0,
   "metadata": {
    "application/vnd.databricks.v1+cell": {
     "cellMetadata": {
      "byteLimit": 2048000,
      "rowLimit": 10000
     },
     "inputWidgets": {},
     "nuid": "363438ce-95d4-47c9-a877-673668fc5648",
     "showTitle": false,
     "tableResultSettingsMap": {},
     "title": ""
    }
   },
   "outputs": [],
   "source": [
    "merge_condition = \"tgt.race_id = src.race_id AND tgt.driver_id = src.driver_id AND tgt.lap = src.lap AND tgt.race_id = src.race_id\"\n",
    "merge_delta_data(final_df, 'f1_inc_processed', 'lap_times_dt', incprocessed_folder_path, merge_condition, 'race_id')"
   ]
  },
  {
   "cell_type": "code",
   "execution_count": 0,
   "metadata": {
    "application/vnd.databricks.v1+cell": {
     "cellMetadata": {
      "byteLimit": 2048000,
      "rowLimit": 10000
     },
     "inputWidgets": {},
     "nuid": "b3e630f8-1e64-433f-8fe9-ef758d1ca019",
     "showTitle": false,
     "tableResultSettingsMap": {},
     "title": ""
    }
   },
   "outputs": [
    {
     "output_type": "stream",
     "name": "stdout",
     "output_type": "stream",
     "text": [
      "+-------+---------+---+--------+--------+------------+--------------------+-----------+----------+\n|race_id|driver_id|lap|position|    time|milliseconds|      ingestion_date|data_source| file_date|\n+-------+---------+---+--------+--------+------------+--------------------+-----------+----------+\n|   1052|      830|  1|       1|1:58.245|      118245|2024-12-21 05:54:...|     Ergast|2021-03-28|\n|   1052|      830|  2|       1|2:22.406|      142406|2024-12-21 05:54:...|     Ergast|2021-03-28|\n|   1052|      830|  3|       1|2:38.001|      158001|2024-12-21 05:54:...|     Ergast|2021-03-28|\n|   1052|      830|  4|       1|1:44.343|      104343|2024-12-21 05:54:...|     Ergast|2021-03-28|\n|   1052|      830|  5|       1|1:44.629|      104629|2024-12-21 05:54:...|     Ergast|2021-03-28|\n|   1052|      830|  6|       1|1:35.982|       95982|2024-12-21 05:54:...|     Ergast|2021-03-28|\n|   1052|      830|  7|       1|1:35.902|       95902|2024-12-21 05:54:...|     Ergast|2021-03-28|\n|   1052|      830|  8|       1|1:36.032|       96032|2024-12-21 05:54:...|     Ergast|2021-03-28|\n|   1052|      830|  9|       1|1:36.012|       96012|2024-12-21 05:54:...|     Ergast|2021-03-28|\n|   1052|      830| 10|       1|1:36.175|       96175|2024-12-21 05:54:...|     Ergast|2021-03-28|\n|   1052|      830| 11|       1|1:36.179|       96179|2024-12-21 05:54:...|     Ergast|2021-03-28|\n|   1052|      830| 12|       1|1:36.592|       96592|2024-12-21 05:54:...|     Ergast|2021-03-28|\n|   1052|      830| 13|       1|1:36.291|       96291|2024-12-21 05:54:...|     Ergast|2021-03-28|\n|   1052|      830| 14|       1|1:36.880|       96880|2024-12-21 05:54:...|     Ergast|2021-03-28|\n|   1052|      830| 15|       1|1:36.924|       96924|2024-12-21 05:54:...|     Ergast|2021-03-28|\n|   1052|      830| 16|       1|1:37.033|       97033|2024-12-21 05:54:...|     Ergast|2021-03-28|\n|   1052|      830| 17|       1|1:39.153|       99153|2024-12-21 05:54:...|     Ergast|2021-03-28|\n|   1052|      830| 18|       2|1:55.532|      115532|2024-12-21 05:54:...|     Ergast|2021-03-28|\n|   1052|      830| 19|       2|1:34.421|       94421|2024-12-21 05:54:...|     Ergast|2021-03-28|\n|   1052|      830| 20|       2|1:34.870|       94870|2024-12-21 05:54:...|     Ergast|2021-03-28|\n+-------+---------+---+--------+--------+------------+--------------------+-----------+----------+\nonly showing top 20 rows\n\n"
     ]
    }
   ],
   "source": [
    "spark.sql(\"SELECT * FROM f1_inc_processed.lap_times_dt\").show()"
   ]
  },
  {
   "cell_type": "code",
   "execution_count": 0,
   "metadata": {
    "application/vnd.databricks.v1+cell": {
     "cellMetadata": {
      "byteLimit": 2048000,
      "rowLimit": 10000
     },
     "inputWidgets": {},
     "nuid": "a10e6a1f-121b-466e-bb81-fa264cc0a6bf",
     "showTitle": false,
     "tableResultSettingsMap": {},
     "title": ""
    }
   },
   "outputs": [],
   "source": [
    "dbutils.notebook.exit(\"Success\")"
   ]
  }
 ],
 "metadata": {
  "application/vnd.databricks.v1+notebook": {
   "computePreferences": null,
   "dashboards": [],
   "environmentMetadata": {
    "base_environment": "",
    "client": "1"
   },
   "language": "python",
   "notebookMetadata": {
    "pythonIndentUnit": 4
   },
   "notebookName": "7.ingest_inc_lap_times",
   "widgets": {
    "p_data_source": {
     "currentValue": "",
     "nuid": "715fa65e-46ce-4725-8f48-e7476764fb14",
     "typedWidgetInfo": {
      "autoCreated": false,
      "defaultValue": "",
      "label": null,
      "name": "p_data_source",
      "options": {
       "widgetDisplayType": "Text",
       "validationRegex": null
      },
      "parameterDataType": "String"
     },
     "widgetInfo": {
      "widgetType": "text",
      "defaultValue": "",
      "label": null,
      "name": "p_data_source",
      "options": {
       "widgetType": "text",
       "autoCreated": null,
       "validationRegex": null
      }
     }
    },
    "p_file_date": {
     "currentValue": "2021-03-21",
     "nuid": "f1060575-94ba-42ba-8d50-5fe5118562a3",
     "typedWidgetInfo": {
      "autoCreated": false,
      "defaultValue": "2021-03-21",
      "label": null,
      "name": "p_file_date",
      "options": {
       "widgetDisplayType": "Text",
       "validationRegex": null
      },
      "parameterDataType": "String"
     },
     "widgetInfo": {
      "widgetType": "text",
      "defaultValue": "2021-03-21",
      "label": null,
      "name": "p_file_date",
      "options": {
       "widgetType": "text",
       "autoCreated": null,
       "validationRegex": null
      }
     }
    }
   }
  },
  "language_info": {
   "name": "python"
  }
 },
 "nbformat": 4,
 "nbformat_minor": 0
}