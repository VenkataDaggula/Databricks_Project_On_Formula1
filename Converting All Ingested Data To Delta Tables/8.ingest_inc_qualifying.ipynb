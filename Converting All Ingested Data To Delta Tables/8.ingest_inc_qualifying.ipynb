{
 "cells": [
  {
   "cell_type": "code",
   "execution_count": 0,
   "metadata": {
    "application/vnd.databricks.v1+cell": {
     "cellMetadata": {
      "byteLimit": 2048000,
      "rowLimit": 10000
     },
     "inputWidgets": {},
     "nuid": "afc4a3f4-de83-4bf9-84cc-45cea1e1befb",
     "showTitle": false,
     "tableResultSettingsMap": {},
     "title": ""
    }
   },
   "outputs": [],
   "source": [
    "%run \"../includes/configuration\""
   ]
  },
  {
   "cell_type": "code",
   "execution_count": 0,
   "metadata": {
    "application/vnd.databricks.v1+cell": {
     "cellMetadata": {
      "byteLimit": 2048000,
      "rowLimit": 10000
     },
     "inputWidgets": {},
     "nuid": "59406b19-3dc4-47f9-a4de-3d0d4cccd3ce",
     "showTitle": false,
     "tableResultSettingsMap": {},
     "title": ""
    }
   },
   "outputs": [],
   "source": [
    "%run \"../includes/common_functions\""
   ]
  },
  {
   "cell_type": "code",
   "execution_count": 0,
   "metadata": {
    "application/vnd.databricks.v1+cell": {
     "cellMetadata": {
      "byteLimit": 2048000,
      "rowLimit": 10000
     },
     "inputWidgets": {},
     "nuid": "d04b3aec-06b2-4e7f-b35a-c5eafab5dbb5",
     "showTitle": false,
     "tableResultSettingsMap": {},
     "title": ""
    }
   },
   "outputs": [],
   "source": [
    "dbutils.widgets.text(\"p_data_source\", \"\")\n",
    "v_data_source = dbutils.widgets.get(\"p_data_source\")"
   ]
  },
  {
   "cell_type": "code",
   "execution_count": 0,
   "metadata": {
    "application/vnd.databricks.v1+cell": {
     "cellMetadata": {
      "byteLimit": 2048000,
      "rowLimit": 10000
     },
     "inputWidgets": {},
     "nuid": "b80eda24-77c9-43ec-a3af-0e253933fd12",
     "showTitle": false,
     "tableResultSettingsMap": {},
     "title": ""
    }
   },
   "outputs": [],
   "source": [
    "dbutils.widgets.text(\"p_file_date\", \"2021-03-21\")\n",
    "v_file_date = dbutils.widgets.get(\"p_file_date\")\n"
   ]
  },
  {
   "cell_type": "code",
   "execution_count": 0,
   "metadata": {
    "application/vnd.databricks.v1+cell": {
     "cellMetadata": {
      "byteLimit": 2048000,
      "rowLimit": 10000
     },
     "inputWidgets": {},
     "nuid": "fb2db19c-4789-473e-bb8a-804d4efe22af",
     "showTitle": false,
     "tableResultSettingsMap": {},
     "title": ""
    }
   },
   "outputs": [],
   "source": [
    "from pyspark.sql.types import StructType, StructField, IntegerType, StringType"
   ]
  },
  {
   "cell_type": "code",
   "execution_count": 0,
   "metadata": {
    "application/vnd.databricks.v1+cell": {
     "cellMetadata": {
      "byteLimit": 2048000,
      "rowLimit": 10000
     },
     "inputWidgets": {},
     "nuid": "1345b8f4-7308-4496-b711-65f1b657c631",
     "showTitle": false,
     "tableResultSettingsMap": {},
     "title": ""
    }
   },
   "outputs": [],
   "source": [
    "qualifying_schema = StructType(fields=[StructField(\"qualifyId\", IntegerType(), False),\n",
    "                                      StructField(\"raceId\", IntegerType(), True),\n",
    "                                      StructField(\"driverId\", IntegerType(), True),\n",
    "                                      StructField(\"constructorId\", IntegerType(), True),\n",
    "                                      StructField(\"number\", IntegerType(), True),\n",
    "                                      StructField(\"position\", IntegerType(), True),\n",
    "                                      StructField(\"q1\", StringType(), True),\n",
    "                                      StructField(\"q2\", StringType(), True),\n",
    "                                      StructField(\"q3\", StringType(), True),\n",
    "                                     ])"
   ]
  },
  {
   "cell_type": "code",
   "execution_count": 0,
   "metadata": {
    "application/vnd.databricks.v1+cell": {
     "cellMetadata": {
      "byteLimit": 2048000,
      "rowLimit": 10000
     },
     "inputWidgets": {},
     "nuid": "74ebbee7-7d82-4ed0-8bbe-3a28046fc364",
     "showTitle": false,
     "tableResultSettingsMap": {},
     "title": ""
    }
   },
   "outputs": [],
   "source": [
    "qualifying_df = spark.read \\\n",
    ".schema(qualifying_schema) \\\n",
    ".option(\"multiLine\", True) \\\n",
    ".json(f\"{incraw_folder_path}/{v_file_date}/qualifying\")"
   ]
  },
  {
   "cell_type": "code",
   "execution_count": 0,
   "metadata": {
    "application/vnd.databricks.v1+cell": {
     "cellMetadata": {
      "byteLimit": 2048000,
      "rowLimit": 10000
     },
     "inputWidgets": {},
     "nuid": "ab706f93-88c0-43d0-b9c6-1ca3c6f1d7f0",
     "showTitle": false,
     "tableResultSettingsMap": {},
     "title": ""
    }
   },
   "outputs": [],
   "source": [
    "qualifying_with_ingestion_date_df = add_ingestion_date(qualifying_df)"
   ]
  },
  {
   "cell_type": "code",
   "execution_count": 0,
   "metadata": {
    "application/vnd.databricks.v1+cell": {
     "cellMetadata": {
      "byteLimit": 2048000,
      "rowLimit": 10000
     },
     "inputWidgets": {},
     "nuid": "7fe8c7d5-4a05-47eb-ac63-5b9c92426354",
     "showTitle": false,
     "tableResultSettingsMap": {},
     "title": ""
    }
   },
   "outputs": [],
   "source": [
    "from pyspark.sql.functions import lit"
   ]
  },
  {
   "cell_type": "code",
   "execution_count": 0,
   "metadata": {
    "application/vnd.databricks.v1+cell": {
     "cellMetadata": {
      "byteLimit": 2048000,
      "rowLimit": 10000
     },
     "inputWidgets": {},
     "nuid": "86cb42af-7f4e-4f7e-9ca8-568e18981e9d",
     "showTitle": false,
     "tableResultSettingsMap": {},
     "title": ""
    }
   },
   "outputs": [],
   "source": [
    "final_df = qualifying_with_ingestion_date_df.withColumnRenamed(\"qualifyId\", \"qualify_id\") \\\n",
    ".withColumnRenamed(\"driverId\", \"driver_id\") \\\n",
    ".withColumnRenamed(\"raceId\", \"race_id\") \\\n",
    ".withColumnRenamed(\"constructorId\", \"constructor_id\") \\\n",
    ".withColumn(\"ingestion_date\", current_timestamp()) \\\n",
    ".withColumn(\"data_source\", lit(v_data_source)) \\\n",
    ".withColumn(\"file_date\", lit(v_file_date))"
   ]
  },
  {
   "cell_type": "code",
   "execution_count": 0,
   "metadata": {
    "application/vnd.databricks.v1+cell": {
     "cellMetadata": {
      "byteLimit": 2048000,
      "rowLimit": 10000
     },
     "inputWidgets": {},
     "nuid": "d7ade65a-0862-4f5e-832f-521f17aac3db",
     "showTitle": false,
     "tableResultSettingsMap": {},
     "title": ""
    }
   },
   "outputs": [],
   "source": [
    "merge_condition = \"tgt.qualify_id = src.qualify_id AND tgt.race_id = src.race_id\"\n",
    "merge_delta_data(final_df, 'f1_inc_processed', 'qualifying_dt', incprocessed_folder_path, merge_condition, 'race_id')"
   ]
  },
  {
   "cell_type": "code",
   "execution_count": 0,
   "metadata": {
    "application/vnd.databricks.v1+cell": {
     "cellMetadata": {
      "byteLimit": 2048000,
      "rowLimit": 10000
     },
     "inputWidgets": {},
     "nuid": "6e38bba9-3602-4f77-b8d7-398e17990f53",
     "showTitle": false,
     "tableResultSettingsMap": {},
     "title": ""
    }
   },
   "outputs": [
    {
     "output_type": "stream",
     "name": "stdout",
     "output_type": "stream",
     "text": [
      "+----------+-------+---------+--------------+------+--------+--------+--------+--------+--------------------+-----------+----------+\n|qualify_id|race_id|driver_id|constructor_id|number|position|      q1|      q2|      q3|      ingestion_date|data_source| file_date|\n+----------+-------+---------+--------------+------+--------+--------+--------+--------+--------------------+-----------+----------+\n|      8735|   1052|      830|             9|    33|       1|1:30.499|1:30.318|1:28.997|2024-12-21 05:54:...|     Ergast|2021-03-28|\n|      8736|   1052|        1|           131|    44|       2|1:30.617|1:30.085|1:29.385|2024-12-21 05:54:...|     Ergast|2021-03-28|\n|      8737|   1052|      822|           131|    77|       3|1:31.200|1:30.186|1:29.586|2024-12-21 05:54:...|     Ergast|2021-03-28|\n|      8738|   1052|      844|             6|    16|       4|1:30.691|1:30.010|1:29.678|2024-12-21 05:54:...|     Ergast|2021-03-28|\n|      8739|   1052|      842|           213|    10|       5|1:30.848|1:30.513|1:29.809|2024-12-21 05:54:...|     Ergast|2021-03-28|\n|      8740|   1052|      817|             1|     3|       6|1:30.795|1:30.222|1:29.927|2024-12-21 05:54:...|     Ergast|2021-03-28|\n|      8741|   1052|      846|             1|     4|       7|1:30.902|1:30.099|1:29.974|2024-12-21 05:54:...|     Ergast|2021-03-28|\n|      8742|   1052|      832|             6|    55|       8|1:31.653|1:30.009|1:30.215|2024-12-21 05:54:...|     Ergast|2021-03-28|\n|      8743|   1052|        4|           214|    14|       9|1:30.863|1:30.595|1:30.249|2024-12-21 05:54:...|     Ergast|2021-03-28|\n|      8744|   1052|      840|           117|    18|      10|1:31.261|1:30.624|1:30.601|2024-12-21 05:54:...|     Ergast|2021-03-28|\n|      8745|   1052|      815|             9|    11|      11|1:31.165|1:30.659|      \\N|2024-12-21 05:54:...|     Ergast|2021-03-28|\n|      8746|   1052|      841|            51|    99|      12|1:30.998|1:30.708|      \\N|2024-12-21 05:54:...|     Ergast|2021-03-28|\n|      8747|   1052|      852|           213|    22|      13|1:30.607|1:31.203|      \\N|2024-12-21 05:54:...|     Ergast|2021-03-28|\n|      8748|   1052|        8|            51|     7|      14|1:31.547|1:31.238|      \\N|2024-12-21 05:54:...|     Ergast|2021-03-28|\n|      8749|   1052|      847|             3|    63|      15|1:31.316|1:33.430|      \\N|2024-12-21 05:54:...|     Ergast|2021-03-28|\n|      8750|   1052|      839|           214|    31|      16|1:31.724|      \\N|      \\N|2024-12-21 05:54:...|     Ergast|2021-03-28|\n|      8751|   1052|      849|             3|     6|      17|1:31.936|      \\N|      \\N|2024-12-21 05:54:...|     Ergast|2021-03-28|\n|      8752|   1052|       20|           117|     5|      18|1:32.056|      \\N|      \\N|2024-12-21 05:54:...|     Ergast|2021-03-28|\n|      8753|   1052|      854|           210|    47|      19|1:32.449|      \\N|      \\N|2024-12-21 05:54:...|     Ergast|2021-03-28|\n|      8754|   1052|      853|           210|     9|      20|1:33.273|      \\N|      \\N|2024-12-21 05:54:...|     Ergast|2021-03-28|\n+----------+-------+---------+--------------+------+--------+--------+--------+--------+--------------------+-----------+----------+\nonly showing top 20 rows\n\n"
     ]
    }
   ],
   "source": [
    "spark.sql(\"SELECT * FROM f1_inc_processed.qualifying_dt\").show()"
   ]
  },
  {
   "cell_type": "code",
   "execution_count": 0,
   "metadata": {
    "application/vnd.databricks.v1+cell": {
     "cellMetadata": {
      "byteLimit": 2048000,
      "rowLimit": 10000
     },
     "inputWidgets": {},
     "nuid": "ad6cd2e2-c947-46db-91c3-5f067c1be1c0",
     "showTitle": false,
     "tableResultSettingsMap": {},
     "title": ""
    }
   },
   "outputs": [],
   "source": [
    "dbutils.notebook.exit(\"Success\")"
   ]
  }
 ],
 "metadata": {
  "application/vnd.databricks.v1+notebook": {
   "computePreferences": null,
   "dashboards": [],
   "environmentMetadata": {
    "base_environment": "",
    "client": "1"
   },
   "language": "python",
   "notebookMetadata": {
    "pythonIndentUnit": 4
   },
   "notebookName": "8.ingest_inc_qualifying",
   "widgets": {
    "p_data_source": {
     "currentValue": "",
     "nuid": "38b51d77-07e2-46cf-b4ba-cacf3ed3e792",
     "typedWidgetInfo": {
      "autoCreated": false,
      "defaultValue": "",
      "label": null,
      "name": "p_data_source",
      "options": {
       "widgetDisplayType": "Text",
       "validationRegex": null
      },
      "parameterDataType": "String"
     },
     "widgetInfo": {
      "widgetType": "text",
      "defaultValue": "",
      "label": null,
      "name": "p_data_source",
      "options": {
       "widgetType": "text",
       "autoCreated": null,
       "validationRegex": null
      }
     }
    },
    "p_file_date": {
     "currentValue": "2021-03-21",
     "nuid": "7d6eb9e6-12a2-424e-8de5-6b7bab8fb62d",
     "typedWidgetInfo": {
      "autoCreated": false,
      "defaultValue": "2021-03-21",
      "label": null,
      "name": "p_file_date",
      "options": {
       "widgetDisplayType": "Text",
       "validationRegex": null
      },
      "parameterDataType": "String"
     },
     "widgetInfo": {
      "widgetType": "text",
      "defaultValue": "2021-03-21",
      "label": null,
      "name": "p_file_date",
      "options": {
       "widgetType": "text",
       "autoCreated": null,
       "validationRegex": null
      }
     }
    }
   }
  },
  "language_info": {
   "name": "python"
  }
 },
 "nbformat": 4,
 "nbformat_minor": 0
}