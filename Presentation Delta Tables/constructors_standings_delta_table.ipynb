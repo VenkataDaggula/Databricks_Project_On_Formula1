{
 "cells": [
  {
   "cell_type": "code",
   "execution_count": 0,
   "metadata": {
    "application/vnd.databricks.v1+cell": {
     "cellMetadata": {
      "byteLimit": 2048000,
      "rowLimit": 10000
     },
     "inputWidgets": {},
     "nuid": "1b544a95-eb42-474a-9889-909bfa9758a4",
     "showTitle": false,
     "tableResultSettingsMap": {},
     "title": ""
    }
   },
   "outputs": [],
   "source": [
    "%run \"../includes/configuration\""
   ]
  },
  {
   "cell_type": "code",
   "execution_count": 0,
   "metadata": {
    "application/vnd.databricks.v1+cell": {
     "cellMetadata": {
      "byteLimit": 2048000,
      "rowLimit": 10000
     },
     "inputWidgets": {},
     "nuid": "8143ed34-1f6b-4b76-bfe7-6afe1c74d235",
     "showTitle": false,
     "tableResultSettingsMap": {},
     "title": ""
    }
   },
   "outputs": [],
   "source": [
    "%run \"../includes/common_functions\""
   ]
  },
  {
   "cell_type": "code",
   "execution_count": 0,
   "metadata": {
    "application/vnd.databricks.v1+cell": {
     "cellMetadata": {
      "byteLimit": 2048000,
      "rowLimit": 10000
     },
     "inputWidgets": {},
     "nuid": "ac079e8f-7781-479b-a576-0cfd983b0686",
     "showTitle": false,
     "tableResultSettingsMap": {},
     "title": ""
    }
   },
   "outputs": [],
   "source": [
    "dbutils.widgets.text(\"p_file_date\", \"2021-03-28\")\n",
    "v_file_date = dbutils.widgets.get(\"p_file_date\")"
   ]
  },
  {
   "cell_type": "code",
   "execution_count": 0,
   "metadata": {
    "application/vnd.databricks.v1+cell": {
     "cellMetadata": {
      "byteLimit": 2048000,
      "rowLimit": 10000
     },
     "inputWidgets": {},
     "nuid": "56d49ccb-cfa2-4cc2-bd50-345b6e8f407e",
     "showTitle": false,
     "tableResultSettingsMap": {},
     "title": ""
    }
   },
   "outputs": [],
   "source": [
    "race_results_df = spark.read.format(\"delta\").load(f\"{incpresentation_folder_path}/race_results_dt\") \\\n",
    ".filter(f\"file_date = '{v_file_date}'\") "
   ]
  },
  {
   "cell_type": "code",
   "execution_count": 0,
   "metadata": {
    "application/vnd.databricks.v1+cell": {
     "cellMetadata": {
      "byteLimit": 2048000,
      "rowLimit": 10000
     },
     "inputWidgets": {},
     "nuid": "12a70ee7-81d5-4a89-9fb6-910d8c824e34",
     "showTitle": false,
     "tableResultSettingsMap": {},
     "title": ""
    }
   },
   "outputs": [],
   "source": [
    "race_year_list = df_column_to_list(race_results_df, 'race_year')"
   ]
  },
  {
   "cell_type": "code",
   "execution_count": 0,
   "metadata": {
    "application/vnd.databricks.v1+cell": {
     "cellMetadata": {
      "byteLimit": 2048000,
      "rowLimit": 10000
     },
     "inputWidgets": {},
     "nuid": "3552de6a-1a23-410f-b139-2dfa80659972",
     "showTitle": false,
     "tableResultSettingsMap": {},
     "title": ""
    }
   },
   "outputs": [],
   "source": [
    "from pyspark.sql.functions import col\n",
    "\n",
    "race_results_df = spark.read.format(\"delta\").load(f\"{incpresentation_folder_path}/race_results_dt\") \\\n",
    ".filter(col(\"race_year\").isin(race_year_list))"
   ]
  },
  {
   "cell_type": "code",
   "execution_count": 0,
   "metadata": {
    "application/vnd.databricks.v1+cell": {
     "cellMetadata": {
      "byteLimit": 2048000,
      "rowLimit": 10000
     },
     "inputWidgets": {},
     "nuid": "c201cf3f-f88b-4768-a92a-572cad27538a",
     "showTitle": false,
     "tableResultSettingsMap": {},
     "title": ""
    }
   },
   "outputs": [],
   "source": [
    "from pyspark.sql.functions import sum, when, count, col\n",
    "\n",
    "constructor_standings_df = race_results_df \\\n",
    ".groupBy(\"race_year\", \"team\") \\\n",
    ".agg(sum(\"points\").alias(\"total_points\"),\n",
    "     count(when(col(\"position\") == 1, True)).alias(\"wins\"))"
   ]
  },
  {
   "cell_type": "code",
   "execution_count": 0,
   "metadata": {
    "application/vnd.databricks.v1+cell": {
     "cellMetadata": {
      "byteLimit": 2048000,
      "rowLimit": 10000
     },
     "inputWidgets": {},
     "nuid": "88c913af-71c8-4ddb-865a-9d735a659da9",
     "showTitle": false,
     "tableResultSettingsMap": {},
     "title": ""
    }
   },
   "outputs": [],
   "source": [
    "from pyspark.sql.window import Window\n",
    "from pyspark.sql.functions import desc, rank, asc\n",
    "\n",
    "constructor_rank_spec = Window.partitionBy(\"race_year\").orderBy(desc(\"total_points\"), desc(\"wins\"))\n",
    "final_df = constructor_standings_df.withColumn(\"rank\", rank().over(constructor_rank_spec))"
   ]
  },
  {
   "cell_type": "code",
   "execution_count": 0,
   "metadata": {
    "application/vnd.databricks.v1+cell": {
     "cellMetadata": {
      "byteLimit": 2048000,
      "rowLimit": 10000
     },
     "inputWidgets": {},
     "nuid": "b780b380-be27-406f-b895-981e85909f79",
     "showTitle": false,
     "tableResultSettingsMap": {},
     "title": ""
    }
   },
   "outputs": [
    {
     "output_type": "display_data",
     "data": {
      "text/html": [
       "<style scoped>\n",
       "  .table-result-container {\n",
       "    max-height: 300px;\n",
       "    overflow: auto;\n",
       "  }\n",
       "  table, th, td {\n",
       "    border: 1px solid black;\n",
       "    border-collapse: collapse;\n",
       "  }\n",
       "  th, td {\n",
       "    padding: 5px;\n",
       "  }\n",
       "  th {\n",
       "    text-align: left;\n",
       "  }\n",
       "</style><div class='table-result-container'><table class='table-result'><thead style='background-color: white'><tr><th>race_year</th><th>team</th><th>total_points</th><th>wins</th><th>rank</th></tr></thead><tbody><tr><td>2021</td><td>Mercedes</td><td>60.0</td><td>1</td><td>1</td></tr><tr><td>2021</td><td>Red Bull</td><td>53.0</td><td>1</td><td>2</td></tr><tr><td>2021</td><td>McLaren</td><td>41.0</td><td>0</td><td>3</td></tr><tr><td>2021</td><td>Ferrari</td><td>34.0</td><td>0</td><td>4</td></tr><tr><td>2021</td><td>AlphaTauri</td><td>8.0</td><td>0</td><td>5</td></tr><tr><td>2021</td><td>Aston Martin</td><td>5.0</td><td>0</td><td>6</td></tr><tr><td>2021</td><td>Alpine F1 Team</td><td>3.0</td><td>0</td><td>7</td></tr><tr><td>2021</td><td>Alfa Romeo</td><td>0.0</td><td>0</td><td>8</td></tr><tr><td>2021</td><td>Williams</td><td>0.0</td><td>0</td><td>8</td></tr><tr><td>2021</td><td>Haas F1 Team</td><td>0.0</td><td>0</td><td>8</td></tr></tbody></table></div>"
      ]
     },
     "metadata": {
      "application/vnd.databricks.v1+output": {
       "addedWidgets": {},
       "aggData": [],
       "aggError": "",
       "aggOverflow": false,
       "aggSchema": [],
       "aggSeriesLimitReached": false,
       "aggType": "",
       "arguments": {},
       "columnCustomDisplayInfos": {},
       "data": [
        [
         2021,
         "Mercedes",
         60.0,
         1,
         1
        ],
        [
         2021,
         "Red Bull",
         53.0,
         1,
         2
        ],
        [
         2021,
         "McLaren",
         41.0,
         0,
         3
        ],
        [
         2021,
         "Ferrari",
         34.0,
         0,
         4
        ],
        [
         2021,
         "AlphaTauri",
         8.0,
         0,
         5
        ],
        [
         2021,
         "Aston Martin",
         5.0,
         0,
         6
        ],
        [
         2021,
         "Alpine F1 Team",
         3.0,
         0,
         7
        ],
        [
         2021,
         "Alfa Romeo",
         0.0,
         0,
         8
        ],
        [
         2021,
         "Williams",
         0.0,
         0,
         8
        ],
        [
         2021,
         "Haas F1 Team",
         0.0,
         0,
         8
        ]
       ],
       "datasetInfos": [],
       "dbfsResultPath": null,
       "isJsonSchema": true,
       "metadata": {},
       "overflow": false,
       "plotOptions": {
        "customPlotOptions": {},
        "displayType": "table",
        "pivotAggregation": null,
        "pivotColumns": null,
        "xColumns": null,
        "yColumns": null
       },
       "removedWidgets": [],
       "schema": [
        {
         "metadata": "{}",
         "name": "race_year",
         "type": "\"integer\""
        },
        {
         "metadata": "{}",
         "name": "team",
         "type": "\"string\""
        },
        {
         "metadata": "{}",
         "name": "total_points",
         "type": "\"double\""
        },
        {
         "metadata": "{}",
         "name": "wins",
         "type": "\"long\""
        },
        {
         "metadata": "{}",
         "name": "rank",
         "type": "\"integer\""
        }
       ],
       "type": "table"
      }
     },
     "output_type": "display_data"
    }
   ],
   "source": [
    "display(final_df)"
   ]
  },
  {
   "cell_type": "code",
   "execution_count": 0,
   "metadata": {
    "application/vnd.databricks.v1+cell": {
     "cellMetadata": {
      "byteLimit": 2048000,
      "rowLimit": 10000
     },
     "inputWidgets": {},
     "nuid": "1d7a7d2d-76c1-4728-9f10-680ebfdbf4ea",
     "showTitle": false,
     "tableResultSettingsMap": {},
     "title": ""
    }
   },
   "outputs": [],
   "source": [
    "merge_condition = \"tgt.team = src.team AND tgt.race_year = src.race_year\"\n",
    "merge_delta_data(final_df, 'f1_inc_presentation', 'constructor_standings_dt', incpresentation_folder_path, merge_condition, 'race_year')\n"
   ]
  }
 ],
 "metadata": {
  "application/vnd.databricks.v1+notebook": {
   "computePreferences": null,
   "dashboards": [],
   "environmentMetadata": {
    "base_environment": "",
    "client": "1"
   },
   "language": "python",
   "notebookMetadata": {
    "pythonIndentUnit": 4
   },
   "notebookName": "constructors_standings_delta_table",
   "widgets": {
    "p_file_date": {
     "currentValue": "2021-03-28",
     "nuid": "bfc8bc42-5096-401f-b1f9-d98cd2eef876",
     "typedWidgetInfo": {
      "autoCreated": false,
      "defaultValue": "2021-03-28",
      "label": null,
      "name": "p_file_date",
      "options": {
       "widgetDisplayType": "Text",
       "validationRegex": null
      },
      "parameterDataType": "String"
     },
     "widgetInfo": {
      "widgetType": "text",
      "defaultValue": "2021-03-28",
      "label": null,
      "name": "p_file_date",
      "options": {
       "widgetType": "text",
       "autoCreated": null,
       "validationRegex": null
      }
     }
    }
   }
  },
  "language_info": {
   "name": "python"
  }
 },
 "nbformat": 4,
 "nbformat_minor": 0
}