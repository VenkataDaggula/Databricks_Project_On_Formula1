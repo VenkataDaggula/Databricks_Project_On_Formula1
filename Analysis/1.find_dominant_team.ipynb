{
 "cells": [
  {
   "cell_type": "code",
   "execution_count": 0,
   "metadata": {
    "application/vnd.databricks.v1+cell": {
     "cellMetadata": {
      "byteLimit": 2048000,
      "implicitDf": true,
      "rowLimit": 10000
     },
     "inputWidgets": {},
     "nuid": "4d30f380-abf2-4f67-8d3b-b4c69b9ecd90",
     "showTitle": false,
     "tableResultSettingsMap": {},
     "title": ""
    }
   },
   "outputs": [
    {
     "output_type": "display_data",
     "data": {
      "text/html": [
       "<style scoped>\n",
       "  .table-result-container {\n",
       "    max-height: 300px;\n",
       "    overflow: auto;\n",
       "  }\n",
       "  table, th, td {\n",
       "    border: 1px solid black;\n",
       "    border-collapse: collapse;\n",
       "  }\n",
       "  th, td {\n",
       "    padding: 5px;\n",
       "  }\n",
       "  th {\n",
       "    text-align: left;\n",
       "  }\n",
       "</style><div class='table-result-container'><table class='table-result'><thead style='background-color: white'><tr><th>team_name</th><th>total_points</th><th>total_races</th><th>avg_points</th></tr></thead><tbody><tr><td>Mercedes</td><td>2931</td><td>385</td><td>7.612987012987013</td></tr><tr><td>Ferrari</td><td>10500</td><td>1478</td><td>7.104194857916103</td></tr><tr><td>McLaren</td><td>6865</td><td>1032</td><td>6.6521317829457365</td></tr><tr><td>Red Bull</td><td>2851</td><td>433</td><td>6.584295612009238</td></tr><tr><td>Williams</td><td>4759</td><td>745</td><td>6.387919463087249</td></tr><tr><td>Benetton</td><td>1806</td><td>296</td><td>6.101351351351352</td></tr><tr><td>Team Lotus</td><td>2100</td><td>352</td><td>5.965909090909091</td></tr><tr><td>Cooper-Climax</td><td>772</td><td>130</td><td>5.938461538461539</td></tr><tr><td>Brabham</td><td>1373</td><td>235</td><td>5.842553191489362</td></tr><tr><td>BRM</td><td>1212</td><td>215</td><td>5.637209302325582</td></tr><tr><td>Renault</td><td>2105</td><td>385</td><td>5.467532467532467</td></tr><tr><td>Maserati</td><td>950</td><td>179</td><td>5.307262569832402</td></tr><tr><td>Tyrrell</td><td>1749</td><td>339</td><td>5.15929203539823</td></tr><tr><td>Jordan</td><td>882</td><td>184</td><td>4.793478260869565</td></tr><tr><td>Ligier</td><td>1134</td><td>248</td><td>4.57258064516129</td></tr><tr><td>BAR</td><td>509</td><td>112</td><td>4.544642857142857</td></tr><tr><td>Toyota</td><td>535</td><td>130</td><td>4.115384615384615</td></tr><tr><td>March</td><td>550</td><td>136</td><td>4.044117647058823</td></tr><tr><td>Arrows</td><td>730</td><td>196</td><td>3.7244897959183674</td></tr><tr><td>Sauber</td><td>1058</td><td>298</td><td>3.5503355704697985</td></tr><tr><td>Force India</td><td>742</td><td>211</td><td>3.5165876777251186</td></tr><tr><td>Minardi</td><td>330</td><td>113</td><td>2.920353982300885</td></tr><tr><td>Toro Rosso</td><td>438</td><td>158</td><td>2.7721518987341773</td></tr></tbody></table></div>"
      ]
     },
     "metadata": {
      "application/vnd.databricks.v1+output": {
       "addedWidgets": {},
       "aggData": [],
       "aggError": "",
       "aggOverflow": false,
       "aggSchema": [],
       "aggSeriesLimitReached": false,
       "aggType": "",
       "arguments": {},
       "columnCustomDisplayInfos": {},
       "data": [
        [
         "Mercedes",
         2931,
         385,
         7.612987012987013
        ],
        [
         "Ferrari",
         10500,
         1478,
         7.104194857916103
        ],
        [
         "McLaren",
         6865,
         1032,
         6.6521317829457365
        ],
        [
         "Red Bull",
         2851,
         433,
         6.584295612009238
        ],
        [
         "Williams",
         4759,
         745,
         6.387919463087249
        ],
        [
         "Benetton",
         1806,
         296,
         6.101351351351352
        ],
        [
         "Team Lotus",
         2100,
         352,
         5.965909090909091
        ],
        [
         "Cooper-Climax",
         772,
         130,
         5.938461538461539
        ],
        [
         "Brabham",
         1373,
         235,
         5.842553191489362
        ],
        [
         "BRM",
         1212,
         215,
         5.637209302325582
        ],
        [
         "Renault",
         2105,
         385,
         5.467532467532467
        ],
        [
         "Maserati",
         950,
         179,
         5.307262569832402
        ],
        [
         "Tyrrell",
         1749,
         339,
         5.15929203539823
        ],
        [
         "Jordan",
         882,
         184,
         4.793478260869565
        ],
        [
         "Ligier",
         1134,
         248,
         4.57258064516129
        ],
        [
         "BAR",
         509,
         112,
         4.544642857142857
        ],
        [
         "Toyota",
         535,
         130,
         4.115384615384615
        ],
        [
         "March",
         550,
         136,
         4.044117647058823
        ],
        [
         "Arrows",
         730,
         196,
         3.7244897959183674
        ],
        [
         "Sauber",
         1058,
         298,
         3.5503355704697985
        ],
        [
         "Force India",
         742,
         211,
         3.5165876777251186
        ],
        [
         "Minardi",
         330,
         113,
         2.920353982300885
        ],
        [
         "Toro Rosso",
         438,
         158,
         2.7721518987341773
        ]
       ],
       "datasetInfos": [],
       "dbfsResultPath": null,
       "isJsonSchema": true,
       "metadata": {
        "createTempViewForImplicitDf": true,
        "dataframeName": "_sqldf",
        "executionCount": 2
       },
       "overflow": false,
       "plotOptions": {
        "customPlotOptions": {},
        "displayType": "table",
        "pivotAggregation": null,
        "pivotColumns": null,
        "xColumns": null,
        "yColumns": null
       },
       "removedWidgets": [],
       "schema": [
        {
         "metadata": "{}",
         "name": "team_name",
         "type": "\"string\""
        },
        {
         "metadata": "{}",
         "name": "total_points",
         "type": "\"long\""
        },
        {
         "metadata": "{}",
         "name": "total_races",
         "type": "\"long\""
        },
        {
         "metadata": "{}",
         "name": "avg_points",
         "type": "\"double\""
        }
       ],
       "type": "table"
      }
     },
     "output_type": "display_data"
    }
   ],
   "source": [
    "%sql\n",
    "select team_name,sum(caluclated_points) as total_points,count(*) as total_races,avg(caluclated_points) as avg_points\n",
    "from f1_presentation.calculated_race_results\n",
    "group by team_name\n",
    "having count(*) > 100\n",
    "order by avg_points desc"
   ]
  },
  {
   "cell_type": "code",
   "execution_count": 0,
   "metadata": {
    "application/vnd.databricks.v1+cell": {
     "cellMetadata": {
      "byteLimit": 2048000,
      "implicitDf": true,
      "rowLimit": 10000
     },
     "inputWidgets": {},
     "nuid": "0bd30295-cca1-469a-a052-c17b903ab6f6",
     "showTitle": false,
     "tableResultSettingsMap": {},
     "title": ""
    }
   },
   "outputs": [
    {
     "output_type": "display_data",
     "data": {
      "text/html": [
       "<style scoped>\n",
       "  .table-result-container {\n",
       "    max-height: 300px;\n",
       "    overflow: auto;\n",
       "  }\n",
       "  table, th, td {\n",
       "    border: 1px solid black;\n",
       "    border-collapse: collapse;\n",
       "  }\n",
       "  th, td {\n",
       "    padding: 5px;\n",
       "  }\n",
       "  th {\n",
       "    text-align: left;\n",
       "  }\n",
       "</style><div class='table-result-container'><table class='table-result'><thead style='background-color: white'><tr><th>team_name</th><th>total_points</th><th>total_races</th><th>avg_points</th></tr></thead><tbody><tr><td>Mercedes</td><td>2580</td><td>331</td><td>7.794561933534744</td></tr><tr><td>Red Bull</td><td>2201</td><td>313</td><td>7.031948881789138</td></tr><tr><td>Ferrari</td><td>2095</td><td>314</td><td>6.671974522292993</td></tr><tr><td>McLaren</td><td>984</td><td>204</td><td>4.823529411764706</td></tr><tr><td>Williams</td><td>531</td><td>125</td><td>4.248</td></tr><tr><td>Force India</td><td>671</td><td>189</td><td>3.5502645502645502</td></tr><tr><td>Toro Rosso</td><td>316</td><td>119</td><td>2.6554621848739495</td></tr></tbody></table></div>"
      ]
     },
     "metadata": {
      "application/vnd.databricks.v1+output": {
       "addedWidgets": {},
       "aggData": [],
       "aggError": "",
       "aggOverflow": false,
       "aggSchema": [],
       "aggSeriesLimitReached": false,
       "aggType": "",
       "arguments": {},
       "columnCustomDisplayInfos": {},
       "data": [
        [
         "Mercedes",
         2580,
         331,
         7.794561933534744
        ],
        [
         "Red Bull",
         2201,
         313,
         7.031948881789138
        ],
        [
         "Ferrari",
         2095,
         314,
         6.671974522292993
        ],
        [
         "McLaren",
         984,
         204,
         4.823529411764706
        ],
        [
         "Williams",
         531,
         125,
         4.248
        ],
        [
         "Force India",
         671,
         189,
         3.5502645502645502
        ],
        [
         "Toro Rosso",
         316,
         119,
         2.6554621848739495
        ]
       ],
       "datasetInfos": [],
       "dbfsResultPath": null,
       "isJsonSchema": true,
       "metadata": {
        "createTempViewForImplicitDf": true,
        "dataframeName": "_sqldf",
        "executionCount": 3
       },
       "overflow": false,
       "plotOptions": {
        "customPlotOptions": {},
        "displayType": "table",
        "pivotAggregation": null,
        "pivotColumns": null,
        "xColumns": null,
        "yColumns": null
       },
       "removedWidgets": [],
       "schema": [
        {
         "metadata": "{}",
         "name": "team_name",
         "type": "\"string\""
        },
        {
         "metadata": "{}",
         "name": "total_points",
         "type": "\"long\""
        },
        {
         "metadata": "{}",
         "name": "total_races",
         "type": "\"long\""
        },
        {
         "metadata": "{}",
         "name": "avg_points",
         "type": "\"double\""
        }
       ],
       "type": "table"
      }
     },
     "output_type": "display_data"
    }
   ],
   "source": [
    "%sql\n",
    "select team_name,sum(caluclated_points) as total_points,count(*) as total_races,avg(caluclated_points) as avg_points\n",
    "from f1_presentation.calculated_race_results\n",
    "where race_year between 2011 and 2020\n",
    "group by team_name\n",
    "having count(*) > 100\n",
    "order by avg_points desc"
   ]
  },
  {
   "cell_type": "code",
   "execution_count": 0,
   "metadata": {
    "application/vnd.databricks.v1+cell": {
     "cellMetadata": {
      "byteLimit": 2048000,
      "implicitDf": true,
      "rowLimit": 10000
     },
     "inputWidgets": {},
     "nuid": "66e7de3e-0fa8-4105-be32-6acef668e627",
     "showTitle": false,
     "tableResultSettingsMap": {},
     "title": ""
    }
   },
   "outputs": [
    {
     "output_type": "display_data",
     "data": {
      "text/html": [
       "<style scoped>\n",
       "  .table-result-container {\n",
       "    max-height: 300px;\n",
       "    overflow: auto;\n",
       "  }\n",
       "  table, th, td {\n",
       "    border: 1px solid black;\n",
       "    border-collapse: collapse;\n",
       "  }\n",
       "  th, td {\n",
       "    padding: 5px;\n",
       "  }\n",
       "  th {\n",
       "    text-align: left;\n",
       "  }\n",
       "</style><div class='table-result-container'><table class='table-result'><thead style='background-color: white'><tr><th>team_name</th><th>total_points</th><th>total_races</th><th>avg_points</th></tr></thead><tbody><tr><td>Ferrari</td><td>2125</td><td>279</td><td>7.616487455197133</td></tr><tr><td>McLaren</td><td>1729</td><td>244</td><td>7.086065573770492</td></tr><tr><td>Renault</td><td>1187</td><td>201</td><td>5.9054726368159205</td></tr><tr><td>Red Bull</td><td>650</td><td>120</td><td>5.416666666666667</td></tr><tr><td>Williams</td><td>962</td><td>179</td><td>5.374301675977653</td></tr><tr><td>Toyota</td><td>535</td><td>130</td><td>4.115384615384615</td></tr><tr><td>Sauber</td><td>369</td><td>107</td><td>3.4485981308411215</td></tr></tbody></table></div>"
      ]
     },
     "metadata": {
      "application/vnd.databricks.v1+output": {
       "addedWidgets": {},
       "aggData": [],
       "aggError": "",
       "aggOverflow": false,
       "aggSchema": [],
       "aggSeriesLimitReached": false,
       "aggType": "",
       "arguments": {},
       "columnCustomDisplayInfos": {},
       "data": [
        [
         "Ferrari",
         2125,
         279,
         7.616487455197133
        ],
        [
         "McLaren",
         1729,
         244,
         7.086065573770492
        ],
        [
         "Renault",
         1187,
         201,
         5.9054726368159205
        ],
        [
         "Red Bull",
         650,
         120,
         5.416666666666667
        ],
        [
         "Williams",
         962,
         179,
         5.374301675977653
        ],
        [
         "Toyota",
         535,
         130,
         4.115384615384615
        ],
        [
         "Sauber",
         369,
         107,
         3.4485981308411215
        ]
       ],
       "datasetInfos": [],
       "dbfsResultPath": null,
       "isJsonSchema": true,
       "metadata": {
        "createTempViewForImplicitDf": true,
        "dataframeName": "_sqldf",
        "executionCount": 4
       },
       "overflow": false,
       "plotOptions": {
        "customPlotOptions": {},
        "displayType": "table",
        "pivotAggregation": null,
        "pivotColumns": null,
        "xColumns": null,
        "yColumns": null
       },
       "removedWidgets": [],
       "schema": [
        {
         "metadata": "{}",
         "name": "team_name",
         "type": "\"string\""
        },
        {
         "metadata": "{}",
         "name": "total_points",
         "type": "\"long\""
        },
        {
         "metadata": "{}",
         "name": "total_races",
         "type": "\"long\""
        },
        {
         "metadata": "{}",
         "name": "avg_points",
         "type": "\"double\""
        }
       ],
       "type": "table"
      }
     },
     "output_type": "display_data"
    }
   ],
   "source": [
    "%sql\n",
    "select team_name,sum(caluclated_points) as total_points,count(*) as total_races,avg(caluclated_points) as avg_points\n",
    "from f1_presentation.calculated_race_results\n",
    "where race_year between 2001 and 2010\n",
    "group by team_name\n",
    "having count(*) > 100\n",
    "order by avg_points desc"
   ]
  }
 ],
 "metadata": {
  "application/vnd.databricks.v1+notebook": {
   "computePreferences": null,
   "dashboards": [],
   "environmentMetadata": {
    "base_environment": "",
    "client": "1"
   },
   "language": "python",
   "notebookMetadata": {
    "mostRecentlyExecutedCommandWithImplicitDF": {
     "commandId": 2545036716198486,
     "dataframes": [
      "_sqldf"
     ]
    },
    "pythonIndentUnit": 4
   },
   "notebookName": "1.find_dominant_team",
   "widgets": {}
  },
  "language_info": {
   "name": "python"
  }
 },
 "nbformat": 4,
 "nbformat_minor": 0
}