{
 "cells": [
  {
   "cell_type": "code",
   "execution_count": 0,
   "metadata": {
    "application/vnd.databricks.v1+cell": {
     "cellMetadata": {
      "byteLimit": 2048000,
      "implicitDf": true,
      "rowLimit": 10000
     },
     "inputWidgets": {},
     "nuid": "d4a45bd7-9dd3-4a09-8eb7-4e2ef4ae3001",
     "showTitle": false,
     "tableResultSettingsMap": {},
     "title": ""
    }
   },
   "outputs": [
    {
     "output_type": "display_data",
     "data": {
      "text/html": [
       "<style scoped>\n",
       "  .table-result-container {\n",
       "    max-height: 300px;\n",
       "    overflow: auto;\n",
       "  }\n",
       "  table, th, td {\n",
       "    border: 1px solid black;\n",
       "    border-collapse: collapse;\n",
       "  }\n",
       "  th, td {\n",
       "    padding: 5px;\n",
       "  }\n",
       "  th {\n",
       "    text-align: left;\n",
       "  }\n",
       "</style><div class='table-result-container'><table class='table-result'><thead style='background-color: white'><tr><th>driver_name</th><th>total_points</th><th>total_races</th><th>avg_points</th></tr></thead><tbody><tr><td>Alain Prost</td><td>1156</td><td>138</td><td>8.376811594202898</td></tr><tr><td>Ayrton Senna</td><td>869</td><td>104</td><td>8.35576923076923</td></tr><tr><td>Jackie Stewart</td><td>507</td><td>61</td><td>8.311475409836065</td></tr><tr><td>Lewis Hamilton</td><td>1903</td><td>232</td><td>8.202586206896552</td></tr><tr><td>Michael Schumacher</td><td>1796</td><td>226</td><td>7.946902654867257</td></tr><tr><td>Nigel Mansell</td><td>713</td><td>90</td><td>7.9222222222222225</td></tr><tr><td>Niki Lauda</td><td>639</td><td>81</td><td>7.888888888888889</td></tr><tr><td>Sebastian Vettel</td><td>1565</td><td>203</td><td>7.70935960591133</td></tr><tr><td>Damon Hill</td><td>520</td><td>70</td><td>7.428571428571429</td></tr><tr><td>Juan Pablo Montoya</td><td>427</td><td>58</td><td>7.362068965517241</td></tr><tr><td>Nelson Piquet</td><td>845</td><td>115</td><td>7.3478260869565215</td></tr><tr><td>Mika Häkkinen</td><td>694</td><td>96</td><td>7.229166666666667</td></tr><tr><td>Jack Brabham</td><td>473</td><td>67</td><td>7.059701492537314</td></tr><tr><td>Bruce McLaren</td><td>404</td><td>58</td><td>6.9655172413793105</td></tr><tr><td>Denny Hulme</td><td>497</td><td>72</td><td>6.902777777777778</td></tr><tr><td>Max Verstappen</td><td>605</td><td>88</td><td>6.875</td></tr><tr><td>Carlos Reutemann</td><td>585</td><td>86</td><td>6.8023255813953485</td></tr><tr><td>Jody Scheckter</td><td>461</td><td>68</td><td>6.779411764705882</td></tr><tr><td>Valtteri Bottas</td><td>793</td><td>117</td><td>6.777777777777778</td></tr><tr><td>Fernando Alonso</td><td>1411</td><td>209</td><td>6.751196172248804</td></tr><tr><td>Gerhard Berger</td><td>755</td><td>112</td><td>6.741071428571429</td></tr><tr><td>Emerson Fittipaldi</td><td>506</td><td>76</td><td>6.657894736842105</td></tr><tr><td>Alan Jones</td><td>354</td><td>54</td><td>6.555555555555555</td></tr><tr><td>Kimi Räikkönen</td><td>1479</td><td>227</td><td>6.515418502202643</td></tr><tr><td>Jacky Ickx</td><td>354</td><td>56</td><td>6.321428571428571</td></tr><tr><td>David Coulthard</td><td>922</td><td>146</td><td>6.315068493150685</td></tr><tr><td>Graham Hill</td><td>542</td><td>86</td><td>6.3023255813953485</td></tr><tr><td>Jacques Laffite</td><td>501</td><td>80</td><td>6.2625</td></tr><tr><td>Clay Regazzoni</td><td>444</td><td>71</td><td>6.253521126760563</td></tr><tr><td>Ronnie Peterson</td><td>375</td><td>60</td><td>6.25</td></tr><tr><td>Nico Rosberg</td><td>899</td><td>144</td><td>6.243055555555555</td></tr><tr><td>Mario Andretti</td><td>342</td><td>55</td><td>6.218181818181818</td></tr><tr><td>Keke Rosberg</td><td>320</td><td>52</td><td>6.153846153846154</td></tr><tr><td>Rubens Barrichello</td><td>1029</td><td>172</td><td>5.982558139534884</td></tr><tr><td>Elio de Angelis</td><td>319</td><td>54</td><td>5.907407407407407</td></tr><tr><td>Ralf Schumacher</td><td>617</td><td>105</td><td>5.876190476190477</td></tr><tr><td>Eddie Irvine</td><td>440</td><td>76</td><td>5.7894736842105265</td></tr><tr><td>Daniel Ricciardo</td><td>639</td><td>111</td><td>5.756756756756757</td></tr><tr><td>Michele Alboreto</td><td>423</td><td>74</td><td>5.716216216216216</td></tr><tr><td>Mark Webber</td><td>753</td><td>132</td><td>5.704545454545454</td></tr><tr><td>Riccardo Patrese</td><td>614</td><td>108</td><td>5.685185185185185</td></tr><tr><td>Jenson Button</td><td>1020</td><td>180</td><td>5.666666666666667</td></tr><tr><td>Jean Alesi</td><td>591</td><td>106</td><td>5.5754716981132075</td></tr><tr><td>René Arnoux</td><td>377</td><td>68</td><td>5.544117647058823</td></tr><tr><td>Heinz-Harald Frentzen</td><td>451</td><td>82</td><td>5.5</td></tr><tr><td>John Watson</td><td>412</td><td>75</td><td>5.493333333333333</td></tr><tr><td>Robert Kubica</td><td>284</td><td>52</td><td>5.461538461538462</td></tr><tr><td>Jacques Villeneuve</td><td>461</td><td>86</td><td>5.3604651162790695</td></tr><tr><td>Patrick Tambay</td><td>277</td><td>52</td><td>5.326923076923077</td></tr><tr><td>Felipe Massa</td><td>960</td><td>187</td><td>5.133689839572193</td></tr><tr><td>Giancarlo Fisichella</td><td>556</td><td>112</td><td>4.964285714285714</td></tr><tr><td>Thierry Boutsen</td><td>382</td><td>79</td><td>4.8354430379746836</td></tr><tr><td>Martin Brundle</td><td>328</td><td>69</td><td>4.753623188405797</td></tr><tr><td>Jarno Trulli</td><td>496</td><td>106</td><td>4.679245283018868</td></tr><tr><td>Johnny Herbert</td><td>317</td><td>70</td><td>4.5285714285714285</td></tr><tr><td>Derek Warwick</td><td>249</td><td>55</td><td>4.527272727272727</td></tr><tr><td>Nick Heidfeld</td><td>447</td><td>101</td><td>4.425742574257426</td></tr><tr><td>Andrea de Cesaris</td><td>219</td><td>52</td><td>4.211538461538462</td></tr><tr><td>Olivier Panis</td><td>269</td><td>65</td><td>4.138461538461539</td></tr><tr><td>Romain Grosjean</td><td>244</td><td>59</td><td>4.135593220338983</td></tr><tr><td>Sergio Pérez</td><td>446</td><td>116</td><td>3.8448275862068964</td></tr><tr><td>Carlos Sainz</td><td>244</td><td>65</td><td>3.753846153846154</td></tr><tr><td>Nico Hülkenberg</td><td>345</td><td>97</td><td>3.556701030927835</td></tr></tbody></table></div>"
      ]
     },
     "metadata": {
      "application/vnd.databricks.v1+output": {
       "addedWidgets": {},
       "aggData": [],
       "aggError": "",
       "aggOverflow": false,
       "aggSchema": [],
       "aggSeriesLimitReached": false,
       "aggType": "",
       "arguments": {},
       "columnCustomDisplayInfos": {},
       "data": [
        [
         "Alain Prost",
         1156,
         138,
         8.376811594202898
        ],
        [
         "Ayrton Senna",
         869,
         104,
         8.35576923076923
        ],
        [
         "Jackie Stewart",
         507,
         61,
         8.311475409836065
        ],
        [
         "Lewis Hamilton",
         1903,
         232,
         8.202586206896552
        ],
        [
         "Michael Schumacher",
         1796,
         226,
         7.946902654867257
        ],
        [
         "Nigel Mansell",
         713,
         90,
         7.9222222222222225
        ],
        [
         "Niki Lauda",
         639,
         81,
         7.888888888888889
        ],
        [
         "Sebastian Vettel",
         1565,
         203,
         7.70935960591133
        ],
        [
         "Damon Hill",
         520,
         70,
         7.428571428571429
        ],
        [
         "Juan Pablo Montoya",
         427,
         58,
         7.362068965517241
        ],
        [
         "Nelson Piquet",
         845,
         115,
         7.3478260869565215
        ],
        [
         "Mika Häkkinen",
         694,
         96,
         7.229166666666667
        ],
        [
         "Jack Brabham",
         473,
         67,
         7.059701492537314
        ],
        [
         "Bruce McLaren",
         404,
         58,
         6.9655172413793105
        ],
        [
         "Denny Hulme",
         497,
         72,
         6.902777777777778
        ],
        [
         "Max Verstappen",
         605,
         88,
         6.875
        ],
        [
         "Carlos Reutemann",
         585,
         86,
         6.8023255813953485
        ],
        [
         "Jody Scheckter",
         461,
         68,
         6.779411764705882
        ],
        [
         "Valtteri Bottas",
         793,
         117,
         6.777777777777778
        ],
        [
         "Fernando Alonso",
         1411,
         209,
         6.751196172248804
        ],
        [
         "Gerhard Berger",
         755,
         112,
         6.741071428571429
        ],
        [
         "Emerson Fittipaldi",
         506,
         76,
         6.657894736842105
        ],
        [
         "Alan Jones",
         354,
         54,
         6.555555555555555
        ],
        [
         "Kimi Räikkönen",
         1479,
         227,
         6.515418502202643
        ],
        [
         "Jacky Ickx",
         354,
         56,
         6.321428571428571
        ],
        [
         "David Coulthard",
         922,
         146,
         6.315068493150685
        ],
        [
         "Graham Hill",
         542,
         86,
         6.3023255813953485
        ],
        [
         "Jacques Laffite",
         501,
         80,
         6.2625
        ],
        [
         "Clay Regazzoni",
         444,
         71,
         6.253521126760563
        ],
        [
         "Ronnie Peterson",
         375,
         60,
         6.25
        ],
        [
         "Nico Rosberg",
         899,
         144,
         6.243055555555555
        ],
        [
         "Mario Andretti",
         342,
         55,
         6.218181818181818
        ],
        [
         "Keke Rosberg",
         320,
         52,
         6.153846153846154
        ],
        [
         "Rubens Barrichello",
         1029,
         172,
         5.982558139534884
        ],
        [
         "Elio de Angelis",
         319,
         54,
         5.907407407407407
        ],
        [
         "Ralf Schumacher",
         617,
         105,
         5.876190476190477
        ],
        [
         "Eddie Irvine",
         440,
         76,
         5.7894736842105265
        ],
        [
         "Daniel Ricciardo",
         639,
         111,
         5.756756756756757
        ],
        [
         "Michele Alboreto",
         423,
         74,
         5.716216216216216
        ],
        [
         "Mark Webber",
         753,
         132,
         5.704545454545454
        ],
        [
         "Riccardo Patrese",
         614,
         108,
         5.685185185185185
        ],
        [
         "Jenson Button",
         1020,
         180,
         5.666666666666667
        ],
        [
         "Jean Alesi",
         591,
         106,
         5.5754716981132075
        ],
        [
         "René Arnoux",
         377,
         68,
         5.544117647058823
        ],
        [
         "Heinz-Harald Frentzen",
         451,
         82,
         5.5
        ],
        [
         "John Watson",
         412,
         75,
         5.493333333333333
        ],
        [
         "Robert Kubica",
         284,
         52,
         5.461538461538462
        ],
        [
         "Jacques Villeneuve",
         461,
         86,
         5.3604651162790695
        ],
        [
         "Patrick Tambay",
         277,
         52,
         5.326923076923077
        ],
        [
         "Felipe Massa",
         960,
         187,
         5.133689839572193
        ],
        [
         "Giancarlo Fisichella",
         556,
         112,
         4.964285714285714
        ],
        [
         "Thierry Boutsen",
         382,
         79,
         4.8354430379746836
        ],
        [
         "Martin Brundle",
         328,
         69,
         4.753623188405797
        ],
        [
         "Jarno Trulli",
         496,
         106,
         4.679245283018868
        ],
        [
         "Johnny Herbert",
         317,
         70,
         4.5285714285714285
        ],
        [
         "Derek Warwick",
         249,
         55,
         4.527272727272727
        ],
        [
         "Nick Heidfeld",
         447,
         101,
         4.425742574257426
        ],
        [
         "Andrea de Cesaris",
         219,
         52,
         4.211538461538462
        ],
        [
         "Olivier Panis",
         269,
         65,
         4.138461538461539
        ],
        [
         "Romain Grosjean",
         244,
         59,
         4.135593220338983
        ],
        [
         "Sergio Pérez",
         446,
         116,
         3.8448275862068964
        ],
        [
         "Carlos Sainz",
         244,
         65,
         3.753846153846154
        ],
        [
         "Nico Hülkenberg",
         345,
         97,
         3.556701030927835
        ]
       ],
       "datasetInfos": [],
       "dbfsResultPath": null,
       "isJsonSchema": true,
       "metadata": {
        "createTempViewForImplicitDf": true,
        "dataframeName": "_sqldf",
        "executionCount": 8
       },
       "overflow": false,
       "plotOptions": {
        "customPlotOptions": {},
        "displayType": "table",
        "pivotAggregation": null,
        "pivotColumns": null,
        "xColumns": null,
        "yColumns": null
       },
       "removedWidgets": [],
       "schema": [
        {
         "metadata": "{}",
         "name": "driver_name",
         "type": "\"string\""
        },
        {
         "metadata": "{}",
         "name": "total_points",
         "type": "\"long\""
        },
        {
         "metadata": "{}",
         "name": "total_races",
         "type": "\"long\""
        },
        {
         "metadata": "{}",
         "name": "avg_points",
         "type": "\"double\""
        }
       ],
       "type": "table"
      }
     },
     "output_type": "display_data"
    }
   ],
   "source": [
    "%sql\n",
    "select driver_name,sum(caluclated_points) as total_points,count(*) as total_races,avg(caluclated_points) as avg_points\n",
    "from f1_presentation.calculated_race_results\n",
    "group by driver_name\n",
    "having count(*) > 50\n",
    "order by avg_points desc"
   ]
  },
  {
   "cell_type": "code",
   "execution_count": 0,
   "metadata": {
    "application/vnd.databricks.v1+cell": {
     "cellMetadata": {
      "byteLimit": 2048000,
      "implicitDf": true,
      "rowLimit": 10000
     },
     "inputWidgets": {},
     "nuid": "312636ba-a013-441b-95a4-4e2c71c98c7f",
     "showTitle": false,
     "tableResultSettingsMap": {},
     "title": ""
    }
   },
   "outputs": [
    {
     "output_type": "display_data",
     "data": {
      "text/html": [
       "<style scoped>\n",
       "  .table-result-container {\n",
       "    max-height: 300px;\n",
       "    overflow: auto;\n",
       "  }\n",
       "  table, th, td {\n",
       "    border: 1px solid black;\n",
       "    border-collapse: collapse;\n",
       "  }\n",
       "  th, td {\n",
       "    padding: 5px;\n",
       "  }\n",
       "  th {\n",
       "    text-align: left;\n",
       "  }\n",
       "</style><div class='table-result-container'><table class='table-result'><thead style='background-color: white'><tr><th>driver_name</th><th>total_points</th><th>total_races</th><th>avg_points</th></tr></thead><tbody><tr><td>Lewis Hamilton</td><td>1478</td><td>177</td><td>8.350282485875706</td></tr><tr><td>Sebastian Vettel</td><td>1282</td><td>164</td><td>7.817073170731708</td></tr><tr><td>Nico Rosberg</td><td>673</td><td>93</td><td>7.236559139784946</td></tr><tr><td>Max Verstappen</td><td>605</td><td>88</td><td>6.875</td></tr><tr><td>Valtteri Bottas</td><td>793</td><td>117</td><td>6.777777777777778</td></tr><tr><td>Fernando Alonso</td><td>584</td><td>95</td><td>6.147368421052631</td></tr><tr><td>Kimi Räikkönen</td><td>721</td><td>121</td><td>5.958677685950414</td></tr><tr><td>Daniel Ricciardo</td><td>639</td><td>111</td><td>5.756756756756757</td></tr><tr><td>Jenson Button</td><td>377</td><td>69</td><td>5.463768115942029</td></tr><tr><td>Felipe Massa</td><td>427</td><td>94</td><td>4.542553191489362</td></tr><tr><td>Romain Grosjean</td><td>244</td><td>59</td><td>4.135593220338983</td></tr><tr><td>Sergio Pérez</td><td>446</td><td>116</td><td>3.8448275862068964</td></tr><tr><td>Carlos Sainz</td><td>244</td><td>65</td><td>3.753846153846154</td></tr><tr><td>Nico Hülkenberg</td><td>329</td><td>90</td><td>3.6555555555555554</td></tr></tbody></table></div>"
      ]
     },
     "metadata": {
      "application/vnd.databricks.v1+output": {
       "addedWidgets": {},
       "aggData": [],
       "aggError": "",
       "aggOverflow": false,
       "aggSchema": [],
       "aggSeriesLimitReached": false,
       "aggType": "",
       "arguments": {},
       "columnCustomDisplayInfos": {},
       "data": [
        [
         "Lewis Hamilton",
         1478,
         177,
         8.350282485875706
        ],
        [
         "Sebastian Vettel",
         1282,
         164,
         7.817073170731708
        ],
        [
         "Nico Rosberg",
         673,
         93,
         7.236559139784946
        ],
        [
         "Max Verstappen",
         605,
         88,
         6.875
        ],
        [
         "Valtteri Bottas",
         793,
         117,
         6.777777777777778
        ],
        [
         "Fernando Alonso",
         584,
         95,
         6.147368421052631
        ],
        [
         "Kimi Räikkönen",
         721,
         121,
         5.958677685950414
        ],
        [
         "Daniel Ricciardo",
         639,
         111,
         5.756756756756757
        ],
        [
         "Jenson Button",
         377,
         69,
         5.463768115942029
        ],
        [
         "Felipe Massa",
         427,
         94,
         4.542553191489362
        ],
        [
         "Romain Grosjean",
         244,
         59,
         4.135593220338983
        ],
        [
         "Sergio Pérez",
         446,
         116,
         3.8448275862068964
        ],
        [
         "Carlos Sainz",
         244,
         65,
         3.753846153846154
        ],
        [
         "Nico Hülkenberg",
         329,
         90,
         3.6555555555555554
        ]
       ],
       "datasetInfos": [],
       "dbfsResultPath": null,
       "isJsonSchema": true,
       "metadata": {
        "createTempViewForImplicitDf": true,
        "dataframeName": "_sqldf",
        "executionCount": 9
       },
       "overflow": false,
       "plotOptions": {
        "customPlotOptions": {},
        "displayType": "table",
        "pivotAggregation": null,
        "pivotColumns": null,
        "xColumns": null,
        "yColumns": null
       },
       "removedWidgets": [],
       "schema": [
        {
         "metadata": "{}",
         "name": "driver_name",
         "type": "\"string\""
        },
        {
         "metadata": "{}",
         "name": "total_points",
         "type": "\"long\""
        },
        {
         "metadata": "{}",
         "name": "total_races",
         "type": "\"long\""
        },
        {
         "metadata": "{}",
         "name": "avg_points",
         "type": "\"double\""
        }
       ],
       "type": "table"
      }
     },
     "output_type": "display_data"
    }
   ],
   "source": [
    "%sql\n",
    "select driver_name,sum(caluclated_points) as total_points,count(*) as total_races,avg(caluclated_points) as avg_points\n",
    "from f1_presentation.calculated_race_results\n",
    "where race_year between 2011 and 2020\n",
    "group by driver_name\n",
    "having count(*) > 50\n",
    "order by avg_points desc"
   ]
  },
  {
   "cell_type": "code",
   "execution_count": 0,
   "metadata": {
    "application/vnd.databricks.v1+cell": {
     "cellMetadata": {
      "byteLimit": 2048000,
      "implicitDf": true,
      "rowLimit": 10000
     },
     "inputWidgets": {},
     "nuid": "627969d6-bd80-48af-908d-a6ab7c54d3d0",
     "showTitle": false,
     "tableResultSettingsMap": {},
     "title": ""
    }
   },
   "outputs": [
    {
     "output_type": "display_data",
     "data": {
      "text/html": [
       "<style scoped>\n",
       "  .table-result-container {\n",
       "    max-height: 300px;\n",
       "    overflow: auto;\n",
       "  }\n",
       "  table, th, td {\n",
       "    border: 1px solid black;\n",
       "    border-collapse: collapse;\n",
       "  }\n",
       "  th, td {\n",
       "    padding: 5px;\n",
       "  }\n",
       "  th {\n",
       "    text-align: left;\n",
       "  }\n",
       "</style><div class='table-result-container'><table class='table-result'><thead style='background-color: white'><tr><th>driver_name</th><th>total_points</th><th>total_races</th><th>avg_points</th></tr></thead><tbody><tr><td>Michael Schumacher</td><td>832</td><td>104</td><td>8.0</td></tr><tr><td>Lewis Hamilton</td><td>425</td><td>55</td><td>7.7272727272727275</td></tr><tr><td>Juan Pablo Montoya</td><td>427</td><td>58</td><td>7.362068965517241</td></tr><tr><td>Fernando Alonso</td><td>827</td><td>114</td><td>7.254385964912281</td></tr><tr><td>Kimi Räikkönen</td><td>758</td><td>106</td><td>7.150943396226415</td></tr><tr><td>Rubens Barrichello</td><td>696</td><td>113</td><td>6.15929203539823</td></tr><tr><td>Jenson Button</td><td>601</td><td>102</td><td>5.892156862745098</td></tr><tr><td>Felipe Massa</td><td>533</td><td>93</td><td>5.731182795698925</td></tr><tr><td>Ralf Schumacher</td><td>399</td><td>70</td><td>5.7</td></tr><tr><td>Robert Kubica</td><td>283</td><td>51</td><td>5.549019607843137</td></tr><tr><td>David Coulthard</td><td>424</td><td>79</td><td>5.367088607594937</td></tr><tr><td>Jarno Trulli</td><td>409</td><td>83</td><td>4.927710843373494</td></tr><tr><td>Mark Webber</td><td>411</td><td>84</td><td>4.892857142857143</td></tr><tr><td>Giancarlo Fisichella</td><td>361</td><td>74</td><td>4.878378378378378</td></tr><tr><td>Nick Heidfeld</td><td>418</td><td>92</td><td>4.543478260869565</td></tr><tr><td>Nico Rosberg</td><td>226</td><td>51</td><td>4.431372549019608</td></tr></tbody></table></div>"
      ]
     },
     "metadata": {
      "application/vnd.databricks.v1+output": {
       "addedWidgets": {},
       "aggData": [],
       "aggError": "",
       "aggOverflow": false,
       "aggSchema": [],
       "aggSeriesLimitReached": false,
       "aggType": "",
       "arguments": {},
       "columnCustomDisplayInfos": {},
       "data": [
        [
         "Michael Schumacher",
         832,
         104,
         8.0
        ],
        [
         "Lewis Hamilton",
         425,
         55,
         7.7272727272727275
        ],
        [
         "Juan Pablo Montoya",
         427,
         58,
         7.362068965517241
        ],
        [
         "Fernando Alonso",
         827,
         114,
         7.254385964912281
        ],
        [
         "Kimi Räikkönen",
         758,
         106,
         7.150943396226415
        ],
        [
         "Rubens Barrichello",
         696,
         113,
         6.15929203539823
        ],
        [
         "Jenson Button",
         601,
         102,
         5.892156862745098
        ],
        [
         "Felipe Massa",
         533,
         93,
         5.731182795698925
        ],
        [
         "Ralf Schumacher",
         399,
         70,
         5.7
        ],
        [
         "Robert Kubica",
         283,
         51,
         5.549019607843137
        ],
        [
         "David Coulthard",
         424,
         79,
         5.367088607594937
        ],
        [
         "Jarno Trulli",
         409,
         83,
         4.927710843373494
        ],
        [
         "Mark Webber",
         411,
         84,
         4.892857142857143
        ],
        [
         "Giancarlo Fisichella",
         361,
         74,
         4.878378378378378
        ],
        [
         "Nick Heidfeld",
         418,
         92,
         4.543478260869565
        ],
        [
         "Nico Rosberg",
         226,
         51,
         4.431372549019608
        ]
       ],
       "datasetInfos": [],
       "dbfsResultPath": null,
       "isJsonSchema": true,
       "metadata": {
        "createTempViewForImplicitDf": true,
        "dataframeName": "_sqldf",
        "executionCount": 10
       },
       "overflow": false,
       "plotOptions": {
        "customPlotOptions": {},
        "displayType": "table",
        "pivotAggregation": null,
        "pivotColumns": null,
        "xColumns": null,
        "yColumns": null
       },
       "removedWidgets": [],
       "schema": [
        {
         "metadata": "{}",
         "name": "driver_name",
         "type": "\"string\""
        },
        {
         "metadata": "{}",
         "name": "total_points",
         "type": "\"long\""
        },
        {
         "metadata": "{}",
         "name": "total_races",
         "type": "\"long\""
        },
        {
         "metadata": "{}",
         "name": "avg_points",
         "type": "\"double\""
        }
       ],
       "type": "table"
      }
     },
     "output_type": "display_data"
    }
   ],
   "source": [
    "%sql\n",
    "select driver_name,sum(caluclated_points) as total_points,count(*) as total_races,avg(caluclated_points) as avg_points\n",
    "from f1_presentation.calculated_race_results\n",
    "where race_year between 2001 and 2010\n",
    "group by driver_name\n",
    "having count(*) > 50\n",
    "order by avg_points desc"
   ]
  }
 ],
 "metadata": {
  "application/vnd.databricks.v1+notebook": {
   "computePreferences": null,
   "dashboards": [],
   "environmentMetadata": {
    "base_environment": "",
    "client": "1"
   },
   "language": "python",
   "notebookMetadata": {
    "mostRecentlyExecutedCommandWithImplicitDF": {
     "commandId": 2545036716198481,
     "dataframes": [
      "_sqldf"
     ]
    },
    "pythonIndentUnit": 4
   },
   "notebookName": "0.find_dominant_drivers",
   "widgets": {}
  },
  "language_info": {
   "name": "python"
  }
 },
 "nbformat": 4,
 "nbformat_minor": 0
}