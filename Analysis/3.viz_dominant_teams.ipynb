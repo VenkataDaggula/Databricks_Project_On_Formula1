{
 "cells": [
  {
   "cell_type": "code",
   "execution_count": 0,
   "metadata": {
    "application/vnd.databricks.v1+cell": {
     "cellMetadata": {
      "byteLimit": 2048000,
      "implicitDf": true,
      "rowLimit": 10000
     },
     "inputWidgets": {},
     "nuid": "4031e277-4c42-4a9f-b063-27a104e50596",
     "showTitle": false,
     "tableResultSettingsMap": {},
     "title": ""
    }
   },
   "outputs": [
    {
     "output_type": "display_data",
     "data": {
      "text/html": [
       "<style scoped>\n",
       "  .table-result-container {\n",
       "    max-height: 300px;\n",
       "    overflow: auto;\n",
       "  }\n",
       "  table, th, td {\n",
       "    border: 1px solid black;\n",
       "    border-collapse: collapse;\n",
       "  }\n",
       "  th, td {\n",
       "    padding: 5px;\n",
       "  }\n",
       "  th {\n",
       "    text-align: left;\n",
       "  }\n",
       "</style><div class='table-result-container'><table class='table-result'><thead style='background-color: white'><tr></tr></thead><tbody></tbody></table></div>"
      ]
     },
     "metadata": {
      "application/vnd.databricks.v1+output": {
       "addedWidgets": {},
       "aggData": [],
       "aggError": "",
       "aggOverflow": false,
       "aggSchema": [],
       "aggSeriesLimitReached": false,
       "aggType": "",
       "arguments": {},
       "columnCustomDisplayInfos": {},
       "data": [],
       "datasetInfos": [],
       "dbfsResultPath": null,
       "isJsonSchema": true,
       "metadata": {
        "dataframeName": null
       },
       "overflow": false,
       "plotOptions": {
        "customPlotOptions": {},
        "displayType": "table",
        "pivotAggregation": null,
        "pivotColumns": null,
        "xColumns": null,
        "yColumns": null
       },
       "removedWidgets": [],
       "schema": [],
       "type": "table"
      }
     },
     "output_type": "display_data"
    }
   ],
   "source": [
    "%sql\n",
    "create or replace temp view v_dominant_teams as\n",
    "select team_name,sum(caluclated_points) as total_points,count(*) as total_races,avg(caluclated_points) as avg_points,rank() over (order by avg(caluclated_points)  desc) as team_rank\n",
    "from f1_presentation.calculated_race_results\n",
    "group by team_name\n",
    "having count(*) >= 100\n",
    "order by avg_points desc"
   ]
  },
  {
   "cell_type": "code",
   "execution_count": 0,
   "metadata": {
    "application/vnd.databricks.v1+cell": {
     "cellMetadata": {
      "byteLimit": 2048000,
      "implicitDf": true,
      "rowLimit": 10000
     },
     "inputWidgets": {},
     "nuid": "2963d96f-9886-4f65-a2f9-7c6062a58461",
     "showTitle": false,
     "tableResultSettingsMap": {},
     "title": ""
    }
   },
   "outputs": [
    {
     "output_type": "display_data",
     "data": {
      "text/html": [
       "<style scoped>\n",
       "  .table-result-container {\n",
       "    max-height: 300px;\n",
       "    overflow: auto;\n",
       "  }\n",
       "  table, th, td {\n",
       "    border: 1px solid black;\n",
       "    border-collapse: collapse;\n",
       "  }\n",
       "  th, td {\n",
       "    padding: 5px;\n",
       "  }\n",
       "  th {\n",
       "    text-align: left;\n",
       "  }\n",
       "</style><div class='table-result-container'><table class='table-result'><thead style='background-color: white'><tr><th>race_year</th><th>team_name</th><th>total_points</th><th>total_races</th><th>avg_points</th><th>rank</th></tr></thead><tbody><tr><td>1950</td><td>Ferrari</td><td>57</td><td>8</td><td>7.125</td><td>108</td></tr><tr><td>1951</td><td>Ferrari</td><td>168</td><td>22</td><td>7.636363636363637</td><td>62</td></tr><tr><td>1951</td><td>BRM</td><td>10</td><td>2</td><td>5.0</td><td>213</td></tr><tr><td>1952</td><td>Ferrari</td><td>202</td><td>28</td><td>7.214285714285714</td><td>100</td></tr><tr><td>1953</td><td>Ferrari</td><td>230</td><td>35</td><td>6.571428571428571</td><td>145</td></tr><tr><td>1954</td><td>Mercedes</td><td>96</td><td>12</td><td>8.0</td><td>43</td></tr><tr><td>1954</td><td>Ferrari</td><td>175</td><td>25</td><td>7.0</td><td>111</td></tr><tr><td>1955</td><td>Mercedes</td><td>124</td><td>15</td><td>8.266666666666667</td><td>34</td></tr><tr><td>1955</td><td>Ferrari</td><td>131</td><td>21</td><td>6.238095238095238</td><td>157</td></tr><tr><td>1956</td><td>Ferrari</td><td>172</td><td>23</td><td>7.478260869565218</td><td>77</td></tr><tr><td>1957</td><td>Ferrari</td><td>130</td><td>20</td><td>6.5</td><td>148</td></tr><tr><td>1958</td><td>Ferrari</td><td>159</td><td>21</td><td>7.571428571428571</td><td>69</td></tr><tr><td>1958</td><td>BRM</td><td>60</td><td>9</td><td>6.666666666666667</td><td>136</td></tr><tr><td>1958</td><td>Team Lotus</td><td>28</td><td>7</td><td>4.0</td><td>247</td></tr><tr><td>1959</td><td>Cooper-Climax</td><td>165</td><td>22</td><td>7.5</td><td>74</td></tr><tr><td>1959</td><td>Ferrari</td><td>132</td><td>19</td><td>6.947368421052632</td><td>120</td></tr><tr><td>1959</td><td>BRM</td><td>62</td><td>11</td><td>5.636363636363637</td><td>192</td></tr><tr><td>1959</td><td>Team Lotus</td><td>22</td><td>5</td><td>4.4</td><td>233</td></tr><tr><td>1960</td><td>Cooper-Climax</td><td>213</td><td>32</td><td>6.65625</td><td>137</td></tr><tr><td>1960</td><td>Team Lotus</td><td>109</td><td>17</td><td>6.411764705882353</td><td>150</td></tr><tr><td>1960</td><td>Ferrari</td><td>102</td><td>17</td><td>6.0</td><td>168</td></tr><tr><td>1960</td><td>BRM</td><td>29</td><td>6</td><td>4.833333333333333</td><td>222</td></tr><tr><td>1961</td><td>Ferrari</td><td>152</td><td>19</td><td>8.0</td><td>43</td></tr><tr><td>1961</td><td>BRM</td><td>32</td><td>7</td><td>4.571428571428571</td><td>229</td></tr><tr><td>1961</td><td>Cooper-Climax</td><td>92</td><td>21</td><td>4.380952380952381</td><td>235</td></tr><tr><td>1962</td><td>BRM</td><td>98</td><td>14</td><td>7.0</td><td>111</td></tr><tr><td>1962</td><td>Brabham</td><td>14</td><td>2</td><td>7.0</td><td>111</td></tr><tr><td>1962</td><td>Ferrari</td><td>73</td><td>12</td><td>6.083333333333333</td><td>165</td></tr><tr><td>1962</td><td>Cooper-Climax</td><td>101</td><td>17</td><td>5.9411764705882355</td><td>172</td></tr><tr><td>1963</td><td>BRM</td><td>123</td><td>17</td><td>7.235294117647059</td><td>96</td></tr><tr><td>1963</td><td>Brabham</td><td>70</td><td>10</td><td>7.0</td><td>111</td></tr><tr><td>1963</td><td>Ferrari</td><td>53</td><td>8</td><td>6.625</td><td>138</td></tr><tr><td>1963</td><td>Cooper-Climax</td><td>97</td><td>18</td><td>5.388888888888889</td><td>201</td></tr><tr><td>1964</td><td>Ferrari</td><td>105</td><td>15</td><td>7.0</td><td>111</td></tr><tr><td>1964</td><td>BRM</td><td>144</td><td>23</td><td>6.260869565217392</td><td>156</td></tr><tr><td>1964</td><td>Cooper-Climax</td><td>53</td><td>11</td><td>4.818181818181818</td><td>224</td></tr><tr><td>1965</td><td>BRM</td><td>133</td><td>17</td><td>7.823529411764706</td><td>50</td></tr><tr><td>1965</td><td>Ferrari</td><td>86</td><td>16</td><td>5.375</td><td>204</td></tr><tr><td>1965</td><td>Cooper-Climax</td><td>42</td><td>8</td><td>5.25</td><td>207</td></tr><tr><td>1966</td><td>Ferrari</td><td>65</td><td>8</td><td>8.125</td><td>38</td></tr><tr><td>1966</td><td>BRM</td><td>68</td><td>10</td><td>6.8</td><td>128</td></tr><tr><td>1967</td><td>Cooper-Climax</td><td>9</td><td>1</td><td>9.0</td><td>8</td></tr><tr><td>1967</td><td>Ferrari</td><td>64</td><td>11</td><td>5.818181818181818</td><td>182</td></tr><tr><td>1967</td><td>BRM</td><td>66</td><td>13</td><td>5.076923076923077</td><td>210</td></tr><tr><td>1968</td><td>Ferrari</td><td>70</td><td>10</td><td>7.0</td><td>111</td></tr><tr><td>1968</td><td>BRM</td><td>72</td><td>12</td><td>6.0</td><td>168</td></tr><tr><td>1969</td><td>Ferrari</td><td>23</td><td>4</td><td>5.75</td><td>184</td></tr><tr><td>1969</td><td>BRM</td><td>25</td><td>5</td><td>5.0</td><td>213</td></tr><tr><td>1970</td><td>Ferrari</td><td>119</td><td>15</td><td>7.933333333333334</td><td>45</td></tr><tr><td>1970</td><td>Brabham</td><td>67</td><td>10</td><td>6.7</td><td>134</td></tr><tr><td>1970</td><td>Team Lotus</td><td>118</td><td>18</td><td>6.555555555555555</td><td>146</td></tr><tr><td>1970</td><td>BRM</td><td>57</td><td>11</td><td>5.181818181818182</td><td>209</td></tr><tr><td>1971</td><td>Ferrari</td><td>79</td><td>11</td><td>7.181818181818182</td><td>106</td></tr><tr><td>1971</td><td>BRM</td><td>90</td><td>19</td><td>4.7368421052631575</td><td>225</td></tr><tr><td>1971</td><td>McLaren</td><td>46</td><td>11</td><td>4.181818181818182</td><td>243</td></tr><tr><td>1971</td><td>Brabham</td><td>31</td><td>9</td><td>3.4444444444444446</td><td>265</td></tr><tr><td>1972</td><td>Team Lotus</td><td>80</td><td>11</td><td>7.2727272727272725</td><td>92</td></tr><tr><td>1972</td><td>McLaren</td><td>136</td><td>20</td><td>6.8</td><td>128</td></tr><tr><td>1972</td><td>Ferrari</td><td>99</td><td>15</td><td>6.6</td><td>141</td></tr><tr><td>1972</td><td>Brabham</td><td>48</td><td>13</td><td>3.6923076923076925</td><td>257</td></tr><tr><td>1972</td><td>BRM</td><td>46</td><td>13</td><td>3.5384615384615383</td><td>259</td></tr><tr><td>1973</td><td>Team Lotus</td><td>149</td><td>17</td><td>8.764705882352942</td><td>16</td></tr><tr><td>1973</td><td>McLaren</td><td>147</td><td>24</td><td>6.125</td><td>163</td></tr><tr><td>1973</td><td>Brabham</td><td>70</td><td>13</td><td>5.384615384615385</td><td>202</td></tr><tr><td>1973</td><td>Ferrari</td><td>54</td><td>11</td><td>4.909090909090909</td><td>219</td></tr><tr><td>1973</td><td>BRM</td><td>67</td><td>17</td><td>3.9411764705882355</td><td>252</td></tr><tr><td>1974</td><td>Ferrari</td><td>142</td><td>17</td><td>8.352941176470589</td><td>31</td></tr><tr><td>1974</td><td>Team Lotus</td><td>82</td><td>12</td><td>6.833333333333333</td><td>125</td></tr><tr><td>1974</td><td>McLaren</td><td>187</td><td>31</td><td>6.032258064516129</td><td>166</td></tr><tr><td>1974</td><td>Brabham</td><td>103</td><td>19</td><td>5.421052631578948</td><td>198</td></tr><tr><td>1974</td><td>BRM</td><td>28</td><td>8</td><td>3.5</td><td>260</td></tr><tr><td>1975</td><td>Ferrari</td><td>150</td><td>20</td><td>7.5</td><td>74</td></tr><tr><td>1975</td><td>Brabham</td><td>114</td><td>16</td><td>7.125</td><td>108</td></tr><tr><td>1975</td><td>McLaren</td><td>127</td><td>18</td><td>7.055555555555555</td><td>110</td></tr><tr><td>1975</td><td>Williams</td><td>13</td><td>2</td><td>6.5</td><td>148</td></tr><tr><td>1975</td><td>Team Lotus</td><td>40</td><td>10</td><td>4.0</td><td>247</td></tr><tr><td>1975</td><td>BRM</td><td>2</td><td>1</td><td>2.0</td><td>280</td></tr><tr><td>1976</td><td>McLaren</td><td>147</td><td>20</td><td>7.35</td><td>85</td></tr><tr><td>1976</td><td>Ferrari</td><td>159</td><td>22</td><td>7.2272727272727275</td><td>98</td></tr><tr><td>1976</td><td>Team Lotus</td><td>66</td><td>10</td><td>6.6</td><td>141</td></tr><tr><td>1976</td><td>Williams</td><td>2</td><td>1</td><td>2.0</td><td>280</td></tr><tr><td>1977</td><td>Ferrari</td><td>189</td><td>24</td><td>7.875</td><td>48</td></tr><tr><td>1977</td><td>Team Lotus</td><td>108</td><td>15</td><td>7.2</td><td>103</td></tr><tr><td>1977</td><td>McLaren</td><td>124</td><td>20</td><td>6.2</td><td>158</td></tr><tr><td>1977</td><td>Brabham</td><td>73</td><td>13</td><td>5.615384615384615</td><td>193</td></tr><tr><td>1978</td><td>Team Lotus</td><td>169</td><td>22</td><td>7.681818181818182</td><td>57</td></tr><tr><td>1978</td><td>Brabham</td><td>126</td><td>17</td><td>7.411764705882353</td><td>83</td></tr><tr><td>1978</td><td>Ferrari</td><td>119</td><td>20</td><td>5.95</td><td>171</td></tr><tr><td>1978</td><td>Williams</td><td>32</td><td>7</td><td>4.571428571428571</td><td>229</td></tr><tr><td>1978</td><td>McLaren</td><td>86</td><td>21</td><td>4.095238095238095</td><td>246</td></tr><tr><td>1979</td><td>Ferrari</td><td>183</td><td>24</td><td>7.625</td><td>64</td></tr><tr><td>1979</td><td>Williams</td><td>117</td><td>17</td><td>6.882352941176471</td><td>124</td></tr><tr><td>1979</td><td>Team Lotus</td><td>95</td><td>16</td><td>5.9375</td><td>174</td></tr><tr><td>1979</td><td>McLaren</td><td>55</td><td>13</td><td>4.230769230769231</td><td>240</td></tr><tr><td>1980</td><td>Williams</td><td>182</td><td>22</td><td>8.272727272727273</td><td>33</td></tr><tr><td>1980</td><td>Brabham</td><td>101</td><td>16</td><td>6.3125</td><td>154</td></tr><tr><td>1980</td><td>McLaren</td><td>50</td><td>10</td><td>5.0</td><td>213</td></tr><tr><td>1980</td><td>Team Lotus</td><td>48</td><td>11</td><td>4.363636363636363</td><td>236</td></tr><tr><td>1980</td><td>Ferrari</td><td>47</td><td>12</td><td>3.9166666666666665</td><td>253</td></tr><tr><td>1981</td><td>Williams</td><td>154</td><td>21</td><td>7.333333333333333</td><td>87</td></tr><tr><td>1981</td><td>Brabham</td><td>109</td><td>15</td><td>7.266666666666667</td><td>94</td></tr><tr><td>1981</td><td>Team Lotus</td><td>78</td><td>14</td><td>5.571428571428571</td><td>195</td></tr><tr><td>1981</td><td>Ferrari</td><td>72</td><td>13</td><td>5.538461538461538</td><td>196</td></tr><tr><td>1981</td><td>McLaren</td><td>70</td><td>13</td><td>5.384615384615385</td><td>202</td></tr><tr><td>1982</td><td>Brabham</td><td>65</td><td>8</td><td>8.125</td><td>38</td></tr><tr><td>1982</td><td>Ferrari</td><td>122</td><td>16</td><td>7.625</td><td>64</td></tr><tr><td>1982</td><td>McLaren</td><td>118</td><td>17</td><td>6.9411764705882355</td><td>122</td></tr><tr><td>1982</td><td>Williams</td><td>128</td><td>20</td><td>6.4</td><td>151</td></tr><tr><td>1982</td><td>Team Lotus</td><td>79</td><td>14</td><td>5.642857142857143</td><td>191</td></tr><tr><td>1983</td><td>Brabham</td><td>112</td><td>15</td><td>7.466666666666667</td><td>79</td></tr><tr><td>1983</td><td>Ferrari</td><td>148</td><td>20</td><td>7.4</td><td>84</td></tr><tr><td>1983</td><td>McLaren</td><td>74</td><td>12</td><td>6.166666666666667</td><td>160</td></tr><tr><td>1983</td><td>Williams</td><td>94</td><td>16</td><td>5.875</td><td>177</td></tr><tr><td>1983</td><td>Team Lotus</td><td>37</td><td>7</td><td>5.285714285714286</td><td>206</td></tr><tr><td>1984</td><td>McLaren</td><td>191</td><td>21</td><td>9.095238095238095</td><td>4</td></tr><tr><td>1984</td><td>Ferrari</td><td>123</td><td>18</td><td>6.833333333333333</td><td>125</td></tr><tr><td>1984</td><td>Team Lotus</td><td>115</td><td>17</td><td>6.764705882352941</td><td>132</td></tr><tr><td>1984</td><td>Williams</td><td>60</td><td>10</td><td>6.0</td><td>168</td></tr><tr><td>1984</td><td>Brabham</td><td>76</td><td>13</td><td>5.846153846153846</td><td>180</td></tr><tr><td>1985</td><td>McLaren</td><td>134</td><td>16</td><td>8.375</td><td>30</td></tr><tr><td>1985</td><td>Ferrari</td><td>147</td><td>20</td><td>7.35</td><td>85</td></tr><tr><td>1985</td><td>Williams</td><td>123</td><td>17</td><td>7.235294117647059</td><td>96</td></tr><tr><td>1985</td><td>Team Lotus</td><td>133</td><td>19</td><td>7.0</td><td>111</td></tr><tr><td>1985</td><td>Brabham</td><td>70</td><td>14</td><td>5.0</td><td>213</td></tr><tr><td>1986</td><td>Williams</td><td>205</td><td>24</td><td>8.541666666666666</td><td>21</td></tr><tr><td>1986</td><td>McLaren</td><td>161</td><td>21</td><td>7.666666666666667</td><td>59</td></tr><tr><td>1986</td><td>Team Lotus</td><td>108</td><td>16</td><td>6.75</td><td>133</td></tr><tr><td>1986</td><td>Ferrari</td><td>88</td><td>15</td><td>5.866666666666666</td><td>178</td></tr><tr><td>1986</td><td>Benetton</td><td>55</td><td>13</td><td>4.230769230769231</td><td>240</td></tr><tr><td>1986</td><td>Brabham</td><td>30</td><td>9</td><td>3.3333333333333335</td><td>270</td></tr><tr><td>1987</td><td>Williams</td><td>189</td><td>22</td><td>8.590909090909092</td><td>18</td></tr><tr><td>1987</td><td>Ferrari</td><td>92</td><td>12</td><td>7.666666666666667</td><td>59</td></tr><tr><td>1987</td><td>McLaren</td><td>149</td><td>22</td><td>6.7727272727272725</td><td>130</td></tr><tr><td>1987</td><td>Team Lotus</td><td>128</td><td>20</td><td>6.4</td><td>151</td></tr><tr><td>1987</td><td>Benetton</td><td>83</td><td>14</td><td>5.928571428571429</td><td>175</td></tr><tr><td>1987</td><td>Brabham</td><td>29</td><td>6</td><td>4.833333333333333</td><td>222</td></tr><tr><td>1988</td><td>McLaren</td><td>253</td><td>28</td><td>9.035714285714286</td><td>6</td></tr><tr><td>1988</td><td>Ferrari</td><td>129</td><td>18</td><td>7.166666666666667</td><td>107</td></tr><tr><td>1988</td><td>Williams</td><td>57</td><td>10</td><td>5.7</td><td>187</td></tr><tr><td>1988</td><td>Benetton</td><td>113</td><td>20</td><td>5.65</td><td>190</td></tr><tr><td>1988</td><td>Team Lotus</td><td>79</td><td>16</td><td>4.9375</td><td>218</td></tr><tr><td>1989</td><td>Ferrari</td><td>82</td><td>9</td><td>9.11111111111111</td><td>3</td></tr><tr><td>1989</td><td>McLaren</td><td>188</td><td>21</td><td>8.952380952380953</td><td>12</td></tr><tr><td>1989</td><td>Williams</td><td>137</td><td>19</td><td>7.2105263157894735</td><td>101</td></tr><tr><td>1989</td><td>Benetton</td><td>88</td><td>15</td><td>5.866666666666666</td><td>178</td></tr><tr><td>1989</td><td>Team Lotus</td><td>56</td><td>12</td><td>4.666666666666667</td><td>226</td></tr><tr><td>1989</td><td>Brabham</td><td>36</td><td>9</td><td>4.0</td><td>247</td></tr><tr><td>1990</td><td>Ferrari</td><td>163</td><td>19</td><td>8.578947368421053</td><td>19</td></tr><tr><td>1990</td><td>McLaren</td><td>187</td><td>22</td><td>8.5</td><td>23</td></tr><tr><td>1990</td><td>Benetton</td><td>150</td><td>23</td><td>6.521739130434782</td><td>147</td></tr><tr><td>1990</td><td>Williams</td><td>130</td><td>21</td><td>6.190476190476191</td><td>159</td></tr><tr><td>1990</td><td>Brabham</td><td>12</td><td>3</td><td>4.0</td><td>247</td></tr><tr><td>1990</td><td>Team Lotus</td><td>29</td><td>8</td><td>3.625</td><td>258</td></tr><tr><td>1991</td><td>Williams</td><td>179</td><td>21</td><td>8.523809523809524</td><td>22</td></tr><tr><td>1991</td><td>McLaren</td><td>204</td><td>24</td><td>8.5</td><td>23</td></tr><tr><td>1991</td><td>Ferrari</td><td>117</td><td>16</td><td>7.3125</td><td>88</td></tr><tr><td>1991</td><td>Benetton</td><td>109</td><td>19</td><td>5.7368421052631575</td><td>185</td></tr><tr><td>1991</td><td>Brabham</td><td>17</td><td>5</td><td>3.4</td><td>266</td></tr><tr><td>1991</td><td>Team Lotus</td><td>21</td><td>7</td><td>3.0</td><td>274</td></tr><tr><td>1992</td><td>Williams</td><td>206</td><td>23</td><td>8.956521739130435</td><td>11</td></tr><tr><td>1992</td><td>McLaren</td><td>150</td><td>19</td><td>7.894736842105263</td><td>46</td></tr><tr><td>1992</td><td>Benetton</td><td>175</td><td>23</td><td>7.608695652173913</td><td>67</td></tr><tr><td>1992</td><td>Ferrari</td><td>56</td><td>10</td><td>5.6</td><td>194</td></tr><tr><td>1992</td><td>Team Lotus</td><td>56</td><td>12</td><td>4.666666666666667</td><td>226</td></tr><tr><td>1993</td><td>Williams</td><td>217</td><td>24</td><td>9.041666666666666</td><td>5</td></tr><tr><td>1993</td><td>McLaren</td><td>128</td><td>17</td><td>7.529411764705882</td><td>71</td></tr><tr><td>1993</td><td>Benetton</td><td>130</td><td>18</td><td>7.222222222222222</td><td>99</td></tr><tr><td>1993</td><td>Ferrari</td><td>77</td><td>14</td><td>5.5</td><td>197</td></tr><tr><td>1993</td><td>Team Lotus</td><td>44</td><td>10</td><td>4.4</td><td>233</td></tr><tr><td>1994</td><td>Williams</td><td>163</td><td>20</td><td>8.15</td><td>37</td></tr><tr><td>1994</td><td>Benetton</td><td>134</td><td>17</td><td>7.882352941176471</td><td>47</td></tr><tr><td>1994</td><td>Ferrari</td><td>127</td><td>17</td><td>7.470588235294118</td><td>78</td></tr><tr><td>1994</td><td>McLaren</td><td>91</td><td>13</td><td>7.0</td><td>111</td></tr><tr><td>1994</td><td>Team Lotus</td><td>23</td><td>9</td><td>2.5555555555555554</td><td>279</td></tr><tr><td>1995</td><td>Williams</td><td>167</td><td>19</td><td>8.789473684210526</td><td>14</td></tr><tr><td>1995</td><td>Benetton</td><td>201</td><td>25</td><td>8.04</td><td>41</td></tr><tr><td>1995</td><td>Ferrari</td><td>137</td><td>18</td><td>7.611111111111111</td><td>66</td></tr><tr><td>1995</td><td>McLaren</td><td>85</td><td>17</td><td>5.0</td><td>213</td></tr><tr><td>1996</td><td>Williams</td><td>216</td><td>24</td><td>9.0</td><td>8</td></tr><tr><td>1996</td><td>Ferrari</td><td>117</td><td>16</td><td>7.3125</td><td>88</td></tr><tr><td>1996</td><td>Benetton</td><td>137</td><td>19</td><td>7.2105263157894735</td><td>101</td></tr><tr><td>1996</td><td>McLaren</td><td>129</td><td>21</td><td>6.142857142857143</td><td>162</td></tr><tr><td>1997</td><td>Williams</td><td>177</td><td>23</td><td>7.695652173913044</td><td>55</td></tr><tr><td>1997</td><td>Ferrari</td><td>160</td><td>22</td><td>7.2727272727272725</td><td>92</td></tr><tr><td>1997</td><td>McLaren</td><td>117</td><td>19</td><td>6.157894736842105</td><td>161</td></tr><tr><td>1997</td><td>Benetton</td><td>151</td><td>26</td><td>5.8076923076923075</td><td>183</td></tr><tr><td>1998</td><td>McLaren</td><td>212</td><td>25</td><td>8.48</td><td>26</td></tr><tr><td>1998</td><td>Ferrari</td><td>203</td><td>26</td><td>7.8076923076923075</td><td>53</td></tr><tr><td>1998</td><td>Williams</td><td>125</td><td>24</td><td>5.208333333333333</td><td>208</td></tr><tr><td>1998</td><td>Benetton</td><td>106</td><td>21</td><td>5.0476190476190474</td><td>211</td></tr><tr><td>1999</td><td>McLaren</td><td>170</td><td>20</td><td>8.5</td><td>23</td></tr><tr><td>1999</td><td>Ferrari</td><td>203</td><td>27</td><td>7.518518518518518</td><td>73</td></tr><tr><td>1999</td><td>Williams</td><td>91</td><td>16</td><td>5.6875</td><td>188</td></tr><tr><td>1999</td><td>Benetton</td><td>63</td><td>15</td><td>4.2</td><td>242</td></tr><tr><td>2000</td><td>Ferrari</td><td>228</td><td>26</td><td>8.76923076923077</td><td>15</td></tr><tr><td>2000</td><td>McLaren</td><td>236</td><td>28</td><td>8.428571428571429</td><td>28</td></tr><tr><td>2000</td><td>Williams</td><td>102</td><td>18</td><td>5.666666666666667</td><td>189</td></tr><tr><td>2000</td><td>Benetton</td><td>70</td><td>18</td><td>3.888888888888889</td><td>254</td></tr><tr><td>2001</td><td>Ferrari</td><td>245</td><td>28</td><td>8.75</td><td>17</td></tr><tr><td>2001</td><td>Williams</td><td>123</td><td>16</td><td>7.6875</td><td>56</td></tr><tr><td>2001</td><td>McLaren</td><td>173</td><td>23</td><td>7.521739130434782</td><td>72</td></tr><tr><td>2001</td><td>Benetton</td><td>41</td><td>10</td><td>4.1</td><td>245</td></tr><tr><td>2002</td><td>Ferrari</td><td>267</td><td>29</td><td>9.206896551724139</td><td>2</td></tr><tr><td>2002</td><td>Williams</td><td>178</td><td>24</td><td>7.416666666666667</td><td>82</td></tr><tr><td>2002</td><td>McLaren</td><td>132</td><td>19</td><td>6.947368421052632</td><td>120</td></tr><tr><td>2003</td><td>McLaren</td><td>176</td><td>23</td><td>7.6521739130434785</td><td>61</td></tr><tr><td>2003</td><td>Ferrari</td><td>193</td><td>26</td><td>7.423076923076923</td><td>81</td></tr><tr><td>2003</td><td>Williams</td><td>180</td><td>25</td><td>7.2</td><td>103</td></tr><tr><td>2004</td><td>Ferrari</td><td>287</td><td>32</td><td>8.96875</td><td>10</td></tr><tr><td>2004</td><td>Williams</td><td>130</td><td>24</td><td>5.416666666666667</td><td>200</td></tr><tr><td>2004</td><td>McLaren</td><td>106</td><td>21</td><td>5.0476190476190474</td><td>211</td></tr><tr><td>2005</td><td>McLaren</td><td>212</td><td>27</td><td>7.851851851851852</td><td>49</td></tr><tr><td>2005</td><td>Williams</td><td>97</td><td>17</td><td>5.705882352941177</td><td>186</td></tr><tr><td>2005</td><td>Ferrari</td><td>143</td><td>27</td><td>5.296296296296297</td><td>205</td></tr><tr><td>2005</td><td>Red Bull</td><td>77</td><td>22</td><td>3.5</td><td>260</td></tr><tr><td>2006</td><td>Ferrari</td><td>240</td><td>32</td><td>7.5</td><td>74</td></tr><tr><td>2006</td><td>McLaren</td><td>150</td><td>22</td><td>6.818181818181818</td><td>127</td></tr><tr><td>2006</td><td>Red Bull</td><td>35</td><td>10</td><td>3.5</td><td>260</td></tr><tr><td>2006</td><td>Williams</td><td>30</td><td>11</td><td>2.727272727272727</td><td>278</td></tr><tr><td>2007</td><td>Ferrari</td><td>238</td><td>29</td><td>8.206896551724139</td><td>35</td></tr><tr><td>2007</td><td>McLaren</td><td>257</td><td>32</td><td>8.03125</td><td>42</td></tr><tr><td>2007</td><td>Williams</td><td>61</td><td>16</td><td>3.8125</td><td>255</td></tr><tr><td>2007</td><td>Red Bull</td><td>49</td><td>14</td><td>3.5</td><td>260</td></tr><tr><td>2008</td><td>Ferrari</td><td>206</td><td>27</td><td>7.62962962962963</td><td>63</td></tr><tr><td>2008</td><td>McLaren</td><td>191</td><td>29</td><td>6.586206896551724</td><td>144</td></tr><tr><td>2008</td><td>Williams</td><td>49</td><td>13</td><td>3.769230769230769</td><td>256</td></tr><tr><td>2008</td><td>Red Bull</td><td>63</td><td>18</td><td>3.5</td><td>260</td></tr><tr><td>2009</td><td>Red Bull</td><td>185</td><td>24</td><td>7.708333333333333</td><td>54</td></tr><tr><td>2009</td><td>McLaren</td><td>101</td><td>17</td><td>5.9411764705882355</td><td>172</td></tr><tr><td>2009</td><td>Ferrari</td><td>103</td><td>19</td><td>5.421052631578948</td><td>198</td></tr><tr><td>2009</td><td>Williams</td><td>66</td><td>16</td><td>4.125</td><td>244</td></tr><tr><td>2010</td><td>Red Bull</td><td>241</td><td>32</td><td>7.53125</td><td>70</td></tr><tr><td>2010</td><td>McLaren</td><td>231</td><td>31</td><td>7.451612903225806</td><td>80</td></tr><tr><td>2010</td><td>Ferrari</td><td>203</td><td>30</td><td>6.766666666666667</td><td>131</td></tr><tr><td>2010</td><td>Mercedes</td><td>131</td><td>27</td><td>4.851851851851852</td><td>221</td></tr><tr><td>2010</td><td>Williams</td><td>48</td><td>17</td><td>2.823529411764706</td><td>276</td></tr><tr><td>2011</td><td>Red Bull</td><td>308</td><td>36</td><td>8.555555555555555</td><td>20</td></tr><tr><td>2011</td><td>McLaren</td><td>251</td><td>33</td><td>7.606060606060606</td><td>68</td></tr><tr><td>2011</td><td>Ferrari</td><td>210</td><td>33</td><td>6.363636363636363</td><td>153</td></tr><tr><td>2011</td><td>Mercedes</td><td>107</td><td>25</td><td>4.28</td><td>237</td></tr><tr><td>2011</td><td>Williams</td><td>5</td><td>3</td><td>1.6666666666666667</td><td>284</td></tr><tr><td>2012</td><td>Red Bull</td><td>232</td><td>32</td><td>7.25</td><td>95</td></tr><tr><td>2012</td><td>McLaren</td><td>187</td><td>28</td><td>6.678571428571429</td><td>135</td></tr><tr><td>2012</td><td>Ferrari</td><td>212</td><td>32</td><td>6.625</td><td>138</td></tr><tr><td>2012</td><td>Mercedes</td><td>82</td><td>18</td><td>4.555555555555555</td><td>231</td></tr><tr><td>2012</td><td>Williams</td><td>47</td><td>15</td><td>3.1333333333333333</td><td>272</td></tr><tr><td>2013</td><td>Red Bull</td><td>277</td><td>33</td><td>8.393939393939394</td><td>29</td></tr><tr><td>2013</td><td>Ferrari</td><td>195</td><td>32</td><td>6.09375</td><td>164</td></tr><tr><td>2013</td><td>Mercedes</td><td>199</td><td>33</td><td>6.03030303030303</td><td>167</td></tr><tr><td>2013</td><td>McLaren</td><td>84</td><td>25</td><td>3.36</td><td>268</td></tr><tr><td>2013</td><td>Williams</td><td>4</td><td>2</td><td>2.0</td><td>280</td></tr><tr><td>2014</td><td>Mercedes</td><td>300</td><td>32</td><td>9.375</td><td>1</td></tr><tr><td>2014</td><td>Red Bull</td><td>211</td><td>32</td><td>6.59375</td><td>143</td></tr><tr><td>2014</td><td>Williams</td><td>165</td><td>28</td><td>5.892857142857143</td><td>176</td></tr><tr><td>2014</td><td>Ferrari</td><td>133</td><td>30</td><td>4.433333333333334</td><td>232</td></tr><tr><td>2014</td><td>McLaren</td><td>107</td><td>25</td><td>4.28</td><td>237</td></tr><tr><td>2015</td><td>Mercedes</td><td>316</td><td>35</td><td>9.028571428571428</td><td>7</td></tr><tr><td>2015</td><td>Ferrari</td><td>226</td><td>31</td><td>7.290322580645161</td><td>91</td></tr><tr><td>2015</td><td>Williams</td><td>152</td><td>26</td><td>5.846153846153846</td><td>180</td></tr><tr><td>2015</td><td>Red Bull</td><td>115</td><td>27</td><td>4.2592592592592595</td><td>239</td></tr><tr><td>2015</td><td>McLaren</td><td>19</td><td>6</td><td>3.1666666666666665</td><td>271</td></tr><tr><td>2016</td><td>Mercedes</td><td>344</td><td>39</td><td>8.820512820512821</td><td>13</td></tr><tr><td>2016</td><td>Red Bull</td><td>252</td><td>36</td><td>7.0</td><td>111</td></tr><tr><td>2016</td><td>Ferrari</td><td>225</td><td>34</td><td>6.617647058823529</td><td>140</td></tr><tr><td>2016</td><td>Williams</td><td>94</td><td>28</td><td>3.357142857142857</td><td>269</td></tr><tr><td>2016</td><td>McLaren</td><td>53</td><td>17</td><td>3.1176470588235294</td><td>273</td></tr><tr><td>2017</td><td>Mercedes</td><td>319</td><td>39</td><td>8.179487179487179</td><td>36</td></tr><tr><td>2017</td><td>Ferrari</td><td>266</td><td>34</td><td>7.823529411764706</td><td>50</td></tr><tr><td>2017</td><td>Red Bull</td><td>194</td><td>27</td><td>7.185185185185185</td><td>105</td></tr><tr><td>2017</td><td>Williams</td><td>59</td><td>20</td><td>2.95</td><td>275</td></tr><tr><td>2017</td><td>McLaren</td><td>22</td><td>8</td><td>2.75</td><td>277</td></tr><tr><td>2018</td><td>Mercedes</td><td>316</td><td>39</td><td>8.102564102564102</td><td>40</td></tr><tr><td>2018</td><td>Ferrari</td><td>289</td><td>37</td><td>7.8108108108108105</td><td>52</td></tr><tr><td>2018</td><td>Red Bull</td><td>219</td><td>30</td><td>7.3</td><td>90</td></tr><tr><td>2018</td><td>McLaren</td><td>44</td><td>13</td><td>3.3846153846153846</td><td>267</td></tr><tr><td>2018</td><td>Williams</td><td>4</td><td>2</td><td>2.0</td><td>280</td></tr><tr><td>2019</td><td>Mercedes</td><td>339</td><td>40</td><td>8.475</td><td>27</td></tr><tr><td>2019</td><td>Ferrari</td><td>261</td><td>34</td><td>7.676470588235294</td><td>58</td></tr><tr><td>2019</td><td>Red Bull</td><td>227</td><td>36</td><td>6.305555555555555</td><td>155</td></tr><tr><td>2019</td><td>McLaren</td><td>95</td><td>24</td><td>3.9583333333333335</td><td>251</td></tr><tr><td>2019</td><td>Williams</td><td>1</td><td>1</td><td>1.0</td><td>285</td></tr><tr><td>2020</td><td>Mercedes</td><td>258</td><td>31</td><td>8.32258064516129</td><td>32</td></tr><tr><td>2020</td><td>Red Bull</td><td>166</td><td>24</td><td>6.916666666666667</td><td>123</td></tr><tr><td>2020</td><td>McLaren</td><td>122</td><td>25</td><td>4.88</td><td>220</td></tr><tr><td>2020</td><td>Ferrari</td><td>78</td><td>17</td><td>4.588235294117647</td><td>228</td></tr></tbody></table></div>"
      ]
     },
     "metadata": {
      "application/vnd.databricks.v1+output": {
       "addedWidgets": {},
       "aggData": [],
       "aggError": "",
       "aggOverflow": false,
       "aggSchema": [],
       "aggSeriesLimitReached": false,
       "aggType": "",
       "arguments": {},
       "columnCustomDisplayInfos": {},
       "data": [
        [
         1950,
         "Ferrari",
         57,
         8,
         7.125,
         108
        ],
        [
         1951,
         "Ferrari",
         168,
         22,
         7.636363636363637,
         62
        ],
        [
         1951,
         "BRM",
         10,
         2,
         5.0,
         213
        ],
        [
         1952,
         "Ferrari",
         202,
         28,
         7.214285714285714,
         100
        ],
        [
         1953,
         "Ferrari",
         230,
         35,
         6.571428571428571,
         145
        ],
        [
         1954,
         "Mercedes",
         96,
         12,
         8.0,
         43
        ],
        [
         1954,
         "Ferrari",
         175,
         25,
         7.0,
         111
        ],
        [
         1955,
         "Mercedes",
         124,
         15,
         8.266666666666667,
         34
        ],
        [
         1955,
         "Ferrari",
         131,
         21,
         6.238095238095238,
         157
        ],
        [
         1956,
         "Ferrari",
         172,
         23,
         7.478260869565218,
         77
        ],
        [
         1957,
         "Ferrari",
         130,
         20,
         6.5,
         148
        ],
        [
         1958,
         "Ferrari",
         159,
         21,
         7.571428571428571,
         69
        ],
        [
         1958,
         "BRM",
         60,
         9,
         6.666666666666667,
         136
        ],
        [
         1958,
         "Team Lotus",
         28,
         7,
         4.0,
         247
        ],
        [
         1959,
         "Cooper-Climax",
         165,
         22,
         7.5,
         74
        ],
        [
         1959,
         "Ferrari",
         132,
         19,
         6.947368421052632,
         120
        ],
        [
         1959,
         "BRM",
         62,
         11,
         5.636363636363637,
         192
        ],
        [
         1959,
         "Team Lotus",
         22,
         5,
         4.4,
         233
        ],
        [
         1960,
         "Cooper-Climax",
         213,
         32,
         6.65625,
         137
        ],
        [
         1960,
         "Team Lotus",
         109,
         17,
         6.411764705882353,
         150
        ],
        [
         1960,
         "Ferrari",
         102,
         17,
         6.0,
         168
        ],
        [
         1960,
         "BRM",
         29,
         6,
         4.833333333333333,
         222
        ],
        [
         1961,
         "Ferrari",
         152,
         19,
         8.0,
         43
        ],
        [
         1961,
         "BRM",
         32,
         7,
         4.571428571428571,
         229
        ],
        [
         1961,
         "Cooper-Climax",
         92,
         21,
         4.380952380952381,
         235
        ],
        [
         1962,
         "BRM",
         98,
         14,
         7.0,
         111
        ],
        [
         1962,
         "Brabham",
         14,
         2,
         7.0,
         111
        ],
        [
         1962,
         "Ferrari",
         73,
         12,
         6.083333333333333,
         165
        ],
        [
         1962,
         "Cooper-Climax",
         101,
         17,
         5.9411764705882355,
         172
        ],
        [
         1963,
         "BRM",
         123,
         17,
         7.235294117647059,
         96
        ],
        [
         1963,
         "Brabham",
         70,
         10,
         7.0,
         111
        ],
        [
         1963,
         "Ferrari",
         53,
         8,
         6.625,
         138
        ],
        [
         1963,
         "Cooper-Climax",
         97,
         18,
         5.388888888888889,
         201
        ],
        [
         1964,
         "Ferrari",
         105,
         15,
         7.0,
         111
        ],
        [
         1964,
         "BRM",
         144,
         23,
         6.260869565217392,
         156
        ],
        [
         1964,
         "Cooper-Climax",
         53,
         11,
         4.818181818181818,
         224
        ],
        [
         1965,
         "BRM",
         133,
         17,
         7.823529411764706,
         50
        ],
        [
         1965,
         "Ferrari",
         86,
         16,
         5.375,
         204
        ],
        [
         1965,
         "Cooper-Climax",
         42,
         8,
         5.25,
         207
        ],
        [
         1966,
         "Ferrari",
         65,
         8,
         8.125,
         38
        ],
        [
         1966,
         "BRM",
         68,
         10,
         6.8,
         128
        ],
        [
         1967,
         "Cooper-Climax",
         9,
         1,
         9.0,
         8
        ],
        [
         1967,
         "Ferrari",
         64,
         11,
         5.818181818181818,
         182
        ],
        [
         1967,
         "BRM",
         66,
         13,
         5.076923076923077,
         210
        ],
        [
         1968,
         "Ferrari",
         70,
         10,
         7.0,
         111
        ],
        [
         1968,
         "BRM",
         72,
         12,
         6.0,
         168
        ],
        [
         1969,
         "Ferrari",
         23,
         4,
         5.75,
         184
        ],
        [
         1969,
         "BRM",
         25,
         5,
         5.0,
         213
        ],
        [
         1970,
         "Ferrari",
         119,
         15,
         7.933333333333334,
         45
        ],
        [
         1970,
         "Brabham",
         67,
         10,
         6.7,
         134
        ],
        [
         1970,
         "Team Lotus",
         118,
         18,
         6.555555555555555,
         146
        ],
        [
         1970,
         "BRM",
         57,
         11,
         5.181818181818182,
         209
        ],
        [
         1971,
         "Ferrari",
         79,
         11,
         7.181818181818182,
         106
        ],
        [
         1971,
         "BRM",
         90,
         19,
         4.7368421052631575,
         225
        ],
        [
         1971,
         "McLaren",
         46,
         11,
         4.181818181818182,
         243
        ],
        [
         1971,
         "Brabham",
         31,
         9,
         3.4444444444444446,
         265
        ],
        [
         1972,
         "Team Lotus",
         80,
         11,
         7.2727272727272725,
         92
        ],
        [
         1972,
         "McLaren",
         136,
         20,
         6.8,
         128
        ],
        [
         1972,
         "Ferrari",
         99,
         15,
         6.6,
         141
        ],
        [
         1972,
         "Brabham",
         48,
         13,
         3.6923076923076925,
         257
        ],
        [
         1972,
         "BRM",
         46,
         13,
         3.5384615384615383,
         259
        ],
        [
         1973,
         "Team Lotus",
         149,
         17,
         8.764705882352942,
         16
        ],
        [
         1973,
         "McLaren",
         147,
         24,
         6.125,
         163
        ],
        [
         1973,
         "Brabham",
         70,
         13,
         5.384615384615385,
         202
        ],
        [
         1973,
         "Ferrari",
         54,
         11,
         4.909090909090909,
         219
        ],
        [
         1973,
         "BRM",
         67,
         17,
         3.9411764705882355,
         252
        ],
        [
         1974,
         "Ferrari",
         142,
         17,
         8.352941176470589,
         31
        ],
        [
         1974,
         "Team Lotus",
         82,
         12,
         6.833333333333333,
         125
        ],
        [
         1974,
         "McLaren",
         187,
         31,
         6.032258064516129,
         166
        ],
        [
         1974,
         "Brabham",
         103,
         19,
         5.421052631578948,
         198
        ],
        [
         1974,
         "BRM",
         28,
         8,
         3.5,
         260
        ],
        [
         1975,
         "Ferrari",
         150,
         20,
         7.5,
         74
        ],
        [
         1975,
         "Brabham",
         114,
         16,
         7.125,
         108
        ],
        [
         1975,
         "McLaren",
         127,
         18,
         7.055555555555555,
         110
        ],
        [
         1975,
         "Williams",
         13,
         2,
         6.5,
         148
        ],
        [
         1975,
         "Team Lotus",
         40,
         10,
         4.0,
         247
        ],
        [
         1975,
         "BRM",
         2,
         1,
         2.0,
         280
        ],
        [
         1976,
         "McLaren",
         147,
         20,
         7.35,
         85
        ],
        [
         1976,
         "Ferrari",
         159,
         22,
         7.2272727272727275,
         98
        ],
        [
         1976,
         "Team Lotus",
         66,
         10,
         6.6,
         141
        ],
        [
         1976,
         "Williams",
         2,
         1,
         2.0,
         280
        ],
        [
         1977,
         "Ferrari",
         189,
         24,
         7.875,
         48
        ],
        [
         1977,
         "Team Lotus",
         108,
         15,
         7.2,
         103
        ],
        [
         1977,
         "McLaren",
         124,
         20,
         6.2,
         158
        ],
        [
         1977,
         "Brabham",
         73,
         13,
         5.615384615384615,
         193
        ],
        [
         1978,
         "Team Lotus",
         169,
         22,
         7.681818181818182,
         57
        ],
        [
         1978,
         "Brabham",
         126,
         17,
         7.411764705882353,
         83
        ],
        [
         1978,
         "Ferrari",
         119,
         20,
         5.95,
         171
        ],
        [
         1978,
         "Williams",
         32,
         7,
         4.571428571428571,
         229
        ],
        [
         1978,
         "McLaren",
         86,
         21,
         4.095238095238095,
         246
        ],
        [
         1979,
         "Ferrari",
         183,
         24,
         7.625,
         64
        ],
        [
         1979,
         "Williams",
         117,
         17,
         6.882352941176471,
         124
        ],
        [
         1979,
         "Team Lotus",
         95,
         16,
         5.9375,
         174
        ],
        [
         1979,
         "McLaren",
         55,
         13,
         4.230769230769231,
         240
        ],
        [
         1980,
         "Williams",
         182,
         22,
         8.272727272727273,
         33
        ],
        [
         1980,
         "Brabham",
         101,
         16,
         6.3125,
         154
        ],
        [
         1980,
         "McLaren",
         50,
         10,
         5.0,
         213
        ],
        [
         1980,
         "Team Lotus",
         48,
         11,
         4.363636363636363,
         236
        ],
        [
         1980,
         "Ferrari",
         47,
         12,
         3.9166666666666665,
         253
        ],
        [
         1981,
         "Williams",
         154,
         21,
         7.333333333333333,
         87
        ],
        [
         1981,
         "Brabham",
         109,
         15,
         7.266666666666667,
         94
        ],
        [
         1981,
         "Team Lotus",
         78,
         14,
         5.571428571428571,
         195
        ],
        [
         1981,
         "Ferrari",
         72,
         13,
         5.538461538461538,
         196
        ],
        [
         1981,
         "McLaren",
         70,
         13,
         5.384615384615385,
         202
        ],
        [
         1982,
         "Brabham",
         65,
         8,
         8.125,
         38
        ],
        [
         1982,
         "Ferrari",
         122,
         16,
         7.625,
         64
        ],
        [
         1982,
         "McLaren",
         118,
         17,
         6.9411764705882355,
         122
        ],
        [
         1982,
         "Williams",
         128,
         20,
         6.4,
         151
        ],
        [
         1982,
         "Team Lotus",
         79,
         14,
         5.642857142857143,
         191
        ],
        [
         1983,
         "Brabham",
         112,
         15,
         7.466666666666667,
         79
        ],
        [
         1983,
         "Ferrari",
         148,
         20,
         7.4,
         84
        ],
        [
         1983,
         "McLaren",
         74,
         12,
         6.166666666666667,
         160
        ],
        [
         1983,
         "Williams",
         94,
         16,
         5.875,
         177
        ],
        [
         1983,
         "Team Lotus",
         37,
         7,
         5.285714285714286,
         206
        ],
        [
         1984,
         "McLaren",
         191,
         21,
         9.095238095238095,
         4
        ],
        [
         1984,
         "Ferrari",
         123,
         18,
         6.833333333333333,
         125
        ],
        [
         1984,
         "Team Lotus",
         115,
         17,
         6.764705882352941,
         132
        ],
        [
         1984,
         "Williams",
         60,
         10,
         6.0,
         168
        ],
        [
         1984,
         "Brabham",
         76,
         13,
         5.846153846153846,
         180
        ],
        [
         1985,
         "McLaren",
         134,
         16,
         8.375,
         30
        ],
        [
         1985,
         "Ferrari",
         147,
         20,
         7.35,
         85
        ],
        [
         1985,
         "Williams",
         123,
         17,
         7.235294117647059,
         96
        ],
        [
         1985,
         "Team Lotus",
         133,
         19,
         7.0,
         111
        ],
        [
         1985,
         "Brabham",
         70,
         14,
         5.0,
         213
        ],
        [
         1986,
         "Williams",
         205,
         24,
         8.541666666666666,
         21
        ],
        [
         1986,
         "McLaren",
         161,
         21,
         7.666666666666667,
         59
        ],
        [
         1986,
         "Team Lotus",
         108,
         16,
         6.75,
         133
        ],
        [
         1986,
         "Ferrari",
         88,
         15,
         5.866666666666666,
         178
        ],
        [
         1986,
         "Benetton",
         55,
         13,
         4.230769230769231,
         240
        ],
        [
         1986,
         "Brabham",
         30,
         9,
         3.3333333333333335,
         270
        ],
        [
         1987,
         "Williams",
         189,
         22,
         8.590909090909092,
         18
        ],
        [
         1987,
         "Ferrari",
         92,
         12,
         7.666666666666667,
         59
        ],
        [
         1987,
         "McLaren",
         149,
         22,
         6.7727272727272725,
         130
        ],
        [
         1987,
         "Team Lotus",
         128,
         20,
         6.4,
         151
        ],
        [
         1987,
         "Benetton",
         83,
         14,
         5.928571428571429,
         175
        ],
        [
         1987,
         "Brabham",
         29,
         6,
         4.833333333333333,
         222
        ],
        [
         1988,
         "McLaren",
         253,
         28,
         9.035714285714286,
         6
        ],
        [
         1988,
         "Ferrari",
         129,
         18,
         7.166666666666667,
         107
        ],
        [
         1988,
         "Williams",
         57,
         10,
         5.7,
         187
        ],
        [
         1988,
         "Benetton",
         113,
         20,
         5.65,
         190
        ],
        [
         1988,
         "Team Lotus",
         79,
         16,
         4.9375,
         218
        ],
        [
         1989,
         "Ferrari",
         82,
         9,
         9.11111111111111,
         3
        ],
        [
         1989,
         "McLaren",
         188,
         21,
         8.952380952380953,
         12
        ],
        [
         1989,
         "Williams",
         137,
         19,
         7.2105263157894735,
         101
        ],
        [
         1989,
         "Benetton",
         88,
         15,
         5.866666666666666,
         178
        ],
        [
         1989,
         "Team Lotus",
         56,
         12,
         4.666666666666667,
         226
        ],
        [
         1989,
         "Brabham",
         36,
         9,
         4.0,
         247
        ],
        [
         1990,
         "Ferrari",
         163,
         19,
         8.578947368421053,
         19
        ],
        [
         1990,
         "McLaren",
         187,
         22,
         8.5,
         23
        ],
        [
         1990,
         "Benetton",
         150,
         23,
         6.521739130434782,
         147
        ],
        [
         1990,
         "Williams",
         130,
         21,
         6.190476190476191,
         159
        ],
        [
         1990,
         "Brabham",
         12,
         3,
         4.0,
         247
        ],
        [
         1990,
         "Team Lotus",
         29,
         8,
         3.625,
         258
        ],
        [
         1991,
         "Williams",
         179,
         21,
         8.523809523809524,
         22
        ],
        [
         1991,
         "McLaren",
         204,
         24,
         8.5,
         23
        ],
        [
         1991,
         "Ferrari",
         117,
         16,
         7.3125,
         88
        ],
        [
         1991,
         "Benetton",
         109,
         19,
         5.7368421052631575,
         185
        ],
        [
         1991,
         "Brabham",
         17,
         5,
         3.4,
         266
        ],
        [
         1991,
         "Team Lotus",
         21,
         7,
         3.0,
         274
        ],
        [
         1992,
         "Williams",
         206,
         23,
         8.956521739130435,
         11
        ],
        [
         1992,
         "McLaren",
         150,
         19,
         7.894736842105263,
         46
        ],
        [
         1992,
         "Benetton",
         175,
         23,
         7.608695652173913,
         67
        ],
        [
         1992,
         "Ferrari",
         56,
         10,
         5.6,
         194
        ],
        [
         1992,
         "Team Lotus",
         56,
         12,
         4.666666666666667,
         226
        ],
        [
         1993,
         "Williams",
         217,
         24,
         9.041666666666666,
         5
        ],
        [
         1993,
         "McLaren",
         128,
         17,
         7.529411764705882,
         71
        ],
        [
         1993,
         "Benetton",
         130,
         18,
         7.222222222222222,
         99
        ],
        [
         1993,
         "Ferrari",
         77,
         14,
         5.5,
         197
        ],
        [
         1993,
         "Team Lotus",
         44,
         10,
         4.4,
         233
        ],
        [
         1994,
         "Williams",
         163,
         20,
         8.15,
         37
        ],
        [
         1994,
         "Benetton",
         134,
         17,
         7.882352941176471,
         47
        ],
        [
         1994,
         "Ferrari",
         127,
         17,
         7.470588235294118,
         78
        ],
        [
         1994,
         "McLaren",
         91,
         13,
         7.0,
         111
        ],
        [
         1994,
         "Team Lotus",
         23,
         9,
         2.5555555555555554,
         279
        ],
        [
         1995,
         "Williams",
         167,
         19,
         8.789473684210526,
         14
        ],
        [
         1995,
         "Benetton",
         201,
         25,
         8.04,
         41
        ],
        [
         1995,
         "Ferrari",
         137,
         18,
         7.611111111111111,
         66
        ],
        [
         1995,
         "McLaren",
         85,
         17,
         5.0,
         213
        ],
        [
         1996,
         "Williams",
         216,
         24,
         9.0,
         8
        ],
        [
         1996,
         "Ferrari",
         117,
         16,
         7.3125,
         88
        ],
        [
         1996,
         "Benetton",
         137,
         19,
         7.2105263157894735,
         101
        ],
        [
         1996,
         "McLaren",
         129,
         21,
         6.142857142857143,
         162
        ],
        [
         1997,
         "Williams",
         177,
         23,
         7.695652173913044,
         55
        ],
        [
         1997,
         "Ferrari",
         160,
         22,
         7.2727272727272725,
         92
        ],
        [
         1997,
         "McLaren",
         117,
         19,
         6.157894736842105,
         161
        ],
        [
         1997,
         "Benetton",
         151,
         26,
         5.8076923076923075,
         183
        ],
        [
         1998,
         "McLaren",
         212,
         25,
         8.48,
         26
        ],
        [
         1998,
         "Ferrari",
         203,
         26,
         7.8076923076923075,
         53
        ],
        [
         1998,
         "Williams",
         125,
         24,
         5.208333333333333,
         208
        ],
        [
         1998,
         "Benetton",
         106,
         21,
         5.0476190476190474,
         211
        ],
        [
         1999,
         "McLaren",
         170,
         20,
         8.5,
         23
        ],
        [
         1999,
         "Ferrari",
         203,
         27,
         7.518518518518518,
         73
        ],
        [
         1999,
         "Williams",
         91,
         16,
         5.6875,
         188
        ],
        [
         1999,
         "Benetton",
         63,
         15,
         4.2,
         242
        ],
        [
         2000,
         "Ferrari",
         228,
         26,
         8.76923076923077,
         15
        ],
        [
         2000,
         "McLaren",
         236,
         28,
         8.428571428571429,
         28
        ],
        [
         2000,
         "Williams",
         102,
         18,
         5.666666666666667,
         189
        ],
        [
         2000,
         "Benetton",
         70,
         18,
         3.888888888888889,
         254
        ],
        [
         2001,
         "Ferrari",
         245,
         28,
         8.75,
         17
        ],
        [
         2001,
         "Williams",
         123,
         16,
         7.6875,
         56
        ],
        [
         2001,
         "McLaren",
         173,
         23,
         7.521739130434782,
         72
        ],
        [
         2001,
         "Benetton",
         41,
         10,
         4.1,
         245
        ],
        [
         2002,
         "Ferrari",
         267,
         29,
         9.206896551724139,
         2
        ],
        [
         2002,
         "Williams",
         178,
         24,
         7.416666666666667,
         82
        ],
        [
         2002,
         "McLaren",
         132,
         19,
         6.947368421052632,
         120
        ],
        [
         2003,
         "McLaren",
         176,
         23,
         7.6521739130434785,
         61
        ],
        [
         2003,
         "Ferrari",
         193,
         26,
         7.423076923076923,
         81
        ],
        [
         2003,
         "Williams",
         180,
         25,
         7.2,
         103
        ],
        [
         2004,
         "Ferrari",
         287,
         32,
         8.96875,
         10
        ],
        [
         2004,
         "Williams",
         130,
         24,
         5.416666666666667,
         200
        ],
        [
         2004,
         "McLaren",
         106,
         21,
         5.0476190476190474,
         211
        ],
        [
         2005,
         "McLaren",
         212,
         27,
         7.851851851851852,
         49
        ],
        [
         2005,
         "Williams",
         97,
         17,
         5.705882352941177,
         186
        ],
        [
         2005,
         "Ferrari",
         143,
         27,
         5.296296296296297,
         205
        ],
        [
         2005,
         "Red Bull",
         77,
         22,
         3.5,
         260
        ],
        [
         2006,
         "Ferrari",
         240,
         32,
         7.5,
         74
        ],
        [
         2006,
         "McLaren",
         150,
         22,
         6.818181818181818,
         127
        ],
        [
         2006,
         "Red Bull",
         35,
         10,
         3.5,
         260
        ],
        [
         2006,
         "Williams",
         30,
         11,
         2.727272727272727,
         278
        ],
        [
         2007,
         "Ferrari",
         238,
         29,
         8.206896551724139,
         35
        ],
        [
         2007,
         "McLaren",
         257,
         32,
         8.03125,
         42
        ],
        [
         2007,
         "Williams",
         61,
         16,
         3.8125,
         255
        ],
        [
         2007,
         "Red Bull",
         49,
         14,
         3.5,
         260
        ],
        [
         2008,
         "Ferrari",
         206,
         27,
         7.62962962962963,
         63
        ],
        [
         2008,
         "McLaren",
         191,
         29,
         6.586206896551724,
         144
        ],
        [
         2008,
         "Williams",
         49,
         13,
         3.769230769230769,
         256
        ],
        [
         2008,
         "Red Bull",
         63,
         18,
         3.5,
         260
        ],
        [
         2009,
         "Red Bull",
         185,
         24,
         7.708333333333333,
         54
        ],
        [
         2009,
         "McLaren",
         101,
         17,
         5.9411764705882355,
         172
        ],
        [
         2009,
         "Ferrari",
         103,
         19,
         5.421052631578948,
         198
        ],
        [
         2009,
         "Williams",
         66,
         16,
         4.125,
         244
        ],
        [
         2010,
         "Red Bull",
         241,
         32,
         7.53125,
         70
        ],
        [
         2010,
         "McLaren",
         231,
         31,
         7.451612903225806,
         80
        ],
        [
         2010,
         "Ferrari",
         203,
         30,
         6.766666666666667,
         131
        ],
        [
         2010,
         "Mercedes",
         131,
         27,
         4.851851851851852,
         221
        ],
        [
         2010,
         "Williams",
         48,
         17,
         2.823529411764706,
         276
        ],
        [
         2011,
         "Red Bull",
         308,
         36,
         8.555555555555555,
         20
        ],
        [
         2011,
         "McLaren",
         251,
         33,
         7.606060606060606,
         68
        ],
        [
         2011,
         "Ferrari",
         210,
         33,
         6.363636363636363,
         153
        ],
        [
         2011,
         "Mercedes",
         107,
         25,
         4.28,
         237
        ],
        [
         2011,
         "Williams",
         5,
         3,
         1.6666666666666667,
         284
        ],
        [
         2012,
         "Red Bull",
         232,
         32,
         7.25,
         95
        ],
        [
         2012,
         "McLaren",
         187,
         28,
         6.678571428571429,
         135
        ],
        [
         2012,
         "Ferrari",
         212,
         32,
         6.625,
         138
        ],
        [
         2012,
         "Mercedes",
         82,
         18,
         4.555555555555555,
         231
        ],
        [
         2012,
         "Williams",
         47,
         15,
         3.1333333333333333,
         272
        ],
        [
         2013,
         "Red Bull",
         277,
         33,
         8.393939393939394,
         29
        ],
        [
         2013,
         "Ferrari",
         195,
         32,
         6.09375,
         164
        ],
        [
         2013,
         "Mercedes",
         199,
         33,
         6.03030303030303,
         167
        ],
        [
         2013,
         "McLaren",
         84,
         25,
         3.36,
         268
        ],
        [
         2013,
         "Williams",
         4,
         2,
         2.0,
         280
        ],
        [
         2014,
         "Mercedes",
         300,
         32,
         9.375,
         1
        ],
        [
         2014,
         "Red Bull",
         211,
         32,
         6.59375,
         143
        ],
        [
         2014,
         "Williams",
         165,
         28,
         5.892857142857143,
         176
        ],
        [
         2014,
         "Ferrari",
         133,
         30,
         4.433333333333334,
         232
        ],
        [
         2014,
         "McLaren",
         107,
         25,
         4.28,
         237
        ],
        [
         2015,
         "Mercedes",
         316,
         35,
         9.028571428571428,
         7
        ],
        [
         2015,
         "Ferrari",
         226,
         31,
         7.290322580645161,
         91
        ],
        [
         2015,
         "Williams",
         152,
         26,
         5.846153846153846,
         180
        ],
        [
         2015,
         "Red Bull",
         115,
         27,
         4.2592592592592595,
         239
        ],
        [
         2015,
         "McLaren",
         19,
         6,
         3.1666666666666665,
         271
        ],
        [
         2016,
         "Mercedes",
         344,
         39,
         8.820512820512821,
         13
        ],
        [
         2016,
         "Red Bull",
         252,
         36,
         7.0,
         111
        ],
        [
         2016,
         "Ferrari",
         225,
         34,
         6.617647058823529,
         140
        ],
        [
         2016,
         "Williams",
         94,
         28,
         3.357142857142857,
         269
        ],
        [
         2016,
         "McLaren",
         53,
         17,
         3.1176470588235294,
         273
        ],
        [
         2017,
         "Mercedes",
         319,
         39,
         8.179487179487179,
         36
        ],
        [
         2017,
         "Ferrari",
         266,
         34,
         7.823529411764706,
         50
        ],
        [
         2017,
         "Red Bull",
         194,
         27,
         7.185185185185185,
         105
        ],
        [
         2017,
         "Williams",
         59,
         20,
         2.95,
         275
        ],
        [
         2017,
         "McLaren",
         22,
         8,
         2.75,
         277
        ],
        [
         2018,
         "Mercedes",
         316,
         39,
         8.102564102564102,
         40
        ],
        [
         2018,
         "Ferrari",
         289,
         37,
         7.8108108108108105,
         52
        ],
        [
         2018,
         "Red Bull",
         219,
         30,
         7.3,
         90
        ],
        [
         2018,
         "McLaren",
         44,
         13,
         3.3846153846153846,
         267
        ],
        [
         2018,
         "Williams",
         4,
         2,
         2.0,
         280
        ],
        [
         2019,
         "Mercedes",
         339,
         40,
         8.475,
         27
        ],
        [
         2019,
         "Ferrari",
         261,
         34,
         7.676470588235294,
         58
        ],
        [
         2019,
         "Red Bull",
         227,
         36,
         6.305555555555555,
         155
        ],
        [
         2019,
         "McLaren",
         95,
         24,
         3.9583333333333335,
         251
        ],
        [
         2019,
         "Williams",
         1,
         1,
         1.0,
         285
        ],
        [
         2020,
         "Mercedes",
         258,
         31,
         8.32258064516129,
         32
        ],
        [
         2020,
         "Red Bull",
         166,
         24,
         6.916666666666667,
         123
        ],
        [
         2020,
         "McLaren",
         122,
         25,
         4.88,
         220
        ],
        [
         2020,
         "Ferrari",
         78,
         17,
         4.588235294117647,
         228
        ]
       ],
       "datasetInfos": [],
       "dbfsResultPath": null,
       "isJsonSchema": true,
       "metadata": {
        "createTempViewForImplicitDf": true,
        "dataframeName": "_sqldf",
        "executionCount": 1
       },
       "overflow": false,
       "plotOptions": {
        "customPlotOptions": {},
        "displayType": "table",
        "pivotAggregation": null,
        "pivotColumns": null,
        "xColumns": null,
        "yColumns": null
       },
       "removedWidgets": [],
       "schema": [
        {
         "metadata": "{}",
         "name": "race_year",
         "type": "\"integer\""
        },
        {
         "metadata": "{}",
         "name": "team_name",
         "type": "\"string\""
        },
        {
         "metadata": "{}",
         "name": "total_points",
         "type": "\"long\""
        },
        {
         "metadata": "{}",
         "name": "total_races",
         "type": "\"long\""
        },
        {
         "metadata": "{}",
         "name": "avg_points",
         "type": "\"double\""
        },
        {
         "metadata": "{}",
         "name": "rank",
         "type": "\"integer\""
        }
       ],
       "type": "table"
      }
     },
     "output_type": "display_data"
    },
    {
     "output_type": "display_data",
     "data": {
      "text/plain": [
       "Databricks visualization. Run in Databricks to view."
      ]
     },
     "metadata": {
      "application/vnd.databricks.v1.subcommand+json": {
       "baseErrorDetails": null,
       "bindings": {},
       "collapsed": false,
       "command": "%sql WITH q AS (select race_year,team_name,sum(caluclated_points) as total_points,count(*) as total_races,avg(caluclated_points) as avg_points,\nrank() over (order by avg(caluclated_points)  desc) as rank\nfrom f1_presentation.calculated_race_results\nwhere team_name in (select team_name from v_dominant_teams where team_rank<=10)\ngroup by race_year,team_name\norder by race_year,avg_points desc) SELECT `race_year`,AVG(`avg_points`) `column_91b769f351`,`team_name` FROM q GROUP BY `race_year`,`team_name`",
       "commandTitle": "Visualization 1",
       "commandType": "auto",
       "commandVersion": 0,
       "commentThread": [],
       "commentsVisible": false,
       "contentSha256Hex": null,
       "customPlotOptions": {
        "redashChart": [
         {
          "key": "type",
          "value": "CHART"
         },
         {
          "key": "options",
          "value": {
           "alignYAxesAtZero": true,
           "coefficient": 1,
           "columnConfigurationMap": {
            "series": {
             "column": "team_name",
             "id": "column_91b769f348"
            },
            "x": {
             "column": "race_year",
             "id": "column_91b769f349"
            },
            "y": [
             {
              "column": "avg_points",
              "id": "column_91b769f351",
              "transform": "AVG"
             }
            ]
           },
           "dateTimeFormat": "DD/MM/YYYY HH:mm",
           "direction": {
            "type": "counterclockwise"
           },
           "error_y": {
            "type": "data",
            "visible": true
           },
           "globalSeriesType": "area",
           "isAggregationOn": true,
           "legend": {
            "traceorder": "normal"
           },
           "missingValuesAsZero": true,
           "numberFormat": "0,0.[00000]",
           "percentFormat": "0[.]00%",
           "series": {
            "error_y": {
             "type": "data",
             "visible": true
            },
            "stacking": null
           },
           "seriesOptions": {
            "column_91b769f351": {
             "type": "area",
             "yAxis": 0
            }
           },
           "showDataLabels": false,
           "sizemode": "diameter",
           "sortX": true,
           "sortY": true,
           "swappedAxes": false,
           "textFormat": "",
           "useAggregationsUi": true,
           "valuesOptions": {},
           "version": 2,
           "xAxis": {
            "labels": {
             "enabled": true
            },
            "type": "-"
           },
           "yAxis": [
            {
             "type": "-"
            },
            {
             "opposite": true,
             "type": "-"
            }
           ]
          }
         }
        ]
       },
       "datasetPreviewNameToCmdIdMap": {},
       "diffDeletes": [],
       "diffInserts": [],
       "displayType": "redashChart",
       "error": null,
       "errorDetails": null,
       "errorSummary": null,
       "errorTraceType": null,
       "finishTime": 0,
       "globalVars": {},
       "guid": "",
       "height": "auto",
       "hideCommandCode": false,
       "hideCommandResult": false,
       "iPythonMetadata": null,
       "inputWidgets": {},
       "isLockedInExamMode": false,
       "latestUser": "a user",
       "latestUserId": null,
       "listResultMetadata": null,
       "metadata": {},
       "nuid": "87d32cde-6a6d-423c-8ecf-7e116357e3e7",
       "origId": 0,
       "parentHierarchy": [],
       "pivotAggregation": null,
       "pivotColumns": null,
       "position": 3.0,
       "resultDbfsErrorMessage": null,
       "resultDbfsStatus": "INLINED_IN_TREE",
       "results": null,
       "showCommandTitle": false,
       "startTime": 0,
       "state": "input",
       "streamStates": {},
       "subcommandOptions": {
        "queryPlan": {
         "groups": [
          {
           "column": "race_year",
           "type": "column"
          },
          {
           "column": "team_name",
           "type": "column"
          }
         ],
         "selects": [
          {
           "column": "race_year",
           "type": "column"
          },
          {
           "alias": "column_91b769f351",
           "args": [
            {
             "column": "avg_points",
             "type": "column"
            }
           ],
           "function": "AVG",
           "type": "function"
          },
          {
           "column": "team_name",
           "type": "column"
          }
         ]
        }
       },
       "submitTime": 0,
       "subtype": "tableResultSubCmd.visualization",
       "tableResultIndex": 0,
       "tableResultSettingsMap": {},
       "useConsistentColors": false,
       "version": "CommandV1",
       "width": "auto",
       "workflows": [],
       "xColumns": null,
       "yColumns": null
      }
     },
     "output_type": "display_data"
    }
   ],
   "source": [
    "%sql\n",
    "select race_year,team_name,sum(caluclated_points) as total_points,count(*) as total_races,avg(caluclated_points) as avg_points,\n",
    "rank() over (order by avg(caluclated_points)  desc) as rank\n",
    "from f1_presentation.calculated_race_results\n",
    "where team_name in (select team_name from v_dominant_teams where team_rank<=10)\n",
    "group by race_year,team_name\n",
    "order by race_year,avg_points desc"
   ]
  },
  {
   "cell_type": "code",
   "execution_count": 0,
   "metadata": {
    "application/vnd.databricks.v1+cell": {
     "cellMetadata": {
      "byteLimit": 2048000,
      "implicitDf": true,
      "rowLimit": 10000
     },
     "inputWidgets": {},
     "nuid": "741bda3b-f30d-4106-9f52-ae20dcd8970e",
     "showTitle": false,
     "tableResultSettingsMap": {},
     "title": ""
    }
   },
   "outputs": [
    {
     "output_type": "display_data",
     "data": {
      "text/html": [
       "<style scoped>\n",
       "  .table-result-container {\n",
       "    max-height: 300px;\n",
       "    overflow: auto;\n",
       "  }\n",
       "  table, th, td {\n",
       "    border: 1px solid black;\n",
       "    border-collapse: collapse;\n",
       "  }\n",
       "  th, td {\n",
       "    padding: 5px;\n",
       "  }\n",
       "  th {\n",
       "    text-align: left;\n",
       "  }\n",
       "</style><div class='table-result-container'><table class='table-result'><thead style='background-color: white'><tr><th>race_year</th><th>team_name</th><th>total_points</th><th>total_races</th><th>avg_points</th><th>rank</th></tr></thead><tbody><tr><td>1950</td><td>Ferrari</td><td>57</td><td>8</td><td>7.125</td><td>108</td></tr><tr><td>1951</td><td>Ferrari</td><td>168</td><td>22</td><td>7.636363636363637</td><td>62</td></tr><tr><td>1951</td><td>BRM</td><td>10</td><td>2</td><td>5.0</td><td>213</td></tr><tr><td>1952</td><td>Ferrari</td><td>202</td><td>28</td><td>7.214285714285714</td><td>100</td></tr><tr><td>1953</td><td>Ferrari</td><td>230</td><td>35</td><td>6.571428571428571</td><td>145</td></tr><tr><td>1954</td><td>Mercedes</td><td>96</td><td>12</td><td>8.0</td><td>43</td></tr><tr><td>1954</td><td>Ferrari</td><td>175</td><td>25</td><td>7.0</td><td>111</td></tr><tr><td>1955</td><td>Mercedes</td><td>124</td><td>15</td><td>8.266666666666667</td><td>34</td></tr><tr><td>1955</td><td>Ferrari</td><td>131</td><td>21</td><td>6.238095238095238</td><td>157</td></tr><tr><td>1956</td><td>Ferrari</td><td>172</td><td>23</td><td>7.478260869565218</td><td>77</td></tr><tr><td>1957</td><td>Ferrari</td><td>130</td><td>20</td><td>6.5</td><td>148</td></tr><tr><td>1958</td><td>Ferrari</td><td>159</td><td>21</td><td>7.571428571428571</td><td>69</td></tr><tr><td>1958</td><td>BRM</td><td>60</td><td>9</td><td>6.666666666666667</td><td>136</td></tr><tr><td>1958</td><td>Team Lotus</td><td>28</td><td>7</td><td>4.0</td><td>247</td></tr><tr><td>1959</td><td>Cooper-Climax</td><td>165</td><td>22</td><td>7.5</td><td>74</td></tr><tr><td>1959</td><td>Ferrari</td><td>132</td><td>19</td><td>6.947368421052632</td><td>120</td></tr><tr><td>1959</td><td>BRM</td><td>62</td><td>11</td><td>5.636363636363637</td><td>192</td></tr><tr><td>1959</td><td>Team Lotus</td><td>22</td><td>5</td><td>4.4</td><td>233</td></tr><tr><td>1960</td><td>Cooper-Climax</td><td>213</td><td>32</td><td>6.65625</td><td>137</td></tr><tr><td>1960</td><td>Team Lotus</td><td>109</td><td>17</td><td>6.411764705882353</td><td>150</td></tr><tr><td>1960</td><td>Ferrari</td><td>102</td><td>17</td><td>6.0</td><td>168</td></tr><tr><td>1960</td><td>BRM</td><td>29</td><td>6</td><td>4.833333333333333</td><td>222</td></tr><tr><td>1961</td><td>Ferrari</td><td>152</td><td>19</td><td>8.0</td><td>43</td></tr><tr><td>1961</td><td>BRM</td><td>32</td><td>7</td><td>4.571428571428571</td><td>229</td></tr><tr><td>1961</td><td>Cooper-Climax</td><td>92</td><td>21</td><td>4.380952380952381</td><td>235</td></tr><tr><td>1962</td><td>BRM</td><td>98</td><td>14</td><td>7.0</td><td>111</td></tr><tr><td>1962</td><td>Brabham</td><td>14</td><td>2</td><td>7.0</td><td>111</td></tr><tr><td>1962</td><td>Ferrari</td><td>73</td><td>12</td><td>6.083333333333333</td><td>165</td></tr><tr><td>1962</td><td>Cooper-Climax</td><td>101</td><td>17</td><td>5.9411764705882355</td><td>172</td></tr><tr><td>1963</td><td>BRM</td><td>123</td><td>17</td><td>7.235294117647059</td><td>96</td></tr><tr><td>1963</td><td>Brabham</td><td>70</td><td>10</td><td>7.0</td><td>111</td></tr><tr><td>1963</td><td>Ferrari</td><td>53</td><td>8</td><td>6.625</td><td>138</td></tr><tr><td>1963</td><td>Cooper-Climax</td><td>97</td><td>18</td><td>5.388888888888889</td><td>201</td></tr><tr><td>1964</td><td>Ferrari</td><td>105</td><td>15</td><td>7.0</td><td>111</td></tr><tr><td>1964</td><td>BRM</td><td>144</td><td>23</td><td>6.260869565217392</td><td>156</td></tr><tr><td>1964</td><td>Cooper-Climax</td><td>53</td><td>11</td><td>4.818181818181818</td><td>224</td></tr><tr><td>1965</td><td>BRM</td><td>133</td><td>17</td><td>7.823529411764706</td><td>50</td></tr><tr><td>1965</td><td>Ferrari</td><td>86</td><td>16</td><td>5.375</td><td>204</td></tr><tr><td>1965</td><td>Cooper-Climax</td><td>42</td><td>8</td><td>5.25</td><td>207</td></tr><tr><td>1966</td><td>Ferrari</td><td>65</td><td>8</td><td>8.125</td><td>38</td></tr><tr><td>1966</td><td>BRM</td><td>68</td><td>10</td><td>6.8</td><td>128</td></tr><tr><td>1967</td><td>Cooper-Climax</td><td>9</td><td>1</td><td>9.0</td><td>8</td></tr><tr><td>1967</td><td>Ferrari</td><td>64</td><td>11</td><td>5.818181818181818</td><td>182</td></tr><tr><td>1967</td><td>BRM</td><td>66</td><td>13</td><td>5.076923076923077</td><td>210</td></tr><tr><td>1968</td><td>Ferrari</td><td>70</td><td>10</td><td>7.0</td><td>111</td></tr><tr><td>1968</td><td>BRM</td><td>72</td><td>12</td><td>6.0</td><td>168</td></tr><tr><td>1969</td><td>Ferrari</td><td>23</td><td>4</td><td>5.75</td><td>184</td></tr><tr><td>1969</td><td>BRM</td><td>25</td><td>5</td><td>5.0</td><td>213</td></tr><tr><td>1970</td><td>Ferrari</td><td>119</td><td>15</td><td>7.933333333333334</td><td>45</td></tr><tr><td>1970</td><td>Brabham</td><td>67</td><td>10</td><td>6.7</td><td>134</td></tr><tr><td>1970</td><td>Team Lotus</td><td>118</td><td>18</td><td>6.555555555555555</td><td>146</td></tr><tr><td>1970</td><td>BRM</td><td>57</td><td>11</td><td>5.181818181818182</td><td>209</td></tr><tr><td>1971</td><td>Ferrari</td><td>79</td><td>11</td><td>7.181818181818182</td><td>106</td></tr><tr><td>1971</td><td>BRM</td><td>90</td><td>19</td><td>4.7368421052631575</td><td>225</td></tr><tr><td>1971</td><td>McLaren</td><td>46</td><td>11</td><td>4.181818181818182</td><td>243</td></tr><tr><td>1971</td><td>Brabham</td><td>31</td><td>9</td><td>3.4444444444444446</td><td>265</td></tr><tr><td>1972</td><td>Team Lotus</td><td>80</td><td>11</td><td>7.2727272727272725</td><td>92</td></tr><tr><td>1972</td><td>McLaren</td><td>136</td><td>20</td><td>6.8</td><td>128</td></tr><tr><td>1972</td><td>Ferrari</td><td>99</td><td>15</td><td>6.6</td><td>141</td></tr><tr><td>1972</td><td>Brabham</td><td>48</td><td>13</td><td>3.6923076923076925</td><td>257</td></tr><tr><td>1972</td><td>BRM</td><td>46</td><td>13</td><td>3.5384615384615383</td><td>259</td></tr><tr><td>1973</td><td>Team Lotus</td><td>149</td><td>17</td><td>8.764705882352942</td><td>16</td></tr><tr><td>1973</td><td>McLaren</td><td>147</td><td>24</td><td>6.125</td><td>163</td></tr><tr><td>1973</td><td>Brabham</td><td>70</td><td>13</td><td>5.384615384615385</td><td>202</td></tr><tr><td>1973</td><td>Ferrari</td><td>54</td><td>11</td><td>4.909090909090909</td><td>219</td></tr><tr><td>1973</td><td>BRM</td><td>67</td><td>17</td><td>3.9411764705882355</td><td>252</td></tr><tr><td>1974</td><td>Ferrari</td><td>142</td><td>17</td><td>8.352941176470589</td><td>31</td></tr><tr><td>1974</td><td>Team Lotus</td><td>82</td><td>12</td><td>6.833333333333333</td><td>125</td></tr><tr><td>1974</td><td>McLaren</td><td>187</td><td>31</td><td>6.032258064516129</td><td>166</td></tr><tr><td>1974</td><td>Brabham</td><td>103</td><td>19</td><td>5.421052631578948</td><td>198</td></tr><tr><td>1974</td><td>BRM</td><td>28</td><td>8</td><td>3.5</td><td>260</td></tr><tr><td>1975</td><td>Ferrari</td><td>150</td><td>20</td><td>7.5</td><td>74</td></tr><tr><td>1975</td><td>Brabham</td><td>114</td><td>16</td><td>7.125</td><td>108</td></tr><tr><td>1975</td><td>McLaren</td><td>127</td><td>18</td><td>7.055555555555555</td><td>110</td></tr><tr><td>1975</td><td>Williams</td><td>13</td><td>2</td><td>6.5</td><td>148</td></tr><tr><td>1975</td><td>Team Lotus</td><td>40</td><td>10</td><td>4.0</td><td>247</td></tr><tr><td>1975</td><td>BRM</td><td>2</td><td>1</td><td>2.0</td><td>280</td></tr><tr><td>1976</td><td>McLaren</td><td>147</td><td>20</td><td>7.35</td><td>85</td></tr><tr><td>1976</td><td>Ferrari</td><td>159</td><td>22</td><td>7.2272727272727275</td><td>98</td></tr><tr><td>1976</td><td>Team Lotus</td><td>66</td><td>10</td><td>6.6</td><td>141</td></tr><tr><td>1976</td><td>Williams</td><td>2</td><td>1</td><td>2.0</td><td>280</td></tr><tr><td>1977</td><td>Ferrari</td><td>189</td><td>24</td><td>7.875</td><td>48</td></tr><tr><td>1977</td><td>Team Lotus</td><td>108</td><td>15</td><td>7.2</td><td>103</td></tr><tr><td>1977</td><td>McLaren</td><td>124</td><td>20</td><td>6.2</td><td>158</td></tr><tr><td>1977</td><td>Brabham</td><td>73</td><td>13</td><td>5.615384615384615</td><td>193</td></tr><tr><td>1978</td><td>Team Lotus</td><td>169</td><td>22</td><td>7.681818181818182</td><td>57</td></tr><tr><td>1978</td><td>Brabham</td><td>126</td><td>17</td><td>7.411764705882353</td><td>83</td></tr><tr><td>1978</td><td>Ferrari</td><td>119</td><td>20</td><td>5.95</td><td>171</td></tr><tr><td>1978</td><td>Williams</td><td>32</td><td>7</td><td>4.571428571428571</td><td>229</td></tr><tr><td>1978</td><td>McLaren</td><td>86</td><td>21</td><td>4.095238095238095</td><td>246</td></tr><tr><td>1979</td><td>Ferrari</td><td>183</td><td>24</td><td>7.625</td><td>64</td></tr><tr><td>1979</td><td>Williams</td><td>117</td><td>17</td><td>6.882352941176471</td><td>124</td></tr><tr><td>1979</td><td>Team Lotus</td><td>95</td><td>16</td><td>5.9375</td><td>174</td></tr><tr><td>1979</td><td>McLaren</td><td>55</td><td>13</td><td>4.230769230769231</td><td>240</td></tr><tr><td>1980</td><td>Williams</td><td>182</td><td>22</td><td>8.272727272727273</td><td>33</td></tr><tr><td>1980</td><td>Brabham</td><td>101</td><td>16</td><td>6.3125</td><td>154</td></tr><tr><td>1980</td><td>McLaren</td><td>50</td><td>10</td><td>5.0</td><td>213</td></tr><tr><td>1980</td><td>Team Lotus</td><td>48</td><td>11</td><td>4.363636363636363</td><td>236</td></tr><tr><td>1980</td><td>Ferrari</td><td>47</td><td>12</td><td>3.9166666666666665</td><td>253</td></tr><tr><td>1981</td><td>Williams</td><td>154</td><td>21</td><td>7.333333333333333</td><td>87</td></tr><tr><td>1981</td><td>Brabham</td><td>109</td><td>15</td><td>7.266666666666667</td><td>94</td></tr><tr><td>1981</td><td>Team Lotus</td><td>78</td><td>14</td><td>5.571428571428571</td><td>195</td></tr><tr><td>1981</td><td>Ferrari</td><td>72</td><td>13</td><td>5.538461538461538</td><td>196</td></tr><tr><td>1981</td><td>McLaren</td><td>70</td><td>13</td><td>5.384615384615385</td><td>202</td></tr><tr><td>1982</td><td>Brabham</td><td>65</td><td>8</td><td>8.125</td><td>38</td></tr><tr><td>1982</td><td>Ferrari</td><td>122</td><td>16</td><td>7.625</td><td>64</td></tr><tr><td>1982</td><td>McLaren</td><td>118</td><td>17</td><td>6.9411764705882355</td><td>122</td></tr><tr><td>1982</td><td>Williams</td><td>128</td><td>20</td><td>6.4</td><td>151</td></tr><tr><td>1982</td><td>Team Lotus</td><td>79</td><td>14</td><td>5.642857142857143</td><td>191</td></tr><tr><td>1983</td><td>Brabham</td><td>112</td><td>15</td><td>7.466666666666667</td><td>79</td></tr><tr><td>1983</td><td>Ferrari</td><td>148</td><td>20</td><td>7.4</td><td>84</td></tr><tr><td>1983</td><td>McLaren</td><td>74</td><td>12</td><td>6.166666666666667</td><td>160</td></tr><tr><td>1983</td><td>Williams</td><td>94</td><td>16</td><td>5.875</td><td>177</td></tr><tr><td>1983</td><td>Team Lotus</td><td>37</td><td>7</td><td>5.285714285714286</td><td>206</td></tr><tr><td>1984</td><td>McLaren</td><td>191</td><td>21</td><td>9.095238095238095</td><td>4</td></tr><tr><td>1984</td><td>Ferrari</td><td>123</td><td>18</td><td>6.833333333333333</td><td>125</td></tr><tr><td>1984</td><td>Team Lotus</td><td>115</td><td>17</td><td>6.764705882352941</td><td>132</td></tr><tr><td>1984</td><td>Williams</td><td>60</td><td>10</td><td>6.0</td><td>168</td></tr><tr><td>1984</td><td>Brabham</td><td>76</td><td>13</td><td>5.846153846153846</td><td>180</td></tr><tr><td>1985</td><td>McLaren</td><td>134</td><td>16</td><td>8.375</td><td>30</td></tr><tr><td>1985</td><td>Ferrari</td><td>147</td><td>20</td><td>7.35</td><td>85</td></tr><tr><td>1985</td><td>Williams</td><td>123</td><td>17</td><td>7.235294117647059</td><td>96</td></tr><tr><td>1985</td><td>Team Lotus</td><td>133</td><td>19</td><td>7.0</td><td>111</td></tr><tr><td>1985</td><td>Brabham</td><td>70</td><td>14</td><td>5.0</td><td>213</td></tr><tr><td>1986</td><td>Williams</td><td>205</td><td>24</td><td>8.541666666666666</td><td>21</td></tr><tr><td>1986</td><td>McLaren</td><td>161</td><td>21</td><td>7.666666666666667</td><td>59</td></tr><tr><td>1986</td><td>Team Lotus</td><td>108</td><td>16</td><td>6.75</td><td>133</td></tr><tr><td>1986</td><td>Ferrari</td><td>88</td><td>15</td><td>5.866666666666666</td><td>178</td></tr><tr><td>1986</td><td>Benetton</td><td>55</td><td>13</td><td>4.230769230769231</td><td>240</td></tr><tr><td>1986</td><td>Brabham</td><td>30</td><td>9</td><td>3.3333333333333335</td><td>270</td></tr><tr><td>1987</td><td>Williams</td><td>189</td><td>22</td><td>8.590909090909092</td><td>18</td></tr><tr><td>1987</td><td>Ferrari</td><td>92</td><td>12</td><td>7.666666666666667</td><td>59</td></tr><tr><td>1987</td><td>McLaren</td><td>149</td><td>22</td><td>6.7727272727272725</td><td>130</td></tr><tr><td>1987</td><td>Team Lotus</td><td>128</td><td>20</td><td>6.4</td><td>151</td></tr><tr><td>1987</td><td>Benetton</td><td>83</td><td>14</td><td>5.928571428571429</td><td>175</td></tr><tr><td>1987</td><td>Brabham</td><td>29</td><td>6</td><td>4.833333333333333</td><td>222</td></tr><tr><td>1988</td><td>McLaren</td><td>253</td><td>28</td><td>9.035714285714286</td><td>6</td></tr><tr><td>1988</td><td>Ferrari</td><td>129</td><td>18</td><td>7.166666666666667</td><td>107</td></tr><tr><td>1988</td><td>Williams</td><td>57</td><td>10</td><td>5.7</td><td>187</td></tr><tr><td>1988</td><td>Benetton</td><td>113</td><td>20</td><td>5.65</td><td>190</td></tr><tr><td>1988</td><td>Team Lotus</td><td>79</td><td>16</td><td>4.9375</td><td>218</td></tr><tr><td>1989</td><td>Ferrari</td><td>82</td><td>9</td><td>9.11111111111111</td><td>3</td></tr><tr><td>1989</td><td>McLaren</td><td>188</td><td>21</td><td>8.952380952380953</td><td>12</td></tr><tr><td>1989</td><td>Williams</td><td>137</td><td>19</td><td>7.2105263157894735</td><td>101</td></tr><tr><td>1989</td><td>Benetton</td><td>88</td><td>15</td><td>5.866666666666666</td><td>178</td></tr><tr><td>1989</td><td>Team Lotus</td><td>56</td><td>12</td><td>4.666666666666667</td><td>226</td></tr><tr><td>1989</td><td>Brabham</td><td>36</td><td>9</td><td>4.0</td><td>247</td></tr><tr><td>1990</td><td>Ferrari</td><td>163</td><td>19</td><td>8.578947368421053</td><td>19</td></tr><tr><td>1990</td><td>McLaren</td><td>187</td><td>22</td><td>8.5</td><td>23</td></tr><tr><td>1990</td><td>Benetton</td><td>150</td><td>23</td><td>6.521739130434782</td><td>147</td></tr><tr><td>1990</td><td>Williams</td><td>130</td><td>21</td><td>6.190476190476191</td><td>159</td></tr><tr><td>1990</td><td>Brabham</td><td>12</td><td>3</td><td>4.0</td><td>247</td></tr><tr><td>1990</td><td>Team Lotus</td><td>29</td><td>8</td><td>3.625</td><td>258</td></tr><tr><td>1991</td><td>Williams</td><td>179</td><td>21</td><td>8.523809523809524</td><td>22</td></tr><tr><td>1991</td><td>McLaren</td><td>204</td><td>24</td><td>8.5</td><td>23</td></tr><tr><td>1991</td><td>Ferrari</td><td>117</td><td>16</td><td>7.3125</td><td>88</td></tr><tr><td>1991</td><td>Benetton</td><td>109</td><td>19</td><td>5.7368421052631575</td><td>185</td></tr><tr><td>1991</td><td>Brabham</td><td>17</td><td>5</td><td>3.4</td><td>266</td></tr><tr><td>1991</td><td>Team Lotus</td><td>21</td><td>7</td><td>3.0</td><td>274</td></tr><tr><td>1992</td><td>Williams</td><td>206</td><td>23</td><td>8.956521739130435</td><td>11</td></tr><tr><td>1992</td><td>McLaren</td><td>150</td><td>19</td><td>7.894736842105263</td><td>46</td></tr><tr><td>1992</td><td>Benetton</td><td>175</td><td>23</td><td>7.608695652173913</td><td>67</td></tr><tr><td>1992</td><td>Ferrari</td><td>56</td><td>10</td><td>5.6</td><td>194</td></tr><tr><td>1992</td><td>Team Lotus</td><td>56</td><td>12</td><td>4.666666666666667</td><td>226</td></tr><tr><td>1993</td><td>Williams</td><td>217</td><td>24</td><td>9.041666666666666</td><td>5</td></tr><tr><td>1993</td><td>McLaren</td><td>128</td><td>17</td><td>7.529411764705882</td><td>71</td></tr><tr><td>1993</td><td>Benetton</td><td>130</td><td>18</td><td>7.222222222222222</td><td>99</td></tr><tr><td>1993</td><td>Ferrari</td><td>77</td><td>14</td><td>5.5</td><td>197</td></tr><tr><td>1993</td><td>Team Lotus</td><td>44</td><td>10</td><td>4.4</td><td>233</td></tr><tr><td>1994</td><td>Williams</td><td>163</td><td>20</td><td>8.15</td><td>37</td></tr><tr><td>1994</td><td>Benetton</td><td>134</td><td>17</td><td>7.882352941176471</td><td>47</td></tr><tr><td>1994</td><td>Ferrari</td><td>127</td><td>17</td><td>7.470588235294118</td><td>78</td></tr><tr><td>1994</td><td>McLaren</td><td>91</td><td>13</td><td>7.0</td><td>111</td></tr><tr><td>1994</td><td>Team Lotus</td><td>23</td><td>9</td><td>2.5555555555555554</td><td>279</td></tr><tr><td>1995</td><td>Williams</td><td>167</td><td>19</td><td>8.789473684210526</td><td>14</td></tr><tr><td>1995</td><td>Benetton</td><td>201</td><td>25</td><td>8.04</td><td>41</td></tr><tr><td>1995</td><td>Ferrari</td><td>137</td><td>18</td><td>7.611111111111111</td><td>66</td></tr><tr><td>1995</td><td>McLaren</td><td>85</td><td>17</td><td>5.0</td><td>213</td></tr><tr><td>1996</td><td>Williams</td><td>216</td><td>24</td><td>9.0</td><td>8</td></tr><tr><td>1996</td><td>Ferrari</td><td>117</td><td>16</td><td>7.3125</td><td>88</td></tr><tr><td>1996</td><td>Benetton</td><td>137</td><td>19</td><td>7.2105263157894735</td><td>101</td></tr><tr><td>1996</td><td>McLaren</td><td>129</td><td>21</td><td>6.142857142857143</td><td>162</td></tr><tr><td>1997</td><td>Williams</td><td>177</td><td>23</td><td>7.695652173913044</td><td>55</td></tr><tr><td>1997</td><td>Ferrari</td><td>160</td><td>22</td><td>7.2727272727272725</td><td>92</td></tr><tr><td>1997</td><td>McLaren</td><td>117</td><td>19</td><td>6.157894736842105</td><td>161</td></tr><tr><td>1997</td><td>Benetton</td><td>151</td><td>26</td><td>5.8076923076923075</td><td>183</td></tr><tr><td>1998</td><td>McLaren</td><td>212</td><td>25</td><td>8.48</td><td>26</td></tr><tr><td>1998</td><td>Ferrari</td><td>203</td><td>26</td><td>7.8076923076923075</td><td>53</td></tr><tr><td>1998</td><td>Williams</td><td>125</td><td>24</td><td>5.208333333333333</td><td>208</td></tr><tr><td>1998</td><td>Benetton</td><td>106</td><td>21</td><td>5.0476190476190474</td><td>211</td></tr><tr><td>1999</td><td>McLaren</td><td>170</td><td>20</td><td>8.5</td><td>23</td></tr><tr><td>1999</td><td>Ferrari</td><td>203</td><td>27</td><td>7.518518518518518</td><td>73</td></tr><tr><td>1999</td><td>Williams</td><td>91</td><td>16</td><td>5.6875</td><td>188</td></tr><tr><td>1999</td><td>Benetton</td><td>63</td><td>15</td><td>4.2</td><td>242</td></tr><tr><td>2000</td><td>Ferrari</td><td>228</td><td>26</td><td>8.76923076923077</td><td>15</td></tr><tr><td>2000</td><td>McLaren</td><td>236</td><td>28</td><td>8.428571428571429</td><td>28</td></tr><tr><td>2000</td><td>Williams</td><td>102</td><td>18</td><td>5.666666666666667</td><td>189</td></tr><tr><td>2000</td><td>Benetton</td><td>70</td><td>18</td><td>3.888888888888889</td><td>254</td></tr><tr><td>2001</td><td>Ferrari</td><td>245</td><td>28</td><td>8.75</td><td>17</td></tr><tr><td>2001</td><td>Williams</td><td>123</td><td>16</td><td>7.6875</td><td>56</td></tr><tr><td>2001</td><td>McLaren</td><td>173</td><td>23</td><td>7.521739130434782</td><td>72</td></tr><tr><td>2001</td><td>Benetton</td><td>41</td><td>10</td><td>4.1</td><td>245</td></tr><tr><td>2002</td><td>Ferrari</td><td>267</td><td>29</td><td>9.206896551724139</td><td>2</td></tr><tr><td>2002</td><td>Williams</td><td>178</td><td>24</td><td>7.416666666666667</td><td>82</td></tr><tr><td>2002</td><td>McLaren</td><td>132</td><td>19</td><td>6.947368421052632</td><td>120</td></tr><tr><td>2003</td><td>McLaren</td><td>176</td><td>23</td><td>7.6521739130434785</td><td>61</td></tr><tr><td>2003</td><td>Ferrari</td><td>193</td><td>26</td><td>7.423076923076923</td><td>81</td></tr><tr><td>2003</td><td>Williams</td><td>180</td><td>25</td><td>7.2</td><td>103</td></tr><tr><td>2004</td><td>Ferrari</td><td>287</td><td>32</td><td>8.96875</td><td>10</td></tr><tr><td>2004</td><td>Williams</td><td>130</td><td>24</td><td>5.416666666666667</td><td>200</td></tr><tr><td>2004</td><td>McLaren</td><td>106</td><td>21</td><td>5.0476190476190474</td><td>211</td></tr><tr><td>2005</td><td>McLaren</td><td>212</td><td>27</td><td>7.851851851851852</td><td>49</td></tr><tr><td>2005</td><td>Williams</td><td>97</td><td>17</td><td>5.705882352941177</td><td>186</td></tr><tr><td>2005</td><td>Ferrari</td><td>143</td><td>27</td><td>5.296296296296297</td><td>205</td></tr><tr><td>2005</td><td>Red Bull</td><td>77</td><td>22</td><td>3.5</td><td>260</td></tr><tr><td>2006</td><td>Ferrari</td><td>240</td><td>32</td><td>7.5</td><td>74</td></tr><tr><td>2006</td><td>McLaren</td><td>150</td><td>22</td><td>6.818181818181818</td><td>127</td></tr><tr><td>2006</td><td>Red Bull</td><td>35</td><td>10</td><td>3.5</td><td>260</td></tr><tr><td>2006</td><td>Williams</td><td>30</td><td>11</td><td>2.727272727272727</td><td>278</td></tr><tr><td>2007</td><td>Ferrari</td><td>238</td><td>29</td><td>8.206896551724139</td><td>35</td></tr><tr><td>2007</td><td>McLaren</td><td>257</td><td>32</td><td>8.03125</td><td>42</td></tr><tr><td>2007</td><td>Williams</td><td>61</td><td>16</td><td>3.8125</td><td>255</td></tr><tr><td>2007</td><td>Red Bull</td><td>49</td><td>14</td><td>3.5</td><td>260</td></tr><tr><td>2008</td><td>Ferrari</td><td>206</td><td>27</td><td>7.62962962962963</td><td>63</td></tr><tr><td>2008</td><td>McLaren</td><td>191</td><td>29</td><td>6.586206896551724</td><td>144</td></tr><tr><td>2008</td><td>Williams</td><td>49</td><td>13</td><td>3.769230769230769</td><td>256</td></tr><tr><td>2008</td><td>Red Bull</td><td>63</td><td>18</td><td>3.5</td><td>260</td></tr><tr><td>2009</td><td>Red Bull</td><td>185</td><td>24</td><td>7.708333333333333</td><td>54</td></tr><tr><td>2009</td><td>McLaren</td><td>101</td><td>17</td><td>5.9411764705882355</td><td>172</td></tr><tr><td>2009</td><td>Ferrari</td><td>103</td><td>19</td><td>5.421052631578948</td><td>198</td></tr><tr><td>2009</td><td>Williams</td><td>66</td><td>16</td><td>4.125</td><td>244</td></tr><tr><td>2010</td><td>Red Bull</td><td>241</td><td>32</td><td>7.53125</td><td>70</td></tr><tr><td>2010</td><td>McLaren</td><td>231</td><td>31</td><td>7.451612903225806</td><td>80</td></tr><tr><td>2010</td><td>Ferrari</td><td>203</td><td>30</td><td>6.766666666666667</td><td>131</td></tr><tr><td>2010</td><td>Mercedes</td><td>131</td><td>27</td><td>4.851851851851852</td><td>221</td></tr><tr><td>2010</td><td>Williams</td><td>48</td><td>17</td><td>2.823529411764706</td><td>276</td></tr><tr><td>2011</td><td>Red Bull</td><td>308</td><td>36</td><td>8.555555555555555</td><td>20</td></tr><tr><td>2011</td><td>McLaren</td><td>251</td><td>33</td><td>7.606060606060606</td><td>68</td></tr><tr><td>2011</td><td>Ferrari</td><td>210</td><td>33</td><td>6.363636363636363</td><td>153</td></tr><tr><td>2011</td><td>Mercedes</td><td>107</td><td>25</td><td>4.28</td><td>237</td></tr><tr><td>2011</td><td>Williams</td><td>5</td><td>3</td><td>1.6666666666666667</td><td>284</td></tr><tr><td>2012</td><td>Red Bull</td><td>232</td><td>32</td><td>7.25</td><td>95</td></tr><tr><td>2012</td><td>McLaren</td><td>187</td><td>28</td><td>6.678571428571429</td><td>135</td></tr><tr><td>2012</td><td>Ferrari</td><td>212</td><td>32</td><td>6.625</td><td>138</td></tr><tr><td>2012</td><td>Mercedes</td><td>82</td><td>18</td><td>4.555555555555555</td><td>231</td></tr><tr><td>2012</td><td>Williams</td><td>47</td><td>15</td><td>3.1333333333333333</td><td>272</td></tr><tr><td>2013</td><td>Red Bull</td><td>277</td><td>33</td><td>8.393939393939394</td><td>29</td></tr><tr><td>2013</td><td>Ferrari</td><td>195</td><td>32</td><td>6.09375</td><td>164</td></tr><tr><td>2013</td><td>Mercedes</td><td>199</td><td>33</td><td>6.03030303030303</td><td>167</td></tr><tr><td>2013</td><td>McLaren</td><td>84</td><td>25</td><td>3.36</td><td>268</td></tr><tr><td>2013</td><td>Williams</td><td>4</td><td>2</td><td>2.0</td><td>280</td></tr><tr><td>2014</td><td>Mercedes</td><td>300</td><td>32</td><td>9.375</td><td>1</td></tr><tr><td>2014</td><td>Red Bull</td><td>211</td><td>32</td><td>6.59375</td><td>143</td></tr><tr><td>2014</td><td>Williams</td><td>165</td><td>28</td><td>5.892857142857143</td><td>176</td></tr><tr><td>2014</td><td>Ferrari</td><td>133</td><td>30</td><td>4.433333333333334</td><td>232</td></tr><tr><td>2014</td><td>McLaren</td><td>107</td><td>25</td><td>4.28</td><td>237</td></tr><tr><td>2015</td><td>Mercedes</td><td>316</td><td>35</td><td>9.028571428571428</td><td>7</td></tr><tr><td>2015</td><td>Ferrari</td><td>226</td><td>31</td><td>7.290322580645161</td><td>91</td></tr><tr><td>2015</td><td>Williams</td><td>152</td><td>26</td><td>5.846153846153846</td><td>180</td></tr><tr><td>2015</td><td>Red Bull</td><td>115</td><td>27</td><td>4.2592592592592595</td><td>239</td></tr><tr><td>2015</td><td>McLaren</td><td>19</td><td>6</td><td>3.1666666666666665</td><td>271</td></tr><tr><td>2016</td><td>Mercedes</td><td>344</td><td>39</td><td>8.820512820512821</td><td>13</td></tr><tr><td>2016</td><td>Red Bull</td><td>252</td><td>36</td><td>7.0</td><td>111</td></tr><tr><td>2016</td><td>Ferrari</td><td>225</td><td>34</td><td>6.617647058823529</td><td>140</td></tr><tr><td>2016</td><td>Williams</td><td>94</td><td>28</td><td>3.357142857142857</td><td>269</td></tr><tr><td>2016</td><td>McLaren</td><td>53</td><td>17</td><td>3.1176470588235294</td><td>273</td></tr><tr><td>2017</td><td>Mercedes</td><td>319</td><td>39</td><td>8.179487179487179</td><td>36</td></tr><tr><td>2017</td><td>Ferrari</td><td>266</td><td>34</td><td>7.823529411764706</td><td>50</td></tr><tr><td>2017</td><td>Red Bull</td><td>194</td><td>27</td><td>7.185185185185185</td><td>105</td></tr><tr><td>2017</td><td>Williams</td><td>59</td><td>20</td><td>2.95</td><td>275</td></tr><tr><td>2017</td><td>McLaren</td><td>22</td><td>8</td><td>2.75</td><td>277</td></tr><tr><td>2018</td><td>Mercedes</td><td>316</td><td>39</td><td>8.102564102564102</td><td>40</td></tr><tr><td>2018</td><td>Ferrari</td><td>289</td><td>37</td><td>7.8108108108108105</td><td>52</td></tr><tr><td>2018</td><td>Red Bull</td><td>219</td><td>30</td><td>7.3</td><td>90</td></tr><tr><td>2018</td><td>McLaren</td><td>44</td><td>13</td><td>3.3846153846153846</td><td>267</td></tr><tr><td>2018</td><td>Williams</td><td>4</td><td>2</td><td>2.0</td><td>280</td></tr><tr><td>2019</td><td>Mercedes</td><td>339</td><td>40</td><td>8.475</td><td>27</td></tr><tr><td>2019</td><td>Ferrari</td><td>261</td><td>34</td><td>7.676470588235294</td><td>58</td></tr><tr><td>2019</td><td>Red Bull</td><td>227</td><td>36</td><td>6.305555555555555</td><td>155</td></tr><tr><td>2019</td><td>McLaren</td><td>95</td><td>24</td><td>3.9583333333333335</td><td>251</td></tr><tr><td>2019</td><td>Williams</td><td>1</td><td>1</td><td>1.0</td><td>285</td></tr><tr><td>2020</td><td>Mercedes</td><td>258</td><td>31</td><td>8.32258064516129</td><td>32</td></tr><tr><td>2020</td><td>Red Bull</td><td>166</td><td>24</td><td>6.916666666666667</td><td>123</td></tr><tr><td>2020</td><td>McLaren</td><td>122</td><td>25</td><td>4.88</td><td>220</td></tr><tr><td>2020</td><td>Ferrari</td><td>78</td><td>17</td><td>4.588235294117647</td><td>228</td></tr></tbody></table></div>"
      ]
     },
     "metadata": {
      "application/vnd.databricks.v1+output": {
       "addedWidgets": {},
       "aggData": [],
       "aggError": "",
       "aggOverflow": false,
       "aggSchema": [],
       "aggSeriesLimitReached": false,
       "aggType": "",
       "arguments": {},
       "columnCustomDisplayInfos": {},
       "data": [
        [
         1950,
         "Ferrari",
         57,
         8,
         7.125,
         108
        ],
        [
         1951,
         "Ferrari",
         168,
         22,
         7.636363636363637,
         62
        ],
        [
         1951,
         "BRM",
         10,
         2,
         5.0,
         213
        ],
        [
         1952,
         "Ferrari",
         202,
         28,
         7.214285714285714,
         100
        ],
        [
         1953,
         "Ferrari",
         230,
         35,
         6.571428571428571,
         145
        ],
        [
         1954,
         "Mercedes",
         96,
         12,
         8.0,
         43
        ],
        [
         1954,
         "Ferrari",
         175,
         25,
         7.0,
         111
        ],
        [
         1955,
         "Mercedes",
         124,
         15,
         8.266666666666667,
         34
        ],
        [
         1955,
         "Ferrari",
         131,
         21,
         6.238095238095238,
         157
        ],
        [
         1956,
         "Ferrari",
         172,
         23,
         7.478260869565218,
         77
        ],
        [
         1957,
         "Ferrari",
         130,
         20,
         6.5,
         148
        ],
        [
         1958,
         "Ferrari",
         159,
         21,
         7.571428571428571,
         69
        ],
        [
         1958,
         "BRM",
         60,
         9,
         6.666666666666667,
         136
        ],
        [
         1958,
         "Team Lotus",
         28,
         7,
         4.0,
         247
        ],
        [
         1959,
         "Cooper-Climax",
         165,
         22,
         7.5,
         74
        ],
        [
         1959,
         "Ferrari",
         132,
         19,
         6.947368421052632,
         120
        ],
        [
         1959,
         "BRM",
         62,
         11,
         5.636363636363637,
         192
        ],
        [
         1959,
         "Team Lotus",
         22,
         5,
         4.4,
         233
        ],
        [
         1960,
         "Cooper-Climax",
         213,
         32,
         6.65625,
         137
        ],
        [
         1960,
         "Team Lotus",
         109,
         17,
         6.411764705882353,
         150
        ],
        [
         1960,
         "Ferrari",
         102,
         17,
         6.0,
         168
        ],
        [
         1960,
         "BRM",
         29,
         6,
         4.833333333333333,
         222
        ],
        [
         1961,
         "Ferrari",
         152,
         19,
         8.0,
         43
        ],
        [
         1961,
         "BRM",
         32,
         7,
         4.571428571428571,
         229
        ],
        [
         1961,
         "Cooper-Climax",
         92,
         21,
         4.380952380952381,
         235
        ],
        [
         1962,
         "BRM",
         98,
         14,
         7.0,
         111
        ],
        [
         1962,
         "Brabham",
         14,
         2,
         7.0,
         111
        ],
        [
         1962,
         "Ferrari",
         73,
         12,
         6.083333333333333,
         165
        ],
        [
         1962,
         "Cooper-Climax",
         101,
         17,
         5.9411764705882355,
         172
        ],
        [
         1963,
         "BRM",
         123,
         17,
         7.235294117647059,
         96
        ],
        [
         1963,
         "Brabham",
         70,
         10,
         7.0,
         111
        ],
        [
         1963,
         "Ferrari",
         53,
         8,
         6.625,
         138
        ],
        [
         1963,
         "Cooper-Climax",
         97,
         18,
         5.388888888888889,
         201
        ],
        [
         1964,
         "Ferrari",
         105,
         15,
         7.0,
         111
        ],
        [
         1964,
         "BRM",
         144,
         23,
         6.260869565217392,
         156
        ],
        [
         1964,
         "Cooper-Climax",
         53,
         11,
         4.818181818181818,
         224
        ],
        [
         1965,
         "BRM",
         133,
         17,
         7.823529411764706,
         50
        ],
        [
         1965,
         "Ferrari",
         86,
         16,
         5.375,
         204
        ],
        [
         1965,
         "Cooper-Climax",
         42,
         8,
         5.25,
         207
        ],
        [
         1966,
         "Ferrari",
         65,
         8,
         8.125,
         38
        ],
        [
         1966,
         "BRM",
         68,
         10,
         6.8,
         128
        ],
        [
         1967,
         "Cooper-Climax",
         9,
         1,
         9.0,
         8
        ],
        [
         1967,
         "Ferrari",
         64,
         11,
         5.818181818181818,
         182
        ],
        [
         1967,
         "BRM",
         66,
         13,
         5.076923076923077,
         210
        ],
        [
         1968,
         "Ferrari",
         70,
         10,
         7.0,
         111
        ],
        [
         1968,
         "BRM",
         72,
         12,
         6.0,
         168
        ],
        [
         1969,
         "Ferrari",
         23,
         4,
         5.75,
         184
        ],
        [
         1969,
         "BRM",
         25,
         5,
         5.0,
         213
        ],
        [
         1970,
         "Ferrari",
         119,
         15,
         7.933333333333334,
         45
        ],
        [
         1970,
         "Brabham",
         67,
         10,
         6.7,
         134
        ],
        [
         1970,
         "Team Lotus",
         118,
         18,
         6.555555555555555,
         146
        ],
        [
         1970,
         "BRM",
         57,
         11,
         5.181818181818182,
         209
        ],
        [
         1971,
         "Ferrari",
         79,
         11,
         7.181818181818182,
         106
        ],
        [
         1971,
         "BRM",
         90,
         19,
         4.7368421052631575,
         225
        ],
        [
         1971,
         "McLaren",
         46,
         11,
         4.181818181818182,
         243
        ],
        [
         1971,
         "Brabham",
         31,
         9,
         3.4444444444444446,
         265
        ],
        [
         1972,
         "Team Lotus",
         80,
         11,
         7.2727272727272725,
         92
        ],
        [
         1972,
         "McLaren",
         136,
         20,
         6.8,
         128
        ],
        [
         1972,
         "Ferrari",
         99,
         15,
         6.6,
         141
        ],
        [
         1972,
         "Brabham",
         48,
         13,
         3.6923076923076925,
         257
        ],
        [
         1972,
         "BRM",
         46,
         13,
         3.5384615384615383,
         259
        ],
        [
         1973,
         "Team Lotus",
         149,
         17,
         8.764705882352942,
         16
        ],
        [
         1973,
         "McLaren",
         147,
         24,
         6.125,
         163
        ],
        [
         1973,
         "Brabham",
         70,
         13,
         5.384615384615385,
         202
        ],
        [
         1973,
         "Ferrari",
         54,
         11,
         4.909090909090909,
         219
        ],
        [
         1973,
         "BRM",
         67,
         17,
         3.9411764705882355,
         252
        ],
        [
         1974,
         "Ferrari",
         142,
         17,
         8.352941176470589,
         31
        ],
        [
         1974,
         "Team Lotus",
         82,
         12,
         6.833333333333333,
         125
        ],
        [
         1974,
         "McLaren",
         187,
         31,
         6.032258064516129,
         166
        ],
        [
         1974,
         "Brabham",
         103,
         19,
         5.421052631578948,
         198
        ],
        [
         1974,
         "BRM",
         28,
         8,
         3.5,
         260
        ],
        [
         1975,
         "Ferrari",
         150,
         20,
         7.5,
         74
        ],
        [
         1975,
         "Brabham",
         114,
         16,
         7.125,
         108
        ],
        [
         1975,
         "McLaren",
         127,
         18,
         7.055555555555555,
         110
        ],
        [
         1975,
         "Williams",
         13,
         2,
         6.5,
         148
        ],
        [
         1975,
         "Team Lotus",
         40,
         10,
         4.0,
         247
        ],
        [
         1975,
         "BRM",
         2,
         1,
         2.0,
         280
        ],
        [
         1976,
         "McLaren",
         147,
         20,
         7.35,
         85
        ],
        [
         1976,
         "Ferrari",
         159,
         22,
         7.2272727272727275,
         98
        ],
        [
         1976,
         "Team Lotus",
         66,
         10,
         6.6,
         141
        ],
        [
         1976,
         "Williams",
         2,
         1,
         2.0,
         280
        ],
        [
         1977,
         "Ferrari",
         189,
         24,
         7.875,
         48
        ],
        [
         1977,
         "Team Lotus",
         108,
         15,
         7.2,
         103
        ],
        [
         1977,
         "McLaren",
         124,
         20,
         6.2,
         158
        ],
        [
         1977,
         "Brabham",
         73,
         13,
         5.615384615384615,
         193
        ],
        [
         1978,
         "Team Lotus",
         169,
         22,
         7.681818181818182,
         57
        ],
        [
         1978,
         "Brabham",
         126,
         17,
         7.411764705882353,
         83
        ],
        [
         1978,
         "Ferrari",
         119,
         20,
         5.95,
         171
        ],
        [
         1978,
         "Williams",
         32,
         7,
         4.571428571428571,
         229
        ],
        [
         1978,
         "McLaren",
         86,
         21,
         4.095238095238095,
         246
        ],
        [
         1979,
         "Ferrari",
         183,
         24,
         7.625,
         64
        ],
        [
         1979,
         "Williams",
         117,
         17,
         6.882352941176471,
         124
        ],
        [
         1979,
         "Team Lotus",
         95,
         16,
         5.9375,
         174
        ],
        [
         1979,
         "McLaren",
         55,
         13,
         4.230769230769231,
         240
        ],
        [
         1980,
         "Williams",
         182,
         22,
         8.272727272727273,
         33
        ],
        [
         1980,
         "Brabham",
         101,
         16,
         6.3125,
         154
        ],
        [
         1980,
         "McLaren",
         50,
         10,
         5.0,
         213
        ],
        [
         1980,
         "Team Lotus",
         48,
         11,
         4.363636363636363,
         236
        ],
        [
         1980,
         "Ferrari",
         47,
         12,
         3.9166666666666665,
         253
        ],
        [
         1981,
         "Williams",
         154,
         21,
         7.333333333333333,
         87
        ],
        [
         1981,
         "Brabham",
         109,
         15,
         7.266666666666667,
         94
        ],
        [
         1981,
         "Team Lotus",
         78,
         14,
         5.571428571428571,
         195
        ],
        [
         1981,
         "Ferrari",
         72,
         13,
         5.538461538461538,
         196
        ],
        [
         1981,
         "McLaren",
         70,
         13,
         5.384615384615385,
         202
        ],
        [
         1982,
         "Brabham",
         65,
         8,
         8.125,
         38
        ],
        [
         1982,
         "Ferrari",
         122,
         16,
         7.625,
         64
        ],
        [
         1982,
         "McLaren",
         118,
         17,
         6.9411764705882355,
         122
        ],
        [
         1982,
         "Williams",
         128,
         20,
         6.4,
         151
        ],
        [
         1982,
         "Team Lotus",
         79,
         14,
         5.642857142857143,
         191
        ],
        [
         1983,
         "Brabham",
         112,
         15,
         7.466666666666667,
         79
        ],
        [
         1983,
         "Ferrari",
         148,
         20,
         7.4,
         84
        ],
        [
         1983,
         "McLaren",
         74,
         12,
         6.166666666666667,
         160
        ],
        [
         1983,
         "Williams",
         94,
         16,
         5.875,
         177
        ],
        [
         1983,
         "Team Lotus",
         37,
         7,
         5.285714285714286,
         206
        ],
        [
         1984,
         "McLaren",
         191,
         21,
         9.095238095238095,
         4
        ],
        [
         1984,
         "Ferrari",
         123,
         18,
         6.833333333333333,
         125
        ],
        [
         1984,
         "Team Lotus",
         115,
         17,
         6.764705882352941,
         132
        ],
        [
         1984,
         "Williams",
         60,
         10,
         6.0,
         168
        ],
        [
         1984,
         "Brabham",
         76,
         13,
         5.846153846153846,
         180
        ],
        [
         1985,
         "McLaren",
         134,
         16,
         8.375,
         30
        ],
        [
         1985,
         "Ferrari",
         147,
         20,
         7.35,
         85
        ],
        [
         1985,
         "Williams",
         123,
         17,
         7.235294117647059,
         96
        ],
        [
         1985,
         "Team Lotus",
         133,
         19,
         7.0,
         111
        ],
        [
         1985,
         "Brabham",
         70,
         14,
         5.0,
         213
        ],
        [
         1986,
         "Williams",
         205,
         24,
         8.541666666666666,
         21
        ],
        [
         1986,
         "McLaren",
         161,
         21,
         7.666666666666667,
         59
        ],
        [
         1986,
         "Team Lotus",
         108,
         16,
         6.75,
         133
        ],
        [
         1986,
         "Ferrari",
         88,
         15,
         5.866666666666666,
         178
        ],
        [
         1986,
         "Benetton",
         55,
         13,
         4.230769230769231,
         240
        ],
        [
         1986,
         "Brabham",
         30,
         9,
         3.3333333333333335,
         270
        ],
        [
         1987,
         "Williams",
         189,
         22,
         8.590909090909092,
         18
        ],
        [
         1987,
         "Ferrari",
         92,
         12,
         7.666666666666667,
         59
        ],
        [
         1987,
         "McLaren",
         149,
         22,
         6.7727272727272725,
         130
        ],
        [
         1987,
         "Team Lotus",
         128,
         20,
         6.4,
         151
        ],
        [
         1987,
         "Benetton",
         83,
         14,
         5.928571428571429,
         175
        ],
        [
         1987,
         "Brabham",
         29,
         6,
         4.833333333333333,
         222
        ],
        [
         1988,
         "McLaren",
         253,
         28,
         9.035714285714286,
         6
        ],
        [
         1988,
         "Ferrari",
         129,
         18,
         7.166666666666667,
         107
        ],
        [
         1988,
         "Williams",
         57,
         10,
         5.7,
         187
        ],
        [
         1988,
         "Benetton",
         113,
         20,
         5.65,
         190
        ],
        [
         1988,
         "Team Lotus",
         79,
         16,
         4.9375,
         218
        ],
        [
         1989,
         "Ferrari",
         82,
         9,
         9.11111111111111,
         3
        ],
        [
         1989,
         "McLaren",
         188,
         21,
         8.952380952380953,
         12
        ],
        [
         1989,
         "Williams",
         137,
         19,
         7.2105263157894735,
         101
        ],
        [
         1989,
         "Benetton",
         88,
         15,
         5.866666666666666,
         178
        ],
        [
         1989,
         "Team Lotus",
         56,
         12,
         4.666666666666667,
         226
        ],
        [
         1989,
         "Brabham",
         36,
         9,
         4.0,
         247
        ],
        [
         1990,
         "Ferrari",
         163,
         19,
         8.578947368421053,
         19
        ],
        [
         1990,
         "McLaren",
         187,
         22,
         8.5,
         23
        ],
        [
         1990,
         "Benetton",
         150,
         23,
         6.521739130434782,
         147
        ],
        [
         1990,
         "Williams",
         130,
         21,
         6.190476190476191,
         159
        ],
        [
         1990,
         "Brabham",
         12,
         3,
         4.0,
         247
        ],
        [
         1990,
         "Team Lotus",
         29,
         8,
         3.625,
         258
        ],
        [
         1991,
         "Williams",
         179,
         21,
         8.523809523809524,
         22
        ],
        [
         1991,
         "McLaren",
         204,
         24,
         8.5,
         23
        ],
        [
         1991,
         "Ferrari",
         117,
         16,
         7.3125,
         88
        ],
        [
         1991,
         "Benetton",
         109,
         19,
         5.7368421052631575,
         185
        ],
        [
         1991,
         "Brabham",
         17,
         5,
         3.4,
         266
        ],
        [
         1991,
         "Team Lotus",
         21,
         7,
         3.0,
         274
        ],
        [
         1992,
         "Williams",
         206,
         23,
         8.956521739130435,
         11
        ],
        [
         1992,
         "McLaren",
         150,
         19,
         7.894736842105263,
         46
        ],
        [
         1992,
         "Benetton",
         175,
         23,
         7.608695652173913,
         67
        ],
        [
         1992,
         "Ferrari",
         56,
         10,
         5.6,
         194
        ],
        [
         1992,
         "Team Lotus",
         56,
         12,
         4.666666666666667,
         226
        ],
        [
         1993,
         "Williams",
         217,
         24,
         9.041666666666666,
         5
        ],
        [
         1993,
         "McLaren",
         128,
         17,
         7.529411764705882,
         71
        ],
        [
         1993,
         "Benetton",
         130,
         18,
         7.222222222222222,
         99
        ],
        [
         1993,
         "Ferrari",
         77,
         14,
         5.5,
         197
        ],
        [
         1993,
         "Team Lotus",
         44,
         10,
         4.4,
         233
        ],
        [
         1994,
         "Williams",
         163,
         20,
         8.15,
         37
        ],
        [
         1994,
         "Benetton",
         134,
         17,
         7.882352941176471,
         47
        ],
        [
         1994,
         "Ferrari",
         127,
         17,
         7.470588235294118,
         78
        ],
        [
         1994,
         "McLaren",
         91,
         13,
         7.0,
         111
        ],
        [
         1994,
         "Team Lotus",
         23,
         9,
         2.5555555555555554,
         279
        ],
        [
         1995,
         "Williams",
         167,
         19,
         8.789473684210526,
         14
        ],
        [
         1995,
         "Benetton",
         201,
         25,
         8.04,
         41
        ],
        [
         1995,
         "Ferrari",
         137,
         18,
         7.611111111111111,
         66
        ],
        [
         1995,
         "McLaren",
         85,
         17,
         5.0,
         213
        ],
        [
         1996,
         "Williams",
         216,
         24,
         9.0,
         8
        ],
        [
         1996,
         "Ferrari",
         117,
         16,
         7.3125,
         88
        ],
        [
         1996,
         "Benetton",
         137,
         19,
         7.2105263157894735,
         101
        ],
        [
         1996,
         "McLaren",
         129,
         21,
         6.142857142857143,
         162
        ],
        [
         1997,
         "Williams",
         177,
         23,
         7.695652173913044,
         55
        ],
        [
         1997,
         "Ferrari",
         160,
         22,
         7.2727272727272725,
         92
        ],
        [
         1997,
         "McLaren",
         117,
         19,
         6.157894736842105,
         161
        ],
        [
         1997,
         "Benetton",
         151,
         26,
         5.8076923076923075,
         183
        ],
        [
         1998,
         "McLaren",
         212,
         25,
         8.48,
         26
        ],
        [
         1998,
         "Ferrari",
         203,
         26,
         7.8076923076923075,
         53
        ],
        [
         1998,
         "Williams",
         125,
         24,
         5.208333333333333,
         208
        ],
        [
         1998,
         "Benetton",
         106,
         21,
         5.0476190476190474,
         211
        ],
        [
         1999,
         "McLaren",
         170,
         20,
         8.5,
         23
        ],
        [
         1999,
         "Ferrari",
         203,
         27,
         7.518518518518518,
         73
        ],
        [
         1999,
         "Williams",
         91,
         16,
         5.6875,
         188
        ],
        [
         1999,
         "Benetton",
         63,
         15,
         4.2,
         242
        ],
        [
         2000,
         "Ferrari",
         228,
         26,
         8.76923076923077,
         15
        ],
        [
         2000,
         "McLaren",
         236,
         28,
         8.428571428571429,
         28
        ],
        [
         2000,
         "Williams",
         102,
         18,
         5.666666666666667,
         189
        ],
        [
         2000,
         "Benetton",
         70,
         18,
         3.888888888888889,
         254
        ],
        [
         2001,
         "Ferrari",
         245,
         28,
         8.75,
         17
        ],
        [
         2001,
         "Williams",
         123,
         16,
         7.6875,
         56
        ],
        [
         2001,
         "McLaren",
         173,
         23,
         7.521739130434782,
         72
        ],
        [
         2001,
         "Benetton",
         41,
         10,
         4.1,
         245
        ],
        [
         2002,
         "Ferrari",
         267,
         29,
         9.206896551724139,
         2
        ],
        [
         2002,
         "Williams",
         178,
         24,
         7.416666666666667,
         82
        ],
        [
         2002,
         "McLaren",
         132,
         19,
         6.947368421052632,
         120
        ],
        [
         2003,
         "McLaren",
         176,
         23,
         7.6521739130434785,
         61
        ],
        [
         2003,
         "Ferrari",
         193,
         26,
         7.423076923076923,
         81
        ],
        [
         2003,
         "Williams",
         180,
         25,
         7.2,
         103
        ],
        [
         2004,
         "Ferrari",
         287,
         32,
         8.96875,
         10
        ],
        [
         2004,
         "Williams",
         130,
         24,
         5.416666666666667,
         200
        ],
        [
         2004,
         "McLaren",
         106,
         21,
         5.0476190476190474,
         211
        ],
        [
         2005,
         "McLaren",
         212,
         27,
         7.851851851851852,
         49
        ],
        [
         2005,
         "Williams",
         97,
         17,
         5.705882352941177,
         186
        ],
        [
         2005,
         "Ferrari",
         143,
         27,
         5.296296296296297,
         205
        ],
        [
         2005,
         "Red Bull",
         77,
         22,
         3.5,
         260
        ],
        [
         2006,
         "Ferrari",
         240,
         32,
         7.5,
         74
        ],
        [
         2006,
         "McLaren",
         150,
         22,
         6.818181818181818,
         127
        ],
        [
         2006,
         "Red Bull",
         35,
         10,
         3.5,
         260
        ],
        [
         2006,
         "Williams",
         30,
         11,
         2.727272727272727,
         278
        ],
        [
         2007,
         "Ferrari",
         238,
         29,
         8.206896551724139,
         35
        ],
        [
         2007,
         "McLaren",
         257,
         32,
         8.03125,
         42
        ],
        [
         2007,
         "Williams",
         61,
         16,
         3.8125,
         255
        ],
        [
         2007,
         "Red Bull",
         49,
         14,
         3.5,
         260
        ],
        [
         2008,
         "Ferrari",
         206,
         27,
         7.62962962962963,
         63
        ],
        [
         2008,
         "McLaren",
         191,
         29,
         6.586206896551724,
         144
        ],
        [
         2008,
         "Williams",
         49,
         13,
         3.769230769230769,
         256
        ],
        [
         2008,
         "Red Bull",
         63,
         18,
         3.5,
         260
        ],
        [
         2009,
         "Red Bull",
         185,
         24,
         7.708333333333333,
         54
        ],
        [
         2009,
         "McLaren",
         101,
         17,
         5.9411764705882355,
         172
        ],
        [
         2009,
         "Ferrari",
         103,
         19,
         5.421052631578948,
         198
        ],
        [
         2009,
         "Williams",
         66,
         16,
         4.125,
         244
        ],
        [
         2010,
         "Red Bull",
         241,
         32,
         7.53125,
         70
        ],
        [
         2010,
         "McLaren",
         231,
         31,
         7.451612903225806,
         80
        ],
        [
         2010,
         "Ferrari",
         203,
         30,
         6.766666666666667,
         131
        ],
        [
         2010,
         "Mercedes",
         131,
         27,
         4.851851851851852,
         221
        ],
        [
         2010,
         "Williams",
         48,
         17,
         2.823529411764706,
         276
        ],
        [
         2011,
         "Red Bull",
         308,
         36,
         8.555555555555555,
         20
        ],
        [
         2011,
         "McLaren",
         251,
         33,
         7.606060606060606,
         68
        ],
        [
         2011,
         "Ferrari",
         210,
         33,
         6.363636363636363,
         153
        ],
        [
         2011,
         "Mercedes",
         107,
         25,
         4.28,
         237
        ],
        [
         2011,
         "Williams",
         5,
         3,
         1.6666666666666667,
         284
        ],
        [
         2012,
         "Red Bull",
         232,
         32,
         7.25,
         95
        ],
        [
         2012,
         "McLaren",
         187,
         28,
         6.678571428571429,
         135
        ],
        [
         2012,
         "Ferrari",
         212,
         32,
         6.625,
         138
        ],
        [
         2012,
         "Mercedes",
         82,
         18,
         4.555555555555555,
         231
        ],
        [
         2012,
         "Williams",
         47,
         15,
         3.1333333333333333,
         272
        ],
        [
         2013,
         "Red Bull",
         277,
         33,
         8.393939393939394,
         29
        ],
        [
         2013,
         "Ferrari",
         195,
         32,
         6.09375,
         164
        ],
        [
         2013,
         "Mercedes",
         199,
         33,
         6.03030303030303,
         167
        ],
        [
         2013,
         "McLaren",
         84,
         25,
         3.36,
         268
        ],
        [
         2013,
         "Williams",
         4,
         2,
         2.0,
         280
        ],
        [
         2014,
         "Mercedes",
         300,
         32,
         9.375,
         1
        ],
        [
         2014,
         "Red Bull",
         211,
         32,
         6.59375,
         143
        ],
        [
         2014,
         "Williams",
         165,
         28,
         5.892857142857143,
         176
        ],
        [
         2014,
         "Ferrari",
         133,
         30,
         4.433333333333334,
         232
        ],
        [
         2014,
         "McLaren",
         107,
         25,
         4.28,
         237
        ],
        [
         2015,
         "Mercedes",
         316,
         35,
         9.028571428571428,
         7
        ],
        [
         2015,
         "Ferrari",
         226,
         31,
         7.290322580645161,
         91
        ],
        [
         2015,
         "Williams",
         152,
         26,
         5.846153846153846,
         180
        ],
        [
         2015,
         "Red Bull",
         115,
         27,
         4.2592592592592595,
         239
        ],
        [
         2015,
         "McLaren",
         19,
         6,
         3.1666666666666665,
         271
        ],
        [
         2016,
         "Mercedes",
         344,
         39,
         8.820512820512821,
         13
        ],
        [
         2016,
         "Red Bull",
         252,
         36,
         7.0,
         111
        ],
        [
         2016,
         "Ferrari",
         225,
         34,
         6.617647058823529,
         140
        ],
        [
         2016,
         "Williams",
         94,
         28,
         3.357142857142857,
         269
        ],
        [
         2016,
         "McLaren",
         53,
         17,
         3.1176470588235294,
         273
        ],
        [
         2017,
         "Mercedes",
         319,
         39,
         8.179487179487179,
         36
        ],
        [
         2017,
         "Ferrari",
         266,
         34,
         7.823529411764706,
         50
        ],
        [
         2017,
         "Red Bull",
         194,
         27,
         7.185185185185185,
         105
        ],
        [
         2017,
         "Williams",
         59,
         20,
         2.95,
         275
        ],
        [
         2017,
         "McLaren",
         22,
         8,
         2.75,
         277
        ],
        [
         2018,
         "Mercedes",
         316,
         39,
         8.102564102564102,
         40
        ],
        [
         2018,
         "Ferrari",
         289,
         37,
         7.8108108108108105,
         52
        ],
        [
         2018,
         "Red Bull",
         219,
         30,
         7.3,
         90
        ],
        [
         2018,
         "McLaren",
         44,
         13,
         3.3846153846153846,
         267
        ],
        [
         2018,
         "Williams",
         4,
         2,
         2.0,
         280
        ],
        [
         2019,
         "Mercedes",
         339,
         40,
         8.475,
         27
        ],
        [
         2019,
         "Ferrari",
         261,
         34,
         7.676470588235294,
         58
        ],
        [
         2019,
         "Red Bull",
         227,
         36,
         6.305555555555555,
         155
        ],
        [
         2019,
         "McLaren",
         95,
         24,
         3.9583333333333335,
         251
        ],
        [
         2019,
         "Williams",
         1,
         1,
         1.0,
         285
        ],
        [
         2020,
         "Mercedes",
         258,
         31,
         8.32258064516129,
         32
        ],
        [
         2020,
         "Red Bull",
         166,
         24,
         6.916666666666667,
         123
        ],
        [
         2020,
         "McLaren",
         122,
         25,
         4.88,
         220
        ],
        [
         2020,
         "Ferrari",
         78,
         17,
         4.588235294117647,
         228
        ]
       ],
       "datasetInfos": [],
       "dbfsResultPath": null,
       "isJsonSchema": true,
       "metadata": {
        "createTempViewForImplicitDf": true,
        "dataframeName": "_sqldf",
        "executionCount": 2
       },
       "overflow": false,
       "plotOptions": {
        "customPlotOptions": {},
        "displayType": "table",
        "pivotAggregation": null,
        "pivotColumns": null,
        "xColumns": null,
        "yColumns": null
       },
       "removedWidgets": [],
       "schema": [
        {
         "metadata": "{}",
         "name": "race_year",
         "type": "\"integer\""
        },
        {
         "metadata": "{}",
         "name": "team_name",
         "type": "\"string\""
        },
        {
         "metadata": "{}",
         "name": "total_points",
         "type": "\"long\""
        },
        {
         "metadata": "{}",
         "name": "total_races",
         "type": "\"long\""
        },
        {
         "metadata": "{}",
         "name": "avg_points",
         "type": "\"double\""
        },
        {
         "metadata": "{}",
         "name": "rank",
         "type": "\"integer\""
        }
       ],
       "type": "table"
      }
     },
     "output_type": "display_data"
    },
    {
     "output_type": "display_data",
     "data": {
      "text/plain": [
       "Databricks visualization. Run in Databricks to view."
      ]
     },
     "metadata": {
      "application/vnd.databricks.v1.subcommand+json": {
       "baseErrorDetails": null,
       "bindings": {},
       "collapsed": false,
       "command": "%sql WITH q AS (select race_year,team_name,sum(caluclated_points) as total_points,count(*) as total_races,avg(caluclated_points) as avg_points,\nrank() over (order by avg(caluclated_points)  desc) as rank\nfrom f1_presentation.calculated_race_results\nwhere team_name in (select team_name from v_dominant_teams where team_rank<=10)\ngroup by race_year,team_name\norder by race_year,avg_points desc) SELECT `race_year`,AVG(`avg_points`) `column_91b769f356`,`team_name` FROM q GROUP BY `race_year`,`team_name`",
       "commandTitle": "Visualization 1",
       "commandType": "auto",
       "commandVersion": 0,
       "commentThread": [],
       "commentsVisible": false,
       "contentSha256Hex": null,
       "customPlotOptions": {
        "redashChart": [
         {
          "key": "type",
          "value": "CHART"
         },
         {
          "key": "options",
          "value": {
           "alignYAxesAtZero": true,
           "coefficient": 1,
           "columnConfigurationMap": {
            "series": {
             "column": "team_name",
             "id": "column_91b769f354"
            },
            "x": {
             "column": "race_year",
             "id": "column_91b769f353"
            },
            "y": [
             {
              "column": "avg_points",
              "id": "column_91b769f356",
              "transform": "AVG"
             }
            ]
           },
           "dateTimeFormat": "DD/MM/YYYY HH:mm",
           "direction": {
            "type": "counterclockwise"
           },
           "error_y": {
            "type": "data",
            "visible": true
           },
           "globalSeriesType": "column",
           "isAggregationOn": true,
           "legend": {
            "traceorder": "normal"
           },
           "missingValuesAsZero": true,
           "numberFormat": "0,0.[00000]",
           "percentFormat": "0[.]00%",
           "series": {
            "error_y": {
             "type": "data",
             "visible": true
            },
            "stacking": null
           },
           "seriesOptions": {
            "column_91b769f356": {
             "type": "column",
             "yAxis": 0
            }
           },
           "showDataLabels": false,
           "sizemode": "diameter",
           "sortX": true,
           "sortY": true,
           "swappedAxes": false,
           "textFormat": "",
           "useAggregationsUi": true,
           "valuesOptions": {},
           "version": 2,
           "xAxis": {
            "labels": {
             "enabled": true
            },
            "type": "-"
           },
           "yAxis": [
            {
             "type": "-"
            },
            {
             "opposite": true,
             "type": "-"
            }
           ]
          }
         }
        ]
       },
       "datasetPreviewNameToCmdIdMap": {},
       "diffDeletes": [],
       "diffInserts": [],
       "displayType": "redashChart",
       "error": null,
       "errorDetails": null,
       "errorSummary": null,
       "errorTraceType": null,
       "finishTime": 0,
       "globalVars": {},
       "guid": "",
       "height": "auto",
       "hideCommandCode": false,
       "hideCommandResult": false,
       "iPythonMetadata": null,
       "inputWidgets": {},
       "isLockedInExamMode": false,
       "latestUser": "a user",
       "latestUserId": null,
       "listResultMetadata": null,
       "metadata": {},
       "nuid": "e899041a-b993-4dd9-bb89-a40953d7c7a2",
       "origId": 0,
       "parentHierarchy": [],
       "pivotAggregation": null,
       "pivotColumns": null,
       "position": 4.0,
       "resultDbfsErrorMessage": null,
       "resultDbfsStatus": "INLINED_IN_TREE",
       "results": null,
       "showCommandTitle": false,
       "startTime": 0,
       "state": "input",
       "streamStates": {},
       "subcommandOptions": {
        "queryPlan": {
         "groups": [
          {
           "column": "race_year",
           "type": "column"
          },
          {
           "column": "team_name",
           "type": "column"
          }
         ],
         "selects": [
          {
           "column": "race_year",
           "type": "column"
          },
          {
           "alias": "column_91b769f356",
           "args": [
            {
             "column": "avg_points",
             "type": "column"
            }
           ],
           "function": "AVG",
           "type": "function"
          },
          {
           "column": "team_name",
           "type": "column"
          }
         ]
        }
       },
       "submitTime": 0,
       "subtype": "tableResultSubCmd.visualization",
       "tableResultIndex": 0,
       "tableResultSettingsMap": {},
       "useConsistentColors": false,
       "version": "CommandV1",
       "width": "auto",
       "workflows": [],
       "xColumns": null,
       "yColumns": null
      }
     },
     "output_type": "display_data"
    }
   ],
   "source": [
    "%sql\n",
    "select race_year,team_name,sum(caluclated_points) as total_points,count(*) as total_races,avg(caluclated_points) as avg_points,\n",
    "rank() over (order by avg(caluclated_points)  desc) as rank\n",
    "from f1_presentation.calculated_race_results\n",
    "where team_name in (select team_name from v_dominant_teams where team_rank<=10)\n",
    "group by race_year,team_name\n",
    "order by race_year,avg_points desc"
   ]
  },
  {
   "cell_type": "code",
   "execution_count": 0,
   "metadata": {
    "application/vnd.databricks.v1+cell": {
     "cellMetadata": {
      "byteLimit": 2048000,
      "rowLimit": 10000
     },
     "inputWidgets": {},
     "nuid": "d8e36dc4-9491-4015-9d1f-c36a67159638",
     "showTitle": false,
     "tableResultSettingsMap": {},
     "title": ""
    }
   },
   "outputs": [
    {
     "output_type": "display_data",
     "data": {
      "text/html": [
       "<h1 style=\"color:Black;text-align:center;font-family:Ariel\">Report on Dominant Teams In Formula 1</h1>"
      ]
     },
     "metadata": {},
     "output_type": "display_data"
    }
   ],
   "source": [
    "html=\"\"\"<h1 style=\"color:Black;text-align:center;font-family:Ariel\">Report on Dominant Teams In Formula 1</h1>\"\"\"\n",
    "displayHTML(html)"
   ]
  },
  {
   "cell_type": "code",
   "execution_count": 0,
   "metadata": {
    "application/vnd.databricks.v1+cell": {
     "cellMetadata": {
      "byteLimit": 2048000,
      "implicitDf": true,
      "rowLimit": 10000
     },
     "inputWidgets": {},
     "nuid": "c6f3cd0e-7eb2-4027-bc90-ad0625adf82f",
     "showTitle": false,
     "tableResultSettingsMap": {},
     "title": ""
    }
   },
   "outputs": [
    {
     "output_type": "display_data",
     "data": {
      "text/html": [
       "<style scoped>\n",
       "  .table-result-container {\n",
       "    max-height: 300px;\n",
       "    overflow: auto;\n",
       "  }\n",
       "  table, th, td {\n",
       "    border: 1px solid black;\n",
       "    border-collapse: collapse;\n",
       "  }\n",
       "  th, td {\n",
       "    padding: 5px;\n",
       "  }\n",
       "  th {\n",
       "    text-align: left;\n",
       "  }\n",
       "</style><div class='table-result-container'><table class='table-result'><thead style='background-color: white'><tr><th>race_year</th><th>team_name</th><th>total_points</th><th>total_races</th><th>avg_points</th><th>rank</th></tr></thead><tbody><tr><td>1950</td><td>Ferrari</td><td>57</td><td>8</td><td>7.125</td><td>108</td></tr><tr><td>1951</td><td>Ferrari</td><td>168</td><td>22</td><td>7.636363636363637</td><td>62</td></tr><tr><td>1951</td><td>BRM</td><td>10</td><td>2</td><td>5.0</td><td>213</td></tr><tr><td>1952</td><td>Ferrari</td><td>202</td><td>28</td><td>7.214285714285714</td><td>100</td></tr><tr><td>1953</td><td>Ferrari</td><td>230</td><td>35</td><td>6.571428571428571</td><td>145</td></tr><tr><td>1954</td><td>Mercedes</td><td>96</td><td>12</td><td>8.0</td><td>43</td></tr><tr><td>1954</td><td>Ferrari</td><td>175</td><td>25</td><td>7.0</td><td>111</td></tr><tr><td>1955</td><td>Mercedes</td><td>124</td><td>15</td><td>8.266666666666667</td><td>34</td></tr><tr><td>1955</td><td>Ferrari</td><td>131</td><td>21</td><td>6.238095238095238</td><td>157</td></tr><tr><td>1956</td><td>Ferrari</td><td>172</td><td>23</td><td>7.478260869565218</td><td>77</td></tr><tr><td>1957</td><td>Ferrari</td><td>130</td><td>20</td><td>6.5</td><td>148</td></tr><tr><td>1958</td><td>Ferrari</td><td>159</td><td>21</td><td>7.571428571428571</td><td>69</td></tr><tr><td>1958</td><td>BRM</td><td>60</td><td>9</td><td>6.666666666666667</td><td>136</td></tr><tr><td>1958</td><td>Team Lotus</td><td>28</td><td>7</td><td>4.0</td><td>247</td></tr><tr><td>1959</td><td>Cooper-Climax</td><td>165</td><td>22</td><td>7.5</td><td>74</td></tr><tr><td>1959</td><td>Ferrari</td><td>132</td><td>19</td><td>6.947368421052632</td><td>120</td></tr><tr><td>1959</td><td>BRM</td><td>62</td><td>11</td><td>5.636363636363637</td><td>192</td></tr><tr><td>1959</td><td>Team Lotus</td><td>22</td><td>5</td><td>4.4</td><td>233</td></tr><tr><td>1960</td><td>Cooper-Climax</td><td>213</td><td>32</td><td>6.65625</td><td>137</td></tr><tr><td>1960</td><td>Team Lotus</td><td>109</td><td>17</td><td>6.411764705882353</td><td>150</td></tr><tr><td>1960</td><td>Ferrari</td><td>102</td><td>17</td><td>6.0</td><td>168</td></tr><tr><td>1960</td><td>BRM</td><td>29</td><td>6</td><td>4.833333333333333</td><td>222</td></tr><tr><td>1961</td><td>Ferrari</td><td>152</td><td>19</td><td>8.0</td><td>43</td></tr><tr><td>1961</td><td>BRM</td><td>32</td><td>7</td><td>4.571428571428571</td><td>229</td></tr><tr><td>1961</td><td>Cooper-Climax</td><td>92</td><td>21</td><td>4.380952380952381</td><td>235</td></tr><tr><td>1962</td><td>BRM</td><td>98</td><td>14</td><td>7.0</td><td>111</td></tr><tr><td>1962</td><td>Brabham</td><td>14</td><td>2</td><td>7.0</td><td>111</td></tr><tr><td>1962</td><td>Ferrari</td><td>73</td><td>12</td><td>6.083333333333333</td><td>165</td></tr><tr><td>1962</td><td>Cooper-Climax</td><td>101</td><td>17</td><td>5.9411764705882355</td><td>172</td></tr><tr><td>1963</td><td>BRM</td><td>123</td><td>17</td><td>7.235294117647059</td><td>96</td></tr><tr><td>1963</td><td>Brabham</td><td>70</td><td>10</td><td>7.0</td><td>111</td></tr><tr><td>1963</td><td>Ferrari</td><td>53</td><td>8</td><td>6.625</td><td>138</td></tr><tr><td>1963</td><td>Cooper-Climax</td><td>97</td><td>18</td><td>5.388888888888889</td><td>201</td></tr><tr><td>1964</td><td>Ferrari</td><td>105</td><td>15</td><td>7.0</td><td>111</td></tr><tr><td>1964</td><td>BRM</td><td>144</td><td>23</td><td>6.260869565217392</td><td>156</td></tr><tr><td>1964</td><td>Cooper-Climax</td><td>53</td><td>11</td><td>4.818181818181818</td><td>224</td></tr><tr><td>1965</td><td>BRM</td><td>133</td><td>17</td><td>7.823529411764706</td><td>50</td></tr><tr><td>1965</td><td>Ferrari</td><td>86</td><td>16</td><td>5.375</td><td>204</td></tr><tr><td>1965</td><td>Cooper-Climax</td><td>42</td><td>8</td><td>5.25</td><td>207</td></tr><tr><td>1966</td><td>Ferrari</td><td>65</td><td>8</td><td>8.125</td><td>38</td></tr><tr><td>1966</td><td>BRM</td><td>68</td><td>10</td><td>6.8</td><td>128</td></tr><tr><td>1967</td><td>Cooper-Climax</td><td>9</td><td>1</td><td>9.0</td><td>8</td></tr><tr><td>1967</td><td>Ferrari</td><td>64</td><td>11</td><td>5.818181818181818</td><td>182</td></tr><tr><td>1967</td><td>BRM</td><td>66</td><td>13</td><td>5.076923076923077</td><td>210</td></tr><tr><td>1968</td><td>Ferrari</td><td>70</td><td>10</td><td>7.0</td><td>111</td></tr><tr><td>1968</td><td>BRM</td><td>72</td><td>12</td><td>6.0</td><td>168</td></tr><tr><td>1969</td><td>Ferrari</td><td>23</td><td>4</td><td>5.75</td><td>184</td></tr><tr><td>1969</td><td>BRM</td><td>25</td><td>5</td><td>5.0</td><td>213</td></tr><tr><td>1970</td><td>Ferrari</td><td>119</td><td>15</td><td>7.933333333333334</td><td>45</td></tr><tr><td>1970</td><td>Brabham</td><td>67</td><td>10</td><td>6.7</td><td>134</td></tr><tr><td>1970</td><td>Team Lotus</td><td>118</td><td>18</td><td>6.555555555555555</td><td>146</td></tr><tr><td>1970</td><td>BRM</td><td>57</td><td>11</td><td>5.181818181818182</td><td>209</td></tr><tr><td>1971</td><td>Ferrari</td><td>79</td><td>11</td><td>7.181818181818182</td><td>106</td></tr><tr><td>1971</td><td>BRM</td><td>90</td><td>19</td><td>4.7368421052631575</td><td>225</td></tr><tr><td>1971</td><td>McLaren</td><td>46</td><td>11</td><td>4.181818181818182</td><td>243</td></tr><tr><td>1971</td><td>Brabham</td><td>31</td><td>9</td><td>3.4444444444444446</td><td>265</td></tr><tr><td>1972</td><td>Team Lotus</td><td>80</td><td>11</td><td>7.2727272727272725</td><td>92</td></tr><tr><td>1972</td><td>McLaren</td><td>136</td><td>20</td><td>6.8</td><td>128</td></tr><tr><td>1972</td><td>Ferrari</td><td>99</td><td>15</td><td>6.6</td><td>141</td></tr><tr><td>1972</td><td>Brabham</td><td>48</td><td>13</td><td>3.6923076923076925</td><td>257</td></tr><tr><td>1972</td><td>BRM</td><td>46</td><td>13</td><td>3.5384615384615383</td><td>259</td></tr><tr><td>1973</td><td>Team Lotus</td><td>149</td><td>17</td><td>8.764705882352942</td><td>16</td></tr><tr><td>1973</td><td>McLaren</td><td>147</td><td>24</td><td>6.125</td><td>163</td></tr><tr><td>1973</td><td>Brabham</td><td>70</td><td>13</td><td>5.384615384615385</td><td>202</td></tr><tr><td>1973</td><td>Ferrari</td><td>54</td><td>11</td><td>4.909090909090909</td><td>219</td></tr><tr><td>1973</td><td>BRM</td><td>67</td><td>17</td><td>3.9411764705882355</td><td>252</td></tr><tr><td>1974</td><td>Ferrari</td><td>142</td><td>17</td><td>8.352941176470589</td><td>31</td></tr><tr><td>1974</td><td>Team Lotus</td><td>82</td><td>12</td><td>6.833333333333333</td><td>125</td></tr><tr><td>1974</td><td>McLaren</td><td>187</td><td>31</td><td>6.032258064516129</td><td>166</td></tr><tr><td>1974</td><td>Brabham</td><td>103</td><td>19</td><td>5.421052631578948</td><td>198</td></tr><tr><td>1974</td><td>BRM</td><td>28</td><td>8</td><td>3.5</td><td>260</td></tr><tr><td>1975</td><td>Ferrari</td><td>150</td><td>20</td><td>7.5</td><td>74</td></tr><tr><td>1975</td><td>Brabham</td><td>114</td><td>16</td><td>7.125</td><td>108</td></tr><tr><td>1975</td><td>McLaren</td><td>127</td><td>18</td><td>7.055555555555555</td><td>110</td></tr><tr><td>1975</td><td>Williams</td><td>13</td><td>2</td><td>6.5</td><td>148</td></tr><tr><td>1975</td><td>Team Lotus</td><td>40</td><td>10</td><td>4.0</td><td>247</td></tr><tr><td>1975</td><td>BRM</td><td>2</td><td>1</td><td>2.0</td><td>280</td></tr><tr><td>1976</td><td>McLaren</td><td>147</td><td>20</td><td>7.35</td><td>85</td></tr><tr><td>1976</td><td>Ferrari</td><td>159</td><td>22</td><td>7.2272727272727275</td><td>98</td></tr><tr><td>1976</td><td>Team Lotus</td><td>66</td><td>10</td><td>6.6</td><td>141</td></tr><tr><td>1976</td><td>Williams</td><td>2</td><td>1</td><td>2.0</td><td>280</td></tr><tr><td>1977</td><td>Ferrari</td><td>189</td><td>24</td><td>7.875</td><td>48</td></tr><tr><td>1977</td><td>Team Lotus</td><td>108</td><td>15</td><td>7.2</td><td>103</td></tr><tr><td>1977</td><td>McLaren</td><td>124</td><td>20</td><td>6.2</td><td>158</td></tr><tr><td>1977</td><td>Brabham</td><td>73</td><td>13</td><td>5.615384615384615</td><td>193</td></tr><tr><td>1978</td><td>Team Lotus</td><td>169</td><td>22</td><td>7.681818181818182</td><td>57</td></tr><tr><td>1978</td><td>Brabham</td><td>126</td><td>17</td><td>7.411764705882353</td><td>83</td></tr><tr><td>1978</td><td>Ferrari</td><td>119</td><td>20</td><td>5.95</td><td>171</td></tr><tr><td>1978</td><td>Williams</td><td>32</td><td>7</td><td>4.571428571428571</td><td>229</td></tr><tr><td>1978</td><td>McLaren</td><td>86</td><td>21</td><td>4.095238095238095</td><td>246</td></tr><tr><td>1979</td><td>Ferrari</td><td>183</td><td>24</td><td>7.625</td><td>64</td></tr><tr><td>1979</td><td>Williams</td><td>117</td><td>17</td><td>6.882352941176471</td><td>124</td></tr><tr><td>1979</td><td>Team Lotus</td><td>95</td><td>16</td><td>5.9375</td><td>174</td></tr><tr><td>1979</td><td>McLaren</td><td>55</td><td>13</td><td>4.230769230769231</td><td>240</td></tr><tr><td>1980</td><td>Williams</td><td>182</td><td>22</td><td>8.272727272727273</td><td>33</td></tr><tr><td>1980</td><td>Brabham</td><td>101</td><td>16</td><td>6.3125</td><td>154</td></tr><tr><td>1980</td><td>McLaren</td><td>50</td><td>10</td><td>5.0</td><td>213</td></tr><tr><td>1980</td><td>Team Lotus</td><td>48</td><td>11</td><td>4.363636363636363</td><td>236</td></tr><tr><td>1980</td><td>Ferrari</td><td>47</td><td>12</td><td>3.9166666666666665</td><td>253</td></tr><tr><td>1981</td><td>Williams</td><td>154</td><td>21</td><td>7.333333333333333</td><td>87</td></tr><tr><td>1981</td><td>Brabham</td><td>109</td><td>15</td><td>7.266666666666667</td><td>94</td></tr><tr><td>1981</td><td>Team Lotus</td><td>78</td><td>14</td><td>5.571428571428571</td><td>195</td></tr><tr><td>1981</td><td>Ferrari</td><td>72</td><td>13</td><td>5.538461538461538</td><td>196</td></tr><tr><td>1981</td><td>McLaren</td><td>70</td><td>13</td><td>5.384615384615385</td><td>202</td></tr><tr><td>1982</td><td>Brabham</td><td>65</td><td>8</td><td>8.125</td><td>38</td></tr><tr><td>1982</td><td>Ferrari</td><td>122</td><td>16</td><td>7.625</td><td>64</td></tr><tr><td>1982</td><td>McLaren</td><td>118</td><td>17</td><td>6.9411764705882355</td><td>122</td></tr><tr><td>1982</td><td>Williams</td><td>128</td><td>20</td><td>6.4</td><td>151</td></tr><tr><td>1982</td><td>Team Lotus</td><td>79</td><td>14</td><td>5.642857142857143</td><td>191</td></tr><tr><td>1983</td><td>Brabham</td><td>112</td><td>15</td><td>7.466666666666667</td><td>79</td></tr><tr><td>1983</td><td>Ferrari</td><td>148</td><td>20</td><td>7.4</td><td>84</td></tr><tr><td>1983</td><td>McLaren</td><td>74</td><td>12</td><td>6.166666666666667</td><td>160</td></tr><tr><td>1983</td><td>Williams</td><td>94</td><td>16</td><td>5.875</td><td>177</td></tr><tr><td>1983</td><td>Team Lotus</td><td>37</td><td>7</td><td>5.285714285714286</td><td>206</td></tr><tr><td>1984</td><td>McLaren</td><td>191</td><td>21</td><td>9.095238095238095</td><td>4</td></tr><tr><td>1984</td><td>Ferrari</td><td>123</td><td>18</td><td>6.833333333333333</td><td>125</td></tr><tr><td>1984</td><td>Team Lotus</td><td>115</td><td>17</td><td>6.764705882352941</td><td>132</td></tr><tr><td>1984</td><td>Williams</td><td>60</td><td>10</td><td>6.0</td><td>168</td></tr><tr><td>1984</td><td>Brabham</td><td>76</td><td>13</td><td>5.846153846153846</td><td>180</td></tr><tr><td>1985</td><td>McLaren</td><td>134</td><td>16</td><td>8.375</td><td>30</td></tr><tr><td>1985</td><td>Ferrari</td><td>147</td><td>20</td><td>7.35</td><td>85</td></tr><tr><td>1985</td><td>Williams</td><td>123</td><td>17</td><td>7.235294117647059</td><td>96</td></tr><tr><td>1985</td><td>Team Lotus</td><td>133</td><td>19</td><td>7.0</td><td>111</td></tr><tr><td>1985</td><td>Brabham</td><td>70</td><td>14</td><td>5.0</td><td>213</td></tr><tr><td>1986</td><td>Williams</td><td>205</td><td>24</td><td>8.541666666666666</td><td>21</td></tr><tr><td>1986</td><td>McLaren</td><td>161</td><td>21</td><td>7.666666666666667</td><td>59</td></tr><tr><td>1986</td><td>Team Lotus</td><td>108</td><td>16</td><td>6.75</td><td>133</td></tr><tr><td>1986</td><td>Ferrari</td><td>88</td><td>15</td><td>5.866666666666666</td><td>178</td></tr><tr><td>1986</td><td>Benetton</td><td>55</td><td>13</td><td>4.230769230769231</td><td>240</td></tr><tr><td>1986</td><td>Brabham</td><td>30</td><td>9</td><td>3.3333333333333335</td><td>270</td></tr><tr><td>1987</td><td>Williams</td><td>189</td><td>22</td><td>8.590909090909092</td><td>18</td></tr><tr><td>1987</td><td>Ferrari</td><td>92</td><td>12</td><td>7.666666666666667</td><td>59</td></tr><tr><td>1987</td><td>McLaren</td><td>149</td><td>22</td><td>6.7727272727272725</td><td>130</td></tr><tr><td>1987</td><td>Team Lotus</td><td>128</td><td>20</td><td>6.4</td><td>151</td></tr><tr><td>1987</td><td>Benetton</td><td>83</td><td>14</td><td>5.928571428571429</td><td>175</td></tr><tr><td>1987</td><td>Brabham</td><td>29</td><td>6</td><td>4.833333333333333</td><td>222</td></tr><tr><td>1988</td><td>McLaren</td><td>253</td><td>28</td><td>9.035714285714286</td><td>6</td></tr><tr><td>1988</td><td>Ferrari</td><td>129</td><td>18</td><td>7.166666666666667</td><td>107</td></tr><tr><td>1988</td><td>Williams</td><td>57</td><td>10</td><td>5.7</td><td>187</td></tr><tr><td>1988</td><td>Benetton</td><td>113</td><td>20</td><td>5.65</td><td>190</td></tr><tr><td>1988</td><td>Team Lotus</td><td>79</td><td>16</td><td>4.9375</td><td>218</td></tr><tr><td>1989</td><td>Ferrari</td><td>82</td><td>9</td><td>9.11111111111111</td><td>3</td></tr><tr><td>1989</td><td>McLaren</td><td>188</td><td>21</td><td>8.952380952380953</td><td>12</td></tr><tr><td>1989</td><td>Williams</td><td>137</td><td>19</td><td>7.2105263157894735</td><td>101</td></tr><tr><td>1989</td><td>Benetton</td><td>88</td><td>15</td><td>5.866666666666666</td><td>178</td></tr><tr><td>1989</td><td>Team Lotus</td><td>56</td><td>12</td><td>4.666666666666667</td><td>226</td></tr><tr><td>1989</td><td>Brabham</td><td>36</td><td>9</td><td>4.0</td><td>247</td></tr><tr><td>1990</td><td>Ferrari</td><td>163</td><td>19</td><td>8.578947368421053</td><td>19</td></tr><tr><td>1990</td><td>McLaren</td><td>187</td><td>22</td><td>8.5</td><td>23</td></tr><tr><td>1990</td><td>Benetton</td><td>150</td><td>23</td><td>6.521739130434782</td><td>147</td></tr><tr><td>1990</td><td>Williams</td><td>130</td><td>21</td><td>6.190476190476191</td><td>159</td></tr><tr><td>1990</td><td>Brabham</td><td>12</td><td>3</td><td>4.0</td><td>247</td></tr><tr><td>1990</td><td>Team Lotus</td><td>29</td><td>8</td><td>3.625</td><td>258</td></tr><tr><td>1991</td><td>Williams</td><td>179</td><td>21</td><td>8.523809523809524</td><td>22</td></tr><tr><td>1991</td><td>McLaren</td><td>204</td><td>24</td><td>8.5</td><td>23</td></tr><tr><td>1991</td><td>Ferrari</td><td>117</td><td>16</td><td>7.3125</td><td>88</td></tr><tr><td>1991</td><td>Benetton</td><td>109</td><td>19</td><td>5.7368421052631575</td><td>185</td></tr><tr><td>1991</td><td>Brabham</td><td>17</td><td>5</td><td>3.4</td><td>266</td></tr><tr><td>1991</td><td>Team Lotus</td><td>21</td><td>7</td><td>3.0</td><td>274</td></tr><tr><td>1992</td><td>Williams</td><td>206</td><td>23</td><td>8.956521739130435</td><td>11</td></tr><tr><td>1992</td><td>McLaren</td><td>150</td><td>19</td><td>7.894736842105263</td><td>46</td></tr><tr><td>1992</td><td>Benetton</td><td>175</td><td>23</td><td>7.608695652173913</td><td>67</td></tr><tr><td>1992</td><td>Ferrari</td><td>56</td><td>10</td><td>5.6</td><td>194</td></tr><tr><td>1992</td><td>Team Lotus</td><td>56</td><td>12</td><td>4.666666666666667</td><td>226</td></tr><tr><td>1993</td><td>Williams</td><td>217</td><td>24</td><td>9.041666666666666</td><td>5</td></tr><tr><td>1993</td><td>McLaren</td><td>128</td><td>17</td><td>7.529411764705882</td><td>71</td></tr><tr><td>1993</td><td>Benetton</td><td>130</td><td>18</td><td>7.222222222222222</td><td>99</td></tr><tr><td>1993</td><td>Ferrari</td><td>77</td><td>14</td><td>5.5</td><td>197</td></tr><tr><td>1993</td><td>Team Lotus</td><td>44</td><td>10</td><td>4.4</td><td>233</td></tr><tr><td>1994</td><td>Williams</td><td>163</td><td>20</td><td>8.15</td><td>37</td></tr><tr><td>1994</td><td>Benetton</td><td>134</td><td>17</td><td>7.882352941176471</td><td>47</td></tr><tr><td>1994</td><td>Ferrari</td><td>127</td><td>17</td><td>7.470588235294118</td><td>78</td></tr><tr><td>1994</td><td>McLaren</td><td>91</td><td>13</td><td>7.0</td><td>111</td></tr><tr><td>1994</td><td>Team Lotus</td><td>23</td><td>9</td><td>2.5555555555555554</td><td>279</td></tr><tr><td>1995</td><td>Williams</td><td>167</td><td>19</td><td>8.789473684210526</td><td>14</td></tr><tr><td>1995</td><td>Benetton</td><td>201</td><td>25</td><td>8.04</td><td>41</td></tr><tr><td>1995</td><td>Ferrari</td><td>137</td><td>18</td><td>7.611111111111111</td><td>66</td></tr><tr><td>1995</td><td>McLaren</td><td>85</td><td>17</td><td>5.0</td><td>213</td></tr><tr><td>1996</td><td>Williams</td><td>216</td><td>24</td><td>9.0</td><td>8</td></tr><tr><td>1996</td><td>Ferrari</td><td>117</td><td>16</td><td>7.3125</td><td>88</td></tr><tr><td>1996</td><td>Benetton</td><td>137</td><td>19</td><td>7.2105263157894735</td><td>101</td></tr><tr><td>1996</td><td>McLaren</td><td>129</td><td>21</td><td>6.142857142857143</td><td>162</td></tr><tr><td>1997</td><td>Williams</td><td>177</td><td>23</td><td>7.695652173913044</td><td>55</td></tr><tr><td>1997</td><td>Ferrari</td><td>160</td><td>22</td><td>7.2727272727272725</td><td>92</td></tr><tr><td>1997</td><td>McLaren</td><td>117</td><td>19</td><td>6.157894736842105</td><td>161</td></tr><tr><td>1997</td><td>Benetton</td><td>151</td><td>26</td><td>5.8076923076923075</td><td>183</td></tr><tr><td>1998</td><td>McLaren</td><td>212</td><td>25</td><td>8.48</td><td>26</td></tr><tr><td>1998</td><td>Ferrari</td><td>203</td><td>26</td><td>7.8076923076923075</td><td>53</td></tr><tr><td>1998</td><td>Williams</td><td>125</td><td>24</td><td>5.208333333333333</td><td>208</td></tr><tr><td>1998</td><td>Benetton</td><td>106</td><td>21</td><td>5.0476190476190474</td><td>211</td></tr><tr><td>1999</td><td>McLaren</td><td>170</td><td>20</td><td>8.5</td><td>23</td></tr><tr><td>1999</td><td>Ferrari</td><td>203</td><td>27</td><td>7.518518518518518</td><td>73</td></tr><tr><td>1999</td><td>Williams</td><td>91</td><td>16</td><td>5.6875</td><td>188</td></tr><tr><td>1999</td><td>Benetton</td><td>63</td><td>15</td><td>4.2</td><td>242</td></tr><tr><td>2000</td><td>Ferrari</td><td>228</td><td>26</td><td>8.76923076923077</td><td>15</td></tr><tr><td>2000</td><td>McLaren</td><td>236</td><td>28</td><td>8.428571428571429</td><td>28</td></tr><tr><td>2000</td><td>Williams</td><td>102</td><td>18</td><td>5.666666666666667</td><td>189</td></tr><tr><td>2000</td><td>Benetton</td><td>70</td><td>18</td><td>3.888888888888889</td><td>254</td></tr><tr><td>2001</td><td>Ferrari</td><td>245</td><td>28</td><td>8.75</td><td>17</td></tr><tr><td>2001</td><td>Williams</td><td>123</td><td>16</td><td>7.6875</td><td>56</td></tr><tr><td>2001</td><td>McLaren</td><td>173</td><td>23</td><td>7.521739130434782</td><td>72</td></tr><tr><td>2001</td><td>Benetton</td><td>41</td><td>10</td><td>4.1</td><td>245</td></tr><tr><td>2002</td><td>Ferrari</td><td>267</td><td>29</td><td>9.206896551724139</td><td>2</td></tr><tr><td>2002</td><td>Williams</td><td>178</td><td>24</td><td>7.416666666666667</td><td>82</td></tr><tr><td>2002</td><td>McLaren</td><td>132</td><td>19</td><td>6.947368421052632</td><td>120</td></tr><tr><td>2003</td><td>McLaren</td><td>176</td><td>23</td><td>7.6521739130434785</td><td>61</td></tr><tr><td>2003</td><td>Ferrari</td><td>193</td><td>26</td><td>7.423076923076923</td><td>81</td></tr><tr><td>2003</td><td>Williams</td><td>180</td><td>25</td><td>7.2</td><td>103</td></tr><tr><td>2004</td><td>Ferrari</td><td>287</td><td>32</td><td>8.96875</td><td>10</td></tr><tr><td>2004</td><td>Williams</td><td>130</td><td>24</td><td>5.416666666666667</td><td>200</td></tr><tr><td>2004</td><td>McLaren</td><td>106</td><td>21</td><td>5.0476190476190474</td><td>211</td></tr><tr><td>2005</td><td>McLaren</td><td>212</td><td>27</td><td>7.851851851851852</td><td>49</td></tr><tr><td>2005</td><td>Williams</td><td>97</td><td>17</td><td>5.705882352941177</td><td>186</td></tr><tr><td>2005</td><td>Ferrari</td><td>143</td><td>27</td><td>5.296296296296297</td><td>205</td></tr><tr><td>2005</td><td>Red Bull</td><td>77</td><td>22</td><td>3.5</td><td>260</td></tr><tr><td>2006</td><td>Ferrari</td><td>240</td><td>32</td><td>7.5</td><td>74</td></tr><tr><td>2006</td><td>McLaren</td><td>150</td><td>22</td><td>6.818181818181818</td><td>127</td></tr><tr><td>2006</td><td>Red Bull</td><td>35</td><td>10</td><td>3.5</td><td>260</td></tr><tr><td>2006</td><td>Williams</td><td>30</td><td>11</td><td>2.727272727272727</td><td>278</td></tr><tr><td>2007</td><td>Ferrari</td><td>238</td><td>29</td><td>8.206896551724139</td><td>35</td></tr><tr><td>2007</td><td>McLaren</td><td>257</td><td>32</td><td>8.03125</td><td>42</td></tr><tr><td>2007</td><td>Williams</td><td>61</td><td>16</td><td>3.8125</td><td>255</td></tr><tr><td>2007</td><td>Red Bull</td><td>49</td><td>14</td><td>3.5</td><td>260</td></tr><tr><td>2008</td><td>Ferrari</td><td>206</td><td>27</td><td>7.62962962962963</td><td>63</td></tr><tr><td>2008</td><td>McLaren</td><td>191</td><td>29</td><td>6.586206896551724</td><td>144</td></tr><tr><td>2008</td><td>Williams</td><td>49</td><td>13</td><td>3.769230769230769</td><td>256</td></tr><tr><td>2008</td><td>Red Bull</td><td>63</td><td>18</td><td>3.5</td><td>260</td></tr><tr><td>2009</td><td>Red Bull</td><td>185</td><td>24</td><td>7.708333333333333</td><td>54</td></tr><tr><td>2009</td><td>McLaren</td><td>101</td><td>17</td><td>5.9411764705882355</td><td>172</td></tr><tr><td>2009</td><td>Ferrari</td><td>103</td><td>19</td><td>5.421052631578948</td><td>198</td></tr><tr><td>2009</td><td>Williams</td><td>66</td><td>16</td><td>4.125</td><td>244</td></tr><tr><td>2010</td><td>Red Bull</td><td>241</td><td>32</td><td>7.53125</td><td>70</td></tr><tr><td>2010</td><td>McLaren</td><td>231</td><td>31</td><td>7.451612903225806</td><td>80</td></tr><tr><td>2010</td><td>Ferrari</td><td>203</td><td>30</td><td>6.766666666666667</td><td>131</td></tr><tr><td>2010</td><td>Mercedes</td><td>131</td><td>27</td><td>4.851851851851852</td><td>221</td></tr><tr><td>2010</td><td>Williams</td><td>48</td><td>17</td><td>2.823529411764706</td><td>276</td></tr><tr><td>2011</td><td>Red Bull</td><td>308</td><td>36</td><td>8.555555555555555</td><td>20</td></tr><tr><td>2011</td><td>McLaren</td><td>251</td><td>33</td><td>7.606060606060606</td><td>68</td></tr><tr><td>2011</td><td>Ferrari</td><td>210</td><td>33</td><td>6.363636363636363</td><td>153</td></tr><tr><td>2011</td><td>Mercedes</td><td>107</td><td>25</td><td>4.28</td><td>237</td></tr><tr><td>2011</td><td>Williams</td><td>5</td><td>3</td><td>1.6666666666666667</td><td>284</td></tr><tr><td>2012</td><td>Red Bull</td><td>232</td><td>32</td><td>7.25</td><td>95</td></tr><tr><td>2012</td><td>McLaren</td><td>187</td><td>28</td><td>6.678571428571429</td><td>135</td></tr><tr><td>2012</td><td>Ferrari</td><td>212</td><td>32</td><td>6.625</td><td>138</td></tr><tr><td>2012</td><td>Mercedes</td><td>82</td><td>18</td><td>4.555555555555555</td><td>231</td></tr><tr><td>2012</td><td>Williams</td><td>47</td><td>15</td><td>3.1333333333333333</td><td>272</td></tr><tr><td>2013</td><td>Red Bull</td><td>277</td><td>33</td><td>8.393939393939394</td><td>29</td></tr><tr><td>2013</td><td>Ferrari</td><td>195</td><td>32</td><td>6.09375</td><td>164</td></tr><tr><td>2013</td><td>Mercedes</td><td>199</td><td>33</td><td>6.03030303030303</td><td>167</td></tr><tr><td>2013</td><td>McLaren</td><td>84</td><td>25</td><td>3.36</td><td>268</td></tr><tr><td>2013</td><td>Williams</td><td>4</td><td>2</td><td>2.0</td><td>280</td></tr><tr><td>2014</td><td>Mercedes</td><td>300</td><td>32</td><td>9.375</td><td>1</td></tr><tr><td>2014</td><td>Red Bull</td><td>211</td><td>32</td><td>6.59375</td><td>143</td></tr><tr><td>2014</td><td>Williams</td><td>165</td><td>28</td><td>5.892857142857143</td><td>176</td></tr><tr><td>2014</td><td>Ferrari</td><td>133</td><td>30</td><td>4.433333333333334</td><td>232</td></tr><tr><td>2014</td><td>McLaren</td><td>107</td><td>25</td><td>4.28</td><td>237</td></tr><tr><td>2015</td><td>Mercedes</td><td>316</td><td>35</td><td>9.028571428571428</td><td>7</td></tr><tr><td>2015</td><td>Ferrari</td><td>226</td><td>31</td><td>7.290322580645161</td><td>91</td></tr><tr><td>2015</td><td>Williams</td><td>152</td><td>26</td><td>5.846153846153846</td><td>180</td></tr><tr><td>2015</td><td>Red Bull</td><td>115</td><td>27</td><td>4.2592592592592595</td><td>239</td></tr><tr><td>2015</td><td>McLaren</td><td>19</td><td>6</td><td>3.1666666666666665</td><td>271</td></tr><tr><td>2016</td><td>Mercedes</td><td>344</td><td>39</td><td>8.820512820512821</td><td>13</td></tr><tr><td>2016</td><td>Red Bull</td><td>252</td><td>36</td><td>7.0</td><td>111</td></tr><tr><td>2016</td><td>Ferrari</td><td>225</td><td>34</td><td>6.617647058823529</td><td>140</td></tr><tr><td>2016</td><td>Williams</td><td>94</td><td>28</td><td>3.357142857142857</td><td>269</td></tr><tr><td>2016</td><td>McLaren</td><td>53</td><td>17</td><td>3.1176470588235294</td><td>273</td></tr><tr><td>2017</td><td>Mercedes</td><td>319</td><td>39</td><td>8.179487179487179</td><td>36</td></tr><tr><td>2017</td><td>Ferrari</td><td>266</td><td>34</td><td>7.823529411764706</td><td>50</td></tr><tr><td>2017</td><td>Red Bull</td><td>194</td><td>27</td><td>7.185185185185185</td><td>105</td></tr><tr><td>2017</td><td>Williams</td><td>59</td><td>20</td><td>2.95</td><td>275</td></tr><tr><td>2017</td><td>McLaren</td><td>22</td><td>8</td><td>2.75</td><td>277</td></tr><tr><td>2018</td><td>Mercedes</td><td>316</td><td>39</td><td>8.102564102564102</td><td>40</td></tr><tr><td>2018</td><td>Ferrari</td><td>289</td><td>37</td><td>7.8108108108108105</td><td>52</td></tr><tr><td>2018</td><td>Red Bull</td><td>219</td><td>30</td><td>7.3</td><td>90</td></tr><tr><td>2018</td><td>McLaren</td><td>44</td><td>13</td><td>3.3846153846153846</td><td>267</td></tr><tr><td>2018</td><td>Williams</td><td>4</td><td>2</td><td>2.0</td><td>280</td></tr><tr><td>2019</td><td>Mercedes</td><td>339</td><td>40</td><td>8.475</td><td>27</td></tr><tr><td>2019</td><td>Ferrari</td><td>261</td><td>34</td><td>7.676470588235294</td><td>58</td></tr><tr><td>2019</td><td>Red Bull</td><td>227</td><td>36</td><td>6.305555555555555</td><td>155</td></tr><tr><td>2019</td><td>McLaren</td><td>95</td><td>24</td><td>3.9583333333333335</td><td>251</td></tr><tr><td>2019</td><td>Williams</td><td>1</td><td>1</td><td>1.0</td><td>285</td></tr><tr><td>2020</td><td>Mercedes</td><td>258</td><td>31</td><td>8.32258064516129</td><td>32</td></tr><tr><td>2020</td><td>Red Bull</td><td>166</td><td>24</td><td>6.916666666666667</td><td>123</td></tr><tr><td>2020</td><td>McLaren</td><td>122</td><td>25</td><td>4.88</td><td>220</td></tr><tr><td>2020</td><td>Ferrari</td><td>78</td><td>17</td><td>4.588235294117647</td><td>228</td></tr></tbody></table></div>"
      ]
     },
     "metadata": {
      "application/vnd.databricks.v1+output": {
       "addedWidgets": {},
       "aggData": [],
       "aggError": "",
       "aggOverflow": false,
       "aggSchema": [],
       "aggSeriesLimitReached": false,
       "aggType": "",
       "arguments": {},
       "columnCustomDisplayInfos": {},
       "data": [
        [
         1950,
         "Ferrari",
         57,
         8,
         7.125,
         108
        ],
        [
         1951,
         "Ferrari",
         168,
         22,
         7.636363636363637,
         62
        ],
        [
         1951,
         "BRM",
         10,
         2,
         5.0,
         213
        ],
        [
         1952,
         "Ferrari",
         202,
         28,
         7.214285714285714,
         100
        ],
        [
         1953,
         "Ferrari",
         230,
         35,
         6.571428571428571,
         145
        ],
        [
         1954,
         "Mercedes",
         96,
         12,
         8.0,
         43
        ],
        [
         1954,
         "Ferrari",
         175,
         25,
         7.0,
         111
        ],
        [
         1955,
         "Mercedes",
         124,
         15,
         8.266666666666667,
         34
        ],
        [
         1955,
         "Ferrari",
         131,
         21,
         6.238095238095238,
         157
        ],
        [
         1956,
         "Ferrari",
         172,
         23,
         7.478260869565218,
         77
        ],
        [
         1957,
         "Ferrari",
         130,
         20,
         6.5,
         148
        ],
        [
         1958,
         "Ferrari",
         159,
         21,
         7.571428571428571,
         69
        ],
        [
         1958,
         "BRM",
         60,
         9,
         6.666666666666667,
         136
        ],
        [
         1958,
         "Team Lotus",
         28,
         7,
         4.0,
         247
        ],
        [
         1959,
         "Cooper-Climax",
         165,
         22,
         7.5,
         74
        ],
        [
         1959,
         "Ferrari",
         132,
         19,
         6.947368421052632,
         120
        ],
        [
         1959,
         "BRM",
         62,
         11,
         5.636363636363637,
         192
        ],
        [
         1959,
         "Team Lotus",
         22,
         5,
         4.4,
         233
        ],
        [
         1960,
         "Cooper-Climax",
         213,
         32,
         6.65625,
         137
        ],
        [
         1960,
         "Team Lotus",
         109,
         17,
         6.411764705882353,
         150
        ],
        [
         1960,
         "Ferrari",
         102,
         17,
         6.0,
         168
        ],
        [
         1960,
         "BRM",
         29,
         6,
         4.833333333333333,
         222
        ],
        [
         1961,
         "Ferrari",
         152,
         19,
         8.0,
         43
        ],
        [
         1961,
         "BRM",
         32,
         7,
         4.571428571428571,
         229
        ],
        [
         1961,
         "Cooper-Climax",
         92,
         21,
         4.380952380952381,
         235
        ],
        [
         1962,
         "BRM",
         98,
         14,
         7.0,
         111
        ],
        [
         1962,
         "Brabham",
         14,
         2,
         7.0,
         111
        ],
        [
         1962,
         "Ferrari",
         73,
         12,
         6.083333333333333,
         165
        ],
        [
         1962,
         "Cooper-Climax",
         101,
         17,
         5.9411764705882355,
         172
        ],
        [
         1963,
         "BRM",
         123,
         17,
         7.235294117647059,
         96
        ],
        [
         1963,
         "Brabham",
         70,
         10,
         7.0,
         111
        ],
        [
         1963,
         "Ferrari",
         53,
         8,
         6.625,
         138
        ],
        [
         1963,
         "Cooper-Climax",
         97,
         18,
         5.388888888888889,
         201
        ],
        [
         1964,
         "Ferrari",
         105,
         15,
         7.0,
         111
        ],
        [
         1964,
         "BRM",
         144,
         23,
         6.260869565217392,
         156
        ],
        [
         1964,
         "Cooper-Climax",
         53,
         11,
         4.818181818181818,
         224
        ],
        [
         1965,
         "BRM",
         133,
         17,
         7.823529411764706,
         50
        ],
        [
         1965,
         "Ferrari",
         86,
         16,
         5.375,
         204
        ],
        [
         1965,
         "Cooper-Climax",
         42,
         8,
         5.25,
         207
        ],
        [
         1966,
         "Ferrari",
         65,
         8,
         8.125,
         38
        ],
        [
         1966,
         "BRM",
         68,
         10,
         6.8,
         128
        ],
        [
         1967,
         "Cooper-Climax",
         9,
         1,
         9.0,
         8
        ],
        [
         1967,
         "Ferrari",
         64,
         11,
         5.818181818181818,
         182
        ],
        [
         1967,
         "BRM",
         66,
         13,
         5.076923076923077,
         210
        ],
        [
         1968,
         "Ferrari",
         70,
         10,
         7.0,
         111
        ],
        [
         1968,
         "BRM",
         72,
         12,
         6.0,
         168
        ],
        [
         1969,
         "Ferrari",
         23,
         4,
         5.75,
         184
        ],
        [
         1969,
         "BRM",
         25,
         5,
         5.0,
         213
        ],
        [
         1970,
         "Ferrari",
         119,
         15,
         7.933333333333334,
         45
        ],
        [
         1970,
         "Brabham",
         67,
         10,
         6.7,
         134
        ],
        [
         1970,
         "Team Lotus",
         118,
         18,
         6.555555555555555,
         146
        ],
        [
         1970,
         "BRM",
         57,
         11,
         5.181818181818182,
         209
        ],
        [
         1971,
         "Ferrari",
         79,
         11,
         7.181818181818182,
         106
        ],
        [
         1971,
         "BRM",
         90,
         19,
         4.7368421052631575,
         225
        ],
        [
         1971,
         "McLaren",
         46,
         11,
         4.181818181818182,
         243
        ],
        [
         1971,
         "Brabham",
         31,
         9,
         3.4444444444444446,
         265
        ],
        [
         1972,
         "Team Lotus",
         80,
         11,
         7.2727272727272725,
         92
        ],
        [
         1972,
         "McLaren",
         136,
         20,
         6.8,
         128
        ],
        [
         1972,
         "Ferrari",
         99,
         15,
         6.6,
         141
        ],
        [
         1972,
         "Brabham",
         48,
         13,
         3.6923076923076925,
         257
        ],
        [
         1972,
         "BRM",
         46,
         13,
         3.5384615384615383,
         259
        ],
        [
         1973,
         "Team Lotus",
         149,
         17,
         8.764705882352942,
         16
        ],
        [
         1973,
         "McLaren",
         147,
         24,
         6.125,
         163
        ],
        [
         1973,
         "Brabham",
         70,
         13,
         5.384615384615385,
         202
        ],
        [
         1973,
         "Ferrari",
         54,
         11,
         4.909090909090909,
         219
        ],
        [
         1973,
         "BRM",
         67,
         17,
         3.9411764705882355,
         252
        ],
        [
         1974,
         "Ferrari",
         142,
         17,
         8.352941176470589,
         31
        ],
        [
         1974,
         "Team Lotus",
         82,
         12,
         6.833333333333333,
         125
        ],
        [
         1974,
         "McLaren",
         187,
         31,
         6.032258064516129,
         166
        ],
        [
         1974,
         "Brabham",
         103,
         19,
         5.421052631578948,
         198
        ],
        [
         1974,
         "BRM",
         28,
         8,
         3.5,
         260
        ],
        [
         1975,
         "Ferrari",
         150,
         20,
         7.5,
         74
        ],
        [
         1975,
         "Brabham",
         114,
         16,
         7.125,
         108
        ],
        [
         1975,
         "McLaren",
         127,
         18,
         7.055555555555555,
         110
        ],
        [
         1975,
         "Williams",
         13,
         2,
         6.5,
         148
        ],
        [
         1975,
         "Team Lotus",
         40,
         10,
         4.0,
         247
        ],
        [
         1975,
         "BRM",
         2,
         1,
         2.0,
         280
        ],
        [
         1976,
         "McLaren",
         147,
         20,
         7.35,
         85
        ],
        [
         1976,
         "Ferrari",
         159,
         22,
         7.2272727272727275,
         98
        ],
        [
         1976,
         "Team Lotus",
         66,
         10,
         6.6,
         141
        ],
        [
         1976,
         "Williams",
         2,
         1,
         2.0,
         280
        ],
        [
         1977,
         "Ferrari",
         189,
         24,
         7.875,
         48
        ],
        [
         1977,
         "Team Lotus",
         108,
         15,
         7.2,
         103
        ],
        [
         1977,
         "McLaren",
         124,
         20,
         6.2,
         158
        ],
        [
         1977,
         "Brabham",
         73,
         13,
         5.615384615384615,
         193
        ],
        [
         1978,
         "Team Lotus",
         169,
         22,
         7.681818181818182,
         57
        ],
        [
         1978,
         "Brabham",
         126,
         17,
         7.411764705882353,
         83
        ],
        [
         1978,
         "Ferrari",
         119,
         20,
         5.95,
         171
        ],
        [
         1978,
         "Williams",
         32,
         7,
         4.571428571428571,
         229
        ],
        [
         1978,
         "McLaren",
         86,
         21,
         4.095238095238095,
         246
        ],
        [
         1979,
         "Ferrari",
         183,
         24,
         7.625,
         64
        ],
        [
         1979,
         "Williams",
         117,
         17,
         6.882352941176471,
         124
        ],
        [
         1979,
         "Team Lotus",
         95,
         16,
         5.9375,
         174
        ],
        [
         1979,
         "McLaren",
         55,
         13,
         4.230769230769231,
         240
        ],
        [
         1980,
         "Williams",
         182,
         22,
         8.272727272727273,
         33
        ],
        [
         1980,
         "Brabham",
         101,
         16,
         6.3125,
         154
        ],
        [
         1980,
         "McLaren",
         50,
         10,
         5.0,
         213
        ],
        [
         1980,
         "Team Lotus",
         48,
         11,
         4.363636363636363,
         236
        ],
        [
         1980,
         "Ferrari",
         47,
         12,
         3.9166666666666665,
         253
        ],
        [
         1981,
         "Williams",
         154,
         21,
         7.333333333333333,
         87
        ],
        [
         1981,
         "Brabham",
         109,
         15,
         7.266666666666667,
         94
        ],
        [
         1981,
         "Team Lotus",
         78,
         14,
         5.571428571428571,
         195
        ],
        [
         1981,
         "Ferrari",
         72,
         13,
         5.538461538461538,
         196
        ],
        [
         1981,
         "McLaren",
         70,
         13,
         5.384615384615385,
         202
        ],
        [
         1982,
         "Brabham",
         65,
         8,
         8.125,
         38
        ],
        [
         1982,
         "Ferrari",
         122,
         16,
         7.625,
         64
        ],
        [
         1982,
         "McLaren",
         118,
         17,
         6.9411764705882355,
         122
        ],
        [
         1982,
         "Williams",
         128,
         20,
         6.4,
         151
        ],
        [
         1982,
         "Team Lotus",
         79,
         14,
         5.642857142857143,
         191
        ],
        [
         1983,
         "Brabham",
         112,
         15,
         7.466666666666667,
         79
        ],
        [
         1983,
         "Ferrari",
         148,
         20,
         7.4,
         84
        ],
        [
         1983,
         "McLaren",
         74,
         12,
         6.166666666666667,
         160
        ],
        [
         1983,
         "Williams",
         94,
         16,
         5.875,
         177
        ],
        [
         1983,
         "Team Lotus",
         37,
         7,
         5.285714285714286,
         206
        ],
        [
         1984,
         "McLaren",
         191,
         21,
         9.095238095238095,
         4
        ],
        [
         1984,
         "Ferrari",
         123,
         18,
         6.833333333333333,
         125
        ],
        [
         1984,
         "Team Lotus",
         115,
         17,
         6.764705882352941,
         132
        ],
        [
         1984,
         "Williams",
         60,
         10,
         6.0,
         168
        ],
        [
         1984,
         "Brabham",
         76,
         13,
         5.846153846153846,
         180
        ],
        [
         1985,
         "McLaren",
         134,
         16,
         8.375,
         30
        ],
        [
         1985,
         "Ferrari",
         147,
         20,
         7.35,
         85
        ],
        [
         1985,
         "Williams",
         123,
         17,
         7.235294117647059,
         96
        ],
        [
         1985,
         "Team Lotus",
         133,
         19,
         7.0,
         111
        ],
        [
         1985,
         "Brabham",
         70,
         14,
         5.0,
         213
        ],
        [
         1986,
         "Williams",
         205,
         24,
         8.541666666666666,
         21
        ],
        [
         1986,
         "McLaren",
         161,
         21,
         7.666666666666667,
         59
        ],
        [
         1986,
         "Team Lotus",
         108,
         16,
         6.75,
         133
        ],
        [
         1986,
         "Ferrari",
         88,
         15,
         5.866666666666666,
         178
        ],
        [
         1986,
         "Benetton",
         55,
         13,
         4.230769230769231,
         240
        ],
        [
         1986,
         "Brabham",
         30,
         9,
         3.3333333333333335,
         270
        ],
        [
         1987,
         "Williams",
         189,
         22,
         8.590909090909092,
         18
        ],
        [
         1987,
         "Ferrari",
         92,
         12,
         7.666666666666667,
         59
        ],
        [
         1987,
         "McLaren",
         149,
         22,
         6.7727272727272725,
         130
        ],
        [
         1987,
         "Team Lotus",
         128,
         20,
         6.4,
         151
        ],
        [
         1987,
         "Benetton",
         83,
         14,
         5.928571428571429,
         175
        ],
        [
         1987,
         "Brabham",
         29,
         6,
         4.833333333333333,
         222
        ],
        [
         1988,
         "McLaren",
         253,
         28,
         9.035714285714286,
         6
        ],
        [
         1988,
         "Ferrari",
         129,
         18,
         7.166666666666667,
         107
        ],
        [
         1988,
         "Williams",
         57,
         10,
         5.7,
         187
        ],
        [
         1988,
         "Benetton",
         113,
         20,
         5.65,
         190
        ],
        [
         1988,
         "Team Lotus",
         79,
         16,
         4.9375,
         218
        ],
        [
         1989,
         "Ferrari",
         82,
         9,
         9.11111111111111,
         3
        ],
        [
         1989,
         "McLaren",
         188,
         21,
         8.952380952380953,
         12
        ],
        [
         1989,
         "Williams",
         137,
         19,
         7.2105263157894735,
         101
        ],
        [
         1989,
         "Benetton",
         88,
         15,
         5.866666666666666,
         178
        ],
        [
         1989,
         "Team Lotus",
         56,
         12,
         4.666666666666667,
         226
        ],
        [
         1989,
         "Brabham",
         36,
         9,
         4.0,
         247
        ],
        [
         1990,
         "Ferrari",
         163,
         19,
         8.578947368421053,
         19
        ],
        [
         1990,
         "McLaren",
         187,
         22,
         8.5,
         23
        ],
        [
         1990,
         "Benetton",
         150,
         23,
         6.521739130434782,
         147
        ],
        [
         1990,
         "Williams",
         130,
         21,
         6.190476190476191,
         159
        ],
        [
         1990,
         "Brabham",
         12,
         3,
         4.0,
         247
        ],
        [
         1990,
         "Team Lotus",
         29,
         8,
         3.625,
         258
        ],
        [
         1991,
         "Williams",
         179,
         21,
         8.523809523809524,
         22
        ],
        [
         1991,
         "McLaren",
         204,
         24,
         8.5,
         23
        ],
        [
         1991,
         "Ferrari",
         117,
         16,
         7.3125,
         88
        ],
        [
         1991,
         "Benetton",
         109,
         19,
         5.7368421052631575,
         185
        ],
        [
         1991,
         "Brabham",
         17,
         5,
         3.4,
         266
        ],
        [
         1991,
         "Team Lotus",
         21,
         7,
         3.0,
         274
        ],
        [
         1992,
         "Williams",
         206,
         23,
         8.956521739130435,
         11
        ],
        [
         1992,
         "McLaren",
         150,
         19,
         7.894736842105263,
         46
        ],
        [
         1992,
         "Benetton",
         175,
         23,
         7.608695652173913,
         67
        ],
        [
         1992,
         "Ferrari",
         56,
         10,
         5.6,
         194
        ],
        [
         1992,
         "Team Lotus",
         56,
         12,
         4.666666666666667,
         226
        ],
        [
         1993,
         "Williams",
         217,
         24,
         9.041666666666666,
         5
        ],
        [
         1993,
         "McLaren",
         128,
         17,
         7.529411764705882,
         71
        ],
        [
         1993,
         "Benetton",
         130,
         18,
         7.222222222222222,
         99
        ],
        [
         1993,
         "Ferrari",
         77,
         14,
         5.5,
         197
        ],
        [
         1993,
         "Team Lotus",
         44,
         10,
         4.4,
         233
        ],
        [
         1994,
         "Williams",
         163,
         20,
         8.15,
         37
        ],
        [
         1994,
         "Benetton",
         134,
         17,
         7.882352941176471,
         47
        ],
        [
         1994,
         "Ferrari",
         127,
         17,
         7.470588235294118,
         78
        ],
        [
         1994,
         "McLaren",
         91,
         13,
         7.0,
         111
        ],
        [
         1994,
         "Team Lotus",
         23,
         9,
         2.5555555555555554,
         279
        ],
        [
         1995,
         "Williams",
         167,
         19,
         8.789473684210526,
         14
        ],
        [
         1995,
         "Benetton",
         201,
         25,
         8.04,
         41
        ],
        [
         1995,
         "Ferrari",
         137,
         18,
         7.611111111111111,
         66
        ],
        [
         1995,
         "McLaren",
         85,
         17,
         5.0,
         213
        ],
        [
         1996,
         "Williams",
         216,
         24,
         9.0,
         8
        ],
        [
         1996,
         "Ferrari",
         117,
         16,
         7.3125,
         88
        ],
        [
         1996,
         "Benetton",
         137,
         19,
         7.2105263157894735,
         101
        ],
        [
         1996,
         "McLaren",
         129,
         21,
         6.142857142857143,
         162
        ],
        [
         1997,
         "Williams",
         177,
         23,
         7.695652173913044,
         55
        ],
        [
         1997,
         "Ferrari",
         160,
         22,
         7.2727272727272725,
         92
        ],
        [
         1997,
         "McLaren",
         117,
         19,
         6.157894736842105,
         161
        ],
        [
         1997,
         "Benetton",
         151,
         26,
         5.8076923076923075,
         183
        ],
        [
         1998,
         "McLaren",
         212,
         25,
         8.48,
         26
        ],
        [
         1998,
         "Ferrari",
         203,
         26,
         7.8076923076923075,
         53
        ],
        [
         1998,
         "Williams",
         125,
         24,
         5.208333333333333,
         208
        ],
        [
         1998,
         "Benetton",
         106,
         21,
         5.0476190476190474,
         211
        ],
        [
         1999,
         "McLaren",
         170,
         20,
         8.5,
         23
        ],
        [
         1999,
         "Ferrari",
         203,
         27,
         7.518518518518518,
         73
        ],
        [
         1999,
         "Williams",
         91,
         16,
         5.6875,
         188
        ],
        [
         1999,
         "Benetton",
         63,
         15,
         4.2,
         242
        ],
        [
         2000,
         "Ferrari",
         228,
         26,
         8.76923076923077,
         15
        ],
        [
         2000,
         "McLaren",
         236,
         28,
         8.428571428571429,
         28
        ],
        [
         2000,
         "Williams",
         102,
         18,
         5.666666666666667,
         189
        ],
        [
         2000,
         "Benetton",
         70,
         18,
         3.888888888888889,
         254
        ],
        [
         2001,
         "Ferrari",
         245,
         28,
         8.75,
         17
        ],
        [
         2001,
         "Williams",
         123,
         16,
         7.6875,
         56
        ],
        [
         2001,
         "McLaren",
         173,
         23,
         7.521739130434782,
         72
        ],
        [
         2001,
         "Benetton",
         41,
         10,
         4.1,
         245
        ],
        [
         2002,
         "Ferrari",
         267,
         29,
         9.206896551724139,
         2
        ],
        [
         2002,
         "Williams",
         178,
         24,
         7.416666666666667,
         82
        ],
        [
         2002,
         "McLaren",
         132,
         19,
         6.947368421052632,
         120
        ],
        [
         2003,
         "McLaren",
         176,
         23,
         7.6521739130434785,
         61
        ],
        [
         2003,
         "Ferrari",
         193,
         26,
         7.423076923076923,
         81
        ],
        [
         2003,
         "Williams",
         180,
         25,
         7.2,
         103
        ],
        [
         2004,
         "Ferrari",
         287,
         32,
         8.96875,
         10
        ],
        [
         2004,
         "Williams",
         130,
         24,
         5.416666666666667,
         200
        ],
        [
         2004,
         "McLaren",
         106,
         21,
         5.0476190476190474,
         211
        ],
        [
         2005,
         "McLaren",
         212,
         27,
         7.851851851851852,
         49
        ],
        [
         2005,
         "Williams",
         97,
         17,
         5.705882352941177,
         186
        ],
        [
         2005,
         "Ferrari",
         143,
         27,
         5.296296296296297,
         205
        ],
        [
         2005,
         "Red Bull",
         77,
         22,
         3.5,
         260
        ],
        [
         2006,
         "Ferrari",
         240,
         32,
         7.5,
         74
        ],
        [
         2006,
         "McLaren",
         150,
         22,
         6.818181818181818,
         127
        ],
        [
         2006,
         "Red Bull",
         35,
         10,
         3.5,
         260
        ],
        [
         2006,
         "Williams",
         30,
         11,
         2.727272727272727,
         278
        ],
        [
         2007,
         "Ferrari",
         238,
         29,
         8.206896551724139,
         35
        ],
        [
         2007,
         "McLaren",
         257,
         32,
         8.03125,
         42
        ],
        [
         2007,
         "Williams",
         61,
         16,
         3.8125,
         255
        ],
        [
         2007,
         "Red Bull",
         49,
         14,
         3.5,
         260
        ],
        [
         2008,
         "Ferrari",
         206,
         27,
         7.62962962962963,
         63
        ],
        [
         2008,
         "McLaren",
         191,
         29,
         6.586206896551724,
         144
        ],
        [
         2008,
         "Williams",
         49,
         13,
         3.769230769230769,
         256
        ],
        [
         2008,
         "Red Bull",
         63,
         18,
         3.5,
         260
        ],
        [
         2009,
         "Red Bull",
         185,
         24,
         7.708333333333333,
         54
        ],
        [
         2009,
         "McLaren",
         101,
         17,
         5.9411764705882355,
         172
        ],
        [
         2009,
         "Ferrari",
         103,
         19,
         5.421052631578948,
         198
        ],
        [
         2009,
         "Williams",
         66,
         16,
         4.125,
         244
        ],
        [
         2010,
         "Red Bull",
         241,
         32,
         7.53125,
         70
        ],
        [
         2010,
         "McLaren",
         231,
         31,
         7.451612903225806,
         80
        ],
        [
         2010,
         "Ferrari",
         203,
         30,
         6.766666666666667,
         131
        ],
        [
         2010,
         "Mercedes",
         131,
         27,
         4.851851851851852,
         221
        ],
        [
         2010,
         "Williams",
         48,
         17,
         2.823529411764706,
         276
        ],
        [
         2011,
         "Red Bull",
         308,
         36,
         8.555555555555555,
         20
        ],
        [
         2011,
         "McLaren",
         251,
         33,
         7.606060606060606,
         68
        ],
        [
         2011,
         "Ferrari",
         210,
         33,
         6.363636363636363,
         153
        ],
        [
         2011,
         "Mercedes",
         107,
         25,
         4.28,
         237
        ],
        [
         2011,
         "Williams",
         5,
         3,
         1.6666666666666667,
         284
        ],
        [
         2012,
         "Red Bull",
         232,
         32,
         7.25,
         95
        ],
        [
         2012,
         "McLaren",
         187,
         28,
         6.678571428571429,
         135
        ],
        [
         2012,
         "Ferrari",
         212,
         32,
         6.625,
         138
        ],
        [
         2012,
         "Mercedes",
         82,
         18,
         4.555555555555555,
         231
        ],
        [
         2012,
         "Williams",
         47,
         15,
         3.1333333333333333,
         272
        ],
        [
         2013,
         "Red Bull",
         277,
         33,
         8.393939393939394,
         29
        ],
        [
         2013,
         "Ferrari",
         195,
         32,
         6.09375,
         164
        ],
        [
         2013,
         "Mercedes",
         199,
         33,
         6.03030303030303,
         167
        ],
        [
         2013,
         "McLaren",
         84,
         25,
         3.36,
         268
        ],
        [
         2013,
         "Williams",
         4,
         2,
         2.0,
         280
        ],
        [
         2014,
         "Mercedes",
         300,
         32,
         9.375,
         1
        ],
        [
         2014,
         "Red Bull",
         211,
         32,
         6.59375,
         143
        ],
        [
         2014,
         "Williams",
         165,
         28,
         5.892857142857143,
         176
        ],
        [
         2014,
         "Ferrari",
         133,
         30,
         4.433333333333334,
         232
        ],
        [
         2014,
         "McLaren",
         107,
         25,
         4.28,
         237
        ],
        [
         2015,
         "Mercedes",
         316,
         35,
         9.028571428571428,
         7
        ],
        [
         2015,
         "Ferrari",
         226,
         31,
         7.290322580645161,
         91
        ],
        [
         2015,
         "Williams",
         152,
         26,
         5.846153846153846,
         180
        ],
        [
         2015,
         "Red Bull",
         115,
         27,
         4.2592592592592595,
         239
        ],
        [
         2015,
         "McLaren",
         19,
         6,
         3.1666666666666665,
         271
        ],
        [
         2016,
         "Mercedes",
         344,
         39,
         8.820512820512821,
         13
        ],
        [
         2016,
         "Red Bull",
         252,
         36,
         7.0,
         111
        ],
        [
         2016,
         "Ferrari",
         225,
         34,
         6.617647058823529,
         140
        ],
        [
         2016,
         "Williams",
         94,
         28,
         3.357142857142857,
         269
        ],
        [
         2016,
         "McLaren",
         53,
         17,
         3.1176470588235294,
         273
        ],
        [
         2017,
         "Mercedes",
         319,
         39,
         8.179487179487179,
         36
        ],
        [
         2017,
         "Ferrari",
         266,
         34,
         7.823529411764706,
         50
        ],
        [
         2017,
         "Red Bull",
         194,
         27,
         7.185185185185185,
         105
        ],
        [
         2017,
         "Williams",
         59,
         20,
         2.95,
         275
        ],
        [
         2017,
         "McLaren",
         22,
         8,
         2.75,
         277
        ],
        [
         2018,
         "Mercedes",
         316,
         39,
         8.102564102564102,
         40
        ],
        [
         2018,
         "Ferrari",
         289,
         37,
         7.8108108108108105,
         52
        ],
        [
         2018,
         "Red Bull",
         219,
         30,
         7.3,
         90
        ],
        [
         2018,
         "McLaren",
         44,
         13,
         3.3846153846153846,
         267
        ],
        [
         2018,
         "Williams",
         4,
         2,
         2.0,
         280
        ],
        [
         2019,
         "Mercedes",
         339,
         40,
         8.475,
         27
        ],
        [
         2019,
         "Ferrari",
         261,
         34,
         7.676470588235294,
         58
        ],
        [
         2019,
         "Red Bull",
         227,
         36,
         6.305555555555555,
         155
        ],
        [
         2019,
         "McLaren",
         95,
         24,
         3.9583333333333335,
         251
        ],
        [
         2019,
         "Williams",
         1,
         1,
         1.0,
         285
        ],
        [
         2020,
         "Mercedes",
         258,
         31,
         8.32258064516129,
         32
        ],
        [
         2020,
         "Red Bull",
         166,
         24,
         6.916666666666667,
         123
        ],
        [
         2020,
         "McLaren",
         122,
         25,
         4.88,
         220
        ],
        [
         2020,
         "Ferrari",
         78,
         17,
         4.588235294117647,
         228
        ]
       ],
       "datasetInfos": [],
       "dbfsResultPath": null,
       "isJsonSchema": true,
       "metadata": {
        "createTempViewForImplicitDf": true,
        "dataframeName": "_sqldf",
        "executionCount": 3
       },
       "overflow": false,
       "plotOptions": {
        "customPlotOptions": {},
        "displayType": "table",
        "pivotAggregation": null,
        "pivotColumns": null,
        "xColumns": null,
        "yColumns": null
       },
       "removedWidgets": [],
       "schema": [
        {
         "metadata": "{}",
         "name": "race_year",
         "type": "\"integer\""
        },
        {
         "metadata": "{}",
         "name": "team_name",
         "type": "\"string\""
        },
        {
         "metadata": "{}",
         "name": "total_points",
         "type": "\"long\""
        },
        {
         "metadata": "{}",
         "name": "total_races",
         "type": "\"long\""
        },
        {
         "metadata": "{}",
         "name": "avg_points",
         "type": "\"double\""
        },
        {
         "metadata": "{}",
         "name": "rank",
         "type": "\"integer\""
        }
       ],
       "type": "table"
      }
     },
     "output_type": "display_data"
    },
    {
     "output_type": "display_data",
     "data": {
      "text/plain": [
       "Databricks visualization. Run in Databricks to view."
      ]
     },
     "metadata": {
      "application/vnd.databricks.v1.subcommand+json": {
       "baseErrorDetails": null,
       "bindings": {},
       "collapsed": false,
       "command": "%sql WITH q AS (select race_year,team_name,sum(caluclated_points) as total_points,count(*) as total_races,avg(caluclated_points) as avg_points,\nrank() over (order by avg(caluclated_points)  desc) as rank\nfrom f1_presentation.calculated_race_results\nwhere team_name in (select team_name from v_dominant_teams where team_rank<=10)\ngroup by race_year,team_name\norder by race_year,avg_points desc) SELECT `race_year`,SUM(`avg_points`) `column_91b769f361`,`team_name` FROM q GROUP BY `race_year`,`team_name`",
       "commandTitle": "Visualization 1",
       "commandType": "auto",
       "commandVersion": 0,
       "commentThread": [],
       "commentsVisible": false,
       "contentSha256Hex": null,
       "customPlotOptions": {
        "redashChart": [
         {
          "key": "type",
          "value": "CHART"
         },
         {
          "key": "options",
          "value": {
           "alignYAxesAtZero": true,
           "coefficient": 1,
           "columnConfigurationMap": {
            "series": {
             "column": "team_name",
             "id": "column_91b769f359"
            },
            "x": {
             "column": "race_year",
             "id": "column_91b769f358"
            },
            "y": [
             {
              "column": "avg_points",
              "id": "column_91b769f361",
              "transform": "SUM"
             }
            ]
           },
           "dateTimeFormat": "DD/MM/YYYY HH:mm",
           "direction": {
            "type": "counterclockwise"
           },
           "error_y": {
            "type": "data",
            "visible": true
           },
           "globalSeriesType": "line",
           "isAggregationOn": true,
           "legend": {
            "traceorder": "normal"
           },
           "missingValuesAsZero": true,
           "numberFormat": "0,0.[00000]",
           "percentFormat": "0[.]00%",
           "series": {
            "error_y": {
             "type": "data",
             "visible": true
            },
            "stacking": null
           },
           "seriesOptions": {
            "column_91b769f361": {
             "type": "line",
             "yAxis": 0
            }
           },
           "showDataLabels": false,
           "sizemode": "diameter",
           "sortX": true,
           "sortY": true,
           "swappedAxes": false,
           "textFormat": "",
           "useAggregationsUi": true,
           "valuesOptions": {},
           "version": 2,
           "xAxis": {
            "labels": {
             "enabled": true
            },
            "type": "-"
           },
           "yAxis": [
            {
             "type": "-"
            },
            {
             "opposite": true,
             "type": "-"
            }
           ]
          }
         }
        ]
       },
       "datasetPreviewNameToCmdIdMap": {},
       "diffDeletes": [],
       "diffInserts": [],
       "displayType": "redashChart",
       "error": null,
       "errorDetails": null,
       "errorSummary": null,
       "errorTraceType": null,
       "finishTime": 0,
       "globalVars": {},
       "guid": "",
       "height": "auto",
       "hideCommandCode": false,
       "hideCommandResult": false,
       "iPythonMetadata": null,
       "inputWidgets": {},
       "isLockedInExamMode": false,
       "latestUser": "a user",
       "latestUserId": null,
       "listResultMetadata": null,
       "metadata": {},
       "nuid": "7a6414c7-2533-44f2-afef-f08e80cd8d8a",
       "origId": 0,
       "parentHierarchy": [],
       "pivotAggregation": null,
       "pivotColumns": null,
       "position": 5.0,
       "resultDbfsErrorMessage": null,
       "resultDbfsStatus": "INLINED_IN_TREE",
       "results": null,
       "showCommandTitle": false,
       "startTime": 0,
       "state": "input",
       "streamStates": {},
       "subcommandOptions": {
        "queryPlan": {
         "groups": [
          {
           "column": "race_year",
           "type": "column"
          },
          {
           "column": "team_name",
           "type": "column"
          }
         ],
         "selects": [
          {
           "column": "race_year",
           "type": "column"
          },
          {
           "alias": "column_91b769f361",
           "args": [
            {
             "column": "avg_points",
             "type": "column"
            }
           ],
           "function": "SUM",
           "type": "function"
          },
          {
           "column": "team_name",
           "type": "column"
          }
         ]
        }
       },
       "submitTime": 0,
       "subtype": "tableResultSubCmd.visualization",
       "tableResultIndex": 0,
       "tableResultSettingsMap": {},
       "useConsistentColors": false,
       "version": "CommandV1",
       "width": "auto",
       "workflows": [],
       "xColumns": null,
       "yColumns": null
      }
     },
     "output_type": "display_data"
    }
   ],
   "source": [
    "%sql\n",
    "select race_year,team_name,sum(caluclated_points) as total_points,count(*) as total_races,avg(caluclated_points) as avg_points,\n",
    "rank() over (order by avg(caluclated_points)  desc) as rank\n",
    "from f1_presentation.calculated_race_results\n",
    "where team_name in (select team_name from v_dominant_teams where team_rank<=10)\n",
    "group by race_year,team_name\n",
    "order by race_year,avg_points desc"
   ]
  }
 ],
 "metadata": {
  "application/vnd.databricks.v1+notebook": {
   "computePreferences": null,
   "dashboards": [],
   "environmentMetadata": {
    "base_environment": "",
    "client": "1"
   },
   "language": "python",
   "notebookMetadata": {
    "mostRecentlyExecutedCommandWithImplicitDF": {
     "commandId": 2545036716198501,
     "dataframes": [
      "_sqldf"
     ]
    },
    "pythonIndentUnit": 4
   },
   "notebookName": "3.viz_dominant_teams",
   "widgets": {}
  },
  "language_info": {
   "name": "python"
  }
 },
 "nbformat": 4,
 "nbformat_minor": 0
}