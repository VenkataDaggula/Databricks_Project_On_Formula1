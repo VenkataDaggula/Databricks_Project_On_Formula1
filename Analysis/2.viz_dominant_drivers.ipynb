{
 "cells": [
  {
   "cell_type": "code",
   "execution_count": 0,
   "metadata": {
    "application/vnd.databricks.v1+cell": {
     "cellMetadata": {
      "byteLimit": 2048000,
      "implicitDf": true,
      "rowLimit": 10000
     },
     "inputWidgets": {},
     "nuid": "9e102f75-7bcc-4c86-b508-bca2aba4618e",
     "showTitle": false,
     "tableResultSettingsMap": {},
     "title": ""
    }
   },
   "outputs": [
    {
     "output_type": "display_data",
     "data": {
      "text/html": [
       "<style scoped>\n",
       "  .table-result-container {\n",
       "    max-height: 300px;\n",
       "    overflow: auto;\n",
       "  }\n",
       "  table, th, td {\n",
       "    border: 1px solid black;\n",
       "    border-collapse: collapse;\n",
       "  }\n",
       "  th, td {\n",
       "    padding: 5px;\n",
       "  }\n",
       "  th {\n",
       "    text-align: left;\n",
       "  }\n",
       "</style><div class='table-result-container'><table class='table-result'><thead style='background-color: white'><tr></tr></thead><tbody></tbody></table></div>"
      ]
     },
     "metadata": {
      "application/vnd.databricks.v1+output": {
       "addedWidgets": {},
       "aggData": [],
       "aggError": "",
       "aggOverflow": false,
       "aggSchema": [],
       "aggSeriesLimitReached": false,
       "aggType": "",
       "arguments": {},
       "columnCustomDisplayInfos": {},
       "data": [],
       "datasetInfos": [],
       "dbfsResultPath": null,
       "isJsonSchema": true,
       "metadata": {
        "dataframeName": null
       },
       "overflow": false,
       "plotOptions": {
        "customPlotOptions": {},
        "displayType": "table",
        "pivotAggregation": null,
        "pivotColumns": null,
        "xColumns": null,
        "yColumns": null
       },
       "removedWidgets": [],
       "schema": [],
       "type": "table"
      }
     },
     "output_type": "display_data"
    }
   ],
   "source": [
    "%sql\n",
    "create or replace temp view v_dominant_drivers as\n",
    "select driver_name,sum(caluclated_points) as total_points,count(*) as total_races,avg(caluclated_points) as avg_points,rank() over (order by avg(caluclated_points)  desc) as driver_rank\n",
    "from f1_presentation.calculated_race_results\n",
    "group by driver_name\n",
    "having count(*) > 50\n",
    "order by avg_points desc"
   ]
  },
  {
   "cell_type": "code",
   "execution_count": 0,
   "metadata": {
    "application/vnd.databricks.v1+cell": {
     "cellMetadata": {
      "byteLimit": 2048000,
      "implicitDf": true,
      "rowLimit": 10000
     },
     "inputWidgets": {},
     "nuid": "bb3409f8-0c63-492d-a4d5-587e94ecb3ad",
     "showTitle": false,
     "tableResultSettingsMap": {},
     "title": ""
    }
   },
   "outputs": [
    {
     "output_type": "display_data",
     "data": {
      "text/html": [
       "<style scoped>\n",
       "  .table-result-container {\n",
       "    max-height: 300px;\n",
       "    overflow: auto;\n",
       "  }\n",
       "  table, th, td {\n",
       "    border: 1px solid black;\n",
       "    border-collapse: collapse;\n",
       "  }\n",
       "  th, td {\n",
       "    padding: 5px;\n",
       "  }\n",
       "  th {\n",
       "    text-align: left;\n",
       "  }\n",
       "</style><div class='table-result-container'><table class='table-result'><thead style='background-color: white'><tr><th>race_year</th><th>driver_name</th><th>total_points</th><th>total_races</th><th>avg_points</th><th>rank</th></tr></thead><tbody><tr><td>1965</td><td>Jackie Stewart</td><td>56</td><td>7</td><td>8.0</td><td>61</td></tr><tr><td>1966</td><td>Jackie Stewart</td><td>23</td><td>3</td><td>7.666666666666667</td><td>77</td></tr><tr><td>1967</td><td>Jackie Stewart</td><td>17</td><td>2</td><td>8.5</td><td>46</td></tr><tr><td>1968</td><td>Jackie Stewart</td><td>59</td><td>8</td><td>7.375</td><td>82</td></tr><tr><td>1969</td><td>Jackie Stewart</td><td>76</td><td>8</td><td>9.5</td><td>5</td></tr><tr><td>1970</td><td>Jackie Stewart</td><td>38</td><td>5</td><td>7.6</td><td>80</td></tr><tr><td>1971</td><td>Jackie Stewart</td><td>75</td><td>8</td><td>9.375</td><td>13</td></tr><tr><td>1972</td><td>Jackie Stewart</td><td>60</td><td>7</td><td>8.571428571428571</td><td>43</td></tr><tr><td>1972</td><td>Niki Lauda</td><td>7</td><td>3</td><td>2.3333333333333335</td><td>117</td></tr><tr><td>1973</td><td>Jackie Stewart</td><td>103</td><td>13</td><td>7.923076923076923</td><td>66</td></tr><tr><td>1973</td><td>Niki Lauda</td><td>11</td><td>3</td><td>3.6666666666666665</td><td>115</td></tr><tr><td>1974</td><td>Niki Lauda</td><td>53</td><td>6</td><td>8.833333333333334</td><td>32</td></tr><tr><td>1975</td><td>Niki Lauda</td><td>100</td><td>13</td><td>7.6923076923076925</td><td>76</td></tr><tr><td>1976</td><td>Niki Lauda</td><td>94</td><td>11</td><td>8.545454545454545</td><td>45</td></tr><tr><td>1977</td><td>Niki Lauda</td><td>105</td><td>12</td><td>8.75</td><td>36</td></tr><tr><td>1978</td><td>Niki Lauda</td><td>63</td><td>7</td><td>9.0</td><td>24</td></tr><tr><td>1979</td><td>Niki Lauda</td><td>12</td><td>2</td><td>6.0</td><td>100</td></tr><tr><td>1980</td><td>Alain Prost</td><td>29</td><td>6</td><td>4.833333333333333</td><td>107</td></tr><tr><td>1981</td><td>Alain Prost</td><td>56</td><td>6</td><td>9.333333333333334</td><td>14</td></tr><tr><td>1981</td><td>Nigel Mansell</td><td>24</td><td>4</td><td>6.0</td><td>100</td></tr><tr><td>1982</td><td>Niki Lauda</td><td>51</td><td>7</td><td>7.285714285714286</td><td>85</td></tr><tr><td>1982</td><td>Alain Prost</td><td>57</td><td>8</td><td>7.125</td><td>87</td></tr><tr><td>1982</td><td>Nigel Mansell</td><td>28</td><td>6</td><td>4.666666666666667</td><td>109</td></tr><tr><td>1983</td><td>Alain Prost</td><td>86</td><td>11</td><td>7.818181818181818</td><td>74</td></tr><tr><td>1983</td><td>Niki Lauda</td><td>27</td><td>4</td><td>6.75</td><td>92</td></tr><tr><td>1983</td><td>Nigel Mansell</td><td>29</td><td>5</td><td>5.8</td><td>103</td></tr><tr><td>1984</td><td>Niki Lauda</td><td>93</td><td>10</td><td>9.3</td><td>15</td></tr><tr><td>1984</td><td>Alain Prost</td><td>98</td><td>11</td><td>8.909090909090908</td><td>29</td></tr><tr><td>1984</td><td>Nigel Mansell</td><td>33</td><td>5</td><td>6.6</td><td>95</td></tr><tr><td>1984</td><td>Ayrton Senna</td><td>39</td><td>6</td><td>6.5</td><td>96</td></tr><tr><td>1985</td><td>Alain Prost</td><td>107</td><td>12</td><td>8.916666666666666</td><td>28</td></tr><tr><td>1985</td><td>Niki Lauda</td><td>23</td><td>3</td><td>7.666666666666667</td><td>77</td></tr><tr><td>1985</td><td>Ayrton Senna</td><td>59</td><td>8</td><td>7.375</td><td>82</td></tr><tr><td>1985</td><td>Nigel Mansell</td><td>60</td><td>9</td><td>6.666666666666667</td><td>93</td></tr><tr><td>1986</td><td>Nigel Mansell</td><td>103</td><td>12</td><td>8.583333333333334</td><td>42</td></tr><tr><td>1986</td><td>Ayrton Senna</td><td>85</td><td>10</td><td>8.5</td><td>46</td></tr><tr><td>1986</td><td>Alain Prost</td><td>110</td><td>13</td><td>8.461538461538462</td><td>49</td></tr><tr><td>1987</td><td>Nigel Mansell</td><td>79</td><td>9</td><td>8.777777777777779</td><td>34</td></tr><tr><td>1987</td><td>Ayrton Senna</td><td>95</td><td>12</td><td>7.916666666666667</td><td>67</td></tr><tr><td>1987</td><td>Alain Prost</td><td>78</td><td>11</td><td>7.090909090909091</td><td>88</td></tr><tr><td>1988</td><td>Alain Prost</td><td>133</td><td>14</td><td>9.5</td><td>5</td></tr><tr><td>1988</td><td>Nigel Mansell</td><td>18</td><td>2</td><td>9.0</td><td>24</td></tr><tr><td>1988</td><td>Ayrton Senna</td><td>120</td><td>14</td><td>8.571428571428571</td><td>43</td></tr><tr><td>1989</td><td>Ayrton Senna</td><td>73</td><td>8</td><td>9.125</td><td>20</td></tr><tr><td>1989</td><td>Nigel Mansell</td><td>54</td><td>6</td><td>9.0</td><td>24</td></tr><tr><td>1989</td><td>Alain Prost</td><td>115</td><td>13</td><td>8.846153846153847</td><td>31</td></tr><tr><td>1990</td><td>Ayrton Senna</td><td>102</td><td>11</td><td>9.272727272727273</td><td>17</td></tr><tr><td>1990</td><td>Alain Prost</td><td>104</td><td>12</td><td>8.666666666666666</td><td>38</td></tr><tr><td>1990</td><td>Nigel Mansell</td><td>59</td><td>7</td><td>8.428571428571429</td><td>52</td></tr><tr><td>1991</td><td>Nigel Mansell</td><td>91</td><td>10</td><td>9.1</td><td>22</td></tr><tr><td>1991</td><td>Ayrton Senna</td><td>130</td><td>15</td><td>8.666666666666666</td><td>38</td></tr><tr><td>1991</td><td>Alain Prost</td><td>63</td><td>8</td><td>7.875</td><td>69</td></tr><tr><td>1991</td><td>Michael Schumacher</td><td>16</td><td>3</td><td>5.333333333333333</td><td>104</td></tr><tr><td>1992</td><td>Nigel Mansell</td><td>117</td><td>12</td><td>9.75</td><td>2</td></tr><tr><td>1992</td><td>Ayrton Senna</td><td>71</td><td>9</td><td>7.888888888888889</td><td>68</td></tr><tr><td>1992</td><td>Michael Schumacher</td><td>94</td><td>12</td><td>7.833333333333333</td><td>71</td></tr><tr><td>1993</td><td>Alain Prost</td><td>120</td><td>13</td><td>9.23076923076923</td><td>19</td></tr><tr><td>1993</td><td>Damon Hill</td><td>97</td><td>11</td><td>8.818181818181818</td><td>33</td></tr><tr><td>1993</td><td>Michael Schumacher</td><td>79</td><td>9</td><td>8.777777777777779</td><td>34</td></tr><tr><td>1993</td><td>Ayrton Senna</td><td>95</td><td>11</td><td>8.636363636363637</td><td>40</td></tr><tr><td>1994</td><td>Michael Schumacher</td><td>98</td><td>10</td><td>9.8</td><td>1</td></tr><tr><td>1994</td><td>Damon Hill</td><td>113</td><td>13</td><td>8.692307692307692</td><td>37</td></tr><tr><td>1994</td><td>Nigel Mansell</td><td>17</td><td>2</td><td>8.5</td><td>46</td></tr><tr><td>1995</td><td>Michael Schumacher</td><td>113</td><td>12</td><td>9.416666666666666</td><td>10</td></tr><tr><td>1995</td><td>Damon Hill</td><td>90</td><td>10</td><td>9.0</td><td>24</td></tr><tr><td>1995</td><td>Nigel Mansell</td><td>1</td><td>1</td><td>1.0</td><td>118</td></tr><tr><td>1996</td><td>Damon Hill</td><td>111</td><td>12</td><td>9.25</td><td>18</td></tr><tr><td>1996</td><td>Michael Schumacher</td><td>82</td><td>10</td><td>8.2</td><td>56</td></tr><tr><td>1997</td><td>Michael Schumacher</td><td>107</td><td>13</td><td>8.23076923076923</td><td>55</td></tr><tr><td>1997</td><td>Damon Hill</td><td>26</td><td>6</td><td>4.333333333333333</td><td>112</td></tr><tr><td>1998</td><td>Michael Schumacher</td><td>109</td><td>13</td><td>8.384615384615385</td><td>53</td></tr><tr><td>1998</td><td>Damon Hill</td><td>52</td><td>11</td><td>4.7272727272727275</td><td>108</td></tr><tr><td>1999</td><td>Michael Schumacher</td><td>64</td><td>8</td><td>8.0</td><td>61</td></tr><tr><td>1999</td><td>Damon Hill</td><td>31</td><td>7</td><td>4.428571428571429</td><td>111</td></tr><tr><td>2000</td><td>Michael Schumacher</td><td>122</td><td>13</td><td>9.384615384615385</td><td>12</td></tr><tr><td>2001</td><td>Michael Schumacher</td><td>142</td><td>15</td><td>9.466666666666667</td><td>8</td></tr><tr><td>2001</td><td>Juan Pablo Montoya</td><td>47</td><td>6</td><td>7.833333333333333</td><td>71</td></tr><tr><td>2002</td><td>Michael Schumacher</td><td>163</td><td>17</td><td>9.588235294117647</td><td>3</td></tr><tr><td>2002</td><td>Juan Pablo Montoya</td><td>94</td><td>12</td><td>7.833333333333333</td><td>71</td></tr><tr><td>2003</td><td>Juan Pablo Montoya</td><td>97</td><td>12</td><td>8.083333333333334</td><td>60</td></tr><tr><td>2003</td><td>Michael Schumacher</td><td>111</td><td>15</td><td>7.4</td><td>81</td></tr><tr><td>2004</td><td>Michael Schumacher</td><td>152</td><td>16</td><td>9.5</td><td>5</td></tr><tr><td>2004</td><td>Juan Pablo Montoya</td><td>81</td><td>13</td><td>6.230769230769231</td><td>99</td></tr><tr><td>2005</td><td>Juan Pablo Montoya</td><td>73</td><td>10</td><td>7.3</td><td>84</td></tr><tr><td>2005</td><td>Michael Schumacher</td><td>82</td><td>13</td><td>6.3076923076923075</td><td>97</td></tr><tr><td>2006</td><td>Michael Schumacher</td><td>135</td><td>16</td><td>8.4375</td><td>51</td></tr><tr><td>2006</td><td>Juan Pablo Montoya</td><td>35</td><td>5</td><td>7.0</td><td>89</td></tr><tr><td>2007</td><td>Lewis Hamilton</td><td>128</td><td>16</td><td>8.0</td><td>61</td></tr><tr><td>2007</td><td>Sebastian Vettel</td><td>10</td><td>2</td><td>5.0</td><td>106</td></tr><tr><td>2008</td><td>Lewis Hamilton</td><td>115</td><td>15</td><td>7.666666666666667</td><td>77</td></tr><tr><td>2008</td><td>Sebastian Vettel</td><td>53</td><td>10</td><td>5.3</td><td>105</td></tr><tr><td>2009</td><td>Sebastian Vettel</td><td>98</td><td>12</td><td>8.166666666666666</td><td>58</td></tr><tr><td>2009</td><td>Lewis Hamilton</td><td>63</td><td>9</td><td>7.0</td><td>89</td></tr><tr><td>2010</td><td>Sebastian Vettel</td><td>122</td><td>15</td><td>8.133333333333333</td><td>59</td></tr><tr><td>2010</td><td>Lewis Hamilton</td><td>119</td><td>15</td><td>7.933333333333334</td><td>65</td></tr><tr><td>2010</td><td>Michael Schumacher</td><td>47</td><td>12</td><td>3.9166666666666665</td><td>113</td></tr><tr><td>2011</td><td>Sebastian Vettel</td><td>170</td><td>18</td><td>9.444444444444445</td><td>9</td></tr><tr><td>2011</td><td>Lewis Hamilton</td><td>116</td><td>16</td><td>7.25</td><td>86</td></tr><tr><td>2011</td><td>Michael Schumacher</td><td>49</td><td>11</td><td>4.454545454545454</td><td>110</td></tr><tr><td>2012</td><td>Sebastian Vettel</td><td>136</td><td>17</td><td>8.0</td><td>61</td></tr><tr><td>2012</td><td>Lewis Hamilton</td><td>93</td><td>14</td><td>6.642857142857143</td><td>94</td></tr><tr><td>2012</td><td>Michael Schumacher</td><td>31</td><td>8</td><td>3.875</td><td>114</td></tr><tr><td>2013</td><td>Sebastian Vettel</td><td>169</td><td>18</td><td>9.38888888888889</td><td>11</td></tr><tr><td>2013</td><td>Lewis Hamilton</td><td>106</td><td>17</td><td>6.235294117647059</td><td>98</td></tr><tr><td>2014</td><td>Lewis Hamilton</td><td>153</td><td>16</td><td>9.5625</td><td>4</td></tr><tr><td>2014</td><td>Sebastian Vettel</td><td>95</td><td>16</td><td>5.9375</td><td>102</td></tr><tr><td>2015</td><td>Lewis Hamilton</td><td>167</td><td>18</td><td>9.277777777777779</td><td>16</td></tr><tr><td>2015</td><td>Sebastian Vettel</td><td>139</td><td>17</td><td>8.176470588235293</td><td>57</td></tr><tr><td>2016</td><td>Lewis Hamilton</td><td>169</td><td>19</td><td>8.894736842105264</td><td>30</td></tr><tr><td>2016</td><td>Sebastian Vettel</td><td>118</td><td>17</td><td>6.9411764705882355</td><td>91</td></tr><tr><td>2017</td><td>Sebastian Vettel</td><td>152</td><td>18</td><td>8.444444444444445</td><td>50</td></tr><tr><td>2017</td><td>Lewis Hamilton</td><td>166</td><td>20</td><td>8.3</td><td>54</td></tr><tr><td>2018</td><td>Lewis Hamilton</td><td>181</td><td>20</td><td>9.05</td><td>23</td></tr><tr><td>2018</td><td>Sebastian Vettel</td><td>157</td><td>20</td><td>7.85</td><td>70</td></tr><tr><td>2019</td><td>Lewis Hamilton</td><td>181</td><td>21</td><td>8.619047619047619</td><td>41</td></tr><tr><td>2019</td><td>Sebastian Vettel</td><td>125</td><td>16</td><td>7.8125</td><td>75</td></tr><tr><td>2020</td><td>Lewis Hamilton</td><td>146</td><td>16</td><td>9.125</td><td>20</td></tr><tr><td>2020</td><td>Sebastian Vettel</td><td>21</td><td>7</td><td>3.0</td><td>116</td></tr></tbody></table></div>"
      ]
     },
     "metadata": {
      "application/vnd.databricks.v1+output": {
       "addedWidgets": {},
       "aggData": [],
       "aggError": "",
       "aggOverflow": false,
       "aggSchema": [],
       "aggSeriesLimitReached": false,
       "aggType": "",
       "arguments": {},
       "columnCustomDisplayInfos": {},
       "data": [
        [
         1965,
         "Jackie Stewart",
         56,
         7,
         8.0,
         61
        ],
        [
         1966,
         "Jackie Stewart",
         23,
         3,
         7.666666666666667,
         77
        ],
        [
         1967,
         "Jackie Stewart",
         17,
         2,
         8.5,
         46
        ],
        [
         1968,
         "Jackie Stewart",
         59,
         8,
         7.375,
         82
        ],
        [
         1969,
         "Jackie Stewart",
         76,
         8,
         9.5,
         5
        ],
        [
         1970,
         "Jackie Stewart",
         38,
         5,
         7.6,
         80
        ],
        [
         1971,
         "Jackie Stewart",
         75,
         8,
         9.375,
         13
        ],
        [
         1972,
         "Jackie Stewart",
         60,
         7,
         8.571428571428571,
         43
        ],
        [
         1972,
         "Niki Lauda",
         7,
         3,
         2.3333333333333335,
         117
        ],
        [
         1973,
         "Jackie Stewart",
         103,
         13,
         7.923076923076923,
         66
        ],
        [
         1973,
         "Niki Lauda",
         11,
         3,
         3.6666666666666665,
         115
        ],
        [
         1974,
         "Niki Lauda",
         53,
         6,
         8.833333333333334,
         32
        ],
        [
         1975,
         "Niki Lauda",
         100,
         13,
         7.6923076923076925,
         76
        ],
        [
         1976,
         "Niki Lauda",
         94,
         11,
         8.545454545454545,
         45
        ],
        [
         1977,
         "Niki Lauda",
         105,
         12,
         8.75,
         36
        ],
        [
         1978,
         "Niki Lauda",
         63,
         7,
         9.0,
         24
        ],
        [
         1979,
         "Niki Lauda",
         12,
         2,
         6.0,
         100
        ],
        [
         1980,
         "Alain Prost",
         29,
         6,
         4.833333333333333,
         107
        ],
        [
         1981,
         "Alain Prost",
         56,
         6,
         9.333333333333334,
         14
        ],
        [
         1981,
         "Nigel Mansell",
         24,
         4,
         6.0,
         100
        ],
        [
         1982,
         "Niki Lauda",
         51,
         7,
         7.285714285714286,
         85
        ],
        [
         1982,
         "Alain Prost",
         57,
         8,
         7.125,
         87
        ],
        [
         1982,
         "Nigel Mansell",
         28,
         6,
         4.666666666666667,
         109
        ],
        [
         1983,
         "Alain Prost",
         86,
         11,
         7.818181818181818,
         74
        ],
        [
         1983,
         "Niki Lauda",
         27,
         4,
         6.75,
         92
        ],
        [
         1983,
         "Nigel Mansell",
         29,
         5,
         5.8,
         103
        ],
        [
         1984,
         "Niki Lauda",
         93,
         10,
         9.3,
         15
        ],
        [
         1984,
         "Alain Prost",
         98,
         11,
         8.909090909090908,
         29
        ],
        [
         1984,
         "Nigel Mansell",
         33,
         5,
         6.6,
         95
        ],
        [
         1984,
         "Ayrton Senna",
         39,
         6,
         6.5,
         96
        ],
        [
         1985,
         "Alain Prost",
         107,
         12,
         8.916666666666666,
         28
        ],
        [
         1985,
         "Niki Lauda",
         23,
         3,
         7.666666666666667,
         77
        ],
        [
         1985,
         "Ayrton Senna",
         59,
         8,
         7.375,
         82
        ],
        [
         1985,
         "Nigel Mansell",
         60,
         9,
         6.666666666666667,
         93
        ],
        [
         1986,
         "Nigel Mansell",
         103,
         12,
         8.583333333333334,
         42
        ],
        [
         1986,
         "Ayrton Senna",
         85,
         10,
         8.5,
         46
        ],
        [
         1986,
         "Alain Prost",
         110,
         13,
         8.461538461538462,
         49
        ],
        [
         1987,
         "Nigel Mansell",
         79,
         9,
         8.777777777777779,
         34
        ],
        [
         1987,
         "Ayrton Senna",
         95,
         12,
         7.916666666666667,
         67
        ],
        [
         1987,
         "Alain Prost",
         78,
         11,
         7.090909090909091,
         88
        ],
        [
         1988,
         "Alain Prost",
         133,
         14,
         9.5,
         5
        ],
        [
         1988,
         "Nigel Mansell",
         18,
         2,
         9.0,
         24
        ],
        [
         1988,
         "Ayrton Senna",
         120,
         14,
         8.571428571428571,
         43
        ],
        [
         1989,
         "Ayrton Senna",
         73,
         8,
         9.125,
         20
        ],
        [
         1989,
         "Nigel Mansell",
         54,
         6,
         9.0,
         24
        ],
        [
         1989,
         "Alain Prost",
         115,
         13,
         8.846153846153847,
         31
        ],
        [
         1990,
         "Ayrton Senna",
         102,
         11,
         9.272727272727273,
         17
        ],
        [
         1990,
         "Alain Prost",
         104,
         12,
         8.666666666666666,
         38
        ],
        [
         1990,
         "Nigel Mansell",
         59,
         7,
         8.428571428571429,
         52
        ],
        [
         1991,
         "Nigel Mansell",
         91,
         10,
         9.1,
         22
        ],
        [
         1991,
         "Ayrton Senna",
         130,
         15,
         8.666666666666666,
         38
        ],
        [
         1991,
         "Alain Prost",
         63,
         8,
         7.875,
         69
        ],
        [
         1991,
         "Michael Schumacher",
         16,
         3,
         5.333333333333333,
         104
        ],
        [
         1992,
         "Nigel Mansell",
         117,
         12,
         9.75,
         2
        ],
        [
         1992,
         "Ayrton Senna",
         71,
         9,
         7.888888888888889,
         68
        ],
        [
         1992,
         "Michael Schumacher",
         94,
         12,
         7.833333333333333,
         71
        ],
        [
         1993,
         "Alain Prost",
         120,
         13,
         9.23076923076923,
         19
        ],
        [
         1993,
         "Damon Hill",
         97,
         11,
         8.818181818181818,
         33
        ],
        [
         1993,
         "Michael Schumacher",
         79,
         9,
         8.777777777777779,
         34
        ],
        [
         1993,
         "Ayrton Senna",
         95,
         11,
         8.636363636363637,
         40
        ],
        [
         1994,
         "Michael Schumacher",
         98,
         10,
         9.8,
         1
        ],
        [
         1994,
         "Damon Hill",
         113,
         13,
         8.692307692307692,
         37
        ],
        [
         1994,
         "Nigel Mansell",
         17,
         2,
         8.5,
         46
        ],
        [
         1995,
         "Michael Schumacher",
         113,
         12,
         9.416666666666666,
         10
        ],
        [
         1995,
         "Damon Hill",
         90,
         10,
         9.0,
         24
        ],
        [
         1995,
         "Nigel Mansell",
         1,
         1,
         1.0,
         118
        ],
        [
         1996,
         "Damon Hill",
         111,
         12,
         9.25,
         18
        ],
        [
         1996,
         "Michael Schumacher",
         82,
         10,
         8.2,
         56
        ],
        [
         1997,
         "Michael Schumacher",
         107,
         13,
         8.23076923076923,
         55
        ],
        [
         1997,
         "Damon Hill",
         26,
         6,
         4.333333333333333,
         112
        ],
        [
         1998,
         "Michael Schumacher",
         109,
         13,
         8.384615384615385,
         53
        ],
        [
         1998,
         "Damon Hill",
         52,
         11,
         4.7272727272727275,
         108
        ],
        [
         1999,
         "Michael Schumacher",
         64,
         8,
         8.0,
         61
        ],
        [
         1999,
         "Damon Hill",
         31,
         7,
         4.428571428571429,
         111
        ],
        [
         2000,
         "Michael Schumacher",
         122,
         13,
         9.384615384615385,
         12
        ],
        [
         2001,
         "Michael Schumacher",
         142,
         15,
         9.466666666666667,
         8
        ],
        [
         2001,
         "Juan Pablo Montoya",
         47,
         6,
         7.833333333333333,
         71
        ],
        [
         2002,
         "Michael Schumacher",
         163,
         17,
         9.588235294117647,
         3
        ],
        [
         2002,
         "Juan Pablo Montoya",
         94,
         12,
         7.833333333333333,
         71
        ],
        [
         2003,
         "Juan Pablo Montoya",
         97,
         12,
         8.083333333333334,
         60
        ],
        [
         2003,
         "Michael Schumacher",
         111,
         15,
         7.4,
         81
        ],
        [
         2004,
         "Michael Schumacher",
         152,
         16,
         9.5,
         5
        ],
        [
         2004,
         "Juan Pablo Montoya",
         81,
         13,
         6.230769230769231,
         99
        ],
        [
         2005,
         "Juan Pablo Montoya",
         73,
         10,
         7.3,
         84
        ],
        [
         2005,
         "Michael Schumacher",
         82,
         13,
         6.3076923076923075,
         97
        ],
        [
         2006,
         "Michael Schumacher",
         135,
         16,
         8.4375,
         51
        ],
        [
         2006,
         "Juan Pablo Montoya",
         35,
         5,
         7.0,
         89
        ],
        [
         2007,
         "Lewis Hamilton",
         128,
         16,
         8.0,
         61
        ],
        [
         2007,
         "Sebastian Vettel",
         10,
         2,
         5.0,
         106
        ],
        [
         2008,
         "Lewis Hamilton",
         115,
         15,
         7.666666666666667,
         77
        ],
        [
         2008,
         "Sebastian Vettel",
         53,
         10,
         5.3,
         105
        ],
        [
         2009,
         "Sebastian Vettel",
         98,
         12,
         8.166666666666666,
         58
        ],
        [
         2009,
         "Lewis Hamilton",
         63,
         9,
         7.0,
         89
        ],
        [
         2010,
         "Sebastian Vettel",
         122,
         15,
         8.133333333333333,
         59
        ],
        [
         2010,
         "Lewis Hamilton",
         119,
         15,
         7.933333333333334,
         65
        ],
        [
         2010,
         "Michael Schumacher",
         47,
         12,
         3.9166666666666665,
         113
        ],
        [
         2011,
         "Sebastian Vettel",
         170,
         18,
         9.444444444444445,
         9
        ],
        [
         2011,
         "Lewis Hamilton",
         116,
         16,
         7.25,
         86
        ],
        [
         2011,
         "Michael Schumacher",
         49,
         11,
         4.454545454545454,
         110
        ],
        [
         2012,
         "Sebastian Vettel",
         136,
         17,
         8.0,
         61
        ],
        [
         2012,
         "Lewis Hamilton",
         93,
         14,
         6.642857142857143,
         94
        ],
        [
         2012,
         "Michael Schumacher",
         31,
         8,
         3.875,
         114
        ],
        [
         2013,
         "Sebastian Vettel",
         169,
         18,
         9.38888888888889,
         11
        ],
        [
         2013,
         "Lewis Hamilton",
         106,
         17,
         6.235294117647059,
         98
        ],
        [
         2014,
         "Lewis Hamilton",
         153,
         16,
         9.5625,
         4
        ],
        [
         2014,
         "Sebastian Vettel",
         95,
         16,
         5.9375,
         102
        ],
        [
         2015,
         "Lewis Hamilton",
         167,
         18,
         9.277777777777779,
         16
        ],
        [
         2015,
         "Sebastian Vettel",
         139,
         17,
         8.176470588235293,
         57
        ],
        [
         2016,
         "Lewis Hamilton",
         169,
         19,
         8.894736842105264,
         30
        ],
        [
         2016,
         "Sebastian Vettel",
         118,
         17,
         6.9411764705882355,
         91
        ],
        [
         2017,
         "Sebastian Vettel",
         152,
         18,
         8.444444444444445,
         50
        ],
        [
         2017,
         "Lewis Hamilton",
         166,
         20,
         8.3,
         54
        ],
        [
         2018,
         "Lewis Hamilton",
         181,
         20,
         9.05,
         23
        ],
        [
         2018,
         "Sebastian Vettel",
         157,
         20,
         7.85,
         70
        ],
        [
         2019,
         "Lewis Hamilton",
         181,
         21,
         8.619047619047619,
         41
        ],
        [
         2019,
         "Sebastian Vettel",
         125,
         16,
         7.8125,
         75
        ],
        [
         2020,
         "Lewis Hamilton",
         146,
         16,
         9.125,
         20
        ],
        [
         2020,
         "Sebastian Vettel",
         21,
         7,
         3.0,
         116
        ]
       ],
       "datasetInfos": [],
       "dbfsResultPath": null,
       "isJsonSchema": true,
       "metadata": {
        "createTempViewForImplicitDf": true,
        "dataframeName": "_sqldf",
        "executionCount": 11
       },
       "overflow": false,
       "plotOptions": {
        "customPlotOptions": {},
        "displayType": "table",
        "pivotAggregation": null,
        "pivotColumns": null,
        "xColumns": null,
        "yColumns": null
       },
       "removedWidgets": [],
       "schema": [
        {
         "metadata": "{}",
         "name": "race_year",
         "type": "\"integer\""
        },
        {
         "metadata": "{}",
         "name": "driver_name",
         "type": "\"string\""
        },
        {
         "metadata": "{}",
         "name": "total_points",
         "type": "\"long\""
        },
        {
         "metadata": "{}",
         "name": "total_races",
         "type": "\"long\""
        },
        {
         "metadata": "{}",
         "name": "avg_points",
         "type": "\"double\""
        },
        {
         "metadata": "{}",
         "name": "rank",
         "type": "\"integer\""
        }
       ],
       "type": "table"
      }
     },
     "output_type": "display_data"
    },
    {
     "output_type": "display_data",
     "data": {
      "text/plain": [
       "Databricks visualization. Run in Databricks to view."
      ]
     },
     "metadata": {
      "application/vnd.databricks.v1.subcommand+json": {
       "baseErrorDetails": null,
       "bindings": {},
       "collapsed": false,
       "command": "%sql WITH q AS (select race_year,driver_name,sum(caluclated_points) as total_points,count(*) as total_races,avg(caluclated_points) as avg_points,\nrank() over (order by avg(caluclated_points)  desc) as rank\nfrom f1_presentation.calculated_race_results\nwhere driver_name in (select driver_name from v_dominant_drivers where driver_rank<=10)\ngroup by race_year,driver_name\n\norder by race_year,avg_points desc) SELECT `race_year`,SUM(`avg_points`) `column_91b769f321`,`driver_name` FROM q GROUP BY `driver_name`,`race_year`",
       "commandTitle": "Visualization 1",
       "commandType": "auto",
       "commandVersion": 0,
       "commentThread": [],
       "commentsVisible": false,
       "contentSha256Hex": null,
       "customPlotOptions": {
        "redashChart": [
         {
          "key": "type",
          "value": "CHART"
         },
         {
          "key": "options",
          "value": {
           "alignYAxesAtZero": true,
           "coefficient": 1,
           "columnConfigurationMap": {
            "series": {
             "column": "driver_name",
             "id": "column_91b769f319"
            },
            "x": {
             "column": "race_year",
             "id": "column_91b769f318"
            },
            "y": [
             {
              "column": "avg_points",
              "id": "column_91b769f321",
              "transform": "SUM"
             }
            ]
           },
           "dateTimeFormat": "DD/MM/YYYY HH:mm",
           "direction": {
            "type": "counterclockwise"
           },
           "error_y": {
            "type": "data",
            "visible": true
           },
           "globalSeriesType": "line",
           "isAggregationOn": true,
           "legend": {
            "traceorder": "normal"
           },
           "missingValuesAsZero": true,
           "numberFormat": "0,0.[00000]",
           "percentFormat": "0[.]00%",
           "series": {
            "error_y": {
             "type": "data",
             "visible": true
            },
            "stacking": null
           },
           "seriesOptions": {
            "column_91b769f321": {
             "type": "line",
             "yAxis": 0
            }
           },
           "showDataLabels": false,
           "sizemode": "diameter",
           "sortX": true,
           "sortY": true,
           "swappedAxes": false,
           "textFormat": "",
           "useAggregationsUi": true,
           "valuesOptions": {},
           "version": 2,
           "xAxis": {
            "labels": {
             "enabled": true
            },
            "type": "-"
           },
           "yAxis": [
            {
             "type": "-"
            },
            {
             "opposite": true,
             "type": "-"
            }
           ]
          }
         }
        ]
       },
       "datasetPreviewNameToCmdIdMap": {},
       "diffDeletes": [],
       "diffInserts": [],
       "displayType": "redashChart",
       "error": null,
       "errorDetails": null,
       "errorSummary": null,
       "errorTraceType": null,
       "finishTime": 0,
       "globalVars": {},
       "guid": "",
       "height": "auto",
       "hideCommandCode": false,
       "hideCommandResult": false,
       "iPythonMetadata": null,
       "inputWidgets": {},
       "isLockedInExamMode": false,
       "latestUser": "a user",
       "latestUserId": null,
       "listResultMetadata": null,
       "metadata": {},
       "nuid": "35ccfea4-a187-479f-a703-37301a31b58f",
       "origId": 0,
       "parentHierarchy": [],
       "pivotAggregation": null,
       "pivotColumns": null,
       "position": 3.0,
       "resultDbfsErrorMessage": null,
       "resultDbfsStatus": "INLINED_IN_TREE",
       "results": null,
       "showCommandTitle": false,
       "startTime": 0,
       "state": "input",
       "streamStates": {},
       "subcommandOptions": {
        "queryPlan": {
         "groups": [
          {
           "column": "race_year",
           "type": "column"
          },
          {
           "column": "driver_name",
           "type": "column"
          }
         ],
         "selects": [
          {
           "column": "race_year",
           "type": "column"
          },
          {
           "alias": "column_91b769f321",
           "args": [
            {
             "column": "avg_points",
             "type": "column"
            }
           ],
           "function": "SUM",
           "type": "function"
          },
          {
           "column": "driver_name",
           "type": "column"
          }
         ]
        }
       },
       "submitTime": 0,
       "subtype": "tableResultSubCmd.visualization",
       "tableResultIndex": 0,
       "tableResultSettingsMap": {},
       "useConsistentColors": false,
       "version": "CommandV1",
       "width": "auto",
       "workflows": [],
       "xColumns": null,
       "yColumns": null
      }
     },
     "output_type": "display_data"
    }
   ],
   "source": [
    "%sql\n",
    "select race_year,driver_name,sum(caluclated_points) as total_points,count(*) as total_races,avg(caluclated_points) as avg_points,\n",
    "rank() over (order by avg(caluclated_points)  desc) as rank\n",
    "from f1_presentation.calculated_race_results\n",
    "where driver_name in (select driver_name from v_dominant_drivers where driver_rank<=10)\n",
    "group by race_year,driver_name\n",
    "order by race_year,avg_points desc"
   ]
  },
  {
   "cell_type": "code",
   "execution_count": 0,
   "metadata": {
    "application/vnd.databricks.v1+cell": {
     "cellMetadata": {
      "byteLimit": 2048000,
      "implicitDf": true,
      "rowLimit": 10000
     },
     "inputWidgets": {},
     "nuid": "38209c4a-64b1-4771-be33-25adc6bcead9",
     "showTitle": false,
     "tableResultSettingsMap": {},
     "title": ""
    }
   },
   "outputs": [
    {
     "output_type": "display_data",
     "data": {
      "text/html": [
       "<style scoped>\n",
       "  .table-result-container {\n",
       "    max-height: 300px;\n",
       "    overflow: auto;\n",
       "  }\n",
       "  table, th, td {\n",
       "    border: 1px solid black;\n",
       "    border-collapse: collapse;\n",
       "  }\n",
       "  th, td {\n",
       "    padding: 5px;\n",
       "  }\n",
       "  th {\n",
       "    text-align: left;\n",
       "  }\n",
       "</style><div class='table-result-container'><table class='table-result'><thead style='background-color: white'><tr><th>race_year</th><th>driver_name</th><th>total_points</th><th>total_races</th><th>avg_points</th><th>rank</th></tr></thead><tbody><tr><td>1965</td><td>Jackie Stewart</td><td>56</td><td>7</td><td>8.0</td><td>61</td></tr><tr><td>1966</td><td>Jackie Stewart</td><td>23</td><td>3</td><td>7.666666666666667</td><td>77</td></tr><tr><td>1967</td><td>Jackie Stewart</td><td>17</td><td>2</td><td>8.5</td><td>46</td></tr><tr><td>1968</td><td>Jackie Stewart</td><td>59</td><td>8</td><td>7.375</td><td>82</td></tr><tr><td>1969</td><td>Jackie Stewart</td><td>76</td><td>8</td><td>9.5</td><td>5</td></tr><tr><td>1970</td><td>Jackie Stewart</td><td>38</td><td>5</td><td>7.6</td><td>80</td></tr><tr><td>1971</td><td>Jackie Stewart</td><td>75</td><td>8</td><td>9.375</td><td>13</td></tr><tr><td>1972</td><td>Jackie Stewart</td><td>60</td><td>7</td><td>8.571428571428571</td><td>43</td></tr><tr><td>1972</td><td>Niki Lauda</td><td>7</td><td>3</td><td>2.3333333333333335</td><td>117</td></tr><tr><td>1973</td><td>Jackie Stewart</td><td>103</td><td>13</td><td>7.923076923076923</td><td>66</td></tr><tr><td>1973</td><td>Niki Lauda</td><td>11</td><td>3</td><td>3.6666666666666665</td><td>115</td></tr><tr><td>1974</td><td>Niki Lauda</td><td>53</td><td>6</td><td>8.833333333333334</td><td>32</td></tr><tr><td>1975</td><td>Niki Lauda</td><td>100</td><td>13</td><td>7.6923076923076925</td><td>76</td></tr><tr><td>1976</td><td>Niki Lauda</td><td>94</td><td>11</td><td>8.545454545454545</td><td>45</td></tr><tr><td>1977</td><td>Niki Lauda</td><td>105</td><td>12</td><td>8.75</td><td>36</td></tr><tr><td>1978</td><td>Niki Lauda</td><td>63</td><td>7</td><td>9.0</td><td>24</td></tr><tr><td>1979</td><td>Niki Lauda</td><td>12</td><td>2</td><td>6.0</td><td>100</td></tr><tr><td>1980</td><td>Alain Prost</td><td>29</td><td>6</td><td>4.833333333333333</td><td>107</td></tr><tr><td>1981</td><td>Alain Prost</td><td>56</td><td>6</td><td>9.333333333333334</td><td>14</td></tr><tr><td>1981</td><td>Nigel Mansell</td><td>24</td><td>4</td><td>6.0</td><td>100</td></tr><tr><td>1982</td><td>Niki Lauda</td><td>51</td><td>7</td><td>7.285714285714286</td><td>85</td></tr><tr><td>1982</td><td>Alain Prost</td><td>57</td><td>8</td><td>7.125</td><td>87</td></tr><tr><td>1982</td><td>Nigel Mansell</td><td>28</td><td>6</td><td>4.666666666666667</td><td>109</td></tr><tr><td>1983</td><td>Alain Prost</td><td>86</td><td>11</td><td>7.818181818181818</td><td>74</td></tr><tr><td>1983</td><td>Niki Lauda</td><td>27</td><td>4</td><td>6.75</td><td>92</td></tr><tr><td>1983</td><td>Nigel Mansell</td><td>29</td><td>5</td><td>5.8</td><td>103</td></tr><tr><td>1984</td><td>Niki Lauda</td><td>93</td><td>10</td><td>9.3</td><td>15</td></tr><tr><td>1984</td><td>Alain Prost</td><td>98</td><td>11</td><td>8.909090909090908</td><td>29</td></tr><tr><td>1984</td><td>Nigel Mansell</td><td>33</td><td>5</td><td>6.6</td><td>95</td></tr><tr><td>1984</td><td>Ayrton Senna</td><td>39</td><td>6</td><td>6.5</td><td>96</td></tr><tr><td>1985</td><td>Alain Prost</td><td>107</td><td>12</td><td>8.916666666666666</td><td>28</td></tr><tr><td>1985</td><td>Niki Lauda</td><td>23</td><td>3</td><td>7.666666666666667</td><td>77</td></tr><tr><td>1985</td><td>Ayrton Senna</td><td>59</td><td>8</td><td>7.375</td><td>82</td></tr><tr><td>1985</td><td>Nigel Mansell</td><td>60</td><td>9</td><td>6.666666666666667</td><td>93</td></tr><tr><td>1986</td><td>Nigel Mansell</td><td>103</td><td>12</td><td>8.583333333333334</td><td>42</td></tr><tr><td>1986</td><td>Ayrton Senna</td><td>85</td><td>10</td><td>8.5</td><td>46</td></tr><tr><td>1986</td><td>Alain Prost</td><td>110</td><td>13</td><td>8.461538461538462</td><td>49</td></tr><tr><td>1987</td><td>Nigel Mansell</td><td>79</td><td>9</td><td>8.777777777777779</td><td>34</td></tr><tr><td>1987</td><td>Ayrton Senna</td><td>95</td><td>12</td><td>7.916666666666667</td><td>67</td></tr><tr><td>1987</td><td>Alain Prost</td><td>78</td><td>11</td><td>7.090909090909091</td><td>88</td></tr><tr><td>1988</td><td>Alain Prost</td><td>133</td><td>14</td><td>9.5</td><td>5</td></tr><tr><td>1988</td><td>Nigel Mansell</td><td>18</td><td>2</td><td>9.0</td><td>24</td></tr><tr><td>1988</td><td>Ayrton Senna</td><td>120</td><td>14</td><td>8.571428571428571</td><td>43</td></tr><tr><td>1989</td><td>Ayrton Senna</td><td>73</td><td>8</td><td>9.125</td><td>20</td></tr><tr><td>1989</td><td>Nigel Mansell</td><td>54</td><td>6</td><td>9.0</td><td>24</td></tr><tr><td>1989</td><td>Alain Prost</td><td>115</td><td>13</td><td>8.846153846153847</td><td>31</td></tr><tr><td>1990</td><td>Ayrton Senna</td><td>102</td><td>11</td><td>9.272727272727273</td><td>17</td></tr><tr><td>1990</td><td>Alain Prost</td><td>104</td><td>12</td><td>8.666666666666666</td><td>38</td></tr><tr><td>1990</td><td>Nigel Mansell</td><td>59</td><td>7</td><td>8.428571428571429</td><td>52</td></tr><tr><td>1991</td><td>Nigel Mansell</td><td>91</td><td>10</td><td>9.1</td><td>22</td></tr><tr><td>1991</td><td>Ayrton Senna</td><td>130</td><td>15</td><td>8.666666666666666</td><td>38</td></tr><tr><td>1991</td><td>Alain Prost</td><td>63</td><td>8</td><td>7.875</td><td>69</td></tr><tr><td>1991</td><td>Michael Schumacher</td><td>16</td><td>3</td><td>5.333333333333333</td><td>104</td></tr><tr><td>1992</td><td>Nigel Mansell</td><td>117</td><td>12</td><td>9.75</td><td>2</td></tr><tr><td>1992</td><td>Ayrton Senna</td><td>71</td><td>9</td><td>7.888888888888889</td><td>68</td></tr><tr><td>1992</td><td>Michael Schumacher</td><td>94</td><td>12</td><td>7.833333333333333</td><td>71</td></tr><tr><td>1993</td><td>Alain Prost</td><td>120</td><td>13</td><td>9.23076923076923</td><td>19</td></tr><tr><td>1993</td><td>Damon Hill</td><td>97</td><td>11</td><td>8.818181818181818</td><td>33</td></tr><tr><td>1993</td><td>Michael Schumacher</td><td>79</td><td>9</td><td>8.777777777777779</td><td>34</td></tr><tr><td>1993</td><td>Ayrton Senna</td><td>95</td><td>11</td><td>8.636363636363637</td><td>40</td></tr><tr><td>1994</td><td>Michael Schumacher</td><td>98</td><td>10</td><td>9.8</td><td>1</td></tr><tr><td>1994</td><td>Damon Hill</td><td>113</td><td>13</td><td>8.692307692307692</td><td>37</td></tr><tr><td>1994</td><td>Nigel Mansell</td><td>17</td><td>2</td><td>8.5</td><td>46</td></tr><tr><td>1995</td><td>Michael Schumacher</td><td>113</td><td>12</td><td>9.416666666666666</td><td>10</td></tr><tr><td>1995</td><td>Damon Hill</td><td>90</td><td>10</td><td>9.0</td><td>24</td></tr><tr><td>1995</td><td>Nigel Mansell</td><td>1</td><td>1</td><td>1.0</td><td>118</td></tr><tr><td>1996</td><td>Damon Hill</td><td>111</td><td>12</td><td>9.25</td><td>18</td></tr><tr><td>1996</td><td>Michael Schumacher</td><td>82</td><td>10</td><td>8.2</td><td>56</td></tr><tr><td>1997</td><td>Michael Schumacher</td><td>107</td><td>13</td><td>8.23076923076923</td><td>55</td></tr><tr><td>1997</td><td>Damon Hill</td><td>26</td><td>6</td><td>4.333333333333333</td><td>112</td></tr><tr><td>1998</td><td>Michael Schumacher</td><td>109</td><td>13</td><td>8.384615384615385</td><td>53</td></tr><tr><td>1998</td><td>Damon Hill</td><td>52</td><td>11</td><td>4.7272727272727275</td><td>108</td></tr><tr><td>1999</td><td>Michael Schumacher</td><td>64</td><td>8</td><td>8.0</td><td>61</td></tr><tr><td>1999</td><td>Damon Hill</td><td>31</td><td>7</td><td>4.428571428571429</td><td>111</td></tr><tr><td>2000</td><td>Michael Schumacher</td><td>122</td><td>13</td><td>9.384615384615385</td><td>12</td></tr><tr><td>2001</td><td>Michael Schumacher</td><td>142</td><td>15</td><td>9.466666666666667</td><td>8</td></tr><tr><td>2001</td><td>Juan Pablo Montoya</td><td>47</td><td>6</td><td>7.833333333333333</td><td>71</td></tr><tr><td>2002</td><td>Michael Schumacher</td><td>163</td><td>17</td><td>9.588235294117647</td><td>3</td></tr><tr><td>2002</td><td>Juan Pablo Montoya</td><td>94</td><td>12</td><td>7.833333333333333</td><td>71</td></tr><tr><td>2003</td><td>Juan Pablo Montoya</td><td>97</td><td>12</td><td>8.083333333333334</td><td>60</td></tr><tr><td>2003</td><td>Michael Schumacher</td><td>111</td><td>15</td><td>7.4</td><td>81</td></tr><tr><td>2004</td><td>Michael Schumacher</td><td>152</td><td>16</td><td>9.5</td><td>5</td></tr><tr><td>2004</td><td>Juan Pablo Montoya</td><td>81</td><td>13</td><td>6.230769230769231</td><td>99</td></tr><tr><td>2005</td><td>Juan Pablo Montoya</td><td>73</td><td>10</td><td>7.3</td><td>84</td></tr><tr><td>2005</td><td>Michael Schumacher</td><td>82</td><td>13</td><td>6.3076923076923075</td><td>97</td></tr><tr><td>2006</td><td>Michael Schumacher</td><td>135</td><td>16</td><td>8.4375</td><td>51</td></tr><tr><td>2006</td><td>Juan Pablo Montoya</td><td>35</td><td>5</td><td>7.0</td><td>89</td></tr><tr><td>2007</td><td>Lewis Hamilton</td><td>128</td><td>16</td><td>8.0</td><td>61</td></tr><tr><td>2007</td><td>Sebastian Vettel</td><td>10</td><td>2</td><td>5.0</td><td>106</td></tr><tr><td>2008</td><td>Lewis Hamilton</td><td>115</td><td>15</td><td>7.666666666666667</td><td>77</td></tr><tr><td>2008</td><td>Sebastian Vettel</td><td>53</td><td>10</td><td>5.3</td><td>105</td></tr><tr><td>2009</td><td>Sebastian Vettel</td><td>98</td><td>12</td><td>8.166666666666666</td><td>58</td></tr><tr><td>2009</td><td>Lewis Hamilton</td><td>63</td><td>9</td><td>7.0</td><td>89</td></tr><tr><td>2010</td><td>Sebastian Vettel</td><td>122</td><td>15</td><td>8.133333333333333</td><td>59</td></tr><tr><td>2010</td><td>Lewis Hamilton</td><td>119</td><td>15</td><td>7.933333333333334</td><td>65</td></tr><tr><td>2010</td><td>Michael Schumacher</td><td>47</td><td>12</td><td>3.9166666666666665</td><td>113</td></tr><tr><td>2011</td><td>Sebastian Vettel</td><td>170</td><td>18</td><td>9.444444444444445</td><td>9</td></tr><tr><td>2011</td><td>Lewis Hamilton</td><td>116</td><td>16</td><td>7.25</td><td>86</td></tr><tr><td>2011</td><td>Michael Schumacher</td><td>49</td><td>11</td><td>4.454545454545454</td><td>110</td></tr><tr><td>2012</td><td>Sebastian Vettel</td><td>136</td><td>17</td><td>8.0</td><td>61</td></tr><tr><td>2012</td><td>Lewis Hamilton</td><td>93</td><td>14</td><td>6.642857142857143</td><td>94</td></tr><tr><td>2012</td><td>Michael Schumacher</td><td>31</td><td>8</td><td>3.875</td><td>114</td></tr><tr><td>2013</td><td>Sebastian Vettel</td><td>169</td><td>18</td><td>9.38888888888889</td><td>11</td></tr><tr><td>2013</td><td>Lewis Hamilton</td><td>106</td><td>17</td><td>6.235294117647059</td><td>98</td></tr><tr><td>2014</td><td>Lewis Hamilton</td><td>153</td><td>16</td><td>9.5625</td><td>4</td></tr><tr><td>2014</td><td>Sebastian Vettel</td><td>95</td><td>16</td><td>5.9375</td><td>102</td></tr><tr><td>2015</td><td>Lewis Hamilton</td><td>167</td><td>18</td><td>9.277777777777779</td><td>16</td></tr><tr><td>2015</td><td>Sebastian Vettel</td><td>139</td><td>17</td><td>8.176470588235293</td><td>57</td></tr><tr><td>2016</td><td>Lewis Hamilton</td><td>169</td><td>19</td><td>8.894736842105264</td><td>30</td></tr><tr><td>2016</td><td>Sebastian Vettel</td><td>118</td><td>17</td><td>6.9411764705882355</td><td>91</td></tr><tr><td>2017</td><td>Sebastian Vettel</td><td>152</td><td>18</td><td>8.444444444444445</td><td>50</td></tr><tr><td>2017</td><td>Lewis Hamilton</td><td>166</td><td>20</td><td>8.3</td><td>54</td></tr><tr><td>2018</td><td>Lewis Hamilton</td><td>181</td><td>20</td><td>9.05</td><td>23</td></tr><tr><td>2018</td><td>Sebastian Vettel</td><td>157</td><td>20</td><td>7.85</td><td>70</td></tr><tr><td>2019</td><td>Lewis Hamilton</td><td>181</td><td>21</td><td>8.619047619047619</td><td>41</td></tr><tr><td>2019</td><td>Sebastian Vettel</td><td>125</td><td>16</td><td>7.8125</td><td>75</td></tr><tr><td>2020</td><td>Lewis Hamilton</td><td>146</td><td>16</td><td>9.125</td><td>20</td></tr><tr><td>2020</td><td>Sebastian Vettel</td><td>21</td><td>7</td><td>3.0</td><td>116</td></tr></tbody></table></div>"
      ]
     },
     "metadata": {
      "application/vnd.databricks.v1+output": {
       "addedWidgets": {},
       "aggData": [],
       "aggError": "",
       "aggOverflow": false,
       "aggSchema": [],
       "aggSeriesLimitReached": false,
       "aggType": "",
       "arguments": {},
       "columnCustomDisplayInfos": {},
       "data": [
        [
         1965,
         "Jackie Stewart",
         56,
         7,
         8.0,
         61
        ],
        [
         1966,
         "Jackie Stewart",
         23,
         3,
         7.666666666666667,
         77
        ],
        [
         1967,
         "Jackie Stewart",
         17,
         2,
         8.5,
         46
        ],
        [
         1968,
         "Jackie Stewart",
         59,
         8,
         7.375,
         82
        ],
        [
         1969,
         "Jackie Stewart",
         76,
         8,
         9.5,
         5
        ],
        [
         1970,
         "Jackie Stewart",
         38,
         5,
         7.6,
         80
        ],
        [
         1971,
         "Jackie Stewart",
         75,
         8,
         9.375,
         13
        ],
        [
         1972,
         "Jackie Stewart",
         60,
         7,
         8.571428571428571,
         43
        ],
        [
         1972,
         "Niki Lauda",
         7,
         3,
         2.3333333333333335,
         117
        ],
        [
         1973,
         "Jackie Stewart",
         103,
         13,
         7.923076923076923,
         66
        ],
        [
         1973,
         "Niki Lauda",
         11,
         3,
         3.6666666666666665,
         115
        ],
        [
         1974,
         "Niki Lauda",
         53,
         6,
         8.833333333333334,
         32
        ],
        [
         1975,
         "Niki Lauda",
         100,
         13,
         7.6923076923076925,
         76
        ],
        [
         1976,
         "Niki Lauda",
         94,
         11,
         8.545454545454545,
         45
        ],
        [
         1977,
         "Niki Lauda",
         105,
         12,
         8.75,
         36
        ],
        [
         1978,
         "Niki Lauda",
         63,
         7,
         9.0,
         24
        ],
        [
         1979,
         "Niki Lauda",
         12,
         2,
         6.0,
         100
        ],
        [
         1980,
         "Alain Prost",
         29,
         6,
         4.833333333333333,
         107
        ],
        [
         1981,
         "Alain Prost",
         56,
         6,
         9.333333333333334,
         14
        ],
        [
         1981,
         "Nigel Mansell",
         24,
         4,
         6.0,
         100
        ],
        [
         1982,
         "Niki Lauda",
         51,
         7,
         7.285714285714286,
         85
        ],
        [
         1982,
         "Alain Prost",
         57,
         8,
         7.125,
         87
        ],
        [
         1982,
         "Nigel Mansell",
         28,
         6,
         4.666666666666667,
         109
        ],
        [
         1983,
         "Alain Prost",
         86,
         11,
         7.818181818181818,
         74
        ],
        [
         1983,
         "Niki Lauda",
         27,
         4,
         6.75,
         92
        ],
        [
         1983,
         "Nigel Mansell",
         29,
         5,
         5.8,
         103
        ],
        [
         1984,
         "Niki Lauda",
         93,
         10,
         9.3,
         15
        ],
        [
         1984,
         "Alain Prost",
         98,
         11,
         8.909090909090908,
         29
        ],
        [
         1984,
         "Nigel Mansell",
         33,
         5,
         6.6,
         95
        ],
        [
         1984,
         "Ayrton Senna",
         39,
         6,
         6.5,
         96
        ],
        [
         1985,
         "Alain Prost",
         107,
         12,
         8.916666666666666,
         28
        ],
        [
         1985,
         "Niki Lauda",
         23,
         3,
         7.666666666666667,
         77
        ],
        [
         1985,
         "Ayrton Senna",
         59,
         8,
         7.375,
         82
        ],
        [
         1985,
         "Nigel Mansell",
         60,
         9,
         6.666666666666667,
         93
        ],
        [
         1986,
         "Nigel Mansell",
         103,
         12,
         8.583333333333334,
         42
        ],
        [
         1986,
         "Ayrton Senna",
         85,
         10,
         8.5,
         46
        ],
        [
         1986,
         "Alain Prost",
         110,
         13,
         8.461538461538462,
         49
        ],
        [
         1987,
         "Nigel Mansell",
         79,
         9,
         8.777777777777779,
         34
        ],
        [
         1987,
         "Ayrton Senna",
         95,
         12,
         7.916666666666667,
         67
        ],
        [
         1987,
         "Alain Prost",
         78,
         11,
         7.090909090909091,
         88
        ],
        [
         1988,
         "Alain Prost",
         133,
         14,
         9.5,
         5
        ],
        [
         1988,
         "Nigel Mansell",
         18,
         2,
         9.0,
         24
        ],
        [
         1988,
         "Ayrton Senna",
         120,
         14,
         8.571428571428571,
         43
        ],
        [
         1989,
         "Ayrton Senna",
         73,
         8,
         9.125,
         20
        ],
        [
         1989,
         "Nigel Mansell",
         54,
         6,
         9.0,
         24
        ],
        [
         1989,
         "Alain Prost",
         115,
         13,
         8.846153846153847,
         31
        ],
        [
         1990,
         "Ayrton Senna",
         102,
         11,
         9.272727272727273,
         17
        ],
        [
         1990,
         "Alain Prost",
         104,
         12,
         8.666666666666666,
         38
        ],
        [
         1990,
         "Nigel Mansell",
         59,
         7,
         8.428571428571429,
         52
        ],
        [
         1991,
         "Nigel Mansell",
         91,
         10,
         9.1,
         22
        ],
        [
         1991,
         "Ayrton Senna",
         130,
         15,
         8.666666666666666,
         38
        ],
        [
         1991,
         "Alain Prost",
         63,
         8,
         7.875,
         69
        ],
        [
         1991,
         "Michael Schumacher",
         16,
         3,
         5.333333333333333,
         104
        ],
        [
         1992,
         "Nigel Mansell",
         117,
         12,
         9.75,
         2
        ],
        [
         1992,
         "Ayrton Senna",
         71,
         9,
         7.888888888888889,
         68
        ],
        [
         1992,
         "Michael Schumacher",
         94,
         12,
         7.833333333333333,
         71
        ],
        [
         1993,
         "Alain Prost",
         120,
         13,
         9.23076923076923,
         19
        ],
        [
         1993,
         "Damon Hill",
         97,
         11,
         8.818181818181818,
         33
        ],
        [
         1993,
         "Michael Schumacher",
         79,
         9,
         8.777777777777779,
         34
        ],
        [
         1993,
         "Ayrton Senna",
         95,
         11,
         8.636363636363637,
         40
        ],
        [
         1994,
         "Michael Schumacher",
         98,
         10,
         9.8,
         1
        ],
        [
         1994,
         "Damon Hill",
         113,
         13,
         8.692307692307692,
         37
        ],
        [
         1994,
         "Nigel Mansell",
         17,
         2,
         8.5,
         46
        ],
        [
         1995,
         "Michael Schumacher",
         113,
         12,
         9.416666666666666,
         10
        ],
        [
         1995,
         "Damon Hill",
         90,
         10,
         9.0,
         24
        ],
        [
         1995,
         "Nigel Mansell",
         1,
         1,
         1.0,
         118
        ],
        [
         1996,
         "Damon Hill",
         111,
         12,
         9.25,
         18
        ],
        [
         1996,
         "Michael Schumacher",
         82,
         10,
         8.2,
         56
        ],
        [
         1997,
         "Michael Schumacher",
         107,
         13,
         8.23076923076923,
         55
        ],
        [
         1997,
         "Damon Hill",
         26,
         6,
         4.333333333333333,
         112
        ],
        [
         1998,
         "Michael Schumacher",
         109,
         13,
         8.384615384615385,
         53
        ],
        [
         1998,
         "Damon Hill",
         52,
         11,
         4.7272727272727275,
         108
        ],
        [
         1999,
         "Michael Schumacher",
         64,
         8,
         8.0,
         61
        ],
        [
         1999,
         "Damon Hill",
         31,
         7,
         4.428571428571429,
         111
        ],
        [
         2000,
         "Michael Schumacher",
         122,
         13,
         9.384615384615385,
         12
        ],
        [
         2001,
         "Michael Schumacher",
         142,
         15,
         9.466666666666667,
         8
        ],
        [
         2001,
         "Juan Pablo Montoya",
         47,
         6,
         7.833333333333333,
         71
        ],
        [
         2002,
         "Michael Schumacher",
         163,
         17,
         9.588235294117647,
         3
        ],
        [
         2002,
         "Juan Pablo Montoya",
         94,
         12,
         7.833333333333333,
         71
        ],
        [
         2003,
         "Juan Pablo Montoya",
         97,
         12,
         8.083333333333334,
         60
        ],
        [
         2003,
         "Michael Schumacher",
         111,
         15,
         7.4,
         81
        ],
        [
         2004,
         "Michael Schumacher",
         152,
         16,
         9.5,
         5
        ],
        [
         2004,
         "Juan Pablo Montoya",
         81,
         13,
         6.230769230769231,
         99
        ],
        [
         2005,
         "Juan Pablo Montoya",
         73,
         10,
         7.3,
         84
        ],
        [
         2005,
         "Michael Schumacher",
         82,
         13,
         6.3076923076923075,
         97
        ],
        [
         2006,
         "Michael Schumacher",
         135,
         16,
         8.4375,
         51
        ],
        [
         2006,
         "Juan Pablo Montoya",
         35,
         5,
         7.0,
         89
        ],
        [
         2007,
         "Lewis Hamilton",
         128,
         16,
         8.0,
         61
        ],
        [
         2007,
         "Sebastian Vettel",
         10,
         2,
         5.0,
         106
        ],
        [
         2008,
         "Lewis Hamilton",
         115,
         15,
         7.666666666666667,
         77
        ],
        [
         2008,
         "Sebastian Vettel",
         53,
         10,
         5.3,
         105
        ],
        [
         2009,
         "Sebastian Vettel",
         98,
         12,
         8.166666666666666,
         58
        ],
        [
         2009,
         "Lewis Hamilton",
         63,
         9,
         7.0,
         89
        ],
        [
         2010,
         "Sebastian Vettel",
         122,
         15,
         8.133333333333333,
         59
        ],
        [
         2010,
         "Lewis Hamilton",
         119,
         15,
         7.933333333333334,
         65
        ],
        [
         2010,
         "Michael Schumacher",
         47,
         12,
         3.9166666666666665,
         113
        ],
        [
         2011,
         "Sebastian Vettel",
         170,
         18,
         9.444444444444445,
         9
        ],
        [
         2011,
         "Lewis Hamilton",
         116,
         16,
         7.25,
         86
        ],
        [
         2011,
         "Michael Schumacher",
         49,
         11,
         4.454545454545454,
         110
        ],
        [
         2012,
         "Sebastian Vettel",
         136,
         17,
         8.0,
         61
        ],
        [
         2012,
         "Lewis Hamilton",
         93,
         14,
         6.642857142857143,
         94
        ],
        [
         2012,
         "Michael Schumacher",
         31,
         8,
         3.875,
         114
        ],
        [
         2013,
         "Sebastian Vettel",
         169,
         18,
         9.38888888888889,
         11
        ],
        [
         2013,
         "Lewis Hamilton",
         106,
         17,
         6.235294117647059,
         98
        ],
        [
         2014,
         "Lewis Hamilton",
         153,
         16,
         9.5625,
         4
        ],
        [
         2014,
         "Sebastian Vettel",
         95,
         16,
         5.9375,
         102
        ],
        [
         2015,
         "Lewis Hamilton",
         167,
         18,
         9.277777777777779,
         16
        ],
        [
         2015,
         "Sebastian Vettel",
         139,
         17,
         8.176470588235293,
         57
        ],
        [
         2016,
         "Lewis Hamilton",
         169,
         19,
         8.894736842105264,
         30
        ],
        [
         2016,
         "Sebastian Vettel",
         118,
         17,
         6.9411764705882355,
         91
        ],
        [
         2017,
         "Sebastian Vettel",
         152,
         18,
         8.444444444444445,
         50
        ],
        [
         2017,
         "Lewis Hamilton",
         166,
         20,
         8.3,
         54
        ],
        [
         2018,
         "Lewis Hamilton",
         181,
         20,
         9.05,
         23
        ],
        [
         2018,
         "Sebastian Vettel",
         157,
         20,
         7.85,
         70
        ],
        [
         2019,
         "Lewis Hamilton",
         181,
         21,
         8.619047619047619,
         41
        ],
        [
         2019,
         "Sebastian Vettel",
         125,
         16,
         7.8125,
         75
        ],
        [
         2020,
         "Lewis Hamilton",
         146,
         16,
         9.125,
         20
        ],
        [
         2020,
         "Sebastian Vettel",
         21,
         7,
         3.0,
         116
        ]
       ],
       "datasetInfos": [],
       "dbfsResultPath": null,
       "isJsonSchema": true,
       "metadata": {
        "createTempViewForImplicitDf": true,
        "dataframeName": "_sqldf",
        "executionCount": 12
       },
       "overflow": false,
       "plotOptions": {
        "customPlotOptions": {},
        "displayType": "table",
        "pivotAggregation": null,
        "pivotColumns": null,
        "xColumns": null,
        "yColumns": null
       },
       "removedWidgets": [],
       "schema": [
        {
         "metadata": "{}",
         "name": "race_year",
         "type": "\"integer\""
        },
        {
         "metadata": "{}",
         "name": "driver_name",
         "type": "\"string\""
        },
        {
         "metadata": "{}",
         "name": "total_points",
         "type": "\"long\""
        },
        {
         "metadata": "{}",
         "name": "total_races",
         "type": "\"long\""
        },
        {
         "metadata": "{}",
         "name": "avg_points",
         "type": "\"double\""
        },
        {
         "metadata": "{}",
         "name": "rank",
         "type": "\"integer\""
        }
       ],
       "type": "table"
      }
     },
     "output_type": "display_data"
    },
    {
     "output_type": "display_data",
     "data": {
      "text/plain": [
       "Databricks visualization. Run in Databricks to view."
      ]
     },
     "metadata": {
      "application/vnd.databricks.v1.subcommand+json": {
       "baseErrorDetails": null,
       "bindings": {},
       "collapsed": false,
       "command": "%sql WITH q AS (select race_year,driver_name,sum(caluclated_points) as total_points,count(*) as total_races,avg(caluclated_points) as avg_points,\nrank() over (order by avg(caluclated_points)  desc) as rank\nfrom f1_presentation.calculated_race_results\nwhere driver_name in (select driver_name from v_dominant_drivers where driver_rank<=10)\ngroup by race_year,driver_name\norder by race_year,avg_points desc) SELECT `race_year`,SUM(`avg_points`) `column_91b769f326`,`driver_name` FROM q GROUP BY `driver_name`,`race_year`",
       "commandTitle": "Visualization 1",
       "commandType": "auto",
       "commandVersion": 0,
       "commentThread": [],
       "commentsVisible": false,
       "contentSha256Hex": null,
       "customPlotOptions": {
        "redashChart": [
         {
          "key": "type",
          "value": "CHART"
         },
         {
          "key": "options",
          "value": {
           "alignYAxesAtZero": true,
           "coefficient": 1,
           "columnConfigurationMap": {
            "series": {
             "column": "driver_name",
             "id": "column_91b769f324"
            },
            "x": {
             "column": "race_year",
             "id": "column_91b769f323"
            },
            "y": [
             {
              "column": "avg_points",
              "id": "column_91b769f326",
              "transform": "SUM"
             }
            ]
           },
           "dateTimeFormat": "DD/MM/YYYY HH:mm",
           "direction": {
            "type": "counterclockwise"
           },
           "error_y": {
            "type": "data",
            "visible": true
           },
           "globalSeriesType": "area",
           "isAggregationOn": true,
           "legend": {
            "traceorder": "normal"
           },
           "missingValuesAsZero": true,
           "numberFormat": "0,0.[00000]",
           "percentFormat": "0[.]00%",
           "series": {
            "error_y": {
             "type": "data",
             "visible": true
            },
            "stacking": null
           },
           "seriesOptions": {
            "column_91b769f326": {
             "type": "area",
             "yAxis": 0
            }
           },
           "showDataLabels": false,
           "sizemode": "diameter",
           "sortX": true,
           "sortY": true,
           "swappedAxes": false,
           "textFormat": "",
           "useAggregationsUi": true,
           "valuesOptions": {},
           "version": 2,
           "xAxis": {
            "labels": {
             "enabled": true
            },
            "type": "-"
           },
           "yAxis": [
            {
             "type": "-"
            },
            {
             "opposite": true,
             "type": "-"
            }
           ]
          }
         }
        ]
       },
       "datasetPreviewNameToCmdIdMap": {},
       "diffDeletes": [],
       "diffInserts": [],
       "displayType": "redashChart",
       "error": null,
       "errorDetails": null,
       "errorSummary": null,
       "errorTraceType": null,
       "finishTime": 0,
       "globalVars": {},
       "guid": "",
       "height": "auto",
       "hideCommandCode": false,
       "hideCommandResult": false,
       "iPythonMetadata": null,
       "inputWidgets": {},
       "isLockedInExamMode": false,
       "latestUser": "a user",
       "latestUserId": null,
       "listResultMetadata": null,
       "metadata": {},
       "nuid": "c25758d4-2be4-4af6-ac07-8482b994249f",
       "origId": 0,
       "parentHierarchy": [],
       "pivotAggregation": null,
       "pivotColumns": null,
       "position": 4.0,
       "resultDbfsErrorMessage": null,
       "resultDbfsStatus": "INLINED_IN_TREE",
       "results": null,
       "showCommandTitle": false,
       "startTime": 0,
       "state": "input",
       "streamStates": {},
       "subcommandOptions": {
        "queryPlan": {
         "groups": [
          {
           "column": "race_year",
           "type": "column"
          },
          {
           "column": "driver_name",
           "type": "column"
          }
         ],
         "selects": [
          {
           "column": "race_year",
           "type": "column"
          },
          {
           "alias": "column_91b769f326",
           "args": [
            {
             "column": "avg_points",
             "type": "column"
            }
           ],
           "function": "SUM",
           "type": "function"
          },
          {
           "column": "driver_name",
           "type": "column"
          }
         ]
        }
       },
       "submitTime": 0,
       "subtype": "tableResultSubCmd.visualization",
       "tableResultIndex": 0,
       "tableResultSettingsMap": {},
       "useConsistentColors": false,
       "version": "CommandV1",
       "width": "auto",
       "workflows": [],
       "xColumns": null,
       "yColumns": null
      }
     },
     "output_type": "display_data"
    }
   ],
   "source": [
    "%sql\n",
    "select race_year,driver_name,sum(caluclated_points) as total_points,count(*) as total_races,avg(caluclated_points) as avg_points,\n",
    "rank() over (order by avg(caluclated_points)  desc) as rank\n",
    "from f1_presentation.calculated_race_results\n",
    "where driver_name in (select driver_name from v_dominant_drivers where driver_rank<=10)\n",
    "group by race_year,driver_name\n",
    "order by race_year,avg_points desc"
   ]
  }
 ],
 "metadata": {
  "application/vnd.databricks.v1+notebook": {
   "computePreferences": null,
   "dashboards": [],
   "environmentMetadata": {
    "base_environment": "",
    "client": "1"
   },
   "language": "python",
   "notebookMetadata": {
    "mostRecentlyExecutedCommandWithImplicitDF": {
     "commandId": 2545036716198491,
     "dataframes": [
      "_sqldf"
     ]
    },
    "pythonIndentUnit": 4
   },
   "notebookName": "2.viz_dominant_drivers",
   "widgets": {}
  },
  "language_info": {
   "name": "python"
  }
 },
 "nbformat": 4,
 "nbformat_minor": 0
}